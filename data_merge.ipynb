{
 "cells": [
  {
   "cell_type": "markdown",
   "id": "cd3f25c9",
   "metadata": {},
   "source": [
    "# 1. 외부 Module import"
   ]
  },
  {
   "cell_type": "markdown",
   "id": "91284c69",
   "metadata": {},
   "source": [
    ">전처리에 사용할 모듈을 설치 후 import"
   ]
  },
  {
   "cell_type": "code",
   "execution_count": 2,
   "id": "1bf91c89",
   "metadata": {},
   "outputs": [],
   "source": [
    "from torch.utils.data import TensorDataset\n",
    "import numpy as np\n",
    "from numpy import concatenate\n",
    "from numpy import loadtxt\n",
    "import pandas as pd\n",
    "from pandas import read_csv,DataFrame,concat\n",
    "from pandas.plotting import register_matplotlib_converters\n",
    "from math import sqrt\n",
    "\n",
    "import torch\n",
    "import torch.nn as nn\n",
    "import torch.nn.functional as F\n",
    "from torch.utils.data import Dataset,random_split,DistributedSampler,DataLoader\n",
    "\n",
    "import random,os,copy\n",
    "import pickle\n",
    "from tqdm import tqdm\n",
    "from collections import Counter\n",
    "\n",
    "from sklearn.metrics import mean_absolute_error,mean_squared_error,mean_squared_log_error,r2_score,roc_auc_score,roc_curve\n",
    "from sklearn.model_selection import train_test_split\n",
    "from sklearn.preprocessing import StandardScaler,MinMaxScaler,LabelEncoder\n",
    "\n",
    "import matplotlib.pyplot as plt\n",
    "from pylab import rcParams\n",
    "from matplotlib import pyplot\n",
    "from matplotlib import rc\n",
    "import seaborn as sns"
   ]
  },
  {
   "cell_type": "code",
   "execution_count": 3,
   "id": "87aa7e2e",
   "metadata": {},
   "outputs": [
    {
     "name": "stdout",
     "output_type": "stream",
     "text": [
      "np 1.22.3\n",
      "pd 1.4.2\n",
      "torch 1.11.0+cu113\n"
     ]
    }
   ],
   "source": [
    "print(\"np\",np.__version__)\n",
    "print(\"pd\",pd.__version__)\n",
    "print(\"torch\",torch.__version__)"
   ]
  },
  {
   "cell_type": "markdown",
   "id": "05ccdb80",
   "metadata": {},
   "source": [
    "# 2. 모델 학습 및 테스트에 필요한 데이터 불러오기"
   ]
  },
  {
   "cell_type": "markdown",
   "id": "b2a46c64",
   "metadata": {},
   "source": [
    "## 2-1. 2020년 데이터 결합"
   ]
  },
  {
   "cell_type": "markdown",
   "id": "a500db65",
   "metadata": {},
   "source": [
    ">2020년 대상자 설문 데이터 불러오기"
   ]
  },
  {
   "cell_type": "code",
   "execution_count": 359,
   "id": "e18aade0",
   "metadata": {},
   "outputs": [],
   "source": [
    "user_survey_2020=pd.read_csv('./user_survey_2020.csv')"
   ]
  },
  {
   "cell_type": "code",
   "execution_count": 360,
   "id": "646e3fcc",
   "metadata": {},
   "outputs": [
    {
     "data": {
      "text/plain": [
       "Index(['userId', 'date', 'amPm', 'startInput', 'endInput', 'sleep',\n",
       "       'sleepProblem', 'dream', 'amCondition', 'amEmotion', 'pmEmotion',\n",
       "       'pmStress', 'pmFatigue', 'caffeine', 'cAmount(ml)', 'alcohol',\n",
       "       'aAmount(ml)'],\n",
       "      dtype='object')"
      ]
     },
     "execution_count": 360,
     "metadata": {},
     "output_type": "execute_result"
    }
   ],
   "source": [
    "user_survey_2020.columns"
   ]
  },
  {
   "cell_type": "code",
   "execution_count": 361,
   "id": "6bfc69d4",
   "metadata": {},
   "outputs": [
    {
     "data": {
      "text/plain": [
       "0.0    337\n",
       "2.0     79\n",
       "1.0     59\n",
       "5.0     34\n",
       "3.0     32\n",
       "9.0     27\n",
       "7.0     23\n",
       "6.0     17\n",
       "4.0      5\n",
       "8.0      2\n",
       "Name: sleepProblem, dtype: int64"
      ]
     },
     "execution_count": 361,
     "metadata": {},
     "output_type": "execute_result"
    }
   ],
   "source": [
    "user_survey_2020['sleepProblem'].value_counts()"
   ]
  },
  {
   "cell_type": "code",
   "execution_count": 362,
   "id": "5ed3a045",
   "metadata": {},
   "outputs": [],
   "source": [
    "user_survey_2020_1=user_survey_2020.drop(user_survey_2020[user_survey_2020['amPm']=='pm'].index, axis=0)\n",
    "user_survey_2020_2=user_survey_2020.drop(user_survey_2020[user_survey_2020['amPm']=='am'].index, axis=0)"
   ]
  },
  {
   "cell_type": "markdown",
   "id": "115c66fd",
   "metadata": {},
   "source": [
    ">전 날의 데이터를 통해 수면 관련 문항의 예측위해 날짜 조정"
   ]
  },
  {
   "cell_type": "code",
   "execution_count": 363,
   "id": "492b26c7",
   "metadata": {},
   "outputs": [],
   "source": [
    "from dateutil.relativedelta import relativedelta\n",
    "from datetime import datetime"
   ]
  },
  {
   "cell_type": "code",
   "execution_count": 364,
   "id": "6fa3ca6d",
   "metadata": {},
   "outputs": [],
   "source": [
    "user_survey_2020_2.insert(10,'date1','')"
   ]
  },
  {
   "cell_type": "code",
   "execution_count": 366,
   "id": "9b63b4f4",
   "metadata": {},
   "outputs": [],
   "source": [
    "user_survey_2020_2=user_survey_2020_2.reset_index(drop=True)"
   ]
  },
  {
   "cell_type": "code",
   "execution_count": 367,
   "id": "eb2ac31e",
   "metadata": {},
   "outputs": [
    {
     "name": "stderr",
     "output_type": "stream",
     "text": [
      "<ipython-input-367-5dc68c84200c>:3: SettingWithCopyWarning: \n",
      "A value is trying to be set on a copy of a slice from a DataFrame\n",
      "\n",
      "See the caveats in the documentation: https://pandas.pydata.org/pandas-docs/stable/user_guide/indexing.html#returning-a-view-versus-a-copy\n",
      "  user_survey_2020_2['date1'][i]=(datetime.strptime(user_survey_2020_2['date'][i],'%Y-%m-%d')-dif).strftime('%Y-%m-%d')\n"
     ]
    }
   ],
   "source": [
    "dif = relativedelta(days=1)\n",
    "for i in range(len(user_survey_2020_2)):\n",
    "    user_survey_2020_2['date1'][i]=(datetime.strptime(user_survey_2020_2['date'][i],'%Y-%m-%d')-dif).strftime('%Y-%m-%d')"
   ]
  },
  {
   "cell_type": "markdown",
   "id": "82ef20ed",
   "metadata": {},
   "source": [
    ">신체계측 라이프로그 데이터 불러오기"
   ]
  },
  {
   "cell_type": "code",
   "execution_count": 373,
   "id": "a4d15ada",
   "metadata": {},
   "outputs": [],
   "source": [
    "user_sleep_2020_sorted_e4 = pd.read_csv(\"user_sleep_2020_sorted_e4.csv\")"
   ]
  },
  {
   "cell_type": "code",
   "execution_count": 374,
   "id": "dccadcc0",
   "metadata": {},
   "outputs": [],
   "source": [
    "user_sleep_2020_sorted_e4=user_sleep_2020_sorted_e4[['userId', 'date','e4Bvp', 'e4Eda','e4Hr', 'e4Temp']]"
   ]
  },
  {
   "cell_type": "code",
   "execution_count": 375,
   "id": "be7aa330",
   "metadata": {},
   "outputs": [],
   "source": [
    "user_survey_2020_2=pd.merge(user_survey_2020_2, user_sleep_2020_sorted_e4, left_on=['userId','date1'], right_on=['userId', 'date'], how='left')"
   ]
  },
  {
   "cell_type": "code",
   "execution_count": 376,
   "id": "d0258c84",
   "metadata": {},
   "outputs": [
    {
     "data": {
      "text/plain": [
       "Index(['userId', 'date_x', 'amPm', 'startInput', 'endInput', 'sleep',\n",
       "       'sleepProblem', 'dream', 'amCondition', 'amEmotion', 'date1',\n",
       "       'pmEmotion', 'pmStress', 'pmFatigue', 'caffeine', 'cAmount(ml)',\n",
       "       'alcohol', 'aAmount(ml)', 'date_y', 'e4Bvp', 'e4Eda', 'e4Hr', 'e4Temp'],\n",
       "      dtype='object')"
      ]
     },
     "execution_count": 376,
     "metadata": {},
     "output_type": "execute_result"
    }
   ],
   "source": [
    "user_survey_2020_2.columns"
   ]
  },
  {
   "cell_type": "code",
   "execution_count": 377,
   "id": "3e006577",
   "metadata": {},
   "outputs": [],
   "source": [
    "user_survey_2020_2=user_survey_2020_2.drop(columns=['date_x', 'date_y'])"
   ]
  },
  {
   "cell_type": "markdown",
   "id": "fae473e2",
   "metadata": {},
   "source": [
    ">2020년 수면과 운동이 결합된 데이터 불러오기"
   ]
  },
  {
   "cell_type": "markdown",
   "id": "959e1821",
   "metadata": {},
   "source": [
    ">운동 거리 추출"
   ]
  },
  {
   "cell_type": "code",
   "execution_count": 378,
   "id": "feaf165a",
   "metadata": {},
   "outputs": [],
   "source": [
    "user_sleep_2020_exer1 = pd.read_csv(\"user_sleep_2020_exer1.csv\")"
   ]
  },
  {
   "cell_type": "code",
   "execution_count": 379,
   "id": "34fe377a",
   "metadata": {},
   "outputs": [],
   "source": [
    "user_sleep_2020_exer1=user_sleep_2020_exer1[['userId', 'date','gps_activity_distance']]"
   ]
  },
  {
   "cell_type": "markdown",
   "id": "dd878d2a",
   "metadata": {},
   "source": [
    ">설문과 운동 거리 데이터 머지"
   ]
  },
  {
   "cell_type": "code",
   "execution_count": 380,
   "id": "0f165089",
   "metadata": {},
   "outputs": [],
   "source": [
    "user_survey_2020_2=pd.merge(user_survey_2020_2, user_sleep_2020_exer1, left_on=['userId','date1'], right_on=['userId', 'date'], how='left')"
   ]
  },
  {
   "cell_type": "code",
   "execution_count": 381,
   "id": "70a8f548",
   "metadata": {},
   "outputs": [],
   "source": [
    "user_survey_2020_2=user_survey_2020_2.drop(columns=['date'])"
   ]
  },
  {
   "cell_type": "code",
   "execution_count": 382,
   "id": "70c7e146",
   "metadata": {},
   "outputs": [],
   "source": [
    "user = pd.merge(user, user_survey_2020_2, left_on =['userId','date'], right_on=['userId', 'date1'], how = 'left' )"
   ]
  },
  {
   "cell_type": "code",
   "execution_count": 384,
   "id": "89a1cd54",
   "metadata": {},
   "outputs": [],
   "source": [
    "user=user.drop(columns=['amPm','startInput_y', 'endInput_y', 'sleep_y', 'sleepProblem_y', 'dream_y',\n",
    "       'amCondition_y', 'amEmotion_y'])"
   ]
  },
  {
   "cell_type": "code",
   "execution_count": 220,
   "id": "66938390",
   "metadata": {},
   "outputs": [],
   "source": [
    "#0 만족함 1, 만족못함\n",
    "outcome2=user['sleep_x'].apply(lambda x: 1 if x==1 or x==2 else 0)"
   ]
  },
  {
   "cell_type": "code",
   "execution_count": null,
   "id": "a01f4c6a",
   "metadata": {},
   "outputs": [],
   "source": [
    "#0  수면 문제없음, 1 있음\n",
    "outcome=user['sleepProblem_x'].apply(lambda x: 0 if x==0 else 1)"
   ]
  },
  {
   "cell_type": "code",
   "execution_count": null,
   "id": "ab7e4960",
   "metadata": {},
   "outputs": [],
   "source": [
    "#0 꿈 안꿈, 1 꿈 꿈\n",
    "outcome1=user['dream_x'].apply(lambda x: 0 if x==4 else 1)"
   ]
  },
  {
   "cell_type": "code",
   "execution_count": null,
   "id": "036098c6",
   "metadata": {},
   "outputs": [],
   "source": [
    "#0 만족함 1, 만족못함\n",
    "outcome3=user['amCondition_x'].apply(lambda x: 1 if x==1 or x==2 else 0)"
   ]
  },
  {
   "cell_type": "code",
   "execution_count": null,
   "id": "63eb7a47",
   "metadata": {},
   "outputs": [],
   "source": [
    "#0 만족함 1, 만족못함\n",
    "outcome4=user['amEmotion_x'].apply(lambda x: 1 if x==1 or x==2 else 0)"
   ]
  },
  {
   "cell_type": "markdown",
   "id": "9b247df3",
   "metadata": {},
   "source": [
    ">2020년 대상자 기본정보 추출 및 머지"
   ]
  },
  {
   "cell_type": "code",
   "execution_count": 388,
   "id": "b9dfe0d4",
   "metadata": {},
   "outputs": [],
   "source": [
    "user_info_2020=pd.read_csv('./user_info_2020.csv')"
   ]
  },
  {
   "cell_type": "code",
   "execution_count": 389,
   "id": "6cda8da7",
   "metadata": {},
   "outputs": [],
   "source": [
    "user = pd.merge(user, user_info_2020, left_on =['userId'], right_on=['userId'], how = 'left' )"
   ]
  },
  {
   "cell_type": "code",
   "execution_count": 390,
   "id": "476a06cb",
   "metadata": {},
   "outputs": [
    {
     "data": {
      "text/plain": [
       "Index(['userId', 'timezone', 'date', 'startDt_x', 'endDt_x', 'lastUpdate',\n",
       "       'wakeupduration', 'lightsleepduration', 'deepsleepduration',\n",
       "       'wakeupcount', 'durationtosleep', 'remsleepduration',\n",
       "       'durationtowakeup', 'hr_average', 'hr_min', 'hr_max', 'rr_average',\n",
       "       'rr_min', 'rr_max', 'breathing_disturbances_intensity', 'snoring',\n",
       "       'snoringepisodecount', 'sleep_score', 'count', 'total', 'rank', 'walk',\n",
       "       'exer', 'startInput_x', 'endInput_x', 'sleep_x', 'sleepProblem_x',\n",
       "       'dream_x', 'amCondition_x', 'amEmotion_x', 'date1', 'pmEmotion',\n",
       "       'pmStress', 'pmFatigue', 'caffeine', 'cAmount(ml)', 'alcohol',\n",
       "       'aAmount(ml)', 'e4Bvp', 'e4Eda', 'e4Hr', 'e4Temp',\n",
       "       'gps_activity_distance', 'gender', 'age', 'handed', 'height', 'weight',\n",
       "       'startDt_y', 'endDt_y'],\n",
       "      dtype='object')"
      ]
     },
     "execution_count": 390,
     "metadata": {},
     "output_type": "execute_result"
    }
   ],
   "source": [
    "user.columns"
   ]
  },
  {
   "cell_type": "code",
   "execution_count": 391,
   "id": "95fd9f36",
   "metadata": {},
   "outputs": [],
   "source": [
    "user=user.drop(columns=['startDt_y', 'endDt_y'])"
   ]
  },
  {
   "cell_type": "code",
   "execution_count": 392,
   "id": "1b56f433",
   "metadata": {},
   "outputs": [
    {
     "data": {
      "text/plain": [
       "438"
      ]
     },
     "execution_count": 392,
     "metadata": {},
     "output_type": "execute_result"
    }
   ],
   "source": [
    "user['alcohol'].isna().sum()"
   ]
  },
  {
   "cell_type": "code",
   "execution_count": 394,
   "id": "4220bb61",
   "metadata": {},
   "outputs": [
    {
     "data": {
      "text/plain": [
       "Index(['userId', 'timezone', 'date', 'startDt_x', 'endDt_x', 'lastUpdate',\n",
       "       'wakeupduration', 'lightsleepduration', 'deepsleepduration',\n",
       "       'wakeupcount', 'durationtosleep', 'remsleepduration',\n",
       "       'durationtowakeup', 'hr_average', 'hr_min', 'hr_max', 'rr_average',\n",
       "       'rr_min', 'rr_max', 'breathing_disturbances_intensity', 'snoring',\n",
       "       'snoringepisodecount', 'sleep_score', 'count', 'total', 'rank', 'walk',\n",
       "       'exer', 'startInput_x', 'endInput_x', 'sleep_x', 'sleepProblem_x',\n",
       "       'dream_x', 'amCondition_x', 'amEmotion_x', 'date1', 'pmEmotion',\n",
       "       'pmStress', 'pmFatigue', 'caffeine', 'cAmount(ml)', 'alcohol',\n",
       "       'aAmount(ml)', 'e4Bvp', 'e4Eda', 'e4Hr', 'e4Temp',\n",
       "       'gps_activity_distance', 'gender', 'age', 'handed', 'height', 'weight'],\n",
       "      dtype='object')"
      ]
     },
     "execution_count": 394,
     "metadata": {},
     "output_type": "execute_result"
    }
   ],
   "source": [
    "user.columns"
   ]
  },
  {
   "cell_type": "code",
   "execution_count": 228,
   "id": "3dc86253",
   "metadata": {},
   "outputs": [
    {
     "data": {
      "text/html": [
       "<div>\n",
       "<style scoped>\n",
       "    .dataframe tbody tr th:only-of-type {\n",
       "        vertical-align: middle;\n",
       "    }\n",
       "\n",
       "    .dataframe tbody tr th {\n",
       "        vertical-align: top;\n",
       "    }\n",
       "\n",
       "    .dataframe thead th {\n",
       "        text-align: right;\n",
       "    }\n",
       "</style>\n",
       "<table border=\"1\" class=\"dataframe\">\n",
       "  <thead>\n",
       "    <tr style=\"text-align: right;\">\n",
       "      <th></th>\n",
       "      <th>userId</th>\n",
       "      <th>date</th>\n",
       "      <th>gps_activity_distance</th>\n",
       "    </tr>\n",
       "  </thead>\n",
       "  <tbody>\n",
       "    <tr>\n",
       "      <th>0</th>\n",
       "      <td>user01</td>\n",
       "      <td>2020-08-31</td>\n",
       "      <td>NaN</td>\n",
       "    </tr>\n",
       "    <tr>\n",
       "      <th>1</th>\n",
       "      <td>user01</td>\n",
       "      <td>2020-09-01</td>\n",
       "      <td>NaN</td>\n",
       "    </tr>\n",
       "    <tr>\n",
       "      <th>2</th>\n",
       "      <td>user01</td>\n",
       "      <td>2020-09-06</td>\n",
       "      <td>NaN</td>\n",
       "    </tr>\n",
       "    <tr>\n",
       "      <th>3</th>\n",
       "      <td>user01</td>\n",
       "      <td>2020-09-08</td>\n",
       "      <td>NaN</td>\n",
       "    </tr>\n",
       "    <tr>\n",
       "      <th>4</th>\n",
       "      <td>user01</td>\n",
       "      <td>2020-09-09</td>\n",
       "      <td>NaN</td>\n",
       "    </tr>\n",
       "    <tr>\n",
       "      <th>...</th>\n",
       "      <td>...</td>\n",
       "      <td>...</td>\n",
       "      <td>...</td>\n",
       "    </tr>\n",
       "    <tr>\n",
       "      <th>485</th>\n",
       "      <td>user30</td>\n",
       "      <td>2020-09-22</td>\n",
       "      <td>NaN</td>\n",
       "    </tr>\n",
       "    <tr>\n",
       "      <th>486</th>\n",
       "      <td>user30</td>\n",
       "      <td>2020-09-23</td>\n",
       "      <td>NaN</td>\n",
       "    </tr>\n",
       "    <tr>\n",
       "      <th>487</th>\n",
       "      <td>user30</td>\n",
       "      <td>2020-09-24</td>\n",
       "      <td>NaN</td>\n",
       "    </tr>\n",
       "    <tr>\n",
       "      <th>488</th>\n",
       "      <td>user30</td>\n",
       "      <td>2020-09-25</td>\n",
       "      <td>NaN</td>\n",
       "    </tr>\n",
       "    <tr>\n",
       "      <th>489</th>\n",
       "      <td>user30</td>\n",
       "      <td>2020-09-26</td>\n",
       "      <td>NaN</td>\n",
       "    </tr>\n",
       "  </tbody>\n",
       "</table>\n",
       "<p>490 rows × 3 columns</p>\n",
       "</div>"
      ],
      "text/plain": [
       "     userId        date  gps_activity_distance\n",
       "0    user01  2020-08-31                    NaN\n",
       "1    user01  2020-09-01                    NaN\n",
       "2    user01  2020-09-06                    NaN\n",
       "3    user01  2020-09-08                    NaN\n",
       "4    user01  2020-09-09                    NaN\n",
       "..      ...         ...                    ...\n",
       "485  user30  2020-09-22                    NaN\n",
       "486  user30  2020-09-23                    NaN\n",
       "487  user30  2020-09-24                    NaN\n",
       "488  user30  2020-09-25                    NaN\n",
       "489  user30  2020-09-26                    NaN\n",
       "\n",
       "[490 rows x 3 columns]"
      ]
     },
     "execution_count": 228,
     "metadata": {},
     "output_type": "execute_result"
    }
   ],
   "source": [
    "user_sleep_2020_exer1"
   ]
  },
  {
   "cell_type": "markdown",
   "id": "811a791f",
   "metadata": {},
   "source": [
    "## 2-2. 2019년 데이터 결합"
   ]
  },
  {
   "cell_type": "markdown",
   "id": "5f3942d8",
   "metadata": {},
   "source": [
    ">2019년 수면과 운동이 결합된 데이터 불러오기"
   ]
  },
  {
   "cell_type": "code",
   "execution_count": 410,
   "id": "90394dd2",
   "metadata": {},
   "outputs": [],
   "source": [
    "user_sleep_2019_exer1=pd.read_csv('./user_sleep_2019_exer1.csv')"
   ]
  },
  {
   "cell_type": "code",
   "execution_count": 411,
   "id": "abb78ebd",
   "metadata": {},
   "outputs": [],
   "source": [
    "user_sleep_2019_exer1=user_sleep_2019_exer1.drop(columns=['Unnamed: 0.1','Unnamed: 0'])"
   ]
  },
  {
   "cell_type": "code",
   "execution_count": 412,
   "id": "e288413e",
   "metadata": {},
   "outputs": [],
   "source": [
    "user_survey_2019_2018=pd.read_csv('./user_survey_2019_2018.csv')"
   ]
  },
  {
   "cell_type": "code",
   "execution_count": 413,
   "id": "4ff77878",
   "metadata": {},
   "outputs": [
    {
     "data": {
      "text/plain": [
       "Index(['userId', 'amPm', 'inputDt', 'sleep', 'sleepProblem', 'dream',\n",
       "       'amCondition', 'amEmotion', 'pmEmotion', 'pmStress', 'ifUnusual',\n",
       "       'breakfast', 'lunch', 'dinner', 'lateSnack', 'amCaffeine',\n",
       "       'amCaffAmount', 'pmCaffeine', 'pmCaffAmount', 'alcohol', 'aAmount'],\n",
       "      dtype='object')"
      ]
     },
     "execution_count": 413,
     "metadata": {},
     "output_type": "execute_result"
    }
   ],
   "source": [
    "user_survey_2019_2018.columns"
   ]
  },
  {
   "cell_type": "code",
   "execution_count": 414,
   "id": "67411e4b",
   "metadata": {},
   "outputs": [
    {
     "data": {
      "text/html": [
       "<div>\n",
       "<style scoped>\n",
       "    .dataframe tbody tr th:only-of-type {\n",
       "        vertical-align: middle;\n",
       "    }\n",
       "\n",
       "    .dataframe tbody tr th {\n",
       "        vertical-align: top;\n",
       "    }\n",
       "\n",
       "    .dataframe thead th {\n",
       "        text-align: right;\n",
       "    }\n",
       "</style>\n",
       "<table border=\"1\" class=\"dataframe\">\n",
       "  <thead>\n",
       "    <tr style=\"text-align: right;\">\n",
       "      <th></th>\n",
       "      <th>startDt</th>\n",
       "      <th>endDt</th>\n",
       "      <th>device</th>\n",
       "      <th>sleep_score</th>\n",
       "      <th>total_sleep_time</th>\n",
       "      <th>time_in_bed</th>\n",
       "      <th>waso</th>\n",
       "      <th>wakeupcount</th>\n",
       "      <th>aal</th>\n",
       "      <th>movement_index</th>\n",
       "      <th>...</th>\n",
       "      <th>sleep_frag_index</th>\n",
       "      <th>startdt1</th>\n",
       "      <th>enddt1</th>\n",
       "      <th>count</th>\n",
       "      <th>date</th>\n",
       "      <th>userId</th>\n",
       "      <th>walk</th>\n",
       "      <th>exer</th>\n",
       "      <th>userName</th>\n",
       "      <th>gps_activity_distance</th>\n",
       "    </tr>\n",
       "  </thead>\n",
       "  <tbody>\n",
       "    <tr>\n",
       "      <th>0</th>\n",
       "      <td>16DEC19:10:41:00</td>\n",
       "      <td>16DEC19:20:56:00</td>\n",
       "      <td>Actigraph</td>\n",
       "      <td>97.89</td>\n",
       "      <td>36120</td>\n",
       "      <td>36900</td>\n",
       "      <td>780</td>\n",
       "      <td>2</td>\n",
       "      <td>6.50</td>\n",
       "      <td>12.060</td>\n",
       "      <td>...</td>\n",
       "      <td>12.060</td>\n",
       "      <td>20191216</td>\n",
       "      <td>20191216</td>\n",
       "      <td>2</td>\n",
       "      <td>2019-12-15</td>\n",
       "      <td>user02</td>\n",
       "      <td>0</td>\n",
       "      <td>0</td>\n",
       "      <td>NaN</td>\n",
       "      <td>NaN</td>\n",
       "    </tr>\n",
       "    <tr>\n",
       "      <th>1</th>\n",
       "      <td>16DEC19:00:23:00</td>\n",
       "      <td>16DEC19:09:23:00</td>\n",
       "      <td>Actigraph</td>\n",
       "      <td>82.44</td>\n",
       "      <td>26760</td>\n",
       "      <td>32460</td>\n",
       "      <td>5700</td>\n",
       "      <td>3</td>\n",
       "      <td>31.67</td>\n",
       "      <td>6.412</td>\n",
       "      <td>...</td>\n",
       "      <td>31.412</td>\n",
       "      <td>20191216</td>\n",
       "      <td>20191216</td>\n",
       "      <td>2</td>\n",
       "      <td>2019-12-15</td>\n",
       "      <td>user02</td>\n",
       "      <td>0</td>\n",
       "      <td>0</td>\n",
       "      <td>NaN</td>\n",
       "      <td>NaN</td>\n",
       "    </tr>\n",
       "    <tr>\n",
       "      <th>2</th>\n",
       "      <td>05DEC19:02:21:00</td>\n",
       "      <td>05DEC19:07:05:00</td>\n",
       "      <td>Actigraph</td>\n",
       "      <td>96.48</td>\n",
       "      <td>16440</td>\n",
       "      <td>17040</td>\n",
       "      <td>600</td>\n",
       "      <td>8</td>\n",
       "      <td>1.25</td>\n",
       "      <td>4.930</td>\n",
       "      <td>...</td>\n",
       "      <td>4.930</td>\n",
       "      <td>20191205</td>\n",
       "      <td>20191205</td>\n",
       "      <td>3</td>\n",
       "      <td>2019-12-04</td>\n",
       "      <td>user04</td>\n",
       "      <td>50</td>\n",
       "      <td>0</td>\n",
       "      <td>user04</td>\n",
       "      <td>0.0</td>\n",
       "    </tr>\n",
       "    <tr>\n",
       "      <th>3</th>\n",
       "      <td>05DEC19:08:10:00</td>\n",
       "      <td>05DEC19:17:29:00</td>\n",
       "      <td>Actigraph</td>\n",
       "      <td>98.03</td>\n",
       "      <td>32880</td>\n",
       "      <td>33540</td>\n",
       "      <td>660</td>\n",
       "      <td>4</td>\n",
       "      <td>2.75</td>\n",
       "      <td>1.431</td>\n",
       "      <td>...</td>\n",
       "      <td>1.431</td>\n",
       "      <td>20191205</td>\n",
       "      <td>20191205</td>\n",
       "      <td>3</td>\n",
       "      <td>2019-12-04</td>\n",
       "      <td>user04</td>\n",
       "      <td>50</td>\n",
       "      <td>0</td>\n",
       "      <td>user04</td>\n",
       "      <td>0.0</td>\n",
       "    </tr>\n",
       "    <tr>\n",
       "      <th>4</th>\n",
       "      <td>05DEC19:18:16:00</td>\n",
       "      <td>06DEC19:01:20:00</td>\n",
       "      <td>Actigraph</td>\n",
       "      <td>99.53</td>\n",
       "      <td>25320</td>\n",
       "      <td>25440</td>\n",
       "      <td>120</td>\n",
       "      <td>2</td>\n",
       "      <td>1.00</td>\n",
       "      <td>2.358</td>\n",
       "      <td>...</td>\n",
       "      <td>2.358</td>\n",
       "      <td>20191205</td>\n",
       "      <td>20191206</td>\n",
       "      <td>3</td>\n",
       "      <td>2019-12-05</td>\n",
       "      <td>user04</td>\n",
       "      <td>14</td>\n",
       "      <td>0</td>\n",
       "      <td>user04</td>\n",
       "      <td>0.0</td>\n",
       "    </tr>\n",
       "    <tr>\n",
       "      <th>...</th>\n",
       "      <td>...</td>\n",
       "      <td>...</td>\n",
       "      <td>...</td>\n",
       "      <td>...</td>\n",
       "      <td>...</td>\n",
       "      <td>...</td>\n",
       "      <td>...</td>\n",
       "      <td>...</td>\n",
       "      <td>...</td>\n",
       "      <td>...</td>\n",
       "      <td>...</td>\n",
       "      <td>...</td>\n",
       "      <td>...</td>\n",
       "      <td>...</td>\n",
       "      <td>...</td>\n",
       "      <td>...</td>\n",
       "      <td>...</td>\n",
       "      <td>...</td>\n",
       "      <td>...</td>\n",
       "      <td>...</td>\n",
       "      <td>...</td>\n",
       "    </tr>\n",
       "    <tr>\n",
       "      <th>334</th>\n",
       "      <td>10FEB20:11:14:00</td>\n",
       "      <td>11FEB20:02:49:00</td>\n",
       "      <td>Actigraph</td>\n",
       "      <td>100.00</td>\n",
       "      <td>56100</td>\n",
       "      <td>56100</td>\n",
       "      <td>0</td>\n",
       "      <td>0</td>\n",
       "      <td>0.00</td>\n",
       "      <td>0.214</td>\n",
       "      <td>...</td>\n",
       "      <td>0.214</td>\n",
       "      <td>20200210</td>\n",
       "      <td>20200211</td>\n",
       "      <td>2</td>\n",
       "      <td>2020-02-10</td>\n",
       "      <td>user20</td>\n",
       "      <td>34</td>\n",
       "      <td>0</td>\n",
       "      <td>user20</td>\n",
       "      <td>0.0</td>\n",
       "    </tr>\n",
       "    <tr>\n",
       "      <th>335</th>\n",
       "      <td>11FEB20:06:44:00</td>\n",
       "      <td>11FEB20:11:13:00</td>\n",
       "      <td>Actigraph</td>\n",
       "      <td>87.36</td>\n",
       "      <td>14100</td>\n",
       "      <td>16140</td>\n",
       "      <td>2040</td>\n",
       "      <td>16</td>\n",
       "      <td>2.13</td>\n",
       "      <td>10.037</td>\n",
       "      <td>...</td>\n",
       "      <td>27.684</td>\n",
       "      <td>20200211</td>\n",
       "      <td>20200211</td>\n",
       "      <td>2</td>\n",
       "      <td>2020-02-10</td>\n",
       "      <td>user20</td>\n",
       "      <td>34</td>\n",
       "      <td>0</td>\n",
       "      <td>user20</td>\n",
       "      <td>0.0</td>\n",
       "    </tr>\n",
       "    <tr>\n",
       "      <th>336</th>\n",
       "      <td>11FEB20:11:24:00</td>\n",
       "      <td>12FEB20:05:03:00</td>\n",
       "      <td>Actigraph</td>\n",
       "      <td>100.00</td>\n",
       "      <td>63540</td>\n",
       "      <td>63540</td>\n",
       "      <td>0</td>\n",
       "      <td>0</td>\n",
       "      <td>0.00</td>\n",
       "      <td>0.378</td>\n",
       "      <td>...</td>\n",
       "      <td>0.378</td>\n",
       "      <td>20200211</td>\n",
       "      <td>20200212</td>\n",
       "      <td>2</td>\n",
       "      <td>2020-02-11</td>\n",
       "      <td>user20</td>\n",
       "      <td>132</td>\n",
       "      <td>0</td>\n",
       "      <td>user20</td>\n",
       "      <td>0.0</td>\n",
       "    </tr>\n",
       "    <tr>\n",
       "      <th>337</th>\n",
       "      <td>12FEB20:07:22:00</td>\n",
       "      <td>13FEB20:04:00:00</td>\n",
       "      <td>Actigraph</td>\n",
       "      <td>96.45</td>\n",
       "      <td>71640</td>\n",
       "      <td>74280</td>\n",
       "      <td>2640</td>\n",
       "      <td>19</td>\n",
       "      <td>2.32</td>\n",
       "      <td>3.150</td>\n",
       "      <td>...</td>\n",
       "      <td>3.150</td>\n",
       "      <td>20200212</td>\n",
       "      <td>20200213</td>\n",
       "      <td>1</td>\n",
       "      <td>2020-02-12</td>\n",
       "      <td>user20</td>\n",
       "      <td>156</td>\n",
       "      <td>0</td>\n",
       "      <td>user20</td>\n",
       "      <td>0.0</td>\n",
       "    </tr>\n",
       "    <tr>\n",
       "      <th>338</th>\n",
       "      <td>13FEB20:06:04:00</td>\n",
       "      <td>13FEB20:16:42:00</td>\n",
       "      <td>Actigraph</td>\n",
       "      <td>91.69</td>\n",
       "      <td>35100</td>\n",
       "      <td>38280</td>\n",
       "      <td>3180</td>\n",
       "      <td>27</td>\n",
       "      <td>1.96</td>\n",
       "      <td>7.680</td>\n",
       "      <td>...</td>\n",
       "      <td>29.109</td>\n",
       "      <td>20200213</td>\n",
       "      <td>20200213</td>\n",
       "      <td>1</td>\n",
       "      <td>2020-02-12</td>\n",
       "      <td>user20</td>\n",
       "      <td>156</td>\n",
       "      <td>0</td>\n",
       "      <td>user20</td>\n",
       "      <td>0.0</td>\n",
       "    </tr>\n",
       "  </tbody>\n",
       "</table>\n",
       "<p>339 rows × 21 columns</p>\n",
       "</div>"
      ],
      "text/plain": [
       "              startDt             endDt     device  sleep_score  \\\n",
       "0    16DEC19:10:41:00  16DEC19:20:56:00  Actigraph        97.89   \n",
       "1    16DEC19:00:23:00  16DEC19:09:23:00  Actigraph        82.44   \n",
       "2    05DEC19:02:21:00  05DEC19:07:05:00  Actigraph        96.48   \n",
       "3    05DEC19:08:10:00  05DEC19:17:29:00  Actigraph        98.03   \n",
       "4    05DEC19:18:16:00  06DEC19:01:20:00  Actigraph        99.53   \n",
       "..                ...               ...        ...          ...   \n",
       "334  10FEB20:11:14:00  11FEB20:02:49:00  Actigraph       100.00   \n",
       "335  11FEB20:06:44:00  11FEB20:11:13:00  Actigraph        87.36   \n",
       "336  11FEB20:11:24:00  12FEB20:05:03:00  Actigraph       100.00   \n",
       "337  12FEB20:07:22:00  13FEB20:04:00:00  Actigraph        96.45   \n",
       "338  13FEB20:06:04:00  13FEB20:16:42:00  Actigraph        91.69   \n",
       "\n",
       "     total_sleep_time  time_in_bed  waso  wakeupcount    aal  movement_index  \\\n",
       "0               36120        36900   780            2   6.50          12.060   \n",
       "1               26760        32460  5700            3  31.67           6.412   \n",
       "2               16440        17040   600            8   1.25           4.930   \n",
       "3               32880        33540   660            4   2.75           1.431   \n",
       "4               25320        25440   120            2   1.00           2.358   \n",
       "..                ...          ...   ...          ...    ...             ...   \n",
       "334             56100        56100     0            0   0.00           0.214   \n",
       "335             14100        16140  2040           16   2.13          10.037   \n",
       "336             63540        63540     0            0   0.00           0.378   \n",
       "337             71640        74280  2640           19   2.32           3.150   \n",
       "338             35100        38280  3180           27   1.96           7.680   \n",
       "\n",
       "     ...  sleep_frag_index  startdt1    enddt1  count        date  userId  \\\n",
       "0    ...            12.060  20191216  20191216      2  2019-12-15  user02   \n",
       "1    ...            31.412  20191216  20191216      2  2019-12-15  user02   \n",
       "2    ...             4.930  20191205  20191205      3  2019-12-04  user04   \n",
       "3    ...             1.431  20191205  20191205      3  2019-12-04  user04   \n",
       "4    ...             2.358  20191205  20191206      3  2019-12-05  user04   \n",
       "..   ...               ...       ...       ...    ...         ...     ...   \n",
       "334  ...             0.214  20200210  20200211      2  2020-02-10  user20   \n",
       "335  ...            27.684  20200211  20200211      2  2020-02-10  user20   \n",
       "336  ...             0.378  20200211  20200212      2  2020-02-11  user20   \n",
       "337  ...             3.150  20200212  20200213      1  2020-02-12  user20   \n",
       "338  ...            29.109  20200213  20200213      1  2020-02-12  user20   \n",
       "\n",
       "    walk  exer  userName gps_activity_distance  \n",
       "0      0     0       NaN                   NaN  \n",
       "1      0     0       NaN                   NaN  \n",
       "2     50     0    user04                   0.0  \n",
       "3     50     0    user04                   0.0  \n",
       "4     14     0    user04                   0.0  \n",
       "..   ...   ...       ...                   ...  \n",
       "334   34     0    user20                   0.0  \n",
       "335   34     0    user20                   0.0  \n",
       "336  132     0    user20                   0.0  \n",
       "337  156     0    user20                   0.0  \n",
       "338  156     0    user20                   0.0  \n",
       "\n",
       "[339 rows x 21 columns]"
      ]
     },
     "execution_count": 414,
     "metadata": {},
     "output_type": "execute_result"
    }
   ],
   "source": [
    "user_sleep_2019_exer1"
   ]
  },
  {
   "cell_type": "markdown",
   "id": "d2ea03e2",
   "metadata": {},
   "source": [
    ">2019년 대상자 설문 데이터 불러오기"
   ]
  },
  {
   "cell_type": "code",
   "execution_count": 415,
   "id": "6c81739b",
   "metadata": {},
   "outputs": [],
   "source": [
    "user_survey_2019=pd.read_csv('./user_survey_2019.csv')"
   ]
  },
  {
   "cell_type": "code",
   "execution_count": 416,
   "id": "10686242",
   "metadata": {},
   "outputs": [
    {
     "name": "stderr",
     "output_type": "stream",
     "text": [
      "<ipython-input-416-eed064f3c41b>:36: SettingWithCopyWarning: \n",
      "A value is trying to be set on a copy of a slice from a DataFrame\n",
      "\n",
      "See the caveats in the documentation: https://pandas.pydata.org/pandas-docs/stable/user_guide/indexing.html#returning-a-view-versus-a-copy\n",
      "  user_survey_2019['userId1'][i]='user17'\n",
      "<ipython-input-416-eed064f3c41b>:12: SettingWithCopyWarning: \n",
      "A value is trying to be set on a copy of a slice from a DataFrame\n",
      "\n",
      "See the caveats in the documentation: https://pandas.pydata.org/pandas-docs/stable/user_guide/indexing.html#returning-a-view-versus-a-copy\n",
      "  user_survey_2019['userId1'][i]='user05'\n",
      "<ipython-input-416-eed064f3c41b>:10: SettingWithCopyWarning: \n",
      "A value is trying to be set on a copy of a slice from a DataFrame\n",
      "\n",
      "See the caveats in the documentation: https://pandas.pydata.org/pandas-docs/stable/user_guide/indexing.html#returning-a-view-versus-a-copy\n",
      "  user_survey_2019['userId1'][i]='user04'\n",
      "<ipython-input-416-eed064f3c41b>:42: SettingWithCopyWarning: \n",
      "A value is trying to be set on a copy of a slice from a DataFrame\n",
      "\n",
      "See the caveats in the documentation: https://pandas.pydata.org/pandas-docs/stable/user_guide/indexing.html#returning-a-view-versus-a-copy\n",
      "  user_survey_2019['userId1'][i]='user20'\n",
      "<ipython-input-416-eed064f3c41b>:8: SettingWithCopyWarning: \n",
      "A value is trying to be set on a copy of a slice from a DataFrame\n",
      "\n",
      "See the caveats in the documentation: https://pandas.pydata.org/pandas-docs/stable/user_guide/indexing.html#returning-a-view-versus-a-copy\n",
      "  user_survey_2019['userId1'][i]='user03'\n",
      "<ipython-input-416-eed064f3c41b>:30: SettingWithCopyWarning: \n",
      "A value is trying to be set on a copy of a slice from a DataFrame\n",
      "\n",
      "See the caveats in the documentation: https://pandas.pydata.org/pandas-docs/stable/user_guide/indexing.html#returning-a-view-versus-a-copy\n",
      "  user_survey_2019['userId1'][i]='user14'\n",
      "<ipython-input-416-eed064f3c41b>:4: SettingWithCopyWarning: \n",
      "A value is trying to be set on a copy of a slice from a DataFrame\n",
      "\n",
      "See the caveats in the documentation: https://pandas.pydata.org/pandas-docs/stable/user_guide/indexing.html#returning-a-view-versus-a-copy\n",
      "  user_survey_2019['userId1'][i]='user01'\n",
      "<ipython-input-416-eed064f3c41b>:32: SettingWithCopyWarning: \n",
      "A value is trying to be set on a copy of a slice from a DataFrame\n",
      "\n",
      "See the caveats in the documentation: https://pandas.pydata.org/pandas-docs/stable/user_guide/indexing.html#returning-a-view-versus-a-copy\n",
      "  user_survey_2019['userId1'][i]='user15'\n",
      "<ipython-input-416-eed064f3c41b>:22: SettingWithCopyWarning: \n",
      "A value is trying to be set on a copy of a slice from a DataFrame\n",
      "\n",
      "See the caveats in the documentation: https://pandas.pydata.org/pandas-docs/stable/user_guide/indexing.html#returning-a-view-versus-a-copy\n",
      "  user_survey_2019['userId1'][i]='user10'\n",
      "<ipython-input-416-eed064f3c41b>:28: SettingWithCopyWarning: \n",
      "A value is trying to be set on a copy of a slice from a DataFrame\n",
      "\n",
      "See the caveats in the documentation: https://pandas.pydata.org/pandas-docs/stable/user_guide/indexing.html#returning-a-view-versus-a-copy\n",
      "  user_survey_2019['userId1'][i]='user13'\n",
      "<ipython-input-416-eed064f3c41b>:18: SettingWithCopyWarning: \n",
      "A value is trying to be set on a copy of a slice from a DataFrame\n",
      "\n",
      "See the caveats in the documentation: https://pandas.pydata.org/pandas-docs/stable/user_guide/indexing.html#returning-a-view-versus-a-copy\n",
      "  user_survey_2019['userId1'][i]='user08'\n",
      "<ipython-input-416-eed064f3c41b>:40: SettingWithCopyWarning: \n",
      "A value is trying to be set on a copy of a slice from a DataFrame\n",
      "\n",
      "See the caveats in the documentation: https://pandas.pydata.org/pandas-docs/stable/user_guide/indexing.html#returning-a-view-versus-a-copy\n",
      "  user_survey_2019['userId1'][i]='user19'\n",
      "<ipython-input-416-eed064f3c41b>:24: SettingWithCopyWarning: \n",
      "A value is trying to be set on a copy of a slice from a DataFrame\n",
      "\n",
      "See the caveats in the documentation: https://pandas.pydata.org/pandas-docs/stable/user_guide/indexing.html#returning-a-view-versus-a-copy\n",
      "  user_survey_2019['userId1'][i]='user11'\n",
      "<ipython-input-416-eed064f3c41b>:14: SettingWithCopyWarning: \n",
      "A value is trying to be set on a copy of a slice from a DataFrame\n",
      "\n",
      "See the caveats in the documentation: https://pandas.pydata.org/pandas-docs/stable/user_guide/indexing.html#returning-a-view-versus-a-copy\n",
      "  user_survey_2019['userId1'][i]='user06'\n",
      "<ipython-input-416-eed064f3c41b>:6: SettingWithCopyWarning: \n",
      "A value is trying to be set on a copy of a slice from a DataFrame\n",
      "\n",
      "See the caveats in the documentation: https://pandas.pydata.org/pandas-docs/stable/user_guide/indexing.html#returning-a-view-versus-a-copy\n",
      "  user_survey_2019['userId1'][i]='user02'\n",
      "<ipython-input-416-eed064f3c41b>:20: SettingWithCopyWarning: \n",
      "A value is trying to be set on a copy of a slice from a DataFrame\n",
      "\n",
      "See the caveats in the documentation: https://pandas.pydata.org/pandas-docs/stable/user_guide/indexing.html#returning-a-view-versus-a-copy\n",
      "  user_survey_2019['userId1'][i]='user09'\n",
      "<ipython-input-416-eed064f3c41b>:16: SettingWithCopyWarning: \n",
      "A value is trying to be set on a copy of a slice from a DataFrame\n",
      "\n",
      "See the caveats in the documentation: https://pandas.pydata.org/pandas-docs/stable/user_guide/indexing.html#returning-a-view-versus-a-copy\n",
      "  user_survey_2019['userId1'][i]='user07'\n",
      "<ipython-input-416-eed064f3c41b>:38: SettingWithCopyWarning: \n",
      "A value is trying to be set on a copy of a slice from a DataFrame\n",
      "\n",
      "See the caveats in the documentation: https://pandas.pydata.org/pandas-docs/stable/user_guide/indexing.html#returning-a-view-versus-a-copy\n",
      "  user_survey_2019['userId1'][i]='user18'\n",
      "<ipython-input-416-eed064f3c41b>:26: SettingWithCopyWarning: \n",
      "A value is trying to be set on a copy of a slice from a DataFrame\n",
      "\n",
      "See the caveats in the documentation: https://pandas.pydata.org/pandas-docs/stable/user_guide/indexing.html#returning-a-view-versus-a-copy\n",
      "  user_survey_2019['userId1'][i]='user12'\n",
      "<ipython-input-416-eed064f3c41b>:34: SettingWithCopyWarning: \n",
      "A value is trying to be set on a copy of a slice from a DataFrame\n",
      "\n",
      "See the caveats in the documentation: https://pandas.pydata.org/pandas-docs/stable/user_guide/indexing.html#returning-a-view-versus-a-copy\n",
      "  user_survey_2019['userId1'][i]='user16'\n"
     ]
    }
   ],
   "source": [
    "user_survey_2019['userId1']=\"\"\n",
    "for i in range(len(user_survey_2019)):\n",
    "    if user_survey_2019['userId'][i]==101:\n",
    "        user_survey_2019['userId1'][i]='user01'\n",
    "    elif user_survey_2019['userId'][i]==102:\n",
    "        user_survey_2019['userId1'][i]='user02'\n",
    "    elif user_survey_2019['userId'][i]==103:\n",
    "        user_survey_2019['userId1'][i]='user03'\n",
    "    elif user_survey_2019['userId'][i]==104:\n",
    "        user_survey_2019['userId1'][i]='user04'\n",
    "    elif user_survey_2019['userId'][i]==105:\n",
    "        user_survey_2019['userId1'][i]='user05'\n",
    "    elif user_survey_2019['userId'][i]==106:\n",
    "        user_survey_2019['userId1'][i]='user06'\n",
    "    elif user_survey_2019['userId'][i]==107:\n",
    "        user_survey_2019['userId1'][i]='user07'\n",
    "    elif user_survey_2019['userId'][i]==108:\n",
    "        user_survey_2019['userId1'][i]='user08'\n",
    "    elif user_survey_2019['userId'][i]==109:\n",
    "        user_survey_2019['userId1'][i]='user09'\n",
    "    elif user_survey_2019['userId'][i]==110:\n",
    "        user_survey_2019['userId1'][i]='user10'\n",
    "    elif user_survey_2019['userId'][i]==111:\n",
    "        user_survey_2019['userId1'][i]='user11'\n",
    "    elif user_survey_2019['userId'][i]==112:\n",
    "        user_survey_2019['userId1'][i]='user12'\n",
    "    elif user_survey_2019['userId'][i]==113:\n",
    "        user_survey_2019['userId1'][i]='user13'\n",
    "    elif user_survey_2019['userId'][i]==114:\n",
    "        user_survey_2019['userId1'][i]='user14'\n",
    "    elif user_survey_2019['userId'][i]==115:\n",
    "        user_survey_2019['userId1'][i]='user15'\n",
    "    elif user_survey_2019['userId'][i]==116:\n",
    "        user_survey_2019['userId1'][i]='user16'\n",
    "    elif user_survey_2019['userId'][i]==117:\n",
    "        user_survey_2019['userId1'][i]='user17'\n",
    "    elif user_survey_2019['userId'][i]==118:\n",
    "        user_survey_2019['userId1'][i]='user18'\n",
    "    elif user_survey_2019['userId'][i]==119:\n",
    "        user_survey_2019['userId1'][i]='user19'\n",
    "    elif user_survey_2019['userId'][i]==120:\n",
    "        user_survey_2019['userId1'][i]='user20'"
   ]
  },
  {
   "cell_type": "code",
   "execution_count": 417,
   "id": "6f7c2d6f",
   "metadata": {},
   "outputs": [],
   "source": [
    "user_survey_2019_1=user_survey_2019.drop(user_survey_2019[user_survey_2019['amPm']=='pm'].index, axis=0)\n",
    "user_survey_2019_2=user_survey_2019.drop(user_survey_2019[user_survey_2019['amPm']=='am'].index, axis=0)"
   ]
  },
  {
   "cell_type": "code",
   "execution_count": 418,
   "id": "e9a36145",
   "metadata": {},
   "outputs": [],
   "source": [
    "user_survey_2019_1=user_survey_2019_1.reset_index(drop=True)\n",
    "user_survey_2019_2=user_survey_2019_2.reset_index(drop=True)"
   ]
  },
  {
   "cell_type": "code",
   "execution_count": 419,
   "id": "719084ce",
   "metadata": {},
   "outputs": [
    {
     "data": {
      "text/plain": [
       "0      20200118\n",
       "1      20200119\n",
       "2      20200120\n",
       "3      20200121\n",
       "4      20200122\n",
       "         ...   \n",
       "279    20200131\n",
       "280    20200201\n",
       "281    20200202\n",
       "282    20200203\n",
       "283    20200204\n",
       "Name: inputdt1, Length: 284, dtype: int64"
      ]
     },
     "execution_count": 419,
     "metadata": {},
     "output_type": "execute_result"
    }
   ],
   "source": [
    "user_survey_2019_2['inputdt1']"
   ]
  },
  {
   "cell_type": "markdown",
   "id": "6f2fe8b9",
   "metadata": {},
   "source": [
    ">2019년에 등록된 대상자의 전날 결과를 통해 당일의 수면 관련 문항 예측을 위해 날짜 조정"
   ]
  },
  {
   "cell_type": "code",
   "execution_count": 420,
   "id": "765fc286",
   "metadata": {},
   "outputs": [
    {
     "name": "stderr",
     "output_type": "stream",
     "text": [
      "<ipython-input-420-f158ec152091>:4: SettingWithCopyWarning: \n",
      "A value is trying to be set on a copy of a slice from a DataFrame\n",
      "\n",
      "See the caveats in the documentation: https://pandas.pydata.org/pandas-docs/stable/user_guide/indexing.html#returning-a-view-versus-a-copy\n",
      "  user_survey_2019_2['startdt'][i]=(datetime.strptime(str(user_survey_2019_2['inputdt1'][i]),'%Y%m%d')-dif).strftime('%Y-%m-%d')\n"
     ]
    }
   ],
   "source": [
    "from datetime import datetime, timedelta\n",
    "dif = relativedelta(days=1)\n",
    "for i in range(len(user_survey_2019_2)):\n",
    "    user_survey_2019_2['startdt'][i]=(datetime.strptime(str(user_survey_2019_2['inputdt1'][i]),'%Y%m%d')-dif).strftime('%Y-%m-%d')"
   ]
  },
  {
   "cell_type": "code",
   "execution_count": 421,
   "id": "18000ff8",
   "metadata": {},
   "outputs": [],
   "source": [
    "user_survey_2019_2=user_survey_2019_2.rename(columns={'startdt':'date1'})"
   ]
  },
  {
   "cell_type": "code",
   "execution_count": 422,
   "id": "70a5d732",
   "metadata": {},
   "outputs": [
    {
     "name": "stderr",
     "output_type": "stream",
     "text": [
      "<ipython-input-422-471df3ebddbb>:2: SettingWithCopyWarning: \n",
      "A value is trying to be set on a copy of a slice from a DataFrame\n",
      "\n",
      "See the caveats in the documentation: https://pandas.pydata.org/pandas-docs/stable/user_guide/indexing.html#returning-a-view-versus-a-copy\n",
      "  user_survey_2019_1['inputdt1'][i]=datetime.strptime(str(user_survey_2019_1['inputdt1'][i]),'%Y%m%d').strftime('%Y-%m-%d')\n"
     ]
    }
   ],
   "source": [
    "for i in range(len(user_survey_2019_1)):\n",
    "    user_survey_2019_1['inputdt1'][i]=datetime.strptime(str(user_survey_2019_1['inputdt1'][i]),'%Y%m%d').strftime('%Y-%m-%d')"
   ]
  },
  {
   "cell_type": "code",
   "execution_count": 423,
   "id": "366a2b96",
   "metadata": {},
   "outputs": [],
   "source": [
    "user_survey_2019_1=user_survey_2019_1.drop(columns=['userId'])\n",
    "user_survey_2019_1=user_survey_2019_1.rename(columns={'userId1':'userId'})"
   ]
  },
  {
   "cell_type": "code",
   "execution_count": 424,
   "id": "77bf488a",
   "metadata": {},
   "outputs": [],
   "source": [
    "user_survey_2019_1=user_survey_2019_1.rename(columns={'inputdt1':'date1'})"
   ]
  },
  {
   "cell_type": "code",
   "execution_count": 425,
   "id": "8fe0701e",
   "metadata": {},
   "outputs": [],
   "source": [
    "user_sleep_2019_exer1=user_sleep_2019_exer1.drop(columns=['userName'])"
   ]
  },
  {
   "cell_type": "code",
   "execution_count": 426,
   "id": "3a9fe6f0",
   "metadata": {},
   "outputs": [],
   "source": [
    "user_survey_2019_1=user_survey_2019_1[['sleep', 'sleepProblem','dream','amCondition','amEmotion','date1','userId']]"
   ]
  },
  {
   "cell_type": "markdown",
   "id": "077ae5c3",
   "metadata": {},
   "source": [
    ">2019년 대상자의 데이터에 설문 데이터 머지"
   ]
  },
  {
   "cell_type": "code",
   "execution_count": 427,
   "id": "adf6b6c2",
   "metadata": {},
   "outputs": [],
   "source": [
    "user1 = pd.merge(user_sleep_2019_exer1, user_survey_2019_1, left_on =['userId','date'], right_on=['userId', 'date1'], how = 'left' )"
   ]
  },
  {
   "cell_type": "code",
   "execution_count": 428,
   "id": "35961881",
   "metadata": {},
   "outputs": [
    {
     "data": {
      "text/plain": [
       "Index(['userId', 'amPm', 'inputDt', 'sleep', 'sleepProblem', 'dream',\n",
       "       'amCondition', 'amEmotion', 'pmEmotion', 'pmStress', 'ifUnusual',\n",
       "       'breakfast', 'lunch', 'dinner', 'lateSnack', 'amCaffeine',\n",
       "       'amCaffAmount', 'pmCaffeine', 'pmCaffAmount', 'alcohol', 'aAmount',\n",
       "       'startdt1', 'date1', 'enddt1', 'enddt', 'inputdt1', 'userId1'],\n",
       "      dtype='object')"
      ]
     },
     "execution_count": 428,
     "metadata": {},
     "output_type": "execute_result"
    }
   ],
   "source": [
    "user_survey_2019_2.columns"
   ]
  },
  {
   "cell_type": "code",
   "execution_count": 429,
   "id": "08423f45",
   "metadata": {},
   "outputs": [],
   "source": [
    "user_survey_2019_2=user_survey_2019_2[['date1','userId1', 'pmEmotion', 'pmStress','amCaffeine',\n",
    "       'amCaffAmount', 'pmCaffeine', 'pmCaffAmount', 'alcohol', 'aAmount']]"
   ]
  },
  {
   "cell_type": "code",
   "execution_count": 430,
   "id": "e6fccf5c",
   "metadata": {},
   "outputs": [],
   "source": [
    "user_survey_2019_2=user_survey_2019_2.rename(columns={'userId1':'userId'})"
   ]
  },
  {
   "cell_type": "code",
   "execution_count": 431,
   "id": "dc333b5e",
   "metadata": {},
   "outputs": [],
   "source": [
    "user_survey_2019_2['amCaffeine']=user_survey_2019_2['amCaffeine'].fillna(0)\n",
    "user_survey_2019_2['pmCaffeine']=user_survey_2019_2['pmCaffeine'].fillna(0)\n",
    "user_survey_2019_2['amCaffAmount']=user_survey_2019_2['amCaffAmount'].fillna(0)\n",
    "user_survey_2019_2['pmCaffAmount']=user_survey_2019_2['pmCaffAmount'].fillna(0)\n",
    "user_survey_2019_2['alcohol']=user_survey_2019_2['alcohol'].fillna(0)\n",
    "user_survey_2019_2['aAmount']=user_survey_2019_2['aAmount'].fillna(0)"
   ]
  },
  {
   "cell_type": "code",
   "execution_count": 432,
   "id": "6f5751d5",
   "metadata": {},
   "outputs": [],
   "source": [
    "user_survey_2019_2['caffeine']=''\n",
    "user_survey_2019_2['cAmount(ml)']=''\n",
    "user_survey_2019_2['aAmount(ml)']=''"
   ]
  },
  {
   "cell_type": "code",
   "execution_count": 433,
   "id": "77278e8e",
   "metadata": {},
   "outputs": [],
   "source": [
    "user_survey_2019_2['amCaffeine']=user_survey_2019_2['amCaffeine'].apply(lambda x: 0 if x==0 else 1)\n",
    "user_survey_2019_2['pmCaffeine']=user_survey_2019_2['pmCaffeine'].apply(lambda x: 0 if x==0 else 1)\n",
    "user_survey_2019_2['alcohol']=user_survey_2019_2['alcohol'].apply(lambda x: 0 if x==0 else 1)"
   ]
  },
  {
   "cell_type": "code",
   "execution_count": 434,
   "id": "a37ee1db",
   "metadata": {},
   "outputs": [],
   "source": [
    "user_survey_2019_2['caffeine']=user_survey_2019_2['amCaffeine']+user_survey_2019_2['pmCaffeine']"
   ]
  },
  {
   "cell_type": "code",
   "execution_count": 435,
   "id": "2af8d47e",
   "metadata": {},
   "outputs": [],
   "source": [
    "user_survey_2019_2['caffeine']=user_survey_2019_2['caffeine'].apply(lambda x: 0 if x==0 else 1)"
   ]
  },
  {
   "cell_type": "code",
   "execution_count": 436,
   "id": "148ff72a",
   "metadata": {},
   "outputs": [],
   "source": [
    "user_survey_2019_2['cAmount(ml)']=user_survey_2019_2['amCaffAmount']+user_survey_2019_2['pmCaffAmount']"
   ]
  },
  {
   "cell_type": "code",
   "execution_count": 437,
   "id": "b084e1f8",
   "metadata": {},
   "outputs": [],
   "source": [
    "user_survey_2019_2['aAmount(ml)']=user_survey_2019_2['aAmount']"
   ]
  },
  {
   "cell_type": "code",
   "execution_count": 438,
   "id": "d1df5bb9",
   "metadata": {},
   "outputs": [],
   "source": [
    "user_survey_2019_2=user_survey_2019_2[['date1','userId', 'pmEmotion', 'pmStress','caffeine',\n",
    "       'cAmount(ml)', 'alcohol', 'aAmount(ml)']]"
   ]
  },
  {
   "cell_type": "code",
   "execution_count": 439,
   "id": "d03ba631",
   "metadata": {},
   "outputs": [],
   "source": [
    "user1=user1.drop(columns='date1')"
   ]
  },
  {
   "cell_type": "code",
   "execution_count": 440,
   "id": "340374e3",
   "metadata": {},
   "outputs": [],
   "source": [
    "user1 = pd.merge(user1, user_survey_2019_2, left_on =['userId','date'], right_on=['userId', 'date1'], how = 'left' )"
   ]
  },
  {
   "cell_type": "markdown",
   "id": "c6486a50",
   "metadata": {},
   "source": [
    ">신체계측 데이터 추출"
   ]
  },
  {
   "cell_type": "code",
   "execution_count": 441,
   "id": "074d2e3f",
   "metadata": {},
   "outputs": [],
   "source": [
    "user_sleep_2019_2018_sorted_e4=pd.read_csv(\"user_sleep_2019_2018_sorted_e4.csv\")"
   ]
  },
  {
   "cell_type": "code",
   "execution_count": 442,
   "id": "e76c5c4d",
   "metadata": {},
   "outputs": [],
   "source": [
    "user_sleep_2019_2018_sorted_e4=user_sleep_2019_2018_sorted_e4[['userId','startDt','e4Bvp','e4Eda','e4Hr','e4Temp']]"
   ]
  },
  {
   "cell_type": "code",
   "execution_count": 443,
   "id": "c9c5b389",
   "metadata": {},
   "outputs": [],
   "source": [
    "user_sleep_2019_e4=user_sleep_2019_2018_sorted_e4.loc[user_sleep_2019_2018_sorted_e4['userId']>100,:]"
   ]
  },
  {
   "cell_type": "code",
   "execution_count": 444,
   "id": "2cb0783c",
   "metadata": {},
   "outputs": [],
   "source": [
    "user_sleep_2019_e4=user_sleep_2019_e4.reset_index(drop=True)"
   ]
  },
  {
   "cell_type": "code",
   "execution_count": 445,
   "id": "d1a573a8",
   "metadata": {},
   "outputs": [
    {
     "name": "stderr",
     "output_type": "stream",
     "text": [
      "<ipython-input-445-06200794e73a>:6: SettingWithCopyWarning: \n",
      "A value is trying to be set on a copy of a slice from a DataFrame\n",
      "\n",
      "See the caveats in the documentation: https://pandas.pydata.org/pandas-docs/stable/user_guide/indexing.html#returning-a-view-versus-a-copy\n",
      "  user_sleep_2019_e4['userId1'][i]='user02'\n",
      "<ipython-input-445-06200794e73a>:10: SettingWithCopyWarning: \n",
      "A value is trying to be set on a copy of a slice from a DataFrame\n",
      "\n",
      "See the caveats in the documentation: https://pandas.pydata.org/pandas-docs/stable/user_guide/indexing.html#returning-a-view-versus-a-copy\n",
      "  user_sleep_2019_e4['userId1'][i]='user04'\n",
      "<ipython-input-445-06200794e73a>:12: SettingWithCopyWarning: \n",
      "A value is trying to be set on a copy of a slice from a DataFrame\n",
      "\n",
      "See the caveats in the documentation: https://pandas.pydata.org/pandas-docs/stable/user_guide/indexing.html#returning-a-view-versus-a-copy\n",
      "  user_sleep_2019_e4['userId1'][i]='user05'\n",
      "<ipython-input-445-06200794e73a>:14: SettingWithCopyWarning: \n",
      "A value is trying to be set on a copy of a slice from a DataFrame\n",
      "\n",
      "See the caveats in the documentation: https://pandas.pydata.org/pandas-docs/stable/user_guide/indexing.html#returning-a-view-versus-a-copy\n",
      "  user_sleep_2019_e4['userId1'][i]='user06'\n",
      "<ipython-input-445-06200794e73a>:16: SettingWithCopyWarning: \n",
      "A value is trying to be set on a copy of a slice from a DataFrame\n",
      "\n",
      "See the caveats in the documentation: https://pandas.pydata.org/pandas-docs/stable/user_guide/indexing.html#returning-a-view-versus-a-copy\n",
      "  user_sleep_2019_e4['userId1'][i]='user07'\n",
      "<ipython-input-445-06200794e73a>:18: SettingWithCopyWarning: \n",
      "A value is trying to be set on a copy of a slice from a DataFrame\n",
      "\n",
      "See the caveats in the documentation: https://pandas.pydata.org/pandas-docs/stable/user_guide/indexing.html#returning-a-view-versus-a-copy\n",
      "  user_sleep_2019_e4['userId1'][i]='user08'\n",
      "<ipython-input-445-06200794e73a>:20: SettingWithCopyWarning: \n",
      "A value is trying to be set on a copy of a slice from a DataFrame\n",
      "\n",
      "See the caveats in the documentation: https://pandas.pydata.org/pandas-docs/stable/user_guide/indexing.html#returning-a-view-versus-a-copy\n",
      "  user_sleep_2019_e4['userId1'][i]='user09'\n",
      "<ipython-input-445-06200794e73a>:22: SettingWithCopyWarning: \n",
      "A value is trying to be set on a copy of a slice from a DataFrame\n",
      "\n",
      "See the caveats in the documentation: https://pandas.pydata.org/pandas-docs/stable/user_guide/indexing.html#returning-a-view-versus-a-copy\n",
      "  user_sleep_2019_e4['userId1'][i]='user10'\n",
      "<ipython-input-445-06200794e73a>:24: SettingWithCopyWarning: \n",
      "A value is trying to be set on a copy of a slice from a DataFrame\n",
      "\n",
      "See the caveats in the documentation: https://pandas.pydata.org/pandas-docs/stable/user_guide/indexing.html#returning-a-view-versus-a-copy\n",
      "  user_sleep_2019_e4['userId1'][i]='user11'\n",
      "<ipython-input-445-06200794e73a>:26: SettingWithCopyWarning: \n",
      "A value is trying to be set on a copy of a slice from a DataFrame\n",
      "\n",
      "See the caveats in the documentation: https://pandas.pydata.org/pandas-docs/stable/user_guide/indexing.html#returning-a-view-versus-a-copy\n",
      "  user_sleep_2019_e4['userId1'][i]='user12'\n",
      "<ipython-input-445-06200794e73a>:28: SettingWithCopyWarning: \n",
      "A value is trying to be set on a copy of a slice from a DataFrame\n",
      "\n",
      "See the caveats in the documentation: https://pandas.pydata.org/pandas-docs/stable/user_guide/indexing.html#returning-a-view-versus-a-copy\n",
      "  user_sleep_2019_e4['userId1'][i]='user13'\n",
      "<ipython-input-445-06200794e73a>:30: SettingWithCopyWarning: \n",
      "A value is trying to be set on a copy of a slice from a DataFrame\n",
      "\n",
      "See the caveats in the documentation: https://pandas.pydata.org/pandas-docs/stable/user_guide/indexing.html#returning-a-view-versus-a-copy\n",
      "  user_sleep_2019_e4['userId1'][i]='user14'\n",
      "<ipython-input-445-06200794e73a>:32: SettingWithCopyWarning: \n",
      "A value is trying to be set on a copy of a slice from a DataFrame\n",
      "\n",
      "See the caveats in the documentation: https://pandas.pydata.org/pandas-docs/stable/user_guide/indexing.html#returning-a-view-versus-a-copy\n",
      "  user_sleep_2019_e4['userId1'][i]='user15'\n",
      "<ipython-input-445-06200794e73a>:38: SettingWithCopyWarning: \n",
      "A value is trying to be set on a copy of a slice from a DataFrame\n",
      "\n",
      "See the caveats in the documentation: https://pandas.pydata.org/pandas-docs/stable/user_guide/indexing.html#returning-a-view-versus-a-copy\n",
      "  user_sleep_2019_e4['userId1'][i]='user18'\n",
      "<ipython-input-445-06200794e73a>:40: SettingWithCopyWarning: \n",
      "A value is trying to be set on a copy of a slice from a DataFrame\n",
      "\n",
      "See the caveats in the documentation: https://pandas.pydata.org/pandas-docs/stable/user_guide/indexing.html#returning-a-view-versus-a-copy\n",
      "  user_sleep_2019_e4['userId1'][i]='user19'\n",
      "<ipython-input-445-06200794e73a>:42: SettingWithCopyWarning: \n",
      "A value is trying to be set on a copy of a slice from a DataFrame\n",
      "\n",
      "See the caveats in the documentation: https://pandas.pydata.org/pandas-docs/stable/user_guide/indexing.html#returning-a-view-versus-a-copy\n",
      "  user_sleep_2019_e4['userId1'][i]='user20'\n"
     ]
    }
   ],
   "source": [
    "user_sleep_2019_e4['userId1']=\"\"\n",
    "for i in range(len(user_sleep_2019_e4)):\n",
    "    if user_sleep_2019_e4['userId'][i]==101:\n",
    "        user_sleep_2019_e4['userId1'][i]='user01'\n",
    "    elif user_sleep_2019_e4['userId'][i]==102:\n",
    "        user_sleep_2019_e4['userId1'][i]='user02'\n",
    "    elif user_sleep_2019_e4['userId'][i]==103:\n",
    "        user_sleep_2019_e4['userId1'][i]='user03'\n",
    "    elif user_sleep_2019_e4['userId'][i]==104:\n",
    "        user_sleep_2019_e4['userId1'][i]='user04'\n",
    "    elif user_sleep_2019_e4['userId'][i]==105:\n",
    "        user_sleep_2019_e4['userId1'][i]='user05'\n",
    "    elif user_sleep_2019_e4['userId'][i]==106:\n",
    "        user_sleep_2019_e4['userId1'][i]='user06'\n",
    "    elif user_sleep_2019_e4['userId'][i]==107:\n",
    "        user_sleep_2019_e4['userId1'][i]='user07'\n",
    "    elif user_sleep_2019_e4['userId'][i]==108:\n",
    "        user_sleep_2019_e4['userId1'][i]='user08'\n",
    "    elif user_sleep_2019_e4['userId'][i]==109:\n",
    "        user_sleep_2019_e4['userId1'][i]='user09'\n",
    "    elif user_sleep_2019_e4['userId'][i]==110:\n",
    "        user_sleep_2019_e4['userId1'][i]='user10'\n",
    "    elif user_sleep_2019_e4['userId'][i]==111:\n",
    "        user_sleep_2019_e4['userId1'][i]='user11'\n",
    "    elif user_sleep_2019_e4['userId'][i]==112:\n",
    "        user_sleep_2019_e4['userId1'][i]='user12'\n",
    "    elif user_sleep_2019_e4['userId'][i]==113:\n",
    "        user_sleep_2019_e4['userId1'][i]='user13'\n",
    "    elif user_sleep_2019_e4['userId'][i]==114:\n",
    "        user_sleep_2019_e4['userId1'][i]='user14'\n",
    "    elif user_sleep_2019_e4['userId'][i]==115:\n",
    "        user_sleep_2019_e4['userId1'][i]='user15'\n",
    "    elif user_sleep_2019_e4['userId'][i]==116:\n",
    "        user_sleep_2019_e4['userId1'][i]='user16'\n",
    "    elif user_sleep_2019_e4['userId'][i]==117:\n",
    "        user_sleep_2019_e4['userId1'][i]='user17'\n",
    "    elif user_sleep_2019_e4['userId'][i]==118:\n",
    "        user_sleep_2019_e4['userId1'][i]='user18'\n",
    "    elif user_sleep_2019_e4['userId'][i]==119:\n",
    "        user_sleep_2019_e4['userId1'][i]='user19'\n",
    "    elif user_sleep_2019_e4['userId'][i]==120:\n",
    "        user_sleep_2019_e4['userId1'][i]='user20'"
   ]
  },
  {
   "cell_type": "code",
   "execution_count": 446,
   "id": "321336f5",
   "metadata": {},
   "outputs": [],
   "source": [
    "user_sleep_2019_e4=user_sleep_2019_e4.drop(columns=['userId'])\n",
    "user_sleep_2019_e4=user_sleep_2019_e4.rename(columns={'userId1':'userId'})"
   ]
  },
  {
   "cell_type": "code",
   "execution_count": 447,
   "id": "91256c62",
   "metadata": {},
   "outputs": [],
   "source": [
    "user_sleep_2019_e4=user_sleep_2019_e4.rename(columns={'startDt':'date'})"
   ]
  },
  {
   "cell_type": "code",
   "execution_count": 448,
   "id": "e5279b5f",
   "metadata": {},
   "outputs": [
    {
     "data": {
      "text/html": [
       "<div>\n",
       "<style scoped>\n",
       "    .dataframe tbody tr th:only-of-type {\n",
       "        vertical-align: middle;\n",
       "    }\n",
       "\n",
       "    .dataframe tbody tr th {\n",
       "        vertical-align: top;\n",
       "    }\n",
       "\n",
       "    .dataframe thead th {\n",
       "        text-align: right;\n",
       "    }\n",
       "</style>\n",
       "<table border=\"1\" class=\"dataframe\">\n",
       "  <thead>\n",
       "    <tr style=\"text-align: right;\">\n",
       "      <th></th>\n",
       "      <th>date</th>\n",
       "      <th>e4Bvp</th>\n",
       "      <th>e4Eda</th>\n",
       "      <th>e4Hr</th>\n",
       "      <th>e4Temp</th>\n",
       "      <th>userId</th>\n",
       "    </tr>\n",
       "  </thead>\n",
       "  <tbody>\n",
       "    <tr>\n",
       "      <th>0</th>\n",
       "      <td>2019-12-16 0:23</td>\n",
       "      <td>-0.000070</td>\n",
       "      <td>0.012726</td>\n",
       "      <td>90.082467</td>\n",
       "      <td>32.928060</td>\n",
       "      <td>user02</td>\n",
       "    </tr>\n",
       "    <tr>\n",
       "      <th>1</th>\n",
       "      <td>2019-12-16 10:41</td>\n",
       "      <td>-0.000070</td>\n",
       "      <td>0.012726</td>\n",
       "      <td>90.082467</td>\n",
       "      <td>32.928060</td>\n",
       "      <td>user02</td>\n",
       "    </tr>\n",
       "    <tr>\n",
       "      <th>2</th>\n",
       "      <td>2019-12-05 18:16</td>\n",
       "      <td>0.021180</td>\n",
       "      <td>2.346086</td>\n",
       "      <td>71.768512</td>\n",
       "      <td>34.364740</td>\n",
       "      <td>user04</td>\n",
       "    </tr>\n",
       "    <tr>\n",
       "      <th>3</th>\n",
       "      <td>2019-12-05 2:21</td>\n",
       "      <td>-0.007682</td>\n",
       "      <td>0.388813</td>\n",
       "      <td>77.905570</td>\n",
       "      <td>33.412815</td>\n",
       "      <td>user04</td>\n",
       "    </tr>\n",
       "    <tr>\n",
       "      <th>4</th>\n",
       "      <td>2019-12-05 8:10</td>\n",
       "      <td>-0.007682</td>\n",
       "      <td>0.388813</td>\n",
       "      <td>77.905570</td>\n",
       "      <td>33.412815</td>\n",
       "      <td>user04</td>\n",
       "    </tr>\n",
       "    <tr>\n",
       "      <th>...</th>\n",
       "      <td>...</td>\n",
       "      <td>...</td>\n",
       "      <td>...</td>\n",
       "      <td>...</td>\n",
       "      <td>...</td>\n",
       "      <td>...</td>\n",
       "    </tr>\n",
       "    <tr>\n",
       "      <th>403</th>\n",
       "      <td>2020-02-10 3:29</td>\n",
       "      <td>-0.000073</td>\n",
       "      <td>0.262322</td>\n",
       "      <td>64.862948</td>\n",
       "      <td>33.655236</td>\n",
       "      <td>user20</td>\n",
       "    </tr>\n",
       "    <tr>\n",
       "      <th>404</th>\n",
       "      <td>2020-02-11 11:24</td>\n",
       "      <td>-0.005079</td>\n",
       "      <td>0.416336</td>\n",
       "      <td>99.479818</td>\n",
       "      <td>32.241794</td>\n",
       "      <td>user20</td>\n",
       "    </tr>\n",
       "    <tr>\n",
       "      <th>405</th>\n",
       "      <td>2020-02-11 6:44</td>\n",
       "      <td>-0.001991</td>\n",
       "      <td>0.551994</td>\n",
       "      <td>93.185853</td>\n",
       "      <td>32.848619</td>\n",
       "      <td>user20</td>\n",
       "    </tr>\n",
       "    <tr>\n",
       "      <th>406</th>\n",
       "      <td>2020-02-12 7:22</td>\n",
       "      <td>NaN</td>\n",
       "      <td>NaN</td>\n",
       "      <td>NaN</td>\n",
       "      <td>NaN</td>\n",
       "      <td>user20</td>\n",
       "    </tr>\n",
       "    <tr>\n",
       "      <th>407</th>\n",
       "      <td>2020-02-13 6:04</td>\n",
       "      <td>NaN</td>\n",
       "      <td>NaN</td>\n",
       "      <td>NaN</td>\n",
       "      <td>NaN</td>\n",
       "      <td>user20</td>\n",
       "    </tr>\n",
       "  </tbody>\n",
       "</table>\n",
       "<p>408 rows × 6 columns</p>\n",
       "</div>"
      ],
      "text/plain": [
       "                 date     e4Bvp     e4Eda       e4Hr     e4Temp  userId\n",
       "0     2019-12-16 0:23 -0.000070  0.012726  90.082467  32.928060  user02\n",
       "1    2019-12-16 10:41 -0.000070  0.012726  90.082467  32.928060  user02\n",
       "2    2019-12-05 18:16  0.021180  2.346086  71.768512  34.364740  user04\n",
       "3     2019-12-05 2:21 -0.007682  0.388813  77.905570  33.412815  user04\n",
       "4     2019-12-05 8:10 -0.007682  0.388813  77.905570  33.412815  user04\n",
       "..                ...       ...       ...        ...        ...     ...\n",
       "403   2020-02-10 3:29 -0.000073  0.262322  64.862948  33.655236  user20\n",
       "404  2020-02-11 11:24 -0.005079  0.416336  99.479818  32.241794  user20\n",
       "405   2020-02-11 6:44 -0.001991  0.551994  93.185853  32.848619  user20\n",
       "406   2020-02-12 7:22       NaN       NaN        NaN        NaN  user20\n",
       "407   2020-02-13 6:04       NaN       NaN        NaN        NaN  user20\n",
       "\n",
       "[408 rows x 6 columns]"
      ]
     },
     "execution_count": 448,
     "metadata": {},
     "output_type": "execute_result"
    }
   ],
   "source": [
    "user_sleep_2019_e4"
   ]
  },
  {
   "cell_type": "code",
   "execution_count": 449,
   "id": "707d7535",
   "metadata": {},
   "outputs": [
    {
     "name": "stderr",
     "output_type": "stream",
     "text": [
      "<ipython-input-449-b33a00e87a95>:3: SettingWithCopyWarning: \n",
      "A value is trying to be set on a copy of a slice from a DataFrame\n",
      "\n",
      "See the caveats in the documentation: https://pandas.pydata.org/pandas-docs/stable/user_guide/indexing.html#returning-a-view-versus-a-copy\n",
      "  user_sleep_2019_e4['date1'][i]=datetime.strptime(str(user_sleep_2019_e4['date'][i]),'%Y-%m-%d %H:%M').strftime('%Y-%m-%d')\n"
     ]
    }
   ],
   "source": [
    "user_sleep_2019_e4['date1']=''\n",
    "for i in range(len(user_sleep_2019_e4)):\n",
    "    user_sleep_2019_e4['date1'][i]=datetime.strptime(str(user_sleep_2019_e4['date'][i]),'%Y-%m-%d %H:%M').strftime('%Y-%m-%d')"
   ]
  },
  {
   "cell_type": "code",
   "execution_count": 450,
   "id": "1f1cbe88",
   "metadata": {},
   "outputs": [],
   "source": [
    "user_sleep_2019_e4=user_sleep_2019_e4.drop(columns='date')"
   ]
  },
  {
   "cell_type": "code",
   "execution_count": 451,
   "id": "634209be",
   "metadata": {},
   "outputs": [
    {
     "data": {
      "text/plain": [
       "Index(['startDt', 'endDt', 'device', 'sleep_score', 'total_sleep_time',\n",
       "       'time_in_bed', 'waso', 'wakeupcount', 'aal', 'movement_index',\n",
       "       'fragmentation_index', 'sleep_frag_index', 'startdt1', 'enddt1',\n",
       "       'count', 'date', 'userId', 'walk', 'exer', 'gps_activity_distance',\n",
       "       'sleep', 'sleepProblem', 'dream', 'amCondition', 'amEmotion', 'date1',\n",
       "       'pmEmotion', 'pmStress', 'caffeine', 'cAmount(ml)', 'alcohol',\n",
       "       'aAmount(ml)'],\n",
       "      dtype='object')"
      ]
     },
     "execution_count": 451,
     "metadata": {},
     "output_type": "execute_result"
    }
   ],
   "source": [
    "user1.columns"
   ]
  },
  {
   "cell_type": "markdown",
   "id": "bb7058a4",
   "metadata": {},
   "source": [
    ">2019년 데이터와 신체계측 데이터 머지"
   ]
  },
  {
   "cell_type": "code",
   "execution_count": 452,
   "id": "f791b17a",
   "metadata": {},
   "outputs": [],
   "source": [
    "user1 = pd.merge(user1, user_sleep_2019_e4, left_on =['userId','date'], right_on=['userId', 'date1'], how = 'left' )"
   ]
  },
  {
   "cell_type": "markdown",
   "id": "167d1cb2",
   "metadata": {},
   "source": [
    ">2019년 대상자 정보 추출"
   ]
  },
  {
   "cell_type": "code",
   "execution_count": 453,
   "id": "6f4da2f8",
   "metadata": {},
   "outputs": [],
   "source": [
    "user_info_2019_2018 = pd.read_csv('user_info_2019_2018_updated.csv')"
   ]
  },
  {
   "cell_type": "code",
   "execution_count": 454,
   "id": "78841faa",
   "metadata": {},
   "outputs": [],
   "source": [
    "user_info_2019=user_info_2019_2018.iloc[:20,:]"
   ]
  },
  {
   "cell_type": "code",
   "execution_count": 455,
   "id": "dead4550",
   "metadata": {},
   "outputs": [
    {
     "data": {
      "text/plain": [
       "'101'"
      ]
     },
     "execution_count": 455,
     "metadata": {},
     "output_type": "execute_result"
    }
   ],
   "source": [
    "user_info_2019['userId'][0]"
   ]
  },
  {
   "cell_type": "code",
   "execution_count": 456,
   "id": "9dca3c32",
   "metadata": {},
   "outputs": [
    {
     "name": "stderr",
     "output_type": "stream",
     "text": [
      "<ipython-input-456-99083a02908b>:1: SettingWithCopyWarning: \n",
      "A value is trying to be set on a copy of a slice from a DataFrame.\n",
      "Try using .loc[row_indexer,col_indexer] = value instead\n",
      "\n",
      "See the caveats in the documentation: https://pandas.pydata.org/pandas-docs/stable/user_guide/indexing.html#returning-a-view-versus-a-copy\n",
      "  user_info_2019['userId1']=\"\"\n",
      "<ipython-input-456-99083a02908b>:4: SettingWithCopyWarning: \n",
      "A value is trying to be set on a copy of a slice from a DataFrame\n",
      "\n",
      "See the caveats in the documentation: https://pandas.pydata.org/pandas-docs/stable/user_guide/indexing.html#returning-a-view-versus-a-copy\n",
      "  user_info_2019['userId1'][i]='user01'\n",
      "<ipython-input-456-99083a02908b>:6: SettingWithCopyWarning: \n",
      "A value is trying to be set on a copy of a slice from a DataFrame\n",
      "\n",
      "See the caveats in the documentation: https://pandas.pydata.org/pandas-docs/stable/user_guide/indexing.html#returning-a-view-versus-a-copy\n",
      "  user_info_2019['userId1'][i]='user02'\n",
      "<ipython-input-456-99083a02908b>:8: SettingWithCopyWarning: \n",
      "A value is trying to be set on a copy of a slice from a DataFrame\n",
      "\n",
      "See the caveats in the documentation: https://pandas.pydata.org/pandas-docs/stable/user_guide/indexing.html#returning-a-view-versus-a-copy\n",
      "  user_info_2019['userId1'][i]='user03'\n",
      "<ipython-input-456-99083a02908b>:10: SettingWithCopyWarning: \n",
      "A value is trying to be set on a copy of a slice from a DataFrame\n",
      "\n",
      "See the caveats in the documentation: https://pandas.pydata.org/pandas-docs/stable/user_guide/indexing.html#returning-a-view-versus-a-copy\n",
      "  user_info_2019['userId1'][i]='user04'\n",
      "<ipython-input-456-99083a02908b>:12: SettingWithCopyWarning: \n",
      "A value is trying to be set on a copy of a slice from a DataFrame\n",
      "\n",
      "See the caveats in the documentation: https://pandas.pydata.org/pandas-docs/stable/user_guide/indexing.html#returning-a-view-versus-a-copy\n",
      "  user_info_2019['userId1'][i]='user05'\n",
      "<ipython-input-456-99083a02908b>:14: SettingWithCopyWarning: \n",
      "A value is trying to be set on a copy of a slice from a DataFrame\n",
      "\n",
      "See the caveats in the documentation: https://pandas.pydata.org/pandas-docs/stable/user_guide/indexing.html#returning-a-view-versus-a-copy\n",
      "  user_info_2019['userId1'][i]='user06'\n",
      "<ipython-input-456-99083a02908b>:16: SettingWithCopyWarning: \n",
      "A value is trying to be set on a copy of a slice from a DataFrame\n",
      "\n",
      "See the caveats in the documentation: https://pandas.pydata.org/pandas-docs/stable/user_guide/indexing.html#returning-a-view-versus-a-copy\n",
      "  user_info_2019['userId1'][i]='user07'\n",
      "<ipython-input-456-99083a02908b>:18: SettingWithCopyWarning: \n",
      "A value is trying to be set on a copy of a slice from a DataFrame\n",
      "\n",
      "See the caveats in the documentation: https://pandas.pydata.org/pandas-docs/stable/user_guide/indexing.html#returning-a-view-versus-a-copy\n",
      "  user_info_2019['userId1'][i]='user08'\n",
      "<ipython-input-456-99083a02908b>:20: SettingWithCopyWarning: \n",
      "A value is trying to be set on a copy of a slice from a DataFrame\n",
      "\n",
      "See the caveats in the documentation: https://pandas.pydata.org/pandas-docs/stable/user_guide/indexing.html#returning-a-view-versus-a-copy\n",
      "  user_info_2019['userId1'][i]='user09'\n",
      "<ipython-input-456-99083a02908b>:22: SettingWithCopyWarning: \n",
      "A value is trying to be set on a copy of a slice from a DataFrame\n",
      "\n",
      "See the caveats in the documentation: https://pandas.pydata.org/pandas-docs/stable/user_guide/indexing.html#returning-a-view-versus-a-copy\n",
      "  user_info_2019['userId1'][i]='user10'\n",
      "<ipython-input-456-99083a02908b>:24: SettingWithCopyWarning: \n",
      "A value is trying to be set on a copy of a slice from a DataFrame\n",
      "\n",
      "See the caveats in the documentation: https://pandas.pydata.org/pandas-docs/stable/user_guide/indexing.html#returning-a-view-versus-a-copy\n",
      "  user_info_2019['userId1'][i]='user11'\n",
      "<ipython-input-456-99083a02908b>:26: SettingWithCopyWarning: \n",
      "A value is trying to be set on a copy of a slice from a DataFrame\n",
      "\n",
      "See the caveats in the documentation: https://pandas.pydata.org/pandas-docs/stable/user_guide/indexing.html#returning-a-view-versus-a-copy\n",
      "  user_info_2019['userId1'][i]='user12'\n",
      "<ipython-input-456-99083a02908b>:28: SettingWithCopyWarning: \n",
      "A value is trying to be set on a copy of a slice from a DataFrame\n",
      "\n",
      "See the caveats in the documentation: https://pandas.pydata.org/pandas-docs/stable/user_guide/indexing.html#returning-a-view-versus-a-copy\n",
      "  user_info_2019['userId1'][i]='user13'\n",
      "<ipython-input-456-99083a02908b>:30: SettingWithCopyWarning: \n",
      "A value is trying to be set on a copy of a slice from a DataFrame\n",
      "\n",
      "See the caveats in the documentation: https://pandas.pydata.org/pandas-docs/stable/user_guide/indexing.html#returning-a-view-versus-a-copy\n",
      "  user_info_2019['userId1'][i]='user14'\n",
      "<ipython-input-456-99083a02908b>:32: SettingWithCopyWarning: \n",
      "A value is trying to be set on a copy of a slice from a DataFrame\n",
      "\n",
      "See the caveats in the documentation: https://pandas.pydata.org/pandas-docs/stable/user_guide/indexing.html#returning-a-view-versus-a-copy\n",
      "  user_info_2019['userId1'][i]='user15'\n",
      "<ipython-input-456-99083a02908b>:34: SettingWithCopyWarning: \n",
      "A value is trying to be set on a copy of a slice from a DataFrame\n",
      "\n",
      "See the caveats in the documentation: https://pandas.pydata.org/pandas-docs/stable/user_guide/indexing.html#returning-a-view-versus-a-copy\n",
      "  user_info_2019['userId1'][i]='user16'\n",
      "<ipython-input-456-99083a02908b>:36: SettingWithCopyWarning: \n",
      "A value is trying to be set on a copy of a slice from a DataFrame\n",
      "\n",
      "See the caveats in the documentation: https://pandas.pydata.org/pandas-docs/stable/user_guide/indexing.html#returning-a-view-versus-a-copy\n",
      "  user_info_2019['userId1'][i]='user17'\n",
      "<ipython-input-456-99083a02908b>:38: SettingWithCopyWarning: \n",
      "A value is trying to be set on a copy of a slice from a DataFrame\n",
      "\n",
      "See the caveats in the documentation: https://pandas.pydata.org/pandas-docs/stable/user_guide/indexing.html#returning-a-view-versus-a-copy\n",
      "  user_info_2019['userId1'][i]='user18'\n",
      "<ipython-input-456-99083a02908b>:40: SettingWithCopyWarning: \n",
      "A value is trying to be set on a copy of a slice from a DataFrame\n",
      "\n",
      "See the caveats in the documentation: https://pandas.pydata.org/pandas-docs/stable/user_guide/indexing.html#returning-a-view-versus-a-copy\n",
      "  user_info_2019['userId1'][i]='user19'\n",
      "<ipython-input-456-99083a02908b>:42: SettingWithCopyWarning: \n",
      "A value is trying to be set on a copy of a slice from a DataFrame\n",
      "\n",
      "See the caveats in the documentation: https://pandas.pydata.org/pandas-docs/stable/user_guide/indexing.html#returning-a-view-versus-a-copy\n",
      "  user_info_2019['userId1'][i]='user20'\n"
     ]
    }
   ],
   "source": [
    "user_info_2019['userId1']=\"\"\n",
    "for i in range(len(user_info_2019)):\n",
    "    if user_info_2019['userId'][i]=='101':\n",
    "        user_info_2019['userId1'][i]='user01'\n",
    "    elif user_info_2019['userId'][i]=='102':\n",
    "        user_info_2019['userId1'][i]='user02'\n",
    "    elif user_info_2019['userId'][i]=='103':\n",
    "        user_info_2019['userId1'][i]='user03'\n",
    "    elif user_info_2019['userId'][i]=='104':\n",
    "        user_info_2019['userId1'][i]='user04'\n",
    "    elif user_info_2019['userId'][i]=='105':\n",
    "        user_info_2019['userId1'][i]='user05'\n",
    "    elif user_info_2019['userId'][i]=='106':\n",
    "        user_info_2019['userId1'][i]='user06'\n",
    "    elif user_info_2019['userId'][i]=='107':\n",
    "        user_info_2019['userId1'][i]='user07'\n",
    "    elif user_info_2019['userId'][i]=='108':\n",
    "        user_info_2019['userId1'][i]='user08'\n",
    "    elif user_info_2019['userId'][i]=='109':\n",
    "        user_info_2019['userId1'][i]='user09'\n",
    "    elif user_info_2019['userId'][i]=='110':\n",
    "        user_info_2019['userId1'][i]='user10'\n",
    "    elif user_info_2019['userId'][i]=='111':\n",
    "        user_info_2019['userId1'][i]='user11'\n",
    "    elif user_info_2019['userId'][i]=='112':\n",
    "        user_info_2019['userId1'][i]='user12'\n",
    "    elif user_info_2019['userId'][i]=='113':\n",
    "        user_info_2019['userId1'][i]='user13'\n",
    "    elif user_info_2019['userId'][i]=='114':\n",
    "        user_info_2019['userId1'][i]='user14'\n",
    "    elif user_info_2019['userId'][i]=='115':\n",
    "        user_info_2019['userId1'][i]='user15'\n",
    "    elif user_info_2019['userId'][i]=='116':\n",
    "        user_info_2019['userId1'][i]='user16'\n",
    "    elif user_info_2019['userId'][i]=='117':\n",
    "        user_info_2019['userId1'][i]='user17'\n",
    "    elif user_info_2019['userId'][i]=='118':\n",
    "        user_info_2019['userId1'][i]='user18'\n",
    "    elif user_info_2019['userId'][i]=='119':\n",
    "        user_info_2019['userId1'][i]='user19'\n",
    "    elif user_info_2019['userId'][i]=='120':\n",
    "        user_info_2019['userId1'][i]='user20'"
   ]
  },
  {
   "cell_type": "code",
   "execution_count": 457,
   "id": "19a14e22",
   "metadata": {},
   "outputs": [],
   "source": [
    "user_info_2019=user_info_2019.drop(columns='userId')\n",
    "user_info_2019=user_info_2019.rename(columns={'userId1':'userId'})"
   ]
  },
  {
   "cell_type": "code",
   "execution_count": 458,
   "id": "887e6f5a",
   "metadata": {},
   "outputs": [],
   "source": [
    "user_info_2019=user_info_2019.drop(columns='endDt')"
   ]
  },
  {
   "cell_type": "code",
   "execution_count": 459,
   "id": "5e2ec60e",
   "metadata": {},
   "outputs": [],
   "source": [
    "user_info_2019=user_info_2019.drop(columns='startDt')"
   ]
  },
  {
   "cell_type": "markdown",
   "id": "d5de9e28",
   "metadata": {},
   "source": [
    ">2019년 데이터와 개인정보 데이터 머지"
   ]
  },
  {
   "cell_type": "code",
   "execution_count": 460,
   "id": "afe9187b",
   "metadata": {},
   "outputs": [],
   "source": [
    "user1 = pd.merge(user1, user_info_2019, left_on =['userId'], right_on=['userId'], how = 'left' )"
   ]
  },
  {
   "cell_type": "code",
   "execution_count": 461,
   "id": "997c67b3",
   "metadata": {},
   "outputs": [
    {
     "data": {
      "text/plain": [
       "Index(['startDt', 'endDt', 'device', 'sleep_score', 'total_sleep_time',\n",
       "       'time_in_bed', 'waso', 'wakeupcount', 'aal', 'movement_index',\n",
       "       'fragmentation_index', 'sleep_frag_index', 'startdt1', 'enddt1',\n",
       "       'count', 'date', 'userId', 'walk', 'exer', 'gps_activity_distance',\n",
       "       'sleep', 'sleepProblem', 'dream', 'amCondition', 'amEmotion', 'date1_x',\n",
       "       'pmEmotion', 'pmStress', 'caffeine', 'cAmount(ml)', 'alcohol',\n",
       "       'aAmount(ml)', 'e4Bvp', 'e4Eda', 'e4Hr', 'e4Temp', 'date1_y', 'gender',\n",
       "       'age', 'height', 'weight'],\n",
       "      dtype='object')"
      ]
     },
     "execution_count": 461,
     "metadata": {},
     "output_type": "execute_result"
    }
   ],
   "source": [
    "user1.columns"
   ]
  },
  {
   "cell_type": "markdown",
   "id": "385ebe4a",
   "metadata": {},
   "source": [
    "## 2-3. 2018년 데이터 결합"
   ]
  },
  {
   "cell_type": "markdown",
   "id": "80127674",
   "metadata": {},
   "source": [
    ">데이터 전처리는 2019년, 2020년과 동일함."
   ]
  },
  {
   "cell_type": "markdown",
   "id": "f023b7ba",
   "metadata": {},
   "source": [
    ">2018년 수면과 운동이 결합된 데이터 불러오기"
   ]
  },
  {
   "cell_type": "code",
   "execution_count": 281,
   "id": "a50ff480",
   "metadata": {},
   "outputs": [],
   "source": [
    "user_survey_2018=pd.read_csv('./user_survey_2018.csv')"
   ]
  },
  {
   "cell_type": "code",
   "execution_count": 282,
   "id": "178388f3",
   "metadata": {},
   "outputs": [
    {
     "name": "stderr",
     "output_type": "stream",
     "text": [
      "<ipython-input-282-56ebbdef0610>:36: SettingWithCopyWarning: \n",
      "A value is trying to be set on a copy of a slice from a DataFrame\n",
      "\n",
      "See the caveats in the documentation: https://pandas.pydata.org/pandas-docs/stable/user_guide/indexing.html#returning-a-view-versus-a-copy\n",
      "  user_survey_2018['userId1'][i]='user17'\n",
      "<ipython-input-282-56ebbdef0610>:50: SettingWithCopyWarning: \n",
      "A value is trying to be set on a copy of a slice from a DataFrame\n",
      "\n",
      "See the caveats in the documentation: https://pandas.pydata.org/pandas-docs/stable/user_guide/indexing.html#returning-a-view-versus-a-copy\n",
      "  user_survey_2018['userId1'][i]='user24'\n",
      "<ipython-input-282-56ebbdef0610>:10: SettingWithCopyWarning: \n",
      "A value is trying to be set on a copy of a slice from a DataFrame\n",
      "\n",
      "See the caveats in the documentation: https://pandas.pydata.org/pandas-docs/stable/user_guide/indexing.html#returning-a-view-versus-a-copy\n",
      "  user_survey_2018['userId1'][i]='user04'\n",
      "<ipython-input-282-56ebbdef0610>:52: SettingWithCopyWarning: \n",
      "A value is trying to be set on a copy of a slice from a DataFrame\n",
      "\n",
      "See the caveats in the documentation: https://pandas.pydata.org/pandas-docs/stable/user_guide/indexing.html#returning-a-view-versus-a-copy\n",
      "  user_survey_2018['userId1'][i]='user25'\n",
      "<ipython-input-282-56ebbdef0610>:8: SettingWithCopyWarning: \n",
      "A value is trying to be set on a copy of a slice from a DataFrame\n",
      "\n",
      "See the caveats in the documentation: https://pandas.pydata.org/pandas-docs/stable/user_guide/indexing.html#returning-a-view-versus-a-copy\n",
      "  user_survey_2018['userId1'][i]='user03'\n",
      "<ipython-input-282-56ebbdef0610>:38: SettingWithCopyWarning: \n",
      "A value is trying to be set on a copy of a slice from a DataFrame\n",
      "\n",
      "See the caveats in the documentation: https://pandas.pydata.org/pandas-docs/stable/user_guide/indexing.html#returning-a-view-versus-a-copy\n",
      "  user_survey_2018['userId1'][i]='user18'\n",
      "<ipython-input-282-56ebbdef0610>:32: SettingWithCopyWarning: \n",
      "A value is trying to be set on a copy of a slice from a DataFrame\n",
      "\n",
      "See the caveats in the documentation: https://pandas.pydata.org/pandas-docs/stable/user_guide/indexing.html#returning-a-view-versus-a-copy\n",
      "  user_survey_2018['userId1'][i]='user15'\n",
      "<ipython-input-282-56ebbdef0610>:42: SettingWithCopyWarning: \n",
      "A value is trying to be set on a copy of a slice from a DataFrame\n",
      "\n",
      "See the caveats in the documentation: https://pandas.pydata.org/pandas-docs/stable/user_guide/indexing.html#returning-a-view-versus-a-copy\n",
      "  user_survey_2018['userId1'][i]='user20'\n",
      "<ipython-input-282-56ebbdef0610>:22: SettingWithCopyWarning: \n",
      "A value is trying to be set on a copy of a slice from a DataFrame\n",
      "\n",
      "See the caveats in the documentation: https://pandas.pydata.org/pandas-docs/stable/user_guide/indexing.html#returning-a-view-versus-a-copy\n",
      "  user_survey_2018['userId1'][i]='user10'\n",
      "<ipython-input-282-56ebbdef0610>:44: SettingWithCopyWarning: \n",
      "A value is trying to be set on a copy of a slice from a DataFrame\n",
      "\n",
      "See the caveats in the documentation: https://pandas.pydata.org/pandas-docs/stable/user_guide/indexing.html#returning-a-view-versus-a-copy\n",
      "  user_survey_2018['userId1'][i]='user21'\n",
      "<ipython-input-282-56ebbdef0610>:24: SettingWithCopyWarning: \n",
      "A value is trying to be set on a copy of a slice from a DataFrame\n",
      "\n",
      "See the caveats in the documentation: https://pandas.pydata.org/pandas-docs/stable/user_guide/indexing.html#returning-a-view-versus-a-copy\n",
      "  user_survey_2018['userId1'][i]='user11'\n",
      "<ipython-input-282-56ebbdef0610>:48: SettingWithCopyWarning: \n",
      "A value is trying to be set on a copy of a slice from a DataFrame\n",
      "\n",
      "See the caveats in the documentation: https://pandas.pydata.org/pandas-docs/stable/user_guide/indexing.html#returning-a-view-versus-a-copy\n",
      "  user_survey_2018['userId1'][i]='user23'\n",
      "<ipython-input-282-56ebbdef0610>:28: SettingWithCopyWarning: \n",
      "A value is trying to be set on a copy of a slice from a DataFrame\n",
      "\n",
      "See the caveats in the documentation: https://pandas.pydata.org/pandas-docs/stable/user_guide/indexing.html#returning-a-view-versus-a-copy\n",
      "  user_survey_2018['userId1'][i]='user13'\n",
      "<ipython-input-282-56ebbdef0610>:4: SettingWithCopyWarning: \n",
      "A value is trying to be set on a copy of a slice from a DataFrame\n",
      "\n",
      "See the caveats in the documentation: https://pandas.pydata.org/pandas-docs/stable/user_guide/indexing.html#returning-a-view-versus-a-copy\n",
      "  user_survey_2018['userId1'][i]='user01'\n",
      "<ipython-input-282-56ebbdef0610>:26: SettingWithCopyWarning: \n",
      "A value is trying to be set on a copy of a slice from a DataFrame\n",
      "\n",
      "See the caveats in the documentation: https://pandas.pydata.org/pandas-docs/stable/user_guide/indexing.html#returning-a-view-versus-a-copy\n",
      "  user_survey_2018['userId1'][i]='user12'\n",
      "<ipython-input-282-56ebbdef0610>:62: SettingWithCopyWarning: \n",
      "A value is trying to be set on a copy of a slice from a DataFrame\n",
      "\n",
      "See the caveats in the documentation: https://pandas.pydata.org/pandas-docs/stable/user_guide/indexing.html#returning-a-view-versus-a-copy\n",
      "  user_survey_2018['userId1'][i]='user30'\n",
      "<ipython-input-282-56ebbdef0610>:16: SettingWithCopyWarning: \n",
      "A value is trying to be set on a copy of a slice from a DataFrame\n",
      "\n",
      "See the caveats in the documentation: https://pandas.pydata.org/pandas-docs/stable/user_guide/indexing.html#returning-a-view-versus-a-copy\n",
      "  user_survey_2018['userId1'][i]='user07'\n",
      "<ipython-input-282-56ebbdef0610>:60: SettingWithCopyWarning: \n",
      "A value is trying to be set on a copy of a slice from a DataFrame\n",
      "\n",
      "See the caveats in the documentation: https://pandas.pydata.org/pandas-docs/stable/user_guide/indexing.html#returning-a-view-versus-a-copy\n",
      "  user_survey_2018['userId1'][i]='user29'\n",
      "<ipython-input-282-56ebbdef0610>:12: SettingWithCopyWarning: \n",
      "A value is trying to be set on a copy of a slice from a DataFrame\n",
      "\n",
      "See the caveats in the documentation: https://pandas.pydata.org/pandas-docs/stable/user_guide/indexing.html#returning-a-view-versus-a-copy\n",
      "  user_survey_2018['userId1'][i]='user05'\n",
      "<ipython-input-282-56ebbdef0610>:46: SettingWithCopyWarning: \n",
      "A value is trying to be set on a copy of a slice from a DataFrame\n",
      "\n",
      "See the caveats in the documentation: https://pandas.pydata.org/pandas-docs/stable/user_guide/indexing.html#returning-a-view-versus-a-copy\n",
      "  user_survey_2018['userId1'][i]='user22'\n",
      "<ipython-input-282-56ebbdef0610>:14: SettingWithCopyWarning: \n",
      "A value is trying to be set on a copy of a slice from a DataFrame\n",
      "\n",
      "See the caveats in the documentation: https://pandas.pydata.org/pandas-docs/stable/user_guide/indexing.html#returning-a-view-versus-a-copy\n",
      "  user_survey_2018['userId1'][i]='user06'\n",
      "<ipython-input-282-56ebbdef0610>:56: SettingWithCopyWarning: \n",
      "A value is trying to be set on a copy of a slice from a DataFrame\n",
      "\n",
      "See the caveats in the documentation: https://pandas.pydata.org/pandas-docs/stable/user_guide/indexing.html#returning-a-view-versus-a-copy\n",
      "  user_survey_2018['userId1'][i]='user27'\n",
      "<ipython-input-282-56ebbdef0610>:30: SettingWithCopyWarning: \n",
      "A value is trying to be set on a copy of a slice from a DataFrame\n",
      "\n",
      "See the caveats in the documentation: https://pandas.pydata.org/pandas-docs/stable/user_guide/indexing.html#returning-a-view-versus-a-copy\n",
      "  user_survey_2018['userId1'][i]='user14'\n",
      "<ipython-input-282-56ebbdef0610>:6: SettingWithCopyWarning: \n",
      "A value is trying to be set on a copy of a slice from a DataFrame\n",
      "\n",
      "See the caveats in the documentation: https://pandas.pydata.org/pandas-docs/stable/user_guide/indexing.html#returning-a-view-versus-a-copy\n",
      "  user_survey_2018['userId1'][i]='user02'\n",
      "<ipython-input-282-56ebbdef0610>:34: SettingWithCopyWarning: \n",
      "A value is trying to be set on a copy of a slice from a DataFrame\n",
      "\n",
      "See the caveats in the documentation: https://pandas.pydata.org/pandas-docs/stable/user_guide/indexing.html#returning-a-view-versus-a-copy\n",
      "  user_survey_2018['userId1'][i]='user16'\n",
      "<ipython-input-282-56ebbdef0610>:58: SettingWithCopyWarning: \n",
      "A value is trying to be set on a copy of a slice from a DataFrame\n",
      "\n",
      "See the caveats in the documentation: https://pandas.pydata.org/pandas-docs/stable/user_guide/indexing.html#returning-a-view-versus-a-copy\n",
      "  user_survey_2018['userId1'][i]='user28'\n",
      "<ipython-input-282-56ebbdef0610>:18: SettingWithCopyWarning: \n",
      "A value is trying to be set on a copy of a slice from a DataFrame\n",
      "\n",
      "See the caveats in the documentation: https://pandas.pydata.org/pandas-docs/stable/user_guide/indexing.html#returning-a-view-versus-a-copy\n",
      "  user_survey_2018['userId1'][i]='user08'\n",
      "<ipython-input-282-56ebbdef0610>:40: SettingWithCopyWarning: \n",
      "A value is trying to be set on a copy of a slice from a DataFrame\n",
      "\n",
      "See the caveats in the documentation: https://pandas.pydata.org/pandas-docs/stable/user_guide/indexing.html#returning-a-view-versus-a-copy\n",
      "  user_survey_2018['userId1'][i]='user19'\n",
      "<ipython-input-282-56ebbdef0610>:20: SettingWithCopyWarning: \n",
      "A value is trying to be set on a copy of a slice from a DataFrame\n",
      "\n",
      "See the caveats in the documentation: https://pandas.pydata.org/pandas-docs/stable/user_guide/indexing.html#returning-a-view-versus-a-copy\n",
      "  user_survey_2018['userId1'][i]='user09'\n",
      "<ipython-input-282-56ebbdef0610>:54: SettingWithCopyWarning: \n",
      "A value is trying to be set on a copy of a slice from a DataFrame\n",
      "\n",
      "See the caveats in the documentation: https://pandas.pydata.org/pandas-docs/stable/user_guide/indexing.html#returning-a-view-versus-a-copy\n",
      "  user_survey_2018['userId1'][i]='user26'\n"
     ]
    }
   ],
   "source": [
    "user_survey_2018['userId1']=\"\"\n",
    "for i in range(len(user_survey_2018)):\n",
    "    if user_survey_2018['userId'][i]==1:\n",
    "        user_survey_2018['userId1'][i]='user01'\n",
    "    elif user_survey_2018['userId'][i]==2:\n",
    "        user_survey_2018['userId1'][i]='user02'\n",
    "    elif user_survey_2018['userId'][i]==3:\n",
    "        user_survey_2018['userId1'][i]='user03'\n",
    "    elif user_survey_2018['userId'][i]==4:\n",
    "        user_survey_2018['userId1'][i]='user04'\n",
    "    elif user_survey_2018['userId'][i]==5:\n",
    "        user_survey_2018['userId1'][i]='user05'\n",
    "    elif user_survey_2018['userId'][i]==6:\n",
    "        user_survey_2018['userId1'][i]='user06'\n",
    "    elif user_survey_2018['userId'][i]==7:\n",
    "        user_survey_2018['userId1'][i]='user07'\n",
    "    elif user_survey_2018['userId'][i]==8:\n",
    "        user_survey_2018['userId1'][i]='user08'\n",
    "    elif user_survey_2018['userId'][i]==9:\n",
    "        user_survey_2018['userId1'][i]='user09'\n",
    "    elif user_survey_2018['userId'][i]==10:\n",
    "        user_survey_2018['userId1'][i]='user10'\n",
    "    elif user_survey_2018['userId'][i]==11:\n",
    "        user_survey_2018['userId1'][i]='user11'\n",
    "    elif user_survey_2018['userId'][i]==12:\n",
    "        user_survey_2018['userId1'][i]='user12'\n",
    "    elif user_survey_2018['userId'][i]==13:\n",
    "        user_survey_2018['userId1'][i]='user13'\n",
    "    elif user_survey_2018['userId'][i]==14:\n",
    "        user_survey_2018['userId1'][i]='user14'\n",
    "    elif user_survey_2018['userId'][i]==15:\n",
    "        user_survey_2018['userId1'][i]='user15'\n",
    "    elif user_survey_2018['userId'][i]==16:\n",
    "        user_survey_2018['userId1'][i]='user16'\n",
    "    elif user_survey_2018['userId'][i]==17:\n",
    "        user_survey_2018['userId1'][i]='user17'\n",
    "    elif user_survey_2018['userId'][i]==18:\n",
    "        user_survey_2018['userId1'][i]='user18'\n",
    "    elif user_survey_2018['userId'][i]==19:\n",
    "        user_survey_2018['userId1'][i]='user19'\n",
    "    elif user_survey_2018['userId'][i]==20:\n",
    "        user_survey_2018['userId1'][i]='user20'\n",
    "    elif user_survey_2018['userId'][i]==21:\n",
    "        user_survey_2018['userId1'][i]='user21'\n",
    "    elif user_survey_2018['userId'][i]==22:\n",
    "        user_survey_2018['userId1'][i]='user22'\n",
    "    elif user_survey_2018['userId'][i]==23:\n",
    "        user_survey_2018['userId1'][i]='user23'\n",
    "    elif user_survey_2018['userId'][i]==24:\n",
    "        user_survey_2018['userId1'][i]='user24'\n",
    "    elif user_survey_2018['userId'][i]==25:\n",
    "        user_survey_2018['userId1'][i]='user25'\n",
    "    elif user_survey_2018['userId'][i]==26:\n",
    "        user_survey_2018['userId1'][i]='user26'\n",
    "    elif user_survey_2018['userId'][i]==27:\n",
    "        user_survey_2018['userId1'][i]='user27'\n",
    "    elif user_survey_2018['userId'][i]==28:\n",
    "        user_survey_2018['userId1'][i]='user28'\n",
    "    elif user_survey_2018['userId'][i]==29:\n",
    "        user_survey_2018['userId1'][i]='user29'\n",
    "    elif user_survey_2018['userId'][i]==30:\n",
    "        user_survey_2018['userId1'][i]='user30'"
   ]
  },
  {
   "cell_type": "code",
   "execution_count": 283,
   "id": "2a4e384c",
   "metadata": {},
   "outputs": [],
   "source": [
    "user_survey_2018_1=user_survey_2018.drop(user_survey_2018[user_survey_2018['amPm']=='pm'].index, axis=0)\n",
    "user_survey_2018_2=user_survey_2018.drop(user_survey_2018[user_survey_2018['amPm']=='am'].index, axis=0)"
   ]
  },
  {
   "cell_type": "code",
   "execution_count": 284,
   "id": "bad3d1aa",
   "metadata": {},
   "outputs": [],
   "source": [
    "user_survey_2018_1=user_survey_2018_1.reset_index(drop=True)\n",
    "user_survey_2018_2=user_survey_2018_2.reset_index(drop=True)"
   ]
  },
  {
   "cell_type": "code",
   "execution_count": 285,
   "id": "48337d4e",
   "metadata": {},
   "outputs": [
    {
     "data": {
      "text/plain": [
       "0      20181031\n",
       "1      20181101\n",
       "2      20181103\n",
       "3      20181105\n",
       "4      20181106\n",
       "         ...   \n",
       "315    20181122\n",
       "316    20181124\n",
       "317    20181125\n",
       "318    20181126\n",
       "319    20181128\n",
       "Name: inputdt1, Length: 320, dtype: int64"
      ]
     },
     "execution_count": 285,
     "metadata": {},
     "output_type": "execute_result"
    }
   ],
   "source": [
    "user_survey_2018_2['inputdt1']"
   ]
  },
  {
   "cell_type": "code",
   "execution_count": 286,
   "id": "e3e1a96f",
   "metadata": {},
   "outputs": [
    {
     "name": "stderr",
     "output_type": "stream",
     "text": [
      "<ipython-input-286-8d436ef972d7>:4: SettingWithCopyWarning: \n",
      "A value is trying to be set on a copy of a slice from a DataFrame\n",
      "\n",
      "See the caveats in the documentation: https://pandas.pydata.org/pandas-docs/stable/user_guide/indexing.html#returning-a-view-versus-a-copy\n",
      "  user_survey_2018_2['startdt'][i]=(datetime.strptime(str(user_survey_2018_2['inputdt1'][i]),'%Y%m%d')-dif).strftime('%Y-%m-%d')\n"
     ]
    }
   ],
   "source": [
    "from datetime import datetime, timedelta\n",
    "dif = relativedelta(days=1)\n",
    "for i in range(len(user_survey_2018_2)):\n",
    "    user_survey_2018_2['startdt'][i]=(datetime.strptime(str(user_survey_2018_2['inputdt1'][i]),'%Y%m%d')-dif).strftime('%Y-%m-%d')"
   ]
  },
  {
   "cell_type": "code",
   "execution_count": 287,
   "id": "60e674f1",
   "metadata": {},
   "outputs": [],
   "source": [
    "user_survey_2018_2=user_survey_2018_2.rename(columns={'startdt':'date1'})"
   ]
  },
  {
   "cell_type": "code",
   "execution_count": 288,
   "id": "05f560b8",
   "metadata": {},
   "outputs": [
    {
     "name": "stderr",
     "output_type": "stream",
     "text": [
      "<ipython-input-288-e83f34594ee0>:2: SettingWithCopyWarning: \n",
      "A value is trying to be set on a copy of a slice from a DataFrame\n",
      "\n",
      "See the caveats in the documentation: https://pandas.pydata.org/pandas-docs/stable/user_guide/indexing.html#returning-a-view-versus-a-copy\n",
      "  user_survey_2018_1['inputdt1'][i]=datetime.strptime(str(user_survey_2018_1['inputdt1'][i]),'%Y%m%d').strftime('%Y-%m-%d')\n"
     ]
    }
   ],
   "source": [
    "for i in range(len(user_survey_2018_1)):\n",
    "    user_survey_2018_1['inputdt1'][i]=datetime.strptime(str(user_survey_2018_1['inputdt1'][i]),'%Y%m%d').strftime('%Y-%m-%d')"
   ]
  },
  {
   "cell_type": "code",
   "execution_count": 289,
   "id": "bfe27b11",
   "metadata": {},
   "outputs": [],
   "source": [
    "user_survey_2018_1=user_survey_2018_1.drop(columns=['userId'])\n",
    "user_survey_2018_1=user_survey_2018_1.rename(columns={'userId1':'userId'})"
   ]
  },
  {
   "cell_type": "code",
   "execution_count": 290,
   "id": "8bdd4014",
   "metadata": {},
   "outputs": [],
   "source": [
    "user_survey_2018_1=user_survey_2018_1.rename(columns={'inputdt1':'date1'})"
   ]
  },
  {
   "cell_type": "code",
   "execution_count": 291,
   "id": "36120d32",
   "metadata": {},
   "outputs": [],
   "source": [
    "user_sleep_2018_exer1=pd.read_csv('user_sleep_2018_exer1.csv')"
   ]
  },
  {
   "cell_type": "code",
   "execution_count": 292,
   "id": "ca8e56f9",
   "metadata": {},
   "outputs": [],
   "source": [
    "user_sleep_2018_exer1=user_sleep_2018_exer1.drop(columns=['userName'])"
   ]
  },
  {
   "cell_type": "code",
   "execution_count": 293,
   "id": "be46017f",
   "metadata": {},
   "outputs": [],
   "source": [
    "user_sleep_2018_exer1=user_sleep_2018_exer1.drop(columns=['Unnamed: 0.1','Unnamed: 0'])"
   ]
  },
  {
   "cell_type": "code",
   "execution_count": 294,
   "id": "4a572450",
   "metadata": {},
   "outputs": [],
   "source": [
    "user_survey_2018_1=user_survey_2018_1[['sleep', 'sleepProblem','dream','amCondition','amEmotion','date1','userId']]"
   ]
  },
  {
   "cell_type": "code",
   "execution_count": 295,
   "id": "edc3c0c6",
   "metadata": {},
   "outputs": [],
   "source": [
    "user2 = pd.merge(user_sleep_2018_exer1, user_survey_2018_1, left_on =['userId','date'], right_on=['userId', 'date1'], how = 'left' )"
   ]
  },
  {
   "cell_type": "code",
   "execution_count": 296,
   "id": "d3086cb5",
   "metadata": {},
   "outputs": [
    {
     "data": {
      "text/plain": [
       "Index(['userId', 'amPm', 'inputDt', 'sleep', 'sleepProblem', 'dream',\n",
       "       'amCondition', 'amEmotion', 'pmEmotion', 'pmStress', 'ifUnusual',\n",
       "       'breakfast', 'lunch', 'dinner', 'lateSnack', 'amCaffeine',\n",
       "       'amCaffAmount', 'pmCaffeine', 'pmCaffAmount', 'alcohol', 'aAmount',\n",
       "       'startdt1', 'date1', 'enddt1', 'enddt', 'inputdt1', 'userId1'],\n",
       "      dtype='object')"
      ]
     },
     "execution_count": 296,
     "metadata": {},
     "output_type": "execute_result"
    }
   ],
   "source": [
    "user_survey_2018_2.columns"
   ]
  },
  {
   "cell_type": "code",
   "execution_count": 297,
   "id": "0cf3cb55",
   "metadata": {},
   "outputs": [],
   "source": [
    "user_survey_2018_2=user_survey_2018_2[['date1','userId1', 'pmEmotion', 'pmStress','amCaffeine',\n",
    "       'amCaffAmount', 'pmCaffeine', 'pmCaffAmount', 'alcohol', 'aAmount']]"
   ]
  },
  {
   "cell_type": "code",
   "execution_count": 298,
   "id": "71abf6f4",
   "metadata": {},
   "outputs": [],
   "source": [
    "user_survey_2018_2=user_survey_2018_2.rename(columns={'userId1':'userId'})"
   ]
  },
  {
   "cell_type": "code",
   "execution_count": 299,
   "id": "194025c3",
   "metadata": {},
   "outputs": [],
   "source": [
    "user_survey_2018_2['amCaffeine']=user_survey_2018_2['amCaffeine'].fillna(0)\n",
    "user_survey_2018_2['pmCaffeine']=user_survey_2018_2['pmCaffeine'].fillna(0)\n",
    "user_survey_2018_2['amCaffAmount']=user_survey_2018_2['amCaffAmount'].fillna(0)\n",
    "user_survey_2018_2['pmCaffAmount']=user_survey_2018_2['pmCaffAmount'].fillna(0)\n",
    "user_survey_2018_2['alcohol']=user_survey_2018_2['alcohol'].fillna(0)\n",
    "user_survey_2018_2['aAmount']=user_survey_2018_2['aAmount'].fillna(0)"
   ]
  },
  {
   "cell_type": "code",
   "execution_count": 300,
   "id": "64d91cf2",
   "metadata": {},
   "outputs": [],
   "source": [
    "user_survey_2018_2['caffeine']=''\n",
    "user_survey_2018_2['cAmount(ml)']=''\n",
    "user_survey_2018_2['aAmount(ml)']=''"
   ]
  },
  {
   "cell_type": "code",
   "execution_count": 301,
   "id": "e8340ec2",
   "metadata": {},
   "outputs": [],
   "source": [
    "user_survey_2018_2['amCaffeine']=user_survey_2018_2['amCaffeine'].apply(lambda x: 0 if x==0 else 1)\n",
    "user_survey_2018_2['pmCaffeine']=user_survey_2018_2['pmCaffeine'].apply(lambda x: 0 if x==0 else 1)\n",
    "user_survey_2018_2['alcohol']=user_survey_2018_2['alcohol'].apply(lambda x: 0 if x==0 else 1)"
   ]
  },
  {
   "cell_type": "code",
   "execution_count": 302,
   "id": "f6bc4f04",
   "metadata": {},
   "outputs": [],
   "source": [
    "user_survey_2018_2['caffeine']=user_survey_2018_2['amCaffeine']+user_survey_2018_2['pmCaffeine']"
   ]
  },
  {
   "cell_type": "code",
   "execution_count": 303,
   "id": "c8cf07e4",
   "metadata": {},
   "outputs": [],
   "source": [
    "user_survey_2018_2['caffeine']=user_survey_2018_2['caffeine'].apply(lambda x: 0 if x==0 else 1)"
   ]
  },
  {
   "cell_type": "code",
   "execution_count": 304,
   "id": "63474204",
   "metadata": {},
   "outputs": [],
   "source": [
    "user_survey_2018_2['cAmount(ml)']=user_survey_2018_2['amCaffAmount']+user_survey_2018_2['pmCaffAmount']"
   ]
  },
  {
   "cell_type": "code",
   "execution_count": 305,
   "id": "89748c2b",
   "metadata": {},
   "outputs": [],
   "source": [
    "user_survey_2018_2['aAmount(ml)']=user_survey_2018_2['aAmount']"
   ]
  },
  {
   "cell_type": "code",
   "execution_count": 306,
   "id": "854d7a03",
   "metadata": {},
   "outputs": [],
   "source": [
    "user_survey_2018_2=user_survey_2018_2[['date1','userId', 'pmEmotion', 'pmStress','caffeine',\n",
    "       'cAmount(ml)', 'alcohol', 'aAmount(ml)']]"
   ]
  },
  {
   "cell_type": "code",
   "execution_count": 307,
   "id": "e70189d7",
   "metadata": {},
   "outputs": [],
   "source": [
    "user2=user2.drop(columns='date1')"
   ]
  },
  {
   "cell_type": "code",
   "execution_count": 308,
   "id": "2572e90a",
   "metadata": {},
   "outputs": [],
   "source": [
    "user2 = pd.merge(user2, user_survey_2018_2, left_on =['userId','date'], right_on=['userId', 'date1'], how = 'left' )"
   ]
  },
  {
   "cell_type": "code",
   "execution_count": 309,
   "id": "92bbb29d",
   "metadata": {},
   "outputs": [],
   "source": [
    "user_sleep_2019_2018_sorted_e4=user_sleep_2019_2018_sorted_e4[['userId','startDt','e4Bvp','e4Eda','e4Hr','e4Temp']]"
   ]
  },
  {
   "cell_type": "code",
   "execution_count": 310,
   "id": "b4bc1c8a",
   "metadata": {},
   "outputs": [],
   "source": [
    "user_sleep_2018_e4=user_sleep_2019_2018_sorted_e4.loc[user_sleep_2019_2018_sorted_e4['userId']<100,:]"
   ]
  },
  {
   "cell_type": "code",
   "execution_count": 311,
   "id": "5629b14e",
   "metadata": {},
   "outputs": [],
   "source": [
    "user_sleep_2018_e4=user_sleep_2018_e4.reset_index(drop=True)"
   ]
  },
  {
   "cell_type": "code",
   "execution_count": 312,
   "id": "c55e263f",
   "metadata": {},
   "outputs": [
    {
     "name": "stderr",
     "output_type": "stream",
     "text": [
      "<ipython-input-312-5cb09d308db8>:4: SettingWithCopyWarning: \n",
      "A value is trying to be set on a copy of a slice from a DataFrame\n",
      "\n",
      "See the caveats in the documentation: https://pandas.pydata.org/pandas-docs/stable/user_guide/indexing.html#returning-a-view-versus-a-copy\n",
      "  user_sleep_2018_e4['userId1'][i]='user01'\n",
      "<ipython-input-312-5cb09d308db8>:6: SettingWithCopyWarning: \n",
      "A value is trying to be set on a copy of a slice from a DataFrame\n",
      "\n",
      "See the caveats in the documentation: https://pandas.pydata.org/pandas-docs/stable/user_guide/indexing.html#returning-a-view-versus-a-copy\n",
      "  user_sleep_2018_e4['userId1'][i]='user02'\n",
      "<ipython-input-312-5cb09d308db8>:8: SettingWithCopyWarning: \n",
      "A value is trying to be set on a copy of a slice from a DataFrame\n",
      "\n",
      "See the caveats in the documentation: https://pandas.pydata.org/pandas-docs/stable/user_guide/indexing.html#returning-a-view-versus-a-copy\n",
      "  user_sleep_2018_e4['userId1'][i]='user03'\n",
      "<ipython-input-312-5cb09d308db8>:10: SettingWithCopyWarning: \n",
      "A value is trying to be set on a copy of a slice from a DataFrame\n",
      "\n",
      "See the caveats in the documentation: https://pandas.pydata.org/pandas-docs/stable/user_guide/indexing.html#returning-a-view-versus-a-copy\n",
      "  user_sleep_2018_e4['userId1'][i]='user04'\n",
      "<ipython-input-312-5cb09d308db8>:12: SettingWithCopyWarning: \n",
      "A value is trying to be set on a copy of a slice from a DataFrame\n",
      "\n",
      "See the caveats in the documentation: https://pandas.pydata.org/pandas-docs/stable/user_guide/indexing.html#returning-a-view-versus-a-copy\n",
      "  user_sleep_2018_e4['userId1'][i]='user05'\n",
      "<ipython-input-312-5cb09d308db8>:14: SettingWithCopyWarning: \n",
      "A value is trying to be set on a copy of a slice from a DataFrame\n",
      "\n",
      "See the caveats in the documentation: https://pandas.pydata.org/pandas-docs/stable/user_guide/indexing.html#returning-a-view-versus-a-copy\n",
      "  user_sleep_2018_e4['userId1'][i]='user06'\n",
      "<ipython-input-312-5cb09d308db8>:16: SettingWithCopyWarning: \n",
      "A value is trying to be set on a copy of a slice from a DataFrame\n",
      "\n",
      "See the caveats in the documentation: https://pandas.pydata.org/pandas-docs/stable/user_guide/indexing.html#returning-a-view-versus-a-copy\n",
      "  user_sleep_2018_e4['userId1'][i]='user07'\n",
      "<ipython-input-312-5cb09d308db8>:18: SettingWithCopyWarning: \n",
      "A value is trying to be set on a copy of a slice from a DataFrame\n",
      "\n",
      "See the caveats in the documentation: https://pandas.pydata.org/pandas-docs/stable/user_guide/indexing.html#returning-a-view-versus-a-copy\n",
      "  user_sleep_2018_e4['userId1'][i]='user08'\n",
      "<ipython-input-312-5cb09d308db8>:20: SettingWithCopyWarning: \n",
      "A value is trying to be set on a copy of a slice from a DataFrame\n",
      "\n",
      "See the caveats in the documentation: https://pandas.pydata.org/pandas-docs/stable/user_guide/indexing.html#returning-a-view-versus-a-copy\n",
      "  user_sleep_2018_e4['userId1'][i]='user09'\n",
      "<ipython-input-312-5cb09d308db8>:22: SettingWithCopyWarning: \n",
      "A value is trying to be set on a copy of a slice from a DataFrame\n",
      "\n",
      "See the caveats in the documentation: https://pandas.pydata.org/pandas-docs/stable/user_guide/indexing.html#returning-a-view-versus-a-copy\n",
      "  user_sleep_2018_e4['userId1'][i]='user10'\n",
      "<ipython-input-312-5cb09d308db8>:24: SettingWithCopyWarning: \n",
      "A value is trying to be set on a copy of a slice from a DataFrame\n",
      "\n",
      "See the caveats in the documentation: https://pandas.pydata.org/pandas-docs/stable/user_guide/indexing.html#returning-a-view-versus-a-copy\n",
      "  user_sleep_2018_e4['userId1'][i]='user11'\n",
      "<ipython-input-312-5cb09d308db8>:26: SettingWithCopyWarning: \n",
      "A value is trying to be set on a copy of a slice from a DataFrame\n",
      "\n",
      "See the caveats in the documentation: https://pandas.pydata.org/pandas-docs/stable/user_guide/indexing.html#returning-a-view-versus-a-copy\n",
      "  user_sleep_2018_e4['userId1'][i]='user12'\n",
      "<ipython-input-312-5cb09d308db8>:28: SettingWithCopyWarning: \n",
      "A value is trying to be set on a copy of a slice from a DataFrame\n",
      "\n",
      "See the caveats in the documentation: https://pandas.pydata.org/pandas-docs/stable/user_guide/indexing.html#returning-a-view-versus-a-copy\n",
      "  user_sleep_2018_e4['userId1'][i]='user13'\n",
      "<ipython-input-312-5cb09d308db8>:30: SettingWithCopyWarning: \n",
      "A value is trying to be set on a copy of a slice from a DataFrame\n",
      "\n",
      "See the caveats in the documentation: https://pandas.pydata.org/pandas-docs/stable/user_guide/indexing.html#returning-a-view-versus-a-copy\n",
      "  user_sleep_2018_e4['userId1'][i]='user14'\n",
      "<ipython-input-312-5cb09d308db8>:32: SettingWithCopyWarning: \n",
      "A value is trying to be set on a copy of a slice from a DataFrame\n",
      "\n",
      "See the caveats in the documentation: https://pandas.pydata.org/pandas-docs/stable/user_guide/indexing.html#returning-a-view-versus-a-copy\n",
      "  user_sleep_2018_e4['userId1'][i]='user15'\n",
      "<ipython-input-312-5cb09d308db8>:34: SettingWithCopyWarning: \n",
      "A value is trying to be set on a copy of a slice from a DataFrame\n",
      "\n",
      "See the caveats in the documentation: https://pandas.pydata.org/pandas-docs/stable/user_guide/indexing.html#returning-a-view-versus-a-copy\n",
      "  user_sleep_2018_e4['userId1'][i]='user16'\n",
      "<ipython-input-312-5cb09d308db8>:36: SettingWithCopyWarning: \n",
      "A value is trying to be set on a copy of a slice from a DataFrame\n",
      "\n",
      "See the caveats in the documentation: https://pandas.pydata.org/pandas-docs/stable/user_guide/indexing.html#returning-a-view-versus-a-copy\n",
      "  user_sleep_2018_e4['userId1'][i]='user17'\n",
      "<ipython-input-312-5cb09d308db8>:38: SettingWithCopyWarning: \n",
      "A value is trying to be set on a copy of a slice from a DataFrame\n",
      "\n",
      "See the caveats in the documentation: https://pandas.pydata.org/pandas-docs/stable/user_guide/indexing.html#returning-a-view-versus-a-copy\n",
      "  user_sleep_2018_e4['userId1'][i]='user18'\n",
      "<ipython-input-312-5cb09d308db8>:40: SettingWithCopyWarning: \n",
      "A value is trying to be set on a copy of a slice from a DataFrame\n",
      "\n",
      "See the caveats in the documentation: https://pandas.pydata.org/pandas-docs/stable/user_guide/indexing.html#returning-a-view-versus-a-copy\n",
      "  user_sleep_2018_e4['userId1'][i]='user19'\n",
      "<ipython-input-312-5cb09d308db8>:42: SettingWithCopyWarning: \n",
      "A value is trying to be set on a copy of a slice from a DataFrame\n",
      "\n",
      "See the caveats in the documentation: https://pandas.pydata.org/pandas-docs/stable/user_guide/indexing.html#returning-a-view-versus-a-copy\n",
      "  user_sleep_2018_e4['userId1'][i]='user20'\n",
      "<ipython-input-312-5cb09d308db8>:44: SettingWithCopyWarning: \n",
      "A value is trying to be set on a copy of a slice from a DataFrame\n",
      "\n",
      "See the caveats in the documentation: https://pandas.pydata.org/pandas-docs/stable/user_guide/indexing.html#returning-a-view-versus-a-copy\n",
      "  user_sleep_2018_e4['userId1'][i]='user21'\n",
      "<ipython-input-312-5cb09d308db8>:46: SettingWithCopyWarning: \n",
      "A value is trying to be set on a copy of a slice from a DataFrame\n",
      "\n",
      "See the caveats in the documentation: https://pandas.pydata.org/pandas-docs/stable/user_guide/indexing.html#returning-a-view-versus-a-copy\n",
      "  user_sleep_2018_e4['userId1'][i]='user22'\n",
      "<ipython-input-312-5cb09d308db8>:48: SettingWithCopyWarning: \n",
      "A value is trying to be set on a copy of a slice from a DataFrame\n",
      "\n",
      "See the caveats in the documentation: https://pandas.pydata.org/pandas-docs/stable/user_guide/indexing.html#returning-a-view-versus-a-copy\n",
      "  user_sleep_2018_e4['userId1'][i]='user23'\n",
      "<ipython-input-312-5cb09d308db8>:50: SettingWithCopyWarning: \n",
      "A value is trying to be set on a copy of a slice from a DataFrame\n",
      "\n",
      "See the caveats in the documentation: https://pandas.pydata.org/pandas-docs/stable/user_guide/indexing.html#returning-a-view-versus-a-copy\n",
      "  user_sleep_2018_e4['userId1'][i]='user24'\n",
      "<ipython-input-312-5cb09d308db8>:52: SettingWithCopyWarning: \n",
      "A value is trying to be set on a copy of a slice from a DataFrame\n",
      "\n",
      "See the caveats in the documentation: https://pandas.pydata.org/pandas-docs/stable/user_guide/indexing.html#returning-a-view-versus-a-copy\n",
      "  user_sleep_2018_e4['userId1'][i]='user25'\n",
      "<ipython-input-312-5cb09d308db8>:54: SettingWithCopyWarning: \n",
      "A value is trying to be set on a copy of a slice from a DataFrame\n",
      "\n",
      "See the caveats in the documentation: https://pandas.pydata.org/pandas-docs/stable/user_guide/indexing.html#returning-a-view-versus-a-copy\n",
      "  user_sleep_2018_e4['userId1'][i]='user26'\n",
      "<ipython-input-312-5cb09d308db8>:56: SettingWithCopyWarning: \n",
      "A value is trying to be set on a copy of a slice from a DataFrame\n",
      "\n",
      "See the caveats in the documentation: https://pandas.pydata.org/pandas-docs/stable/user_guide/indexing.html#returning-a-view-versus-a-copy\n",
      "  user_sleep_2018_e4['userId1'][i]='user27'\n",
      "<ipython-input-312-5cb09d308db8>:58: SettingWithCopyWarning: \n",
      "A value is trying to be set on a copy of a slice from a DataFrame\n",
      "\n",
      "See the caveats in the documentation: https://pandas.pydata.org/pandas-docs/stable/user_guide/indexing.html#returning-a-view-versus-a-copy\n",
      "  user_sleep_2018_e4['userId1'][i]='user28'\n",
      "<ipython-input-312-5cb09d308db8>:60: SettingWithCopyWarning: \n",
      "A value is trying to be set on a copy of a slice from a DataFrame\n",
      "\n",
      "See the caveats in the documentation: https://pandas.pydata.org/pandas-docs/stable/user_guide/indexing.html#returning-a-view-versus-a-copy\n",
      "  user_sleep_2018_e4['userId1'][i]='user29'\n",
      "<ipython-input-312-5cb09d308db8>:62: SettingWithCopyWarning: \n",
      "A value is trying to be set on a copy of a slice from a DataFrame\n",
      "\n",
      "See the caveats in the documentation: https://pandas.pydata.org/pandas-docs/stable/user_guide/indexing.html#returning-a-view-versus-a-copy\n",
      "  user_sleep_2018_e4['userId1'][i]='user30'\n"
     ]
    }
   ],
   "source": [
    "user_sleep_2018_e4['userId1']=\"\"\n",
    "for i in range(len(user_sleep_2018_e4)):\n",
    "    if user_sleep_2018_e4['userId'][i]==1:\n",
    "        user_sleep_2018_e4['userId1'][i]='user01'\n",
    "    elif user_sleep_2018_e4['userId'][i]==2:\n",
    "        user_sleep_2018_e4['userId1'][i]='user02'\n",
    "    elif user_sleep_2018_e4['userId'][i]==3:\n",
    "        user_sleep_2018_e4['userId1'][i]='user03'\n",
    "    elif user_sleep_2018_e4['userId'][i]==4:\n",
    "        user_sleep_2018_e4['userId1'][i]='user04'\n",
    "    elif user_sleep_2018_e4['userId'][i]==5:\n",
    "        user_sleep_2018_e4['userId1'][i]='user05'\n",
    "    elif user_sleep_2018_e4['userId'][i]==6:\n",
    "        user_sleep_2018_e4['userId1'][i]='user06'\n",
    "    elif user_sleep_2018_e4['userId'][i]==7:\n",
    "        user_sleep_2018_e4['userId1'][i]='user07'\n",
    "    elif user_sleep_2018_e4['userId'][i]==8:\n",
    "        user_sleep_2018_e4['userId1'][i]='user08'\n",
    "    elif user_sleep_2018_e4['userId'][i]==9:\n",
    "        user_sleep_2018_e4['userId1'][i]='user09'\n",
    "    elif user_sleep_2018_e4['userId'][i]==10:\n",
    "        user_sleep_2018_e4['userId1'][i]='user10'\n",
    "    elif user_sleep_2018_e4['userId'][i]==11:\n",
    "        user_sleep_2018_e4['userId1'][i]='user11'\n",
    "    elif user_sleep_2018_e4['userId'][i]==12:\n",
    "        user_sleep_2018_e4['userId1'][i]='user12'\n",
    "    elif user_sleep_2018_e4['userId'][i]==13:\n",
    "        user_sleep_2018_e4['userId1'][i]='user13'\n",
    "    elif user_sleep_2018_e4['userId'][i]==14:\n",
    "        user_sleep_2018_e4['userId1'][i]='user14'\n",
    "    elif user_sleep_2018_e4['userId'][i]==15:\n",
    "        user_sleep_2018_e4['userId1'][i]='user15'\n",
    "    elif user_sleep_2018_e4['userId'][i]==16:\n",
    "        user_sleep_2018_e4['userId1'][i]='user16'\n",
    "    elif user_sleep_2018_e4['userId'][i]==17:\n",
    "        user_sleep_2018_e4['userId1'][i]='user17'\n",
    "    elif user_sleep_2018_e4['userId'][i]==18:\n",
    "        user_sleep_2018_e4['userId1'][i]='user18'\n",
    "    elif user_sleep_2018_e4['userId'][i]==19:\n",
    "        user_sleep_2018_e4['userId1'][i]='user19'\n",
    "    elif user_sleep_2018_e4['userId'][i]==20:\n",
    "        user_sleep_2018_e4['userId1'][i]='user20'\n",
    "    elif user_sleep_2018_e4['userId'][i]==21:\n",
    "        user_sleep_2018_e4['userId1'][i]='user21'\n",
    "    elif user_sleep_2018_e4['userId'][i]==22:\n",
    "        user_sleep_2018_e4['userId1'][i]='user22'\n",
    "    elif user_sleep_2018_e4['userId'][i]==23:\n",
    "        user_sleep_2018_e4['userId1'][i]='user23'\n",
    "    elif user_sleep_2018_e4['userId'][i]==24:\n",
    "        user_sleep_2018_e4['userId1'][i]='user24'\n",
    "    elif user_sleep_2018_e4['userId'][i]==25:\n",
    "        user_sleep_2018_e4['userId1'][i]='user25'\n",
    "    elif user_sleep_2018_e4['userId'][i]==26:\n",
    "        user_sleep_2018_e4['userId1'][i]='user26'\n",
    "    elif user_sleep_2018_e4['userId'][i]==27:\n",
    "        user_sleep_2018_e4['userId1'][i]='user27'\n",
    "    elif user_sleep_2018_e4['userId'][i]==28:\n",
    "        user_sleep_2018_e4['userId1'][i]='user28'\n",
    "    elif user_sleep_2018_e4['userId'][i]==29:\n",
    "        user_sleep_2018_e4['userId1'][i]='user29'\n",
    "    elif user_sleep_2018_e4['userId'][i]==30:\n",
    "        user_sleep_2018_e4['userId1'][i]='user30'"
   ]
  },
  {
   "cell_type": "code",
   "execution_count": 313,
   "id": "a52f9a07",
   "metadata": {},
   "outputs": [],
   "source": [
    "user_sleep_2018_e4=user_sleep_2018_e4.drop(columns=['userId'])\n",
    "user_sleep_2018_e4=user_sleep_2018_e4.rename(columns={'userId1':'userId'})"
   ]
  },
  {
   "cell_type": "code",
   "execution_count": 314,
   "id": "198bbd05",
   "metadata": {},
   "outputs": [],
   "source": [
    "user_sleep_2018_e4=user_sleep_2018_e4.rename(columns={'startDt':'date'})"
   ]
  },
  {
   "cell_type": "code",
   "execution_count": 315,
   "id": "226a045a",
   "metadata": {},
   "outputs": [
    {
     "data": {
      "text/html": [
       "<div>\n",
       "<style scoped>\n",
       "    .dataframe tbody tr th:only-of-type {\n",
       "        vertical-align: middle;\n",
       "    }\n",
       "\n",
       "    .dataframe tbody tr th {\n",
       "        vertical-align: top;\n",
       "    }\n",
       "\n",
       "    .dataframe thead th {\n",
       "        text-align: right;\n",
       "    }\n",
       "</style>\n",
       "<table border=\"1\" class=\"dataframe\">\n",
       "  <thead>\n",
       "    <tr style=\"text-align: right;\">\n",
       "      <th></th>\n",
       "      <th>date</th>\n",
       "      <th>e4Bvp</th>\n",
       "      <th>e4Eda</th>\n",
       "      <th>e4Hr</th>\n",
       "      <th>e4Temp</th>\n",
       "      <th>userId</th>\n",
       "    </tr>\n",
       "  </thead>\n",
       "  <tbody>\n",
       "    <tr>\n",
       "      <th>0</th>\n",
       "      <td>2018-11-16 0:53</td>\n",
       "      <td>-0.005642</td>\n",
       "      <td>0.121614</td>\n",
       "      <td>80.006229</td>\n",
       "      <td>32.864825</td>\n",
       "      <td>user01</td>\n",
       "    </tr>\n",
       "    <tr>\n",
       "      <th>1</th>\n",
       "      <td>2018-11-17 3:36</td>\n",
       "      <td>0.006961</td>\n",
       "      <td>0.330542</td>\n",
       "      <td>72.347900</td>\n",
       "      <td>33.956935</td>\n",
       "      <td>user01</td>\n",
       "    </tr>\n",
       "    <tr>\n",
       "      <th>2</th>\n",
       "      <td>2018-11-18 5:06</td>\n",
       "      <td>-0.015563</td>\n",
       "      <td>0.290492</td>\n",
       "      <td>84.019970</td>\n",
       "      <td>33.884083</td>\n",
       "      <td>user01</td>\n",
       "    </tr>\n",
       "    <tr>\n",
       "      <th>3</th>\n",
       "      <td>2018-11-19 1:54</td>\n",
       "      <td>-0.001972</td>\n",
       "      <td>0.729625</td>\n",
       "      <td>80.477496</td>\n",
       "      <td>34.444794</td>\n",
       "      <td>user01</td>\n",
       "    </tr>\n",
       "    <tr>\n",
       "      <th>4</th>\n",
       "      <td>2018-11-20 1:38</td>\n",
       "      <td>0.005119</td>\n",
       "      <td>0.257681</td>\n",
       "      <td>80.851895</td>\n",
       "      <td>34.334449</td>\n",
       "      <td>user01</td>\n",
       "    </tr>\n",
       "    <tr>\n",
       "      <th>...</th>\n",
       "      <td>...</td>\n",
       "      <td>...</td>\n",
       "      <td>...</td>\n",
       "      <td>...</td>\n",
       "      <td>...</td>\n",
       "      <td>...</td>\n",
       "    </tr>\n",
       "    <tr>\n",
       "      <th>323</th>\n",
       "      <td>2018-11-24 3:32</td>\n",
       "      <td>0.000417</td>\n",
       "      <td>0.693704</td>\n",
       "      <td>84.231193</td>\n",
       "      <td>35.719695</td>\n",
       "      <td>user30</td>\n",
       "    </tr>\n",
       "    <tr>\n",
       "      <th>324</th>\n",
       "      <td>2018-11-25 1:29</td>\n",
       "      <td>-0.007869</td>\n",
       "      <td>0.430001</td>\n",
       "      <td>82.935526</td>\n",
       "      <td>35.455277</td>\n",
       "      <td>user30</td>\n",
       "    </tr>\n",
       "    <tr>\n",
       "      <th>325</th>\n",
       "      <td>2018-11-26 1:46</td>\n",
       "      <td>0.002362</td>\n",
       "      <td>0.157313</td>\n",
       "      <td>90.332692</td>\n",
       "      <td>34.672714</td>\n",
       "      <td>user30</td>\n",
       "    </tr>\n",
       "    <tr>\n",
       "      <th>326</th>\n",
       "      <td>2018-11-27 4:59</td>\n",
       "      <td>0.003062</td>\n",
       "      <td>1.362961</td>\n",
       "      <td>91.764735</td>\n",
       "      <td>35.568111</td>\n",
       "      <td>user30</td>\n",
       "    </tr>\n",
       "    <tr>\n",
       "      <th>327</th>\n",
       "      <td>2018-11-28 1:24</td>\n",
       "      <td>0.007999</td>\n",
       "      <td>0.416204</td>\n",
       "      <td>100.037708</td>\n",
       "      <td>33.827586</td>\n",
       "      <td>user30</td>\n",
       "    </tr>\n",
       "  </tbody>\n",
       "</table>\n",
       "<p>328 rows × 6 columns</p>\n",
       "</div>"
      ],
      "text/plain": [
       "                date     e4Bvp     e4Eda        e4Hr     e4Temp  userId\n",
       "0    2018-11-16 0:53 -0.005642  0.121614   80.006229  32.864825  user01\n",
       "1    2018-11-17 3:36  0.006961  0.330542   72.347900  33.956935  user01\n",
       "2    2018-11-18 5:06 -0.015563  0.290492   84.019970  33.884083  user01\n",
       "3    2018-11-19 1:54 -0.001972  0.729625   80.477496  34.444794  user01\n",
       "4    2018-11-20 1:38  0.005119  0.257681   80.851895  34.334449  user01\n",
       "..               ...       ...       ...         ...        ...     ...\n",
       "323  2018-11-24 3:32  0.000417  0.693704   84.231193  35.719695  user30\n",
       "324  2018-11-25 1:29 -0.007869  0.430001   82.935526  35.455277  user30\n",
       "325  2018-11-26 1:46  0.002362  0.157313   90.332692  34.672714  user30\n",
       "326  2018-11-27 4:59  0.003062  1.362961   91.764735  35.568111  user30\n",
       "327  2018-11-28 1:24  0.007999  0.416204  100.037708  33.827586  user30\n",
       "\n",
       "[328 rows x 6 columns]"
      ]
     },
     "execution_count": 315,
     "metadata": {},
     "output_type": "execute_result"
    }
   ],
   "source": [
    "user_sleep_2018_e4"
   ]
  },
  {
   "cell_type": "code",
   "execution_count": 316,
   "id": "980adf37",
   "metadata": {},
   "outputs": [
    {
     "name": "stderr",
     "output_type": "stream",
     "text": [
      "<ipython-input-316-659c77a9e7e5>:3: SettingWithCopyWarning: \n",
      "A value is trying to be set on a copy of a slice from a DataFrame\n",
      "\n",
      "See the caveats in the documentation: https://pandas.pydata.org/pandas-docs/stable/user_guide/indexing.html#returning-a-view-versus-a-copy\n",
      "  user_sleep_2018_e4['date1'][i]=datetime.strptime(str(user_sleep_2018_e4['date'][i]),'%Y-%m-%d %H:%M').strftime('%Y-%m-%d')\n"
     ]
    }
   ],
   "source": [
    "user_sleep_2018_e4['date1']=''\n",
    "for i in range(len(user_sleep_2018_e4)):\n",
    "    user_sleep_2018_e4['date1'][i]=datetime.strptime(str(user_sleep_2018_e4['date'][i]),'%Y-%m-%d %H:%M').strftime('%Y-%m-%d')"
   ]
  },
  {
   "cell_type": "code",
   "execution_count": 317,
   "id": "e63e62df",
   "metadata": {},
   "outputs": [],
   "source": [
    "user_sleep_2018_e4=user_sleep_2018_e4.drop(columns='date')"
   ]
  },
  {
   "cell_type": "code",
   "execution_count": 318,
   "id": "dcde328f",
   "metadata": {},
   "outputs": [
    {
     "data": {
      "text/plain": [
       "Index(['startDt', 'endDt', 'device', 'sleep_score', 'total_sleep_time',\n",
       "       'time_in_bed', 'waso', 'wakeupcount', 'aal', 'movement_index',\n",
       "       'fragmentation_index', 'sleep_frag_index', 'startdt1', 'enddt1',\n",
       "       'count', 'date', 'userId', 'walk', 'exer', 'gps_activity_distance',\n",
       "       'sleep', 'sleepProblem', 'dream', 'amCondition', 'amEmotion', 'date1',\n",
       "       'pmEmotion', 'pmStress', 'caffeine', 'cAmount(ml)', 'alcohol',\n",
       "       'aAmount(ml)'],\n",
       "      dtype='object')"
      ]
     },
     "execution_count": 318,
     "metadata": {},
     "output_type": "execute_result"
    }
   ],
   "source": [
    "user2.columns"
   ]
  },
  {
   "cell_type": "code",
   "execution_count": 319,
   "id": "e1492684",
   "metadata": {},
   "outputs": [],
   "source": [
    "user2 = pd.merge(user2, user_sleep_2018_e4, left_on =['userId','date'], right_on=['userId', 'date1'], how = 'left' )"
   ]
  },
  {
   "cell_type": "code",
   "execution_count": 320,
   "id": "23ad60f8",
   "metadata": {},
   "outputs": [],
   "source": [
    "user_info_2018=user_info_2019_2018.iloc[20:,:]"
   ]
  },
  {
   "cell_type": "code",
   "execution_count": 321,
   "id": "6edcdb02",
   "metadata": {},
   "outputs": [],
   "source": [
    "user_info_2018=user_info_2018.drop(columns=['startDt','endDt'])"
   ]
  },
  {
   "cell_type": "code",
   "execution_count": 322,
   "id": "aa13f740",
   "metadata": {},
   "outputs": [],
   "source": [
    "user2 = pd.merge(user2, user_info_2018, left_on =['userId'], right_on=['userId'], how = 'left' )"
   ]
  },
  {
   "cell_type": "code",
   "execution_count": 324,
   "id": "1ec7eae5",
   "metadata": {},
   "outputs": [
    {
     "data": {
      "text/plain": [
       "Index(['startDt', 'endDt', 'device', 'sleep_score', 'total_sleep_time',\n",
       "       'time_in_bed', 'waso', 'wakeupcount', 'aal', 'movement_index',\n",
       "       'fragmentation_index', 'sleep_frag_index', 'startdt1', 'enddt1',\n",
       "       'count', 'date', 'userId', 'walk', 'exer', 'gps_activity_distance',\n",
       "       'sleep', 'sleepProblem', 'dream', 'amCondition', 'amEmotion', 'date1_x',\n",
       "       'pmEmotion', 'pmStress', 'caffeine', 'cAmount(ml)', 'alcohol',\n",
       "       'aAmount(ml)', 'e4Bvp', 'e4Eda', 'e4Hr', 'e4Temp', 'date1_y', 'gender',\n",
       "       'age', 'height', 'weight'],\n",
       "      dtype='object')"
      ]
     },
     "execution_count": 324,
     "metadata": {},
     "output_type": "execute_result"
    }
   ],
   "source": [
    "user2.columns"
   ]
  },
  {
   "cell_type": "code",
   "execution_count": 327,
   "id": "d8faea39",
   "metadata": {},
   "outputs": [],
   "source": [
    "user2=user2[['date','userId','walk', 'exer', 'sleep', 'sleepProblem','dream', 'amCondition', 'amEmotion',\\\n",
    "                        'pmEmotion', 'pmStress', 'caffeine','alcohol', 'gender', 'age',\\\n",
    "                       'height', 'weight','e4Bvp','e4Eda','e4Hr','e4Temp','gps_activity_distance']]"
   ]
  },
  {
   "cell_type": "code",
   "execution_count": 462,
   "id": "497a2d8b",
   "metadata": {},
   "outputs": [],
   "source": [
    "user1=user1[['date','userId','walk', 'exer', 'sleep', 'sleepProblem','dream', 'amCondition', 'amEmotion',\\\n",
    "                        'pmEmotion', 'pmStress', 'caffeine','alcohol', 'gender', 'age',\\\n",
    "                       'height', 'weight','e4Bvp','e4Eda','e4Hr','e4Temp','gps_activity_distance']]"
   ]
  },
  {
   "cell_type": "code",
   "execution_count": 396,
   "id": "78c34af1",
   "metadata": {},
   "outputs": [],
   "source": [
    "user=user.rename(columns={'sleep_x':'sleep'})"
   ]
  },
  {
   "cell_type": "code",
   "execution_count": 397,
   "id": "95a259e5",
   "metadata": {},
   "outputs": [],
   "source": [
    "user=user.rename(columns={'sleepProblem_x':'sleepProblem'})\n",
    "user=user.rename(columns={'dream_x':'dream'})\n",
    "user=user.rename(columns={'amCondition_x':'amCondition'})\n",
    "user=user.rename(columns={'amEmotion_x':'amEmotion'})"
   ]
  },
  {
   "cell_type": "code",
   "execution_count": 398,
   "id": "c0709f92",
   "metadata": {},
   "outputs": [],
   "source": [
    "user=user[['date','userId','walk', 'exer', 'sleep', 'sleepProblem','dream', 'amCondition', 'amEmotion',\\\n",
    "                        'pmEmotion', 'pmStress', 'caffeine','alcohol', 'gender', 'age',\\\n",
    "                       'height', 'weight','e4Bvp','e4Eda','e4Hr','e4Temp','gps_activity_distance']]"
   ]
  },
  {
   "cell_type": "markdown",
   "id": "f0b08b05",
   "metadata": {},
   "source": [
    "# 3. 2018-2020년 데이터 확인"
   ]
  },
  {
   "cell_type": "markdown",
   "id": "a029fb4b",
   "metadata": {},
   "source": [
    "## 3-1. 데이터 피처명 통일"
   ]
  },
  {
   "cell_type": "code",
   "execution_count": 464,
   "id": "71cb74eb",
   "metadata": {},
   "outputs": [],
   "source": [
    "features=user[['date','userId','walk', 'exer', 'sleep', 'sleepProblem','dream', 'amCondition', 'amEmotion',\\\n",
    "                        'pmEmotion', 'pmStress', 'caffeine', 'alcohol', 'gender', 'age',\\\n",
    "                       'e4Bvp','e4Eda','e4Hr','e4Temp','gps_activity_distance']]"
   ]
  },
  {
   "cell_type": "code",
   "execution_count": 465,
   "id": "0f27bf4e",
   "metadata": {},
   "outputs": [],
   "source": [
    "features1=user1[['date','userId','walk', 'exer', 'sleep', 'sleepProblem','dream', 'amCondition', 'amEmotion',\\\n",
    "                        'pmEmotion', 'pmStress', 'caffeine','alcohol', 'gender', 'age',\\\n",
    "                       'e4Bvp','e4Eda','e4Hr','e4Temp','gps_activity_distance']]"
   ]
  },
  {
   "cell_type": "code",
   "execution_count": 466,
   "id": "bc0e3729",
   "metadata": {},
   "outputs": [],
   "source": [
    "features2=user2[['date','userId','walk', 'exer', 'sleep', 'sleepProblem','dream', 'amCondition', 'amEmotion',\\\n",
    "                        'pmEmotion', 'pmStress', 'caffeine', 'alcohol', 'gender', 'age',\\\n",
    "                       'e4Bvp','e4Eda','e4Hr','e4Temp','gps_activity_distance']]"
   ]
  },
  {
   "cell_type": "markdown",
   "id": "39252a11",
   "metadata": {},
   "source": [
    "## 3-2. 데이터 NULL 값 처리"
   ]
  },
  {
   "cell_type": "markdown",
   "id": "2a1f8575",
   "metadata": {},
   "source": [
    ">카페인, 알코올 -> NULL 값:0"
   ]
  },
  {
   "cell_type": "code",
   "execution_count": 467,
   "id": "7363f26b",
   "metadata": {},
   "outputs": [
    {
     "name": "stderr",
     "output_type": "stream",
     "text": [
      "<ipython-input-467-d3e2964be4a2>:1: SettingWithCopyWarning: \n",
      "A value is trying to be set on a copy of a slice from a DataFrame.\n",
      "Try using .loc[row_indexer,col_indexer] = value instead\n",
      "\n",
      "See the caveats in the documentation: https://pandas.pydata.org/pandas-docs/stable/user_guide/indexing.html#returning-a-view-versus-a-copy\n",
      "  features['caffeine']=features['caffeine'].fillna(0)\n",
      "<ipython-input-467-d3e2964be4a2>:2: SettingWithCopyWarning: \n",
      "A value is trying to be set on a copy of a slice from a DataFrame.\n",
      "Try using .loc[row_indexer,col_indexer] = value instead\n",
      "\n",
      "See the caveats in the documentation: https://pandas.pydata.org/pandas-docs/stable/user_guide/indexing.html#returning-a-view-versus-a-copy\n",
      "  features['alcohol']=features['alcohol'].fillna(0)\n"
     ]
    }
   ],
   "source": [
    "features['caffeine']=features['caffeine'].fillna(0)\n",
    "features['alcohol']=features['alcohol'].fillna(0)"
   ]
  },
  {
   "cell_type": "markdown",
   "id": "ddde6849",
   "metadata": {},
   "source": [
    ">카페인, 알코올 -> YES or NO 로 변수 전처리"
   ]
  },
  {
   "cell_type": "code",
   "execution_count": 468,
   "id": "b4525d0c",
   "metadata": {},
   "outputs": [
    {
     "name": "stderr",
     "output_type": "stream",
     "text": [
      "<ipython-input-468-32c2ed22b2f8>:1: SettingWithCopyWarning: \n",
      "A value is trying to be set on a copy of a slice from a DataFrame.\n",
      "Try using .loc[row_indexer,col_indexer] = value instead\n",
      "\n",
      "See the caveats in the documentation: https://pandas.pydata.org/pandas-docs/stable/user_guide/indexing.html#returning-a-view-versus-a-copy\n",
      "  features['caffeine']=features['caffeine'].apply(lambda x: 0 if x==0 else 1)\n",
      "<ipython-input-468-32c2ed22b2f8>:2: SettingWithCopyWarning: \n",
      "A value is trying to be set on a copy of a slice from a DataFrame.\n",
      "Try using .loc[row_indexer,col_indexer] = value instead\n",
      "\n",
      "See the caveats in the documentation: https://pandas.pydata.org/pandas-docs/stable/user_guide/indexing.html#returning-a-view-versus-a-copy\n",
      "  features['alcohol']=features['alcohol'].apply(lambda x: 0 if x==0 else 1)\n"
     ]
    }
   ],
   "source": [
    "features['caffeine']=features['caffeine'].apply(lambda x: 0 if x==0 else 1)\n",
    "features['alcohol']=features['alcohol'].apply(lambda x: 0 if x==0 else 1)"
   ]
  },
  {
   "cell_type": "markdown",
   "id": "1899a5df",
   "metadata": {},
   "source": [
    ">운동 거리 -> NULL 값:0"
   ]
  },
  {
   "cell_type": "code",
   "execution_count": 469,
   "id": "eb60dbba",
   "metadata": {},
   "outputs": [
    {
     "name": "stderr",
     "output_type": "stream",
     "text": [
      "<ipython-input-469-5b8db13e3587>:1: SettingWithCopyWarning: \n",
      "A value is trying to be set on a copy of a slice from a DataFrame.\n",
      "Try using .loc[row_indexer,col_indexer] = value instead\n",
      "\n",
      "See the caveats in the documentation: https://pandas.pydata.org/pandas-docs/stable/user_guide/indexing.html#returning-a-view-versus-a-copy\n",
      "  features['gps_activity_distance']=features['gps_activity_distance'].fillna(0)\n"
     ]
    }
   ],
   "source": [
    "features['gps_activity_distance']=features['gps_activity_distance'].fillna(0)"
   ]
  },
  {
   "cell_type": "markdown",
   "id": "bb3bf647",
   "metadata": {},
   "source": [
    ">데이터 전처리는 위와 동일"
   ]
  },
  {
   "cell_type": "code",
   "execution_count": 470,
   "id": "0af0d99c",
   "metadata": {},
   "outputs": [
    {
     "name": "stderr",
     "output_type": "stream",
     "text": [
      "<ipython-input-470-619ad4f5cd3f>:1: SettingWithCopyWarning: \n",
      "A value is trying to be set on a copy of a slice from a DataFrame.\n",
      "Try using .loc[row_indexer,col_indexer] = value instead\n",
      "\n",
      "See the caveats in the documentation: https://pandas.pydata.org/pandas-docs/stable/user_guide/indexing.html#returning-a-view-versus-a-copy\n",
      "  features1['caffeine']=features1['caffeine'].fillna(0)\n",
      "<ipython-input-470-619ad4f5cd3f>:2: SettingWithCopyWarning: \n",
      "A value is trying to be set on a copy of a slice from a DataFrame.\n",
      "Try using .loc[row_indexer,col_indexer] = value instead\n",
      "\n",
      "See the caveats in the documentation: https://pandas.pydata.org/pandas-docs/stable/user_guide/indexing.html#returning-a-view-versus-a-copy\n",
      "  features1['alcohol']=features1['alcohol'].fillna(0)\n",
      "<ipython-input-470-619ad4f5cd3f>:3: SettingWithCopyWarning: \n",
      "A value is trying to be set on a copy of a slice from a DataFrame.\n",
      "Try using .loc[row_indexer,col_indexer] = value instead\n",
      "\n",
      "See the caveats in the documentation: https://pandas.pydata.org/pandas-docs/stable/user_guide/indexing.html#returning-a-view-versus-a-copy\n",
      "  features1['caffeine']=features1['caffeine'].apply(lambda x: 0 if x==0 else 1)\n",
      "<ipython-input-470-619ad4f5cd3f>:4: SettingWithCopyWarning: \n",
      "A value is trying to be set on a copy of a slice from a DataFrame.\n",
      "Try using .loc[row_indexer,col_indexer] = value instead\n",
      "\n",
      "See the caveats in the documentation: https://pandas.pydata.org/pandas-docs/stable/user_guide/indexing.html#returning-a-view-versus-a-copy\n",
      "  features1['alcohol']=features1['alcohol'].apply(lambda x: 0 if x==0 else 1)\n",
      "<ipython-input-470-619ad4f5cd3f>:5: SettingWithCopyWarning: \n",
      "A value is trying to be set on a copy of a slice from a DataFrame.\n",
      "Try using .loc[row_indexer,col_indexer] = value instead\n",
      "\n",
      "See the caveats in the documentation: https://pandas.pydata.org/pandas-docs/stable/user_guide/indexing.html#returning-a-view-versus-a-copy\n",
      "  features1['gps_activity_distance']=features1['gps_activity_distance'].fillna(0)\n"
     ]
    }
   ],
   "source": [
    "features1['caffeine']=features1['caffeine'].fillna(0)\n",
    "features1['alcohol']=features1['alcohol'].fillna(0)\n",
    "features1['caffeine']=features1['caffeine'].apply(lambda x: 0 if x==0 else 1)\n",
    "features1['alcohol']=features1['alcohol'].apply(lambda x: 0 if x==0 else 1)\n",
    "features1['gps_activity_distance']=features1['gps_activity_distance'].fillna(0)"
   ]
  },
  {
   "cell_type": "code",
   "execution_count": 471,
   "id": "1dffb17a",
   "metadata": {},
   "outputs": [
    {
     "name": "stderr",
     "output_type": "stream",
     "text": [
      "<ipython-input-471-4d6f4c2a8c69>:1: SettingWithCopyWarning: \n",
      "A value is trying to be set on a copy of a slice from a DataFrame.\n",
      "Try using .loc[row_indexer,col_indexer] = value instead\n",
      "\n",
      "See the caveats in the documentation: https://pandas.pydata.org/pandas-docs/stable/user_guide/indexing.html#returning-a-view-versus-a-copy\n",
      "  features2['caffeine']=features2['caffeine'].fillna(0)\n",
      "<ipython-input-471-4d6f4c2a8c69>:2: SettingWithCopyWarning: \n",
      "A value is trying to be set on a copy of a slice from a DataFrame.\n",
      "Try using .loc[row_indexer,col_indexer] = value instead\n",
      "\n",
      "See the caveats in the documentation: https://pandas.pydata.org/pandas-docs/stable/user_guide/indexing.html#returning-a-view-versus-a-copy\n",
      "  features2['alcohol']=features2['alcohol'].fillna(0)\n",
      "<ipython-input-471-4d6f4c2a8c69>:3: SettingWithCopyWarning: \n",
      "A value is trying to be set on a copy of a slice from a DataFrame.\n",
      "Try using .loc[row_indexer,col_indexer] = value instead\n",
      "\n",
      "See the caveats in the documentation: https://pandas.pydata.org/pandas-docs/stable/user_guide/indexing.html#returning-a-view-versus-a-copy\n",
      "  features2['caffeine']=features2['caffeine'].apply(lambda x: 0 if x==0 else 1)\n",
      "<ipython-input-471-4d6f4c2a8c69>:4: SettingWithCopyWarning: \n",
      "A value is trying to be set on a copy of a slice from a DataFrame.\n",
      "Try using .loc[row_indexer,col_indexer] = value instead\n",
      "\n",
      "See the caveats in the documentation: https://pandas.pydata.org/pandas-docs/stable/user_guide/indexing.html#returning-a-view-versus-a-copy\n",
      "  features2['alcohol']=features2['alcohol'].apply(lambda x: 0 if x==0 else 1)\n",
      "<ipython-input-471-4d6f4c2a8c69>:5: SettingWithCopyWarning: \n",
      "A value is trying to be set on a copy of a slice from a DataFrame.\n",
      "Try using .loc[row_indexer,col_indexer] = value instead\n",
      "\n",
      "See the caveats in the documentation: https://pandas.pydata.org/pandas-docs/stable/user_guide/indexing.html#returning-a-view-versus-a-copy\n",
      "  features2['gps_activity_distance']=features2['gps_activity_distance'].fillna(0)\n"
     ]
    }
   ],
   "source": [
    "features2['caffeine']=features2['caffeine'].fillna(0)\n",
    "features2['alcohol']=features2['alcohol'].fillna(0)\n",
    "features2['caffeine']=features2['caffeine'].apply(lambda x: 0 if x==0 else 1)\n",
    "features2['alcohol']=features2['alcohol'].apply(lambda x: 0 if x==0 else 1)\n",
    "features2['gps_activity_distance']=features2['gps_activity_distance'].fillna(0)"
   ]
  },
  {
   "cell_type": "code",
   "execution_count": 472,
   "id": "729d63a6",
   "metadata": {},
   "outputs": [
    {
     "data": {
      "text/plain": [
       "M    193\n",
       "F    155\n",
       "Name: gender, dtype: int64"
      ]
     },
     "execution_count": 472,
     "metadata": {},
     "output_type": "execute_result"
    }
   ],
   "source": [
    "features2['gender'].value_counts()"
   ]
  },
  {
   "cell_type": "markdown",
   "id": "50275fb1",
   "metadata": {},
   "source": [
    ">성별 전처리"
   ]
  },
  {
   "cell_type": "code",
   "execution_count": 473,
   "id": "19e4fbab",
   "metadata": {},
   "outputs": [
    {
     "name": "stderr",
     "output_type": "stream",
     "text": [
      "<ipython-input-473-f9993d6ae814>:1: SettingWithCopyWarning: \n",
      "A value is trying to be set on a copy of a slice from a DataFrame.\n",
      "Try using .loc[row_indexer,col_indexer] = value instead\n",
      "\n",
      "See the caveats in the documentation: https://pandas.pydata.org/pandas-docs/stable/user_guide/indexing.html#returning-a-view-versus-a-copy\n",
      "  features['gender']=features['gender'].apply(lambda x: 1 if x=='M' else 0)\n",
      "<ipython-input-473-f9993d6ae814>:2: SettingWithCopyWarning: \n",
      "A value is trying to be set on a copy of a slice from a DataFrame.\n",
      "Try using .loc[row_indexer,col_indexer] = value instead\n",
      "\n",
      "See the caveats in the documentation: https://pandas.pydata.org/pandas-docs/stable/user_guide/indexing.html#returning-a-view-versus-a-copy\n",
      "  features1['gender']=features1['gender'].apply(lambda x: 1 if x=='M' else 0)\n",
      "<ipython-input-473-f9993d6ae814>:3: SettingWithCopyWarning: \n",
      "A value is trying to be set on a copy of a slice from a DataFrame.\n",
      "Try using .loc[row_indexer,col_indexer] = value instead\n",
      "\n",
      "See the caveats in the documentation: https://pandas.pydata.org/pandas-docs/stable/user_guide/indexing.html#returning-a-view-versus-a-copy\n",
      "  features2['gender']=features2['gender'].apply(lambda x: 1 if x=='M' else 0)\n"
     ]
    }
   ],
   "source": [
    "features['gender']=features['gender'].apply(lambda x: 1 if x=='M' else 0)\n",
    "features1['gender']=features1['gender'].apply(lambda x: 1 if x=='M' else 0)\n",
    "features2['gender']=features2['gender'].apply(lambda x: 1 if x=='M' else 0)"
   ]
  },
  {
   "cell_type": "code",
   "execution_count": 474,
   "id": "2accd6a1",
   "metadata": {},
   "outputs": [
    {
     "data": {
      "text/html": [
       "<div>\n",
       "<style scoped>\n",
       "    .dataframe tbody tr th:only-of-type {\n",
       "        vertical-align: middle;\n",
       "    }\n",
       "\n",
       "    .dataframe tbody tr th {\n",
       "        vertical-align: top;\n",
       "    }\n",
       "\n",
       "    .dataframe thead th {\n",
       "        text-align: right;\n",
       "    }\n",
       "</style>\n",
       "<table border=\"1\" class=\"dataframe\">\n",
       "  <thead>\n",
       "    <tr style=\"text-align: right;\">\n",
       "      <th></th>\n",
       "      <th>date</th>\n",
       "      <th>userId</th>\n",
       "      <th>walk</th>\n",
       "      <th>exer</th>\n",
       "      <th>sleep</th>\n",
       "      <th>sleepProblem</th>\n",
       "      <th>dream</th>\n",
       "      <th>amCondition</th>\n",
       "      <th>amEmotion</th>\n",
       "      <th>pmEmotion</th>\n",
       "      <th>pmStress</th>\n",
       "      <th>caffeine</th>\n",
       "      <th>alcohol</th>\n",
       "      <th>gender</th>\n",
       "      <th>age</th>\n",
       "      <th>e4Bvp</th>\n",
       "      <th>e4Eda</th>\n",
       "      <th>e4Hr</th>\n",
       "      <th>e4Temp</th>\n",
       "      <th>gps_activity_distance</th>\n",
       "    </tr>\n",
       "  </thead>\n",
       "  <tbody>\n",
       "    <tr>\n",
       "      <th>0</th>\n",
       "      <td>2020-08-31</td>\n",
       "      <td>user01</td>\n",
       "      <td>0</td>\n",
       "      <td>20</td>\n",
       "      <td>3.0</td>\n",
       "      <td>6.0</td>\n",
       "      <td>2.0</td>\n",
       "      <td>3.0</td>\n",
       "      <td>3.0</td>\n",
       "      <td>4.0</td>\n",
       "      <td>3.0</td>\n",
       "      <td>1</td>\n",
       "      <td>0</td>\n",
       "      <td>1</td>\n",
       "      <td>27</td>\n",
       "      <td>NaN</td>\n",
       "      <td>NaN</td>\n",
       "      <td>NaN</td>\n",
       "      <td>NaN</td>\n",
       "      <td>0.0</td>\n",
       "    </tr>\n",
       "    <tr>\n",
       "      <th>1</th>\n",
       "      <td>2020-09-01</td>\n",
       "      <td>user01</td>\n",
       "      <td>0</td>\n",
       "      <td>0</td>\n",
       "      <td>2.0</td>\n",
       "      <td>3.0</td>\n",
       "      <td>2.0</td>\n",
       "      <td>2.0</td>\n",
       "      <td>3.0</td>\n",
       "      <td>4.0</td>\n",
       "      <td>3.0</td>\n",
       "      <td>1</td>\n",
       "      <td>0</td>\n",
       "      <td>1</td>\n",
       "      <td>27</td>\n",
       "      <td>NaN</td>\n",
       "      <td>NaN</td>\n",
       "      <td>NaN</td>\n",
       "      <td>NaN</td>\n",
       "      <td>0.0</td>\n",
       "    </tr>\n",
       "    <tr>\n",
       "      <th>2</th>\n",
       "      <td>2020-09-06</td>\n",
       "      <td>user01</td>\n",
       "      <td>80</td>\n",
       "      <td>0</td>\n",
       "      <td>3.0</td>\n",
       "      <td>7.0</td>\n",
       "      <td>1.0</td>\n",
       "      <td>3.0</td>\n",
       "      <td>3.0</td>\n",
       "      <td>4.0</td>\n",
       "      <td>4.0</td>\n",
       "      <td>1</td>\n",
       "      <td>0</td>\n",
       "      <td>1</td>\n",
       "      <td>27</td>\n",
       "      <td>NaN</td>\n",
       "      <td>NaN</td>\n",
       "      <td>NaN</td>\n",
       "      <td>NaN</td>\n",
       "      <td>0.0</td>\n",
       "    </tr>\n",
       "    <tr>\n",
       "      <th>3</th>\n",
       "      <td>2020-09-08</td>\n",
       "      <td>user01</td>\n",
       "      <td>45</td>\n",
       "      <td>0</td>\n",
       "      <td>4.0</td>\n",
       "      <td>3.0</td>\n",
       "      <td>2.0</td>\n",
       "      <td>3.0</td>\n",
       "      <td>4.0</td>\n",
       "      <td>4.0</td>\n",
       "      <td>4.0</td>\n",
       "      <td>1</td>\n",
       "      <td>1</td>\n",
       "      <td>1</td>\n",
       "      <td>27</td>\n",
       "      <td>-0.013653</td>\n",
       "      <td>3.103176</td>\n",
       "      <td>86.727616</td>\n",
       "      <td>33.021747</td>\n",
       "      <td>0.0</td>\n",
       "    </tr>\n",
       "    <tr>\n",
       "      <th>4</th>\n",
       "      <td>2020-09-09</td>\n",
       "      <td>user01</td>\n",
       "      <td>30</td>\n",
       "      <td>0</td>\n",
       "      <td>2.0</td>\n",
       "      <td>7.0</td>\n",
       "      <td>1.0</td>\n",
       "      <td>3.0</td>\n",
       "      <td>3.0</td>\n",
       "      <td>5.0</td>\n",
       "      <td>4.0</td>\n",
       "      <td>1</td>\n",
       "      <td>1</td>\n",
       "      <td>1</td>\n",
       "      <td>27</td>\n",
       "      <td>0.056283</td>\n",
       "      <td>2.503302</td>\n",
       "      <td>87.789920</td>\n",
       "      <td>34.441982</td>\n",
       "      <td>0.0</td>\n",
       "    </tr>\n",
       "    <tr>\n",
       "      <th>...</th>\n",
       "      <td>...</td>\n",
       "      <td>...</td>\n",
       "      <td>...</td>\n",
       "      <td>...</td>\n",
       "      <td>...</td>\n",
       "      <td>...</td>\n",
       "      <td>...</td>\n",
       "      <td>...</td>\n",
       "      <td>...</td>\n",
       "      <td>...</td>\n",
       "      <td>...</td>\n",
       "      <td>...</td>\n",
       "      <td>...</td>\n",
       "      <td>...</td>\n",
       "      <td>...</td>\n",
       "      <td>...</td>\n",
       "      <td>...</td>\n",
       "      <td>...</td>\n",
       "      <td>...</td>\n",
       "      <td>...</td>\n",
       "    </tr>\n",
       "    <tr>\n",
       "      <th>524</th>\n",
       "      <td>2020-09-23</td>\n",
       "      <td>user30</td>\n",
       "      <td>77</td>\n",
       "      <td>0</td>\n",
       "      <td>3.0</td>\n",
       "      <td>0.0</td>\n",
       "      <td>4.0</td>\n",
       "      <td>2.0</td>\n",
       "      <td>3.0</td>\n",
       "      <td>3.0</td>\n",
       "      <td>3.0</td>\n",
       "      <td>0</td>\n",
       "      <td>0</td>\n",
       "      <td>1</td>\n",
       "      <td>26</td>\n",
       "      <td>0.079167</td>\n",
       "      <td>0.160334</td>\n",
       "      <td>80.474611</td>\n",
       "      <td>31.358667</td>\n",
       "      <td>0.0</td>\n",
       "    </tr>\n",
       "    <tr>\n",
       "      <th>525</th>\n",
       "      <td>2020-09-24</td>\n",
       "      <td>user30</td>\n",
       "      <td>63</td>\n",
       "      <td>0</td>\n",
       "      <td>3.0</td>\n",
       "      <td>0.0</td>\n",
       "      <td>4.0</td>\n",
       "      <td>3.0</td>\n",
       "      <td>2.0</td>\n",
       "      <td>3.0</td>\n",
       "      <td>3.0</td>\n",
       "      <td>0</td>\n",
       "      <td>0</td>\n",
       "      <td>1</td>\n",
       "      <td>26</td>\n",
       "      <td>-0.137140</td>\n",
       "      <td>0.076865</td>\n",
       "      <td>73.867833</td>\n",
       "      <td>33.963111</td>\n",
       "      <td>0.0</td>\n",
       "    </tr>\n",
       "    <tr>\n",
       "      <th>526</th>\n",
       "      <td>2020-09-24</td>\n",
       "      <td>user30</td>\n",
       "      <td>63</td>\n",
       "      <td>0</td>\n",
       "      <td>3.0</td>\n",
       "      <td>0.0</td>\n",
       "      <td>4.0</td>\n",
       "      <td>3.0</td>\n",
       "      <td>2.0</td>\n",
       "      <td>3.0</td>\n",
       "      <td>3.0</td>\n",
       "      <td>0</td>\n",
       "      <td>0</td>\n",
       "      <td>1</td>\n",
       "      <td>26</td>\n",
       "      <td>-0.137140</td>\n",
       "      <td>0.076865</td>\n",
       "      <td>73.867833</td>\n",
       "      <td>33.963111</td>\n",
       "      <td>0.0</td>\n",
       "    </tr>\n",
       "    <tr>\n",
       "      <th>527</th>\n",
       "      <td>2020-09-25</td>\n",
       "      <td>user30</td>\n",
       "      <td>68</td>\n",
       "      <td>0</td>\n",
       "      <td>4.0</td>\n",
       "      <td>0.0</td>\n",
       "      <td>4.0</td>\n",
       "      <td>2.0</td>\n",
       "      <td>2.0</td>\n",
       "      <td>3.0</td>\n",
       "      <td>4.0</td>\n",
       "      <td>0</td>\n",
       "      <td>0</td>\n",
       "      <td>1</td>\n",
       "      <td>26</td>\n",
       "      <td>0.018909</td>\n",
       "      <td>0.159650</td>\n",
       "      <td>79.769218</td>\n",
       "      <td>33.107910</td>\n",
       "      <td>0.0</td>\n",
       "    </tr>\n",
       "    <tr>\n",
       "      <th>528</th>\n",
       "      <td>2020-09-26</td>\n",
       "      <td>user30</td>\n",
       "      <td>68</td>\n",
       "      <td>0</td>\n",
       "      <td>3.0</td>\n",
       "      <td>0.0</td>\n",
       "      <td>4.0</td>\n",
       "      <td>3.0</td>\n",
       "      <td>3.0</td>\n",
       "      <td>3.0</td>\n",
       "      <td>3.0</td>\n",
       "      <td>0</td>\n",
       "      <td>0</td>\n",
       "      <td>1</td>\n",
       "      <td>26</td>\n",
       "      <td>-0.177500</td>\n",
       "      <td>0.169873</td>\n",
       "      <td>75.776889</td>\n",
       "      <td>33.119000</td>\n",
       "      <td>0.0</td>\n",
       "    </tr>\n",
       "  </tbody>\n",
       "</table>\n",
       "<p>529 rows × 20 columns</p>\n",
       "</div>"
      ],
      "text/plain": [
       "           date  userId  walk  exer  sleep  sleepProblem  dream  amCondition  \\\n",
       "0    2020-08-31  user01     0    20    3.0           6.0    2.0          3.0   \n",
       "1    2020-09-01  user01     0     0    2.0           3.0    2.0          2.0   \n",
       "2    2020-09-06  user01    80     0    3.0           7.0    1.0          3.0   \n",
       "3    2020-09-08  user01    45     0    4.0           3.0    2.0          3.0   \n",
       "4    2020-09-09  user01    30     0    2.0           7.0    1.0          3.0   \n",
       "..          ...     ...   ...   ...    ...           ...    ...          ...   \n",
       "524  2020-09-23  user30    77     0    3.0           0.0    4.0          2.0   \n",
       "525  2020-09-24  user30    63     0    3.0           0.0    4.0          3.0   \n",
       "526  2020-09-24  user30    63     0    3.0           0.0    4.0          3.0   \n",
       "527  2020-09-25  user30    68     0    4.0           0.0    4.0          2.0   \n",
       "528  2020-09-26  user30    68     0    3.0           0.0    4.0          3.0   \n",
       "\n",
       "     amEmotion  pmEmotion  pmStress  caffeine  alcohol  gender  age     e4Bvp  \\\n",
       "0          3.0        4.0       3.0         1        0       1   27       NaN   \n",
       "1          3.0        4.0       3.0         1        0       1   27       NaN   \n",
       "2          3.0        4.0       4.0         1        0       1   27       NaN   \n",
       "3          4.0        4.0       4.0         1        1       1   27 -0.013653   \n",
       "4          3.0        5.0       4.0         1        1       1   27  0.056283   \n",
       "..         ...        ...       ...       ...      ...     ...  ...       ...   \n",
       "524        3.0        3.0       3.0         0        0       1   26  0.079167   \n",
       "525        2.0        3.0       3.0         0        0       1   26 -0.137140   \n",
       "526        2.0        3.0       3.0         0        0       1   26 -0.137140   \n",
       "527        2.0        3.0       4.0         0        0       1   26  0.018909   \n",
       "528        3.0        3.0       3.0         0        0       1   26 -0.177500   \n",
       "\n",
       "        e4Eda       e4Hr     e4Temp  gps_activity_distance  \n",
       "0         NaN        NaN        NaN                    0.0  \n",
       "1         NaN        NaN        NaN                    0.0  \n",
       "2         NaN        NaN        NaN                    0.0  \n",
       "3    3.103176  86.727616  33.021747                    0.0  \n",
       "4    2.503302  87.789920  34.441982                    0.0  \n",
       "..        ...        ...        ...                    ...  \n",
       "524  0.160334  80.474611  31.358667                    0.0  \n",
       "525  0.076865  73.867833  33.963111                    0.0  \n",
       "526  0.076865  73.867833  33.963111                    0.0  \n",
       "527  0.159650  79.769218  33.107910                    0.0  \n",
       "528  0.169873  75.776889  33.119000                    0.0  \n",
       "\n",
       "[529 rows x 20 columns]"
      ]
     },
     "execution_count": 474,
     "metadata": {},
     "output_type": "execute_result"
    }
   ],
   "source": [
    "features"
   ]
  },
  {
   "cell_type": "code",
   "execution_count": 476,
   "id": "d7a00985",
   "metadata": {},
   "outputs": [],
   "source": [
    "features=features.dropna(axis=0)\n",
    "features1=features1.dropna(axis=0)\n",
    "features2=features2.dropna(axis=0)"
   ]
  },
  {
   "cell_type": "code",
   "execution_count": 633,
   "id": "33c40099",
   "metadata": {},
   "outputs": [
    {
     "name": "stderr",
     "output_type": "stream",
     "text": [
      "<ipython-input-633-12dc1f164a08>:1: SettingWithCopyWarning: \n",
      "A value is trying to be set on a copy of a slice from a DataFrame.\n",
      "Try using .loc[row_indexer,col_indexer] = value instead\n",
      "\n",
      "See the caveats in the documentation: https://pandas.pydata.org/pandas-docs/stable/user_guide/indexing.html#returning-a-view-versus-a-copy\n",
      "  features['year']=2020\n"
     ]
    }
   ],
   "source": [
    "features['year']=2020\n",
    "features1['year']=2019\n",
    "features2['year']=2018"
   ]
  },
  {
   "cell_type": "markdown",
   "id": "4a98a1d0",
   "metadata": {},
   "source": [
    ">각 연도별 데이터 csv 저장"
   ]
  },
  {
   "cell_type": "code",
   "execution_count": 634,
   "id": "36ea7300",
   "metadata": {},
   "outputs": [],
   "source": [
    "features.to_csv('user0.csv')\n",
    "features1.to_csv('user1.csv')\n",
    "features2.to_csv('user2.csv')"
   ]
  },
  {
   "cell_type": "code",
   "execution_count": 635,
   "id": "090d42f2",
   "metadata": {},
   "outputs": [
    {
     "data": {
      "text/html": [
       "<div>\n",
       "<style scoped>\n",
       "    .dataframe tbody tr th:only-of-type {\n",
       "        vertical-align: middle;\n",
       "    }\n",
       "\n",
       "    .dataframe tbody tr th {\n",
       "        vertical-align: top;\n",
       "    }\n",
       "\n",
       "    .dataframe thead th {\n",
       "        text-align: right;\n",
       "    }\n",
       "</style>\n",
       "<table border=\"1\" class=\"dataframe\">\n",
       "  <thead>\n",
       "    <tr style=\"text-align: right;\">\n",
       "      <th></th>\n",
       "      <th>date</th>\n",
       "      <th>userId</th>\n",
       "      <th>walk</th>\n",
       "      <th>exer</th>\n",
       "      <th>sleep</th>\n",
       "      <th>sleepProblem</th>\n",
       "      <th>dream</th>\n",
       "      <th>amCondition</th>\n",
       "      <th>amEmotion</th>\n",
       "      <th>pmEmotion</th>\n",
       "      <th>...</th>\n",
       "      <th>caffeine</th>\n",
       "      <th>alcohol</th>\n",
       "      <th>gender</th>\n",
       "      <th>age</th>\n",
       "      <th>e4Bvp</th>\n",
       "      <th>e4Eda</th>\n",
       "      <th>e4Hr</th>\n",
       "      <th>e4Temp</th>\n",
       "      <th>gps_activity_distance</th>\n",
       "      <th>year</th>\n",
       "    </tr>\n",
       "  </thead>\n",
       "  <tbody>\n",
       "    <tr>\n",
       "      <th>3</th>\n",
       "      <td>2020-09-08</td>\n",
       "      <td>user01</td>\n",
       "      <td>45</td>\n",
       "      <td>0</td>\n",
       "      <td>4.0</td>\n",
       "      <td>3.0</td>\n",
       "      <td>2.0</td>\n",
       "      <td>3.0</td>\n",
       "      <td>4.0</td>\n",
       "      <td>4.0</td>\n",
       "      <td>...</td>\n",
       "      <td>1</td>\n",
       "      <td>1</td>\n",
       "      <td>1</td>\n",
       "      <td>27</td>\n",
       "      <td>-0.013653</td>\n",
       "      <td>3.103176</td>\n",
       "      <td>86.727616</td>\n",
       "      <td>33.021747</td>\n",
       "      <td>0.0</td>\n",
       "      <td>2020</td>\n",
       "    </tr>\n",
       "    <tr>\n",
       "      <th>4</th>\n",
       "      <td>2020-09-09</td>\n",
       "      <td>user01</td>\n",
       "      <td>30</td>\n",
       "      <td>0</td>\n",
       "      <td>2.0</td>\n",
       "      <td>7.0</td>\n",
       "      <td>1.0</td>\n",
       "      <td>3.0</td>\n",
       "      <td>3.0</td>\n",
       "      <td>5.0</td>\n",
       "      <td>...</td>\n",
       "      <td>1</td>\n",
       "      <td>1</td>\n",
       "      <td>1</td>\n",
       "      <td>27</td>\n",
       "      <td>0.056283</td>\n",
       "      <td>2.503302</td>\n",
       "      <td>87.789920</td>\n",
       "      <td>34.441982</td>\n",
       "      <td>0.0</td>\n",
       "      <td>2020</td>\n",
       "    </tr>\n",
       "    <tr>\n",
       "      <th>6</th>\n",
       "      <td>2020-09-13</td>\n",
       "      <td>user01</td>\n",
       "      <td>20</td>\n",
       "      <td>0</td>\n",
       "      <td>2.0</td>\n",
       "      <td>3.0</td>\n",
       "      <td>4.0</td>\n",
       "      <td>2.0</td>\n",
       "      <td>3.0</td>\n",
       "      <td>5.0</td>\n",
       "      <td>...</td>\n",
       "      <td>1</td>\n",
       "      <td>1</td>\n",
       "      <td>1</td>\n",
       "      <td>27</td>\n",
       "      <td>0.036912</td>\n",
       "      <td>3.373406</td>\n",
       "      <td>85.270147</td>\n",
       "      <td>33.193400</td>\n",
       "      <td>0.0</td>\n",
       "      <td>2020</td>\n",
       "    </tr>\n",
       "    <tr>\n",
       "      <th>7</th>\n",
       "      <td>2020-09-14</td>\n",
       "      <td>user01</td>\n",
       "      <td>20</td>\n",
       "      <td>0</td>\n",
       "      <td>2.0</td>\n",
       "      <td>3.0</td>\n",
       "      <td>2.0</td>\n",
       "      <td>3.0</td>\n",
       "      <td>3.0</td>\n",
       "      <td>3.0</td>\n",
       "      <td>...</td>\n",
       "      <td>0</td>\n",
       "      <td>0</td>\n",
       "      <td>1</td>\n",
       "      <td>27</td>\n",
       "      <td>0.009140</td>\n",
       "      <td>1.663482</td>\n",
       "      <td>89.475536</td>\n",
       "      <td>34.086428</td>\n",
       "      <td>0.0</td>\n",
       "      <td>2020</td>\n",
       "    </tr>\n",
       "    <tr>\n",
       "      <th>8</th>\n",
       "      <td>2020-09-15</td>\n",
       "      <td>user01</td>\n",
       "      <td>35</td>\n",
       "      <td>0</td>\n",
       "      <td>4.0</td>\n",
       "      <td>3.0</td>\n",
       "      <td>2.0</td>\n",
       "      <td>3.0</td>\n",
       "      <td>3.0</td>\n",
       "      <td>4.0</td>\n",
       "      <td>...</td>\n",
       "      <td>1</td>\n",
       "      <td>1</td>\n",
       "      <td>1</td>\n",
       "      <td>27</td>\n",
       "      <td>-0.004555</td>\n",
       "      <td>0.773490</td>\n",
       "      <td>88.103819</td>\n",
       "      <td>34.190778</td>\n",
       "      <td>0.0</td>\n",
       "      <td>2020</td>\n",
       "    </tr>\n",
       "    <tr>\n",
       "      <th>...</th>\n",
       "      <td>...</td>\n",
       "      <td>...</td>\n",
       "      <td>...</td>\n",
       "      <td>...</td>\n",
       "      <td>...</td>\n",
       "      <td>...</td>\n",
       "      <td>...</td>\n",
       "      <td>...</td>\n",
       "      <td>...</td>\n",
       "      <td>...</td>\n",
       "      <td>...</td>\n",
       "      <td>...</td>\n",
       "      <td>...</td>\n",
       "      <td>...</td>\n",
       "      <td>...</td>\n",
       "      <td>...</td>\n",
       "      <td>...</td>\n",
       "      <td>...</td>\n",
       "      <td>...</td>\n",
       "      <td>...</td>\n",
       "      <td>...</td>\n",
       "    </tr>\n",
       "    <tr>\n",
       "      <th>524</th>\n",
       "      <td>2020-09-23</td>\n",
       "      <td>user30</td>\n",
       "      <td>77</td>\n",
       "      <td>0</td>\n",
       "      <td>3.0</td>\n",
       "      <td>0.0</td>\n",
       "      <td>4.0</td>\n",
       "      <td>2.0</td>\n",
       "      <td>3.0</td>\n",
       "      <td>3.0</td>\n",
       "      <td>...</td>\n",
       "      <td>0</td>\n",
       "      <td>0</td>\n",
       "      <td>1</td>\n",
       "      <td>26</td>\n",
       "      <td>0.079167</td>\n",
       "      <td>0.160334</td>\n",
       "      <td>80.474611</td>\n",
       "      <td>31.358667</td>\n",
       "      <td>0.0</td>\n",
       "      <td>2020</td>\n",
       "    </tr>\n",
       "    <tr>\n",
       "      <th>525</th>\n",
       "      <td>2020-09-24</td>\n",
       "      <td>user30</td>\n",
       "      <td>63</td>\n",
       "      <td>0</td>\n",
       "      <td>3.0</td>\n",
       "      <td>0.0</td>\n",
       "      <td>4.0</td>\n",
       "      <td>3.0</td>\n",
       "      <td>2.0</td>\n",
       "      <td>3.0</td>\n",
       "      <td>...</td>\n",
       "      <td>0</td>\n",
       "      <td>0</td>\n",
       "      <td>1</td>\n",
       "      <td>26</td>\n",
       "      <td>-0.137140</td>\n",
       "      <td>0.076865</td>\n",
       "      <td>73.867833</td>\n",
       "      <td>33.963111</td>\n",
       "      <td>0.0</td>\n",
       "      <td>2020</td>\n",
       "    </tr>\n",
       "    <tr>\n",
       "      <th>526</th>\n",
       "      <td>2020-09-24</td>\n",
       "      <td>user30</td>\n",
       "      <td>63</td>\n",
       "      <td>0</td>\n",
       "      <td>3.0</td>\n",
       "      <td>0.0</td>\n",
       "      <td>4.0</td>\n",
       "      <td>3.0</td>\n",
       "      <td>2.0</td>\n",
       "      <td>3.0</td>\n",
       "      <td>...</td>\n",
       "      <td>0</td>\n",
       "      <td>0</td>\n",
       "      <td>1</td>\n",
       "      <td>26</td>\n",
       "      <td>-0.137140</td>\n",
       "      <td>0.076865</td>\n",
       "      <td>73.867833</td>\n",
       "      <td>33.963111</td>\n",
       "      <td>0.0</td>\n",
       "      <td>2020</td>\n",
       "    </tr>\n",
       "    <tr>\n",
       "      <th>527</th>\n",
       "      <td>2020-09-25</td>\n",
       "      <td>user30</td>\n",
       "      <td>68</td>\n",
       "      <td>0</td>\n",
       "      <td>4.0</td>\n",
       "      <td>0.0</td>\n",
       "      <td>4.0</td>\n",
       "      <td>2.0</td>\n",
       "      <td>2.0</td>\n",
       "      <td>3.0</td>\n",
       "      <td>...</td>\n",
       "      <td>0</td>\n",
       "      <td>0</td>\n",
       "      <td>1</td>\n",
       "      <td>26</td>\n",
       "      <td>0.018909</td>\n",
       "      <td>0.159650</td>\n",
       "      <td>79.769218</td>\n",
       "      <td>33.107910</td>\n",
       "      <td>0.0</td>\n",
       "      <td>2020</td>\n",
       "    </tr>\n",
       "    <tr>\n",
       "      <th>528</th>\n",
       "      <td>2020-09-26</td>\n",
       "      <td>user30</td>\n",
       "      <td>68</td>\n",
       "      <td>0</td>\n",
       "      <td>3.0</td>\n",
       "      <td>0.0</td>\n",
       "      <td>4.0</td>\n",
       "      <td>3.0</td>\n",
       "      <td>3.0</td>\n",
       "      <td>3.0</td>\n",
       "      <td>...</td>\n",
       "      <td>0</td>\n",
       "      <td>0</td>\n",
       "      <td>1</td>\n",
       "      <td>26</td>\n",
       "      <td>-0.177500</td>\n",
       "      <td>0.169873</td>\n",
       "      <td>75.776889</td>\n",
       "      <td>33.119000</td>\n",
       "      <td>0.0</td>\n",
       "      <td>2020</td>\n",
       "    </tr>\n",
       "  </tbody>\n",
       "</table>\n",
       "<p>453 rows × 21 columns</p>\n",
       "</div>"
      ],
      "text/plain": [
       "           date  userId  walk  exer  sleep  sleepProblem  dream  amCondition  \\\n",
       "3    2020-09-08  user01    45     0    4.0           3.0    2.0          3.0   \n",
       "4    2020-09-09  user01    30     0    2.0           7.0    1.0          3.0   \n",
       "6    2020-09-13  user01    20     0    2.0           3.0    4.0          2.0   \n",
       "7    2020-09-14  user01    20     0    2.0           3.0    2.0          3.0   \n",
       "8    2020-09-15  user01    35     0    4.0           3.0    2.0          3.0   \n",
       "..          ...     ...   ...   ...    ...           ...    ...          ...   \n",
       "524  2020-09-23  user30    77     0    3.0           0.0    4.0          2.0   \n",
       "525  2020-09-24  user30    63     0    3.0           0.0    4.0          3.0   \n",
       "526  2020-09-24  user30    63     0    3.0           0.0    4.0          3.0   \n",
       "527  2020-09-25  user30    68     0    4.0           0.0    4.0          2.0   \n",
       "528  2020-09-26  user30    68     0    3.0           0.0    4.0          3.0   \n",
       "\n",
       "     amEmotion  pmEmotion  ...  caffeine  alcohol  gender  age     e4Bvp  \\\n",
       "3          4.0        4.0  ...         1        1       1   27 -0.013653   \n",
       "4          3.0        5.0  ...         1        1       1   27  0.056283   \n",
       "6          3.0        5.0  ...         1        1       1   27  0.036912   \n",
       "7          3.0        3.0  ...         0        0       1   27  0.009140   \n",
       "8          3.0        4.0  ...         1        1       1   27 -0.004555   \n",
       "..         ...        ...  ...       ...      ...     ...  ...       ...   \n",
       "524        3.0        3.0  ...         0        0       1   26  0.079167   \n",
       "525        2.0        3.0  ...         0        0       1   26 -0.137140   \n",
       "526        2.0        3.0  ...         0        0       1   26 -0.137140   \n",
       "527        2.0        3.0  ...         0        0       1   26  0.018909   \n",
       "528        3.0        3.0  ...         0        0       1   26 -0.177500   \n",
       "\n",
       "        e4Eda       e4Hr     e4Temp  gps_activity_distance  year  \n",
       "3    3.103176  86.727616  33.021747                    0.0  2020  \n",
       "4    2.503302  87.789920  34.441982                    0.0  2020  \n",
       "6    3.373406  85.270147  33.193400                    0.0  2020  \n",
       "7    1.663482  89.475536  34.086428                    0.0  2020  \n",
       "8    0.773490  88.103819  34.190778                    0.0  2020  \n",
       "..        ...        ...        ...                    ...   ...  \n",
       "524  0.160334  80.474611  31.358667                    0.0  2020  \n",
       "525  0.076865  73.867833  33.963111                    0.0  2020  \n",
       "526  0.076865  73.867833  33.963111                    0.0  2020  \n",
       "527  0.159650  79.769218  33.107910                    0.0  2020  \n",
       "528  0.169873  75.776889  33.119000                    0.0  2020  \n",
       "\n",
       "[453 rows x 21 columns]"
      ]
     },
     "execution_count": 635,
     "metadata": {},
     "output_type": "execute_result"
    }
   ],
   "source": [
    "features"
   ]
  },
  {
   "cell_type": "markdown",
   "id": "1831840e",
   "metadata": {},
   "source": [
    ">연도별 데이터 병합 및 csv 저장"
   ]
  },
  {
   "cell_type": "code",
   "execution_count": 636,
   "id": "c505fb9b",
   "metadata": {},
   "outputs": [],
   "source": [
    "final=pd.concat([features,features1,features2])"
   ]
  },
  {
   "cell_type": "code",
   "execution_count": 4,
   "id": "5bdca7c0",
   "metadata": {},
   "outputs": [],
   "source": [
    "final=pd.read_csv('final.csv')"
   ]
  }
 ],
 "metadata": {
  "kernelspec": {
   "display_name": "Python 3 (ipykernel)",
   "language": "python",
   "name": "python3"
  },
  "language_info": {
   "codemirror_mode": {
    "name": "ipython",
    "version": 3
   },
   "file_extension": ".py",
   "mimetype": "text/x-python",
   "name": "python",
   "nbconvert_exporter": "python",
   "pygments_lexer": "ipython3",
   "version": "3.9.13"
  }
 },
 "nbformat": 4,
 "nbformat_minor": 5
}
