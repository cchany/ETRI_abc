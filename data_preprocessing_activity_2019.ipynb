{
 "cells": [
  {
   "cell_type": "markdown",
   "metadata": {},
   "source": [
    "# 0. 원본(raw) 데이터는 ETRI aifactory 사이트를 통해 구할 수 있음."
   ]
  },
  {
   "cell_type": "markdown",
   "metadata": {},
   "source": [
    ">https://nanum.etri.re.kr/share/schung1/ETRILifelogDataset2020?lang=ko_KR"
   ]
  },
  {
   "cell_type": "markdown",
   "metadata": {},
   "source": [
    "# 1. 외부 Module import"
   ]
  },
  {
   "cell_type": "markdown",
   "metadata": {},
   "source": [
    ">데이터 전처리에 사용할 모듈을 설치 후 import"
   ]
  },
  {
   "cell_type": "code",
   "execution_count": 1,
   "metadata": {},
   "outputs": [],
   "source": [
    "from torch.utils.data import TensorDataset\n",
    "import numpy as np\n",
    "from numpy import concatenate\n",
    "from numpy import loadtxt\n",
    "from math import sqrt\n",
    "import torch\n",
    "import torch.nn as nn\n",
    "import torch.nn.functional as F\n",
    "from torch.utils.data import Dataset,random_split,DistributedSampler,DataLoader\n",
    "import random,os,copy\n",
    "import pickle\n",
    "from collections import Counter\n",
    "import matplotlib.pyplot as plt\n",
    "from matplotlib import pyplot\n",
    "from matplotlib import rc\n",
    "import seaborn as sns\n",
    "import pandas as pd\n",
    "from pandas import read_csv,DataFrame,concat\n",
    "from pandas.plotting import register_matplotlib_converters\n",
    "from sklearn.metrics import mean_absolute_error,mean_squared_error,mean_squared_log_error,r2_score,roc_auc_score,roc_curve\n",
    "from sklearn.model_selection import train_test_split\n",
    "from sklearn.preprocessing import StandardScaler,MinMaxScaler,LabelEncoder\n",
    "from datetime import datetime"
   ]
  },
  {
   "cell_type": "code",
   "execution_count": 6,
   "metadata": {},
   "outputs": [
    {
     "name": "stdout",
     "output_type": "stream",
     "text": [
      "3.6.9 (default, Mar 10 2023, 16:46:00) \n",
      "[GCC 8.4.0]\n"
     ]
    }
   ],
   "source": [
    "import sys\n",
    "\n",
    "print(sys.version)"
   ]
  },
  {
   "cell_type": "markdown",
   "metadata": {},
   "source": [
    "# 2. 라이프로그 데이터 불러오기"
   ]
  },
  {
   "cell_type": "markdown",
   "metadata": {},
   "source": [
    "> 각 대상자에 대하여 : raw 라이프로그 데이터 폴더에 접근 → 일단위로 분할되어있는 데이터 폴더에 접근 → 대상자의 해당 일자에 대한 라이프로그 파일 불러옴"
   ]
  },
  {
   "cell_type": "code",
   "execution_count": 8,
   "metadata": {},
   "outputs": [
    {
     "name": "stdout",
     "output_type": "stream",
     "text": [
      "np 1.19.1\n",
      "pd 1.1.5\n",
      "torch 1.10.2+cu102\n"
     ]
    }
   ],
   "source": [
    "print(\"np\",np.__version__)\n",
    "print(\"pd\",pd.__version__)\n",
    "print(\"torch\",torch.__version__)"
   ]
  },
  {
   "cell_type": "markdown",
   "metadata": {},
   "source": [
    "## 2-1. 2019년 라이프로그 데이터 불러오기"
   ]
  },
  {
   "cell_type": "markdown",
   "metadata": {},
   "source": [
    ">2019년에 등록된 대상자의 라이프로그 데이터를 불러오기 위해 각 사용자별 타임스탬프 추출"
   ]
  },
  {
   "cell_type": "code",
   "execution_count": 7,
   "metadata": {},
   "outputs": [
    {
     "data": {
      "text/plain": [
       "'/mnt/data/tkeo12'"
      ]
     },
     "execution_count": 7,
     "metadata": {},
     "output_type": "execute_result"
    }
   ],
   "source": [
    "os.getcwd()"
   ]
  },
  {
   "cell_type": "code",
   "execution_count": 11,
   "metadata": {},
   "outputs": [
    {
     "data": {
      "text/plain": [
       "'/mnt/data/tkeo12/dataset_2019/dataset_2019/101'"
      ]
     },
     "execution_count": 11,
     "metadata": {},
     "output_type": "execute_result"
    }
   ],
   "source": [
    "PATH = '/mnt/data/tkeo12/dataset_2019/dataset_2019/101'\n",
    "os.chdir(PATH)\n",
    "os.getcwd()"
   ]
  },
  {
   "cell_type": "code",
   "execution_count": 12,
   "metadata": {},
   "outputs": [],
   "source": [
    "user01=os.listdir(path = '.')"
   ]
  },
  {
   "cell_type": "code",
   "execution_count": 13,
   "metadata": {},
   "outputs": [],
   "source": [
    "user01.sort()"
   ]
  },
  {
   "cell_type": "code",
   "execution_count": 14,
   "metadata": {},
   "outputs": [],
   "source": [
    "user01_time=[]\n",
    "for i in range(len(user01)):\n",
    "    user01_time.append(f'user1_time{i}')"
   ]
  },
  {
   "cell_type": "code",
   "execution_count": 15,
   "metadata": {},
   "outputs": [
    {
     "data": {
      "text/plain": [
       "'/mnt/data/tkeo12/dataset_2019/dataset_2019/101'"
      ]
     },
     "execution_count": 15,
     "metadata": {},
     "output_type": "execute_result"
    }
   ],
   "source": [
    "os.getcwd()"
   ]
  },
  {
   "cell_type": "code",
   "execution_count": 16,
   "metadata": {},
   "outputs": [],
   "source": [
    "for i in range(len(user01)):\n",
    "    ts=user01[i]\n",
    "    user01_time[i]=pd.read_csv(f'{ts}/{ts}_label.csv')"
   ]
  },
  {
   "cell_type": "code",
   "execution_count": 19,
   "metadata": {},
   "outputs": [],
   "source": [
    "PATH = '/mnt/data/tkeo12/dataset_2019/dataset_2019/102'\n",
    "os.chdir(PATH)\n",
    "os.getcwd()\n",
    "user02=os.listdir(path = '.')\n",
    "user02.sort()\n",
    "user02_time=[]\n",
    "for i in range(len(user02)):\n",
    "    user02_time.append(f'user02_time{i}')\n",
    "for i in range(len(user02)):\n",
    "    ts=user02[i]\n",
    "    user02_time[i]=pd.read_csv(f'{ts}/{ts}_label.csv')"
   ]
  },
  {
   "cell_type": "code",
   "execution_count": 20,
   "metadata": {},
   "outputs": [],
   "source": [
    "PATH = '/mnt/data/tkeo12/dataset_2019/dataset_2019/103'\n",
    "os.chdir(PATH)\n",
    "os.getcwd()\n",
    "user03=os.listdir(path = '.')\n",
    "user03.sort()\n",
    "user03_time=[]\n",
    "for i in range(len(user03)):\n",
    "    user03_time.append(f'user03_time{i}')\n",
    "for i in range(len(user03)):\n",
    "    ts=user03[i]\n",
    "    user03_time[i]=pd.read_csv(f'{ts}/{ts}_label.csv')"
   ]
  },
  {
   "cell_type": "code",
   "execution_count": 21,
   "metadata": {},
   "outputs": [],
   "source": [
    "PATH = '/mnt/data/tkeo12/dataset_2019/dataset_2019/104'\n",
    "os.chdir(PATH)\n",
    "os.getcwd()\n",
    "user04=os.listdir(path = '.')\n",
    "user04.sort()\n",
    "user04_time=[]\n",
    "for i in range(len(user04)):\n",
    "    user04_time.append(f'user04_time{i}')\n",
    "for i in range(len(user04)):\n",
    "    ts=user04[i]\n",
    "    user04_time[i]=pd.read_csv(f'{ts}/{ts}_label.csv')"
   ]
  },
  {
   "cell_type": "code",
   "execution_count": 22,
   "metadata": {},
   "outputs": [],
   "source": [
    "PATH = '/mnt/data/tkeo12/dataset_2019/dataset_2019/105'\n",
    "os.chdir(PATH)\n",
    "os.getcwd()\n",
    "user05=os.listdir(path = '.')\n",
    "user05.sort()\n",
    "user05_time=[]\n",
    "for i in range(len(user05)):\n",
    "    user05_time.append(f'user05_time{i}')\n",
    "for i in range(len(user05)):\n",
    "    ts=user05[i]\n",
    "    user05_time[i]=pd.read_csv(f'{ts}/{ts}_label.csv')"
   ]
  },
  {
   "cell_type": "code",
   "execution_count": 23,
   "metadata": {},
   "outputs": [],
   "source": [
    "PATH = '/mnt/data/tkeo12/dataset_2019/dataset_2019/106'\n",
    "os.chdir(PATH)\n",
    "os.getcwd()\n",
    "user06=os.listdir(path = '.')\n",
    "user06.sort()\n",
    "del user06[0]\n",
    "user06_time=[]\n",
    "for i in range(len(user06)):\n",
    "    user06_time.append(f'user06_time{i}')\n",
    "for i in range(len(user06)):\n",
    "    ts=user06[i]\n",
    "    user06_time[i]=pd.read_csv(f'{ts}/{ts}_label.csv')"
   ]
  },
  {
   "cell_type": "code",
   "execution_count": 24,
   "metadata": {},
   "outputs": [],
   "source": [
    "PATH = '/mnt/data/tkeo12/dataset_2019/dataset_2019/107'\n",
    "os.chdir(PATH)\n",
    "os.getcwd()\n",
    "user07=os.listdir(path = '.')\n",
    "user07.sort()\n",
    "user07_time=[]\n",
    "for i in range(len(user07)):\n",
    "    user07_time.append(f'user07_time{i}')\n",
    "for i in range(len(user07)):\n",
    "    ts=user07[i]\n",
    "    user07_time[i]=pd.read_csv(f'{ts}/{ts}_label.csv')"
   ]
  },
  {
   "cell_type": "code",
   "execution_count": 25,
   "metadata": {},
   "outputs": [],
   "source": [
    "PATH = '/mnt/data/tkeo12/dataset_2019/dataset_2019/108'\n",
    "os.chdir(PATH)\n",
    "os.getcwd()\n",
    "user08=os.listdir(path = '.')\n",
    "user08.sort()\n",
    "user08_time=[]\n",
    "for i in range(len(user08)):\n",
    "    user08_time.append(f'user08_time{i}')\n",
    "for i in range(len(user08)):\n",
    "    ts=user08[i]\n",
    "    user08_time[i]=pd.read_csv(f'{ts}/{ts}_label.csv')"
   ]
  },
  {
   "cell_type": "code",
   "execution_count": 26,
   "metadata": {},
   "outputs": [],
   "source": [
    "PATH = '/mnt/data/tkeo12/dataset_2019/dataset_2019/109'\n",
    "os.chdir(PATH)\n",
    "os.getcwd()\n",
    "user09=os.listdir(path = '.')\n",
    "user09.sort()\n",
    "user09_time=[]\n",
    "for i in range(len(user09)):\n",
    "    user09_time.append(f'user09_time{i}')\n",
    "for i in range(len(user09)):\n",
    "    ts=user09[i]\n",
    "    user09_time[i]=pd.read_csv(f'{ts}/{ts}_label.csv')"
   ]
  },
  {
   "cell_type": "code",
   "execution_count": 27,
   "metadata": {},
   "outputs": [],
   "source": [
    "PATH = '/mnt/data/tkeo12/dataset_2019/dataset_2019/110'\n",
    "os.chdir(PATH)\n",
    "os.getcwd()\n",
    "user10=os.listdir(path = '.')\n",
    "user10.sort()\n",
    "user10_time=[]\n",
    "for i in range(len(user10)):\n",
    "    user10_time.append(f'user10_time{i}')\n",
    "for i in range(len(user10)):\n",
    "    ts=user10[i]\n",
    "    user10_time[i]=pd.read_csv(f'{ts}/{ts}_label.csv')"
   ]
  },
  {
   "cell_type": "code",
   "execution_count": 28,
   "metadata": {},
   "outputs": [],
   "source": [
    "PATH = '/mnt/data/tkeo12/dataset_2019/dataset_2019/111'\n",
    "os.chdir(PATH)\n",
    "os.getcwd()\n",
    "user11=os.listdir(path = '.')\n",
    "user11.sort()\n",
    "user11_time=[]\n",
    "for i in range(len(user11)):\n",
    "    user11_time.append(f'user11_time{i}')\n",
    "for i in range(len(user11)):\n",
    "    ts=user11[i]\n",
    "    user11_time[i]=pd.read_csv(f'{ts}/{ts}_label.csv')"
   ]
  },
  {
   "cell_type": "code",
   "execution_count": 29,
   "metadata": {},
   "outputs": [],
   "source": [
    "PATH = '/mnt/data/tkeo12/dataset_2019/dataset_2019/112'\n",
    "os.chdir(PATH)\n",
    "os.getcwd()\n",
    "user12=os.listdir(path = '.')\n",
    "user12.sort()\n",
    "user12_time=[]\n",
    "for i in range(len(user12)):\n",
    "    user12_time.append(f'user12_time{i}')\n",
    "for i in range(len(user12)):\n",
    "    ts=user12[i]\n",
    "    user12_time[i]=pd.read_csv(f'{ts}/{ts}_label.csv')"
   ]
  },
  {
   "cell_type": "code",
   "execution_count": 30,
   "metadata": {},
   "outputs": [],
   "source": [
    "PATH = '/mnt/data/tkeo12/dataset_2019/dataset_2019/113'\n",
    "os.chdir(PATH)\n",
    "os.getcwd()\n",
    "user13=os.listdir(path = '.')\n",
    "user13.sort()\n",
    "user13_time=[]\n",
    "for i in range(len(user13)):\n",
    "    user13_time.append(f'user13_time{i}')\n",
    "for i in range(len(user13)):\n",
    "    ts=user13[i]\n",
    "    user13_time[i]=pd.read_csv(f'{ts}/{ts}_label.csv')"
   ]
  },
  {
   "cell_type": "code",
   "execution_count": 31,
   "metadata": {},
   "outputs": [],
   "source": [
    "PATH = '/mnt/data/tkeo12/dataset_2019/dataset_2019/114'\n",
    "os.chdir(PATH)\n",
    "os.getcwd()\n",
    "user14=os.listdir(path = '.')\n",
    "user14.sort()\n",
    "user14_time=[]\n",
    "for i in range(len(user14)):\n",
    "    user14_time.append(f'user14_time{i}')\n",
    "for i in range(len(user14)):\n",
    "    ts=user14[i]\n",
    "    user14_time[i]=pd.read_csv(f'{ts}/{ts}_label.csv')"
   ]
  },
  {
   "cell_type": "code",
   "execution_count": 32,
   "metadata": {},
   "outputs": [],
   "source": [
    "PATH = '/mnt/data/tkeo12/dataset_2019/dataset_2019/115'\n",
    "os.chdir(PATH)\n",
    "os.getcwd()\n",
    "user15=os.listdir(path = '.')\n",
    "user15.sort()\n",
    "user15_time=[]\n",
    "for i in range(len(user15)):\n",
    "    user15_time.append(f'user15_time{i}')\n",
    "for i in range(len(user15)):\n",
    "    ts=user15[i]\n",
    "    user15_time[i]=pd.read_csv(f'{ts}/{ts}_label.csv')"
   ]
  },
  {
   "cell_type": "code",
   "execution_count": 33,
   "metadata": {},
   "outputs": [],
   "source": [
    "PATH = '/mnt/data/tkeo12/dataset_2019/dataset_2019/116'\n",
    "os.chdir(PATH)\n",
    "os.getcwd()\n",
    "user16=os.listdir(path = '.')\n",
    "user16.sort()\n",
    "user16_time=[]\n",
    "for i in range(len(user16)):\n",
    "    user16_time.append(f'user16_time{i}')\n",
    "for i in range(len(user16)):\n",
    "    ts=user16[i]\n",
    "    user16_time[i]=pd.read_csv(f'{ts}/{ts}_label.csv')"
   ]
  },
  {
   "cell_type": "code",
   "execution_count": 34,
   "metadata": {},
   "outputs": [],
   "source": [
    "PATH = '/mnt/data/tkeo12/dataset_2019/dataset_2019/117'\n",
    "os.chdir(PATH)\n",
    "os.getcwd()\n",
    "user17=os.listdir(path = '.')\n",
    "user17.sort()\n",
    "user17_time=[]\n",
    "for i in range(len(user17)):\n",
    "    user17_time.append(f'user17_time{i}')\n",
    "for i in range(len(user17)):\n",
    "    ts=user17[i]\n",
    "    user17_time[i]=pd.read_csv(f'{ts}/{ts}_label.csv')"
   ]
  },
  {
   "cell_type": "code",
   "execution_count": 35,
   "metadata": {},
   "outputs": [],
   "source": [
    "PATH = '/mnt/data/tkeo12/dataset_2019/dataset_2019/118'\n",
    "os.chdir(PATH)\n",
    "os.getcwd()\n",
    "user18=os.listdir(path = '.')\n",
    "user18.sort()\n",
    "user18_time=[]\n",
    "for i in range(len(user18)):\n",
    "    user18_time.append(f'user18_time{i}')\n",
    "for i in range(len(user18)):\n",
    "    ts=user18[i]\n",
    "    user18_time[i]=pd.read_csv(f'{ts}/{ts}_label.csv')"
   ]
  },
  {
   "cell_type": "code",
   "execution_count": 36,
   "metadata": {},
   "outputs": [],
   "source": [
    "PATH = '/mnt/data/tkeo12/dataset_2019/dataset_2019/119'\n",
    "os.chdir(PATH)\n",
    "os.getcwd()\n",
    "user19=os.listdir(path = '.')\n",
    "user19.sort()\n",
    "user19_time=[]\n",
    "for i in range(len(user19)):\n",
    "    user19_time.append(f'user19_time{i}')\n",
    "for i in range(len(user19)):\n",
    "    ts=user19[i]\n",
    "    user19_time[i]=pd.read_csv(f'{ts}/{ts}_label.csv')"
   ]
  },
  {
   "cell_type": "code",
   "execution_count": 37,
   "metadata": {},
   "outputs": [],
   "source": [
    "PATH = '/mnt/data/tkeo12/dataset_2019/dataset_2019/120'\n",
    "os.chdir(PATH)\n",
    "os.getcwd()\n",
    "user20=os.listdir(path = '.')\n",
    "user20.sort()\n",
    "user20_time=[]\n",
    "for i in range(len(user20)):\n",
    "    user20_time.append(f'user20_time{i}')\n",
    "for i in range(len(user20)):\n",
    "    ts=user20[i]\n",
    "    user20_time[i]=pd.read_csv(f'{ts}/{ts}_label.csv')"
   ]
  },
  {
   "cell_type": "code",
   "execution_count": 38,
   "metadata": {},
   "outputs": [
    {
     "data": {
      "text/plain": [
       "'/mnt/data/tkeo12/daily_label19'"
      ]
     },
     "execution_count": 38,
     "metadata": {},
     "output_type": "execute_result"
    }
   ],
   "source": [
    "PATH = '/mnt/data/tkeo12/daily_label19'\n",
    "os.chdir(PATH)\n",
    "os.getcwd()"
   ]
  },
  {
   "cell_type": "markdown",
   "metadata": {},
   "source": [
    "# 3. 라이프로그 데이터 파일 저장"
   ]
  },
  {
   "cell_type": "markdown",
   "metadata": {},
   "source": [
    "> 대상자별로 불러온 일단위 라이프로그 데이터를 별도의 폴더에 대상자번호를 붙여 시간순으로 파일을 저장"
   ]
  },
  {
   "cell_type": "markdown",
   "metadata": {},
   "source": [
    "## 3-1. 2019년 라이프로그 데이터 파일 저장"
   ]
  },
  {
   "cell_type": "markdown",
   "metadata": {},
   "source": [
    ">2019년에 등록된 대상자의 라이프로그 데이터를 불러옴"
   ]
  },
  {
   "cell_type": "code",
   "execution_count": 39,
   "metadata": {},
   "outputs": [],
   "source": [
    "for i in range(len(user01)):\n",
    "    user01_time[i].to_csv(f'user01_time{i}.csv')"
   ]
  },
  {
   "cell_type": "code",
   "execution_count": 40,
   "metadata": {},
   "outputs": [],
   "source": [
    "for i in range(len(user02)):\n",
    "    user02_time[i].to_csv(f'user02_time{i}.csv')"
   ]
  },
  {
   "cell_type": "code",
   "execution_count": 41,
   "metadata": {},
   "outputs": [],
   "source": [
    "for i in range(len(user03)):\n",
    "    user03_time[i].to_csv(f'user03_time{i}.csv')"
   ]
  },
  {
   "cell_type": "code",
   "execution_count": 42,
   "metadata": {},
   "outputs": [],
   "source": [
    "for i in range(len(user04)):\n",
    "    user04_time[i].to_csv(f'user04_time{i}.csv')"
   ]
  },
  {
   "cell_type": "code",
   "execution_count": 43,
   "metadata": {},
   "outputs": [],
   "source": [
    "for i in range(len(user05)):\n",
    "    user05_time[i].to_csv(f'user05_time{i}.csv')"
   ]
  },
  {
   "cell_type": "code",
   "execution_count": 44,
   "metadata": {},
   "outputs": [],
   "source": [
    "for i in range(len(user06)):\n",
    "    user06_time[i].to_csv(f'user06_time{i}.csv')"
   ]
  },
  {
   "cell_type": "code",
   "execution_count": 45,
   "metadata": {},
   "outputs": [],
   "source": [
    "for i in range(len(user07)):\n",
    "    user07_time[i].to_csv(f'user07_time{i}.csv')"
   ]
  },
  {
   "cell_type": "code",
   "execution_count": 46,
   "metadata": {},
   "outputs": [],
   "source": [
    "for i in range(len(user08)):\n",
    "    user08_time[i].to_csv(f'user08_time{i}.csv')"
   ]
  },
  {
   "cell_type": "code",
   "execution_count": 47,
   "metadata": {},
   "outputs": [],
   "source": [
    "for i in range(len(user09)):\n",
    "    user09_time[i].to_csv(f'user09_time{i}.csv')"
   ]
  },
  {
   "cell_type": "code",
   "execution_count": 48,
   "metadata": {},
   "outputs": [],
   "source": [
    "for i in range(len(user10)):\n",
    "    user10_time[i].to_csv(f'user10_time{i}.csv')"
   ]
  },
  {
   "cell_type": "code",
   "execution_count": 49,
   "metadata": {},
   "outputs": [],
   "source": [
    "for i in range(len(user11)):\n",
    "    user11_time[i].to_csv(f'user11_time{i}.csv')"
   ]
  },
  {
   "cell_type": "code",
   "execution_count": 50,
   "metadata": {},
   "outputs": [],
   "source": [
    "for i in range(len(user12)):\n",
    "    user12_time[i].to_csv(f'user12_time{i}.csv')"
   ]
  },
  {
   "cell_type": "code",
   "execution_count": 51,
   "metadata": {},
   "outputs": [],
   "source": [
    "for i in range(len(user13)):\n",
    "    user13_time[i].to_csv(f'user13_time{i}.csv')"
   ]
  },
  {
   "cell_type": "code",
   "execution_count": 52,
   "metadata": {},
   "outputs": [],
   "source": [
    "for i in range(len(user14)):\n",
    "    user14_time[i].to_csv(f'user14_time{i}.csv')"
   ]
  },
  {
   "cell_type": "code",
   "execution_count": 53,
   "metadata": {},
   "outputs": [],
   "source": [
    "for i in range(len(user15)):\n",
    "    user15_time[i].to_csv(f'user15_time{i}.csv')"
   ]
  },
  {
   "cell_type": "code",
   "execution_count": 54,
   "metadata": {},
   "outputs": [],
   "source": [
    "for i in range(len(user16)):\n",
    "    user16_time[i].to_csv(f'user16_time{i}.csv')"
   ]
  },
  {
   "cell_type": "code",
   "execution_count": 55,
   "metadata": {},
   "outputs": [],
   "source": [
    "for i in range(len(user17)):\n",
    "    user17_time[i].to_csv(f'user17_time{i}.csv')"
   ]
  },
  {
   "cell_type": "code",
   "execution_count": 56,
   "metadata": {},
   "outputs": [],
   "source": [
    "for i in range(len(user18)):\n",
    "    user18_time[i].to_csv(f'user18_time{i}.csv')"
   ]
  },
  {
   "cell_type": "code",
   "execution_count": 57,
   "metadata": {},
   "outputs": [],
   "source": [
    "for i in range(len(user19)):\n",
    "    user19_time[i].to_csv(f'user19_time{i}.csv')"
   ]
  },
  {
   "cell_type": "code",
   "execution_count": 58,
   "metadata": {},
   "outputs": [],
   "source": [
    "for i in range(len(user20)):\n",
    "    user20_time[i].to_csv(f'user20_time{i}.csv')"
   ]
  },
  {
   "cell_type": "markdown",
   "metadata": {},
   "source": [
    ">activity 중 walk 추출 (Google's Awareness API 사용)"
   ]
  },
  {
   "cell_type": "markdown",
   "metadata": {},
   "source": [
    ">actionOption = 0 or 1 or 2 and actionSubOption = 1 (walking) "
   ]
  },
  {
   "cell_type": "code",
   "execution_count": 59,
   "metadata": {},
   "outputs": [],
   "source": [
    "user01_walk=[]\n",
    "for i in range(len(user01)):\n",
    "    walk=user01_time[i]\n",
    "    a=[]\n",
    "    for j in range(len(walk)):\n",
    "        if (walk['actionOption'][j]==0 or walk['actionOption'][j]==1 or walk['actionOption'][j]==2) and walk['actionSubOption'][j]==1:\n",
    "            a.append(walk['ts'][j])\n",
    "    user01_walk.append(a)"
   ]
  },
  {
   "cell_type": "code",
   "execution_count": 60,
   "metadata": {},
   "outputs": [],
   "source": [
    "user02_walk=[]\n",
    "for i in range(len(user02)):\n",
    "    walk=user02_time[i]\n",
    "    a=[]\n",
    "    for j in range(len(walk)):\n",
    "        if (walk['actionOption'][j]==0 or walk['actionOption'][j]==1 or walk['actionOption'][j]==2) and walk['actionSubOption'][j]==1:\n",
    "            a.append(walk['ts'][j])\n",
    "    user02_walk.append(a)"
   ]
  },
  {
   "cell_type": "code",
   "execution_count": 61,
   "metadata": {},
   "outputs": [],
   "source": [
    "user03_walk=[]\n",
    "for i in range(len(user03)):\n",
    "    walk=user03_time[i]\n",
    "    a=[]\n",
    "    for j in range(len(walk)):\n",
    "        if (walk['actionOption'][j]==0 or walk['actionOption'][j]==1 or walk['actionOption'][j]==2) and walk['actionSubOption'][j]==1:\n",
    "            a.append(walk['ts'][j])\n",
    "    user03_walk.append(a)"
   ]
  },
  {
   "cell_type": "code",
   "execution_count": 62,
   "metadata": {},
   "outputs": [],
   "source": [
    "user04_walk=[]\n",
    "for i in range(len(user04)):\n",
    "    walk=user04_time[i]\n",
    "    a=[]\n",
    "    for j in range(len(walk)):\n",
    "        if (walk['actionOption'][j]==0 or walk['actionOption'][j]==1 or walk['actionOption'][j]==2) and walk['actionSubOption'][j]==1:\n",
    "            a.append(walk['ts'][j])\n",
    "    user04_walk.append(a)"
   ]
  },
  {
   "cell_type": "code",
   "execution_count": 63,
   "metadata": {},
   "outputs": [],
   "source": [
    "user05_walk=[]\n",
    "for i in range(len(user05)):\n",
    "    walk=user05_time[i]\n",
    "    a=[]\n",
    "    for j in range(len(walk)):\n",
    "        if (walk['actionOption'][j]==0 or walk['actionOption'][j]==1 or walk['actionOption'][j]==2) and walk['actionSubOption'][j]==1:\n",
    "            a.append(walk['ts'][j])\n",
    "    user05_walk.append(a)"
   ]
  },
  {
   "cell_type": "code",
   "execution_count": 64,
   "metadata": {},
   "outputs": [],
   "source": [
    "user06_walk=[]\n",
    "for i in range(len(user06)):\n",
    "    walk=user06_time[i]\n",
    "    a=[]\n",
    "    for j in range(len(walk)):\n",
    "        if (walk['actionOption'][j]==0 or walk['actionOption'][j]==1 or walk['actionOption'][j]==2) and walk['actionSubOption'][j]==1:\n",
    "            a.append(walk['ts'][j])\n",
    "    user06_walk.append(a)"
   ]
  },
  {
   "cell_type": "code",
   "execution_count": 65,
   "metadata": {},
   "outputs": [],
   "source": [
    "user07_walk=[]\n",
    "for i in range(len(user07)):\n",
    "    walk=user07_time[i]\n",
    "    a=[]\n",
    "    for j in range(len(walk)):\n",
    "        if (walk['actionOption'][j]==0 or walk['actionOption'][j]==1 or walk['actionOption'][j]==2) and walk['actionSubOption'][j]==1:\n",
    "            a.append(walk['ts'][j])\n",
    "    user07_walk.append(a)"
   ]
  },
  {
   "cell_type": "code",
   "execution_count": 66,
   "metadata": {},
   "outputs": [],
   "source": [
    "user08_walk=[]\n",
    "for i in range(len(user08)):\n",
    "    walk=user08_time[i]\n",
    "    a=[]\n",
    "    for j in range(len(walk)):\n",
    "        if (walk['actionOption'][j]==0 or walk['actionOption'][j]==1 or walk['actionOption'][j]==2) and walk['actionSubOption'][j]==1:\n",
    "            a.append(walk['ts'][j])\n",
    "    user08_walk.append(a)"
   ]
  },
  {
   "cell_type": "code",
   "execution_count": 67,
   "metadata": {},
   "outputs": [],
   "source": [
    "user09_walk=[]\n",
    "for i in range(len(user09)):\n",
    "    walk=user09_time[i]\n",
    "    a=[]\n",
    "    for j in range(len(walk)):\n",
    "        if (walk['actionOption'][j]==0 or walk['actionOption'][j]==1 or walk['actionOption'][j]==2) and walk['actionSubOption'][j]==1:\n",
    "            a.append(walk['ts'][j])\n",
    "    user09_walk.append(a)"
   ]
  },
  {
   "cell_type": "code",
   "execution_count": 68,
   "metadata": {},
   "outputs": [],
   "source": [
    "user10_walk=[]\n",
    "for i in range(len(user10)):\n",
    "    walk=user10_time[i]\n",
    "    a=[]\n",
    "    for j in range(len(walk)):\n",
    "        if (walk['actionOption'][j]==0 or walk['actionOption'][j]==1 or walk['actionOption'][j]==2) and walk['actionSubOption'][j]==1:\n",
    "            a.append(walk['ts'][j])\n",
    "    user10_walk.append(a)"
   ]
  },
  {
   "cell_type": "code",
   "execution_count": 69,
   "metadata": {},
   "outputs": [],
   "source": [
    "user11_walk=[]\n",
    "for i in range(len(user11)):\n",
    "    walk=user11_time[i]\n",
    "    a=[]\n",
    "    for j in range(len(walk)):\n",
    "        if (walk['actionOption'][j]==0 or walk['actionOption'][j]==1 or walk['actionOption'][j]==2) and walk['actionSubOption'][j]==1:\n",
    "            a.append(walk['ts'][j])\n",
    "    user11_walk.append(a)"
   ]
  },
  {
   "cell_type": "code",
   "execution_count": 70,
   "metadata": {},
   "outputs": [],
   "source": [
    "user12_walk=[]\n",
    "for i in range(len(user12)):\n",
    "    walk=user12_time[i]\n",
    "    a=[]\n",
    "    for j in range(len(walk)):\n",
    "        if (walk['actionOption'][j]==0 or walk['actionOption'][j]==1 or walk['actionOption'][j]==2) and walk['actionSubOption'][j]==1:\n",
    "            a.append(walk['ts'][j])\n",
    "    user12_walk.append(a)"
   ]
  },
  {
   "cell_type": "code",
   "execution_count": 71,
   "metadata": {},
   "outputs": [],
   "source": [
    "user13_walk=[]\n",
    "for i in range(len(user13)):\n",
    "    walk=user13_time[i]\n",
    "    a=[]\n",
    "    for j in range(len(walk)):\n",
    "        if (walk['actionOption'][j]==0 or walk['actionOption'][j]==1 or walk['actionOption'][j]==2) and walk['actionSubOption'][j]==1:\n",
    "            a.append(walk['ts'][j])\n",
    "    user13_walk.append(a)"
   ]
  },
  {
   "cell_type": "code",
   "execution_count": 72,
   "metadata": {},
   "outputs": [],
   "source": [
    "user14_walk=[]\n",
    "for i in range(len(user14)):\n",
    "    walk=user14_time[i]\n",
    "    a=[]\n",
    "    for j in range(len(walk)):\n",
    "        if (walk['actionOption'][j]==0 or walk['actionOption'][j]==1 or walk['actionOption'][j]==2) and walk['actionSubOption'][j]==1:\n",
    "            a.append(walk['ts'][j])\n",
    "    user14_walk.append(a)"
   ]
  },
  {
   "cell_type": "code",
   "execution_count": 73,
   "metadata": {},
   "outputs": [],
   "source": [
    "user15_walk=[]\n",
    "for i in range(len(user15)):\n",
    "    walk=user15_time[i]\n",
    "    a=[]\n",
    "    for j in range(len(walk)):\n",
    "        if (walk['actionOption'][j]==0 or walk['actionOption'][j]==1 or walk['actionOption'][j]==2) and walk['actionSubOption'][j]==1:\n",
    "            a.append(walk['ts'][j])\n",
    "    user15_walk.append(a)"
   ]
  },
  {
   "cell_type": "code",
   "execution_count": 74,
   "metadata": {},
   "outputs": [],
   "source": [
    "user16_walk=[]\n",
    "for i in range(len(user16)):\n",
    "    walk=user16_time[i]\n",
    "    a=[]\n",
    "    for j in range(len(walk)):\n",
    "        if (walk['actionOption'][j]==0 or walk['actionOption'][j]==1 or walk['actionOption'][j]==2) and walk['actionSubOption'][j]==1:\n",
    "            a.append(walk['ts'][j])\n",
    "    user16_walk.append(a)"
   ]
  },
  {
   "cell_type": "code",
   "execution_count": 75,
   "metadata": {},
   "outputs": [],
   "source": [
    "user17_walk=[]\n",
    "for i in range(len(user17)):\n",
    "    walk=user17_time[i]\n",
    "    a=[]\n",
    "    for j in range(len(walk)):\n",
    "        if (walk['actionOption'][j]==0 or walk['actionOption'][j]==1 or walk['actionOption'][j]==2) and walk['actionSubOption'][j]==1:\n",
    "            a.append(walk['ts'][j])\n",
    "    user17_walk.append(a)"
   ]
  },
  {
   "cell_type": "code",
   "execution_count": 76,
   "metadata": {},
   "outputs": [],
   "source": [
    "user18_walk=[]\n",
    "for i in range(len(user18)):\n",
    "    walk=user18_time[i]\n",
    "    a=[]\n",
    "    for j in range(len(walk)):\n",
    "        if (walk['actionOption'][j]==0 or walk['actionOption'][j]==1 or walk['actionOption'][j]==2) and walk['actionSubOption'][j]==1:\n",
    "            a.append(walk['ts'][j])\n",
    "    user18_walk.append(a)"
   ]
  },
  {
   "cell_type": "code",
   "execution_count": 77,
   "metadata": {},
   "outputs": [],
   "source": [
    "user19_walk=[]\n",
    "for i in range(len(user19)):\n",
    "    walk=user19_time[i]\n",
    "    a=[]\n",
    "    for j in range(len(walk)):\n",
    "        if (walk['actionOption'][j]==0 or walk['actionOption'][j]==1 or walk['actionOption'][j]==2) and walk['actionSubOption'][j]==1:\n",
    "            a.append(walk['ts'][j])\n",
    "    user19_walk.append(a)"
   ]
  },
  {
   "cell_type": "code",
   "execution_count": 78,
   "metadata": {},
   "outputs": [],
   "source": [
    "user20_walk=[]\n",
    "for i in range(len(user20)):\n",
    "    walk=user20_time[i]\n",
    "    a=[]\n",
    "    for j in range(len(walk)):\n",
    "        if (walk['actionOption'][j]==0 or walk['actionOption'][j]==1 or walk['actionOption'][j]==2) and walk['actionSubOption'][j]==1:\n",
    "            a.append(walk['ts'][j])\n",
    "    user20_walk.append(a)"
   ]
  },
  {
   "cell_type": "code",
   "execution_count": 79,
   "metadata": {},
   "outputs": [
    {
     "data": {
      "text/plain": [
       "'/mnt/data/tkeo12'"
      ]
     },
     "execution_count": 79,
     "metadata": {},
     "output_type": "execute_result"
    }
   ],
   "source": [
    "PATH = '/mnt/data/tkeo12'\n",
    "os.chdir(PATH)\n",
    "os.getcwd()"
   ]
  },
  {
   "cell_type": "markdown",
   "metadata": {},
   "source": [
    ">activity 중 walk의 시간 추출 및 데이터 타입, 시간 등 분석에 맞게 전처리"
   ]
  },
  {
   "cell_type": "code",
   "execution_count": 80,
   "metadata": {},
   "outputs": [],
   "source": [
    "user01_walk1=[]\n",
    "for i in range(len(user01)):\n",
    "    walk=user01_walk[i]\n",
    "    user01_walk1.append(len(walk))"
   ]
  },
  {
   "cell_type": "code",
   "execution_count": 81,
   "metadata": {},
   "outputs": [],
   "source": [
    "user02_walk1=[]\n",
    "for i in range(len(user02)):\n",
    "    walk=user02_walk[i]\n",
    "    user02_walk1.append(len(walk))"
   ]
  },
  {
   "cell_type": "code",
   "execution_count": 82,
   "metadata": {},
   "outputs": [],
   "source": [
    "user03_walk1=[]\n",
    "for i in range(len(user03)):\n",
    "    walk=user03_walk[i]\n",
    "    user03_walk1.append(len(walk))"
   ]
  },
  {
   "cell_type": "code",
   "execution_count": 83,
   "metadata": {},
   "outputs": [],
   "source": [
    "user04_walk1=[]\n",
    "for i in range(len(user04)):\n",
    "    walk=user04_walk[i]\n",
    "    user04_walk1.append(len(walk))"
   ]
  },
  {
   "cell_type": "code",
   "execution_count": 84,
   "metadata": {},
   "outputs": [],
   "source": [
    "user05_walk1=[]\n",
    "for i in range(len(user05)):\n",
    "    walk=user05_walk[i]\n",
    "    user05_walk1.append(len(walk))"
   ]
  },
  {
   "cell_type": "code",
   "execution_count": 85,
   "metadata": {},
   "outputs": [],
   "source": [
    "user06_walk1=[]\n",
    "for i in range(len(user06)):\n",
    "    walk=user06_walk[i]\n",
    "    user06_walk1.append(len(walk))"
   ]
  },
  {
   "cell_type": "code",
   "execution_count": 86,
   "metadata": {},
   "outputs": [],
   "source": [
    "user07_walk1=[]\n",
    "for i in range(len(user07)):\n",
    "    walk=user07_walk[i]\n",
    "    user07_walk1.append(len(walk))"
   ]
  },
  {
   "cell_type": "code",
   "execution_count": 87,
   "metadata": {},
   "outputs": [],
   "source": [
    "user08_walk1=[]\n",
    "for i in range(len(user08)):\n",
    "    walk=user08_walk[i]\n",
    "    user08_walk1.append(len(walk))"
   ]
  },
  {
   "cell_type": "code",
   "execution_count": 88,
   "metadata": {},
   "outputs": [],
   "source": [
    "user09_walk1=[]\n",
    "for i in range(len(user09)):\n",
    "    walk=user09_walk[i]\n",
    "    user09_walk1.append(len(walk))"
   ]
  },
  {
   "cell_type": "code",
   "execution_count": 89,
   "metadata": {},
   "outputs": [],
   "source": [
    "user10_walk1=[]\n",
    "for i in range(len(user10)):\n",
    "    walk=user10_walk[i]\n",
    "    user10_walk1.append(len(walk))"
   ]
  },
  {
   "cell_type": "code",
   "execution_count": 90,
   "metadata": {},
   "outputs": [],
   "source": [
    "user11_walk1=[]\n",
    "for i in range(len(user11)):\n",
    "    walk=user11_walk[i]\n",
    "    user11_walk1.append(len(walk))"
   ]
  },
  {
   "cell_type": "code",
   "execution_count": 91,
   "metadata": {},
   "outputs": [],
   "source": [
    "user12_walk1=[]\n",
    "for i in range(len(user12)):\n",
    "    walk=user12_walk[i]\n",
    "    user12_walk1.append(len(walk))"
   ]
  },
  {
   "cell_type": "code",
   "execution_count": 92,
   "metadata": {},
   "outputs": [],
   "source": [
    "user13_walk1=[]\n",
    "for i in range(len(user13)):\n",
    "    walk=user13_walk[i]\n",
    "    user13_walk1.append(len(walk))"
   ]
  },
  {
   "cell_type": "code",
   "execution_count": 93,
   "metadata": {},
   "outputs": [],
   "source": [
    "user14_walk1=[]\n",
    "for i in range(len(user14)):\n",
    "    walk=user14_walk[i]\n",
    "    user14_walk1.append(len(walk))"
   ]
  },
  {
   "cell_type": "code",
   "execution_count": 94,
   "metadata": {},
   "outputs": [],
   "source": [
    "user15_walk1=[]\n",
    "for i in range(len(user15)):\n",
    "    walk=user15_walk[i]\n",
    "    user15_walk1.append(len(walk))"
   ]
  },
  {
   "cell_type": "code",
   "execution_count": 95,
   "metadata": {},
   "outputs": [],
   "source": [
    "user16_walk1=[]\n",
    "for i in range(len(user16)):\n",
    "    walk=user16_walk[i]\n",
    "    user16_walk1.append(len(walk))"
   ]
  },
  {
   "cell_type": "code",
   "execution_count": 96,
   "metadata": {},
   "outputs": [],
   "source": [
    "user17_walk1=[]\n",
    "for i in range(len(user17)):\n",
    "    walk=user17_walk[i]\n",
    "    user17_walk1.append(len(walk))"
   ]
  },
  {
   "cell_type": "code",
   "execution_count": 97,
   "metadata": {},
   "outputs": [],
   "source": [
    "user18_walk1=[]\n",
    "for i in range(len(user18)):\n",
    "    walk=user18_walk[i]\n",
    "    user18_walk1.append(len(walk))"
   ]
  },
  {
   "cell_type": "code",
   "execution_count": 98,
   "metadata": {},
   "outputs": [],
   "source": [
    "user19_walk1=[]\n",
    "for i in range(len(user19)):\n",
    "    walk=user19_walk[i]\n",
    "    user19_walk1.append(len(walk))"
   ]
  },
  {
   "cell_type": "code",
   "execution_count": 99,
   "metadata": {},
   "outputs": [],
   "source": [
    "user20_walk1=[]\n",
    "for i in range(len(user20)):\n",
    "    walk=user20_walk[i]\n",
    "    user20_walk1.append(len(walk))"
   ]
  },
  {
   "cell_type": "code",
   "execution_count": 100,
   "metadata": {},
   "outputs": [],
   "source": [
    "user01=list(map(int,user01))"
   ]
  },
  {
   "cell_type": "code",
   "execution_count": 101,
   "metadata": {},
   "outputs": [],
   "source": [
    "user02=list(map(int,user02))"
   ]
  },
  {
   "cell_type": "code",
   "execution_count": 102,
   "metadata": {},
   "outputs": [],
   "source": [
    "user03=list(map(int,user03))"
   ]
  },
  {
   "cell_type": "code",
   "execution_count": 103,
   "metadata": {},
   "outputs": [],
   "source": [
    "user04=list(map(int,user04))"
   ]
  },
  {
   "cell_type": "code",
   "execution_count": 104,
   "metadata": {},
   "outputs": [],
   "source": [
    "user05=list(map(int,user05))"
   ]
  },
  {
   "cell_type": "code",
   "execution_count": 105,
   "metadata": {},
   "outputs": [],
   "source": [
    "user06=list(map(int,user06))"
   ]
  },
  {
   "cell_type": "code",
   "execution_count": 106,
   "metadata": {},
   "outputs": [],
   "source": [
    "user07=list(map(int,user07))"
   ]
  },
  {
   "cell_type": "code",
   "execution_count": 107,
   "metadata": {},
   "outputs": [],
   "source": [
    "user08=list(map(int,user08))"
   ]
  },
  {
   "cell_type": "code",
   "execution_count": 108,
   "metadata": {},
   "outputs": [],
   "source": [
    "user09=list(map(int,user09))"
   ]
  },
  {
   "cell_type": "code",
   "execution_count": 109,
   "metadata": {},
   "outputs": [],
   "source": [
    "user10=list(map(int,user10))"
   ]
  },
  {
   "cell_type": "code",
   "execution_count": 110,
   "metadata": {},
   "outputs": [],
   "source": [
    "user11=list(map(int,user11))"
   ]
  },
  {
   "cell_type": "code",
   "execution_count": 111,
   "metadata": {},
   "outputs": [],
   "source": [
    "user12=list(map(int,user12))"
   ]
  },
  {
   "cell_type": "code",
   "execution_count": 112,
   "metadata": {},
   "outputs": [],
   "source": [
    "user13=list(map(int,user13))"
   ]
  },
  {
   "cell_type": "code",
   "execution_count": 113,
   "metadata": {},
   "outputs": [],
   "source": [
    "user14=list(map(int,user14))"
   ]
  },
  {
   "cell_type": "code",
   "execution_count": 114,
   "metadata": {},
   "outputs": [],
   "source": [
    "user15=list(map(int,user15))"
   ]
  },
  {
   "cell_type": "code",
   "execution_count": 115,
   "metadata": {},
   "outputs": [],
   "source": [
    "user16=list(map(int,user16))"
   ]
  },
  {
   "cell_type": "code",
   "execution_count": 116,
   "metadata": {},
   "outputs": [],
   "source": [
    "user17=list(map(int,user17))"
   ]
  },
  {
   "cell_type": "code",
   "execution_count": 117,
   "metadata": {},
   "outputs": [],
   "source": [
    "user18=list(map(int,user18))"
   ]
  },
  {
   "cell_type": "code",
   "execution_count": 118,
   "metadata": {},
   "outputs": [],
   "source": [
    "user19=list(map(int,user19))"
   ]
  },
  {
   "cell_type": "code",
   "execution_count": 119,
   "metadata": {},
   "outputs": [],
   "source": [
    "user20=list(map(int,user20))"
   ]
  },
  {
   "cell_type": "code",
   "execution_count": 120,
   "metadata": {},
   "outputs": [
    {
     "data": {
      "text/plain": [
       "'/mnt/data/tkeo12'"
      ]
     },
     "execution_count": 120,
     "metadata": {},
     "output_type": "execute_result"
    }
   ],
   "source": [
    "os.getcwd()"
   ]
  },
  {
   "cell_type": "code",
   "execution_count": 121,
   "metadata": {},
   "outputs": [],
   "source": [
    "user01_date=list(map(datetime.fromtimestamp,user01))"
   ]
  },
  {
   "cell_type": "code",
   "execution_count": 122,
   "metadata": {},
   "outputs": [],
   "source": [
    "user01_date1=[]\n",
    "for i in range(len(user01)):\n",
    "    user01_date1.append(user01_date[i].strftime(\"%Y-%m-%d\"))"
   ]
  },
  {
   "cell_type": "code",
   "execution_count": 123,
   "metadata": {},
   "outputs": [],
   "source": [
    "user02_date=list(map(datetime.fromtimestamp,user02))\n",
    "user02_date1=[]\n",
    "for i in range(len(user02)):\n",
    "    user02_date1.append(user02_date[i].strftime(\"%Y-%m-%d\"))"
   ]
  },
  {
   "cell_type": "code",
   "execution_count": 124,
   "metadata": {},
   "outputs": [],
   "source": [
    "user03_date=list(map(datetime.fromtimestamp,user03))\n",
    "user03_date1=[]\n",
    "for i in range(len(user03)):\n",
    "    user03_date1.append(user03_date[i].strftime(\"%Y-%m-%d\"))"
   ]
  },
  {
   "cell_type": "code",
   "execution_count": 125,
   "metadata": {},
   "outputs": [],
   "source": [
    "user04_date=list(map(datetime.fromtimestamp,user04))\n",
    "user04_date1=[]\n",
    "for i in range(len(user04)):\n",
    "    user04_date1.append(user04_date[i].strftime(\"%Y-%m-%d\"))"
   ]
  },
  {
   "cell_type": "code",
   "execution_count": 126,
   "metadata": {},
   "outputs": [],
   "source": [
    "user05_date=list(map(datetime.fromtimestamp,user05))\n",
    "user05_date1=[]\n",
    "for i in range(len(user05)):\n",
    "    user05_date1.append(user05_date[i].strftime(\"%Y-%m-%d\"))"
   ]
  },
  {
   "cell_type": "code",
   "execution_count": 127,
   "metadata": {},
   "outputs": [],
   "source": [
    "user06_date=list(map(datetime.fromtimestamp,user06))\n",
    "user06_date1=[]\n",
    "for i in range(len(user06)):\n",
    "    user06_date1.append(user06_date[i].strftime(\"%Y-%m-%d\"))"
   ]
  },
  {
   "cell_type": "code",
   "execution_count": 128,
   "metadata": {},
   "outputs": [],
   "source": [
    "user07_date=list(map(datetime.fromtimestamp,user07))\n",
    "user07_date1=[]\n",
    "for i in range(len(user07)):\n",
    "    user07_date1.append(user07_date[i].strftime(\"%Y-%m-%d\"))"
   ]
  },
  {
   "cell_type": "code",
   "execution_count": 129,
   "metadata": {},
   "outputs": [],
   "source": [
    "user08_date=list(map(datetime.fromtimestamp,user08))\n",
    "user08_date1=[]\n",
    "for i in range(len(user08)):\n",
    "    user08_date1.append(user08_date[i].strftime(\"%Y-%m-%d\"))"
   ]
  },
  {
   "cell_type": "code",
   "execution_count": 130,
   "metadata": {},
   "outputs": [],
   "source": [
    "user09_date=list(map(datetime.fromtimestamp,user09))\n",
    "user09_date1=[]\n",
    "for i in range(len(user09)):\n",
    "    user09_date1.append(user09_date[i].strftime(\"%Y-%m-%d\"))"
   ]
  },
  {
   "cell_type": "code",
   "execution_count": 131,
   "metadata": {},
   "outputs": [],
   "source": [
    "user10_date=list(map(datetime.fromtimestamp,user10))\n",
    "user10_date1=[]\n",
    "for i in range(len(user10)):\n",
    "    user10_date1.append(user10_date[i].strftime(\"%Y-%m-%d\"))"
   ]
  },
  {
   "cell_type": "code",
   "execution_count": 132,
   "metadata": {},
   "outputs": [],
   "source": [
    "user11_date=list(map(datetime.fromtimestamp,user11))\n",
    "user11_date1=[]\n",
    "for i in range(len(user11)):\n",
    "    user11_date1.append(user11_date[i].strftime(\"%Y-%m-%d\"))"
   ]
  },
  {
   "cell_type": "code",
   "execution_count": 133,
   "metadata": {},
   "outputs": [],
   "source": [
    "user12_date=list(map(datetime.fromtimestamp,user12))\n",
    "user12_date1=[]\n",
    "for i in range(len(user12)):\n",
    "    user12_date1.append(user12_date[i].strftime(\"%Y-%m-%d\"))"
   ]
  },
  {
   "cell_type": "code",
   "execution_count": 134,
   "metadata": {},
   "outputs": [],
   "source": [
    "user13_date=list(map(datetime.fromtimestamp,user13))\n",
    "user13_date1=[]\n",
    "for i in range(len(user13)):\n",
    "    user13_date1.append(user13_date[i].strftime(\"%Y-%m-%d\"))"
   ]
  },
  {
   "cell_type": "code",
   "execution_count": 135,
   "metadata": {},
   "outputs": [],
   "source": [
    "user14_date=list(map(datetime.fromtimestamp,user14))\n",
    "user14_date1=[]\n",
    "for i in range(len(user14)):\n",
    "    user14_date1.append(user14_date[i].strftime(\"%Y-%m-%d\"))"
   ]
  },
  {
   "cell_type": "code",
   "execution_count": 136,
   "metadata": {},
   "outputs": [],
   "source": [
    "user15_date=list(map(datetime.fromtimestamp,user15))\n",
    "user15_date1=[]\n",
    "for i in range(len(user15)):\n",
    "    user15_date1.append(user15_date[i].strftime(\"%Y-%m-%d\"))"
   ]
  },
  {
   "cell_type": "code",
   "execution_count": 137,
   "metadata": {},
   "outputs": [],
   "source": [
    "user16_date=list(map(datetime.fromtimestamp,user16))\n",
    "user16_date1=[]\n",
    "for i in range(len(user16)):\n",
    "    user12_date1.append(user16_date[i].strftime(\"%Y-%m-%d\"))"
   ]
  },
  {
   "cell_type": "code",
   "execution_count": 138,
   "metadata": {},
   "outputs": [],
   "source": [
    "user17_date=list(map(datetime.fromtimestamp,user17))\n",
    "user17_date1=[]\n",
    "for i in range(len(user17)):\n",
    "    user12_date1.append(user17_date[i].strftime(\"%Y-%m-%d\"))"
   ]
  },
  {
   "cell_type": "code",
   "execution_count": 139,
   "metadata": {},
   "outputs": [],
   "source": [
    "user18_date=list(map(datetime.fromtimestamp,user18))\n",
    "user18_date1=[]\n",
    "for i in range(len(user18)):\n",
    "    user18_date1.append(user18_date[i].strftime(\"%Y-%m-%d\"))"
   ]
  },
  {
   "cell_type": "code",
   "execution_count": 140,
   "metadata": {},
   "outputs": [],
   "source": [
    "user19_date=list(map(datetime.fromtimestamp,user19))\n",
    "user19_date1=[]\n",
    "for i in range(len(user19)):\n",
    "    user19_date1.append(user19_date[i].strftime(\"%Y-%m-%d\"))"
   ]
  },
  {
   "cell_type": "code",
   "execution_count": 141,
   "metadata": {},
   "outputs": [],
   "source": [
    "user20_date=list(map(datetime.fromtimestamp,user20))\n",
    "user20_date1=[]\n",
    "for i in range(len(user20)):\n",
    "    user20_date1.append(user20_date[i].strftime(\"%Y-%m-%d\"))"
   ]
  },
  {
   "cell_type": "markdown",
   "metadata": {},
   "source": [
    ">activity 중 run 추출 (Google's Awareness API 사용)"
   ]
  },
  {
   "cell_type": "markdown",
   "metadata": {},
   "source": [
    ">actionOption = 6 (running)"
   ]
  },
  {
   "cell_type": "markdown",
   "metadata": {},
   "source": [
    ">activity 중 run의 시간 추출 및 데이터 타입, 시간 등 분석에 맞게 전처리"
   ]
  },
  {
   "cell_type": "code",
   "execution_count": 148,
   "metadata": {},
   "outputs": [],
   "source": [
    "user01_exer=[]\n",
    "for i in range(len(user01)):\n",
    "    walk=user01_time[i]\n",
    "    a=[]\n",
    "    for j in range(len(walk)):\n",
    "        if walk['actionOption'][j]==6:\n",
    "            a.append(walk['ts'][j])\n",
    "    user01_exer.append(a)"
   ]
  },
  {
   "cell_type": "code",
   "execution_count": 149,
   "metadata": {},
   "outputs": [],
   "source": [
    "user02_exer=[]\n",
    "for i in range(len(user02)):\n",
    "    walk=user02_time[i]\n",
    "    a=[]\n",
    "    for j in range(len(walk)):\n",
    "        if walk['actionOption'][j]==6:\n",
    "            a.append(walk['ts'][j])\n",
    "    user02_exer.append(a)"
   ]
  },
  {
   "cell_type": "code",
   "execution_count": 150,
   "metadata": {},
   "outputs": [],
   "source": [
    "user03_exer=[]\n",
    "for i in range(len(user03)):\n",
    "    walk=user03_time[i]\n",
    "    a=[]\n",
    "    for j in range(len(walk)):\n",
    "        if walk['actionOption'][j]==6:\n",
    "            a.append(walk['ts'][j])\n",
    "    user03_exer.append(a)"
   ]
  },
  {
   "cell_type": "code",
   "execution_count": 151,
   "metadata": {},
   "outputs": [],
   "source": [
    "user04_exer=[]\n",
    "for i in range(len(user04)):\n",
    "    walk=user04_time[i]\n",
    "    a=[]\n",
    "    for j in range(len(walk)):\n",
    "        if walk['actionOption'][j]==6:\n",
    "            a.append(walk['ts'][j])\n",
    "    user04_exer.append(a)"
   ]
  },
  {
   "cell_type": "code",
   "execution_count": 152,
   "metadata": {},
   "outputs": [],
   "source": [
    "user05_exer=[]\n",
    "for i in range(len(user05)):\n",
    "    walk=user05_time[i]\n",
    "    a=[]\n",
    "    for j in range(len(walk)):\n",
    "        if walk['actionOption'][j]==6:\n",
    "            a.append(walk['ts'][j])\n",
    "    user05_exer.append(a)"
   ]
  },
  {
   "cell_type": "code",
   "execution_count": 153,
   "metadata": {},
   "outputs": [],
   "source": [
    "user06_exer=[]\n",
    "for i in range(len(user06)):\n",
    "    walk=user06_time[i]\n",
    "    a=[]\n",
    "    for j in range(len(walk)):\n",
    "        if walk['actionOption'][j]==6:\n",
    "            a.append(walk['ts'][j])\n",
    "    user06_exer.append(a)"
   ]
  },
  {
   "cell_type": "code",
   "execution_count": 154,
   "metadata": {},
   "outputs": [],
   "source": [
    "user07_exer=[]\n",
    "for i in range(len(user07)):\n",
    "    walk=user07_time[i]\n",
    "    a=[]\n",
    "    for j in range(len(walk)):\n",
    "        if walk['actionOption'][j]==6:\n",
    "            a.append(walk['ts'][j])\n",
    "    user07_exer.append(a)"
   ]
  },
  {
   "cell_type": "code",
   "execution_count": 155,
   "metadata": {},
   "outputs": [],
   "source": [
    "user08_exer=[]\n",
    "for i in range(len(user08)):\n",
    "    walk=user08_time[i]\n",
    "    a=[]\n",
    "    for j in range(len(walk)):\n",
    "        if walk['actionOption'][j]==6:\n",
    "            a.append(walk['ts'][j])\n",
    "    user08_exer.append(a)"
   ]
  },
  {
   "cell_type": "code",
   "execution_count": 156,
   "metadata": {},
   "outputs": [],
   "source": [
    "user09_exer=[]\n",
    "for i in range(len(user09)):\n",
    "    walk=user09_time[i]\n",
    "    a=[]\n",
    "    for j in range(len(walk)):\n",
    "        if walk['actionOption'][j]==6:\n",
    "            a.append(walk['ts'][j])\n",
    "    user09_exer.append(a)"
   ]
  },
  {
   "cell_type": "code",
   "execution_count": 157,
   "metadata": {},
   "outputs": [],
   "source": [
    "user10_exer=[]\n",
    "for i in range(len(user10)):\n",
    "    walk=user10_time[i]\n",
    "    a=[]\n",
    "    for j in range(len(walk)):\n",
    "        if walk['actionOption'][j]==6:\n",
    "            a.append(walk['ts'][j])\n",
    "    user10_exer.append(a)"
   ]
  },
  {
   "cell_type": "code",
   "execution_count": 158,
   "metadata": {},
   "outputs": [],
   "source": [
    "user11_exer=[]\n",
    "for i in range(len(user11)):\n",
    "    walk=user11_time[i]\n",
    "    a=[]\n",
    "    for j in range(len(walk)):\n",
    "        if walk['actionOption'][j]==6:\n",
    "            a.append(walk['ts'][j])\n",
    "    user11_exer.append(a)"
   ]
  },
  {
   "cell_type": "code",
   "execution_count": 159,
   "metadata": {},
   "outputs": [],
   "source": [
    "user12_exer=[]\n",
    "for i in range(len(user12)):\n",
    "    walk=user12_time[i]\n",
    "    a=[]\n",
    "    for j in range(len(walk)):\n",
    "        if walk['actionOption'][j]==6:\n",
    "            a.append(walk['ts'][j])\n",
    "    user12_exer.append(a)"
   ]
  },
  {
   "cell_type": "code",
   "execution_count": 160,
   "metadata": {},
   "outputs": [],
   "source": [
    "user13_exer=[]\n",
    "for i in range(len(user13)):\n",
    "    walk=user13_time[i]\n",
    "    a=[]\n",
    "    for j in range(len(walk)):\n",
    "        if walk['actionOption'][j]==6:\n",
    "            a.append(walk['ts'][j])\n",
    "    user13_exer.append(a)"
   ]
  },
  {
   "cell_type": "code",
   "execution_count": 161,
   "metadata": {},
   "outputs": [],
   "source": [
    "user14_exer=[]\n",
    "for i in range(len(user14)):\n",
    "    walk=user14_time[i]\n",
    "    a=[]\n",
    "    for j in range(len(walk)):\n",
    "        if walk['actionOption'][j]==6:\n",
    "            a.append(walk['ts'][j])\n",
    "    user14_exer.append(a)"
   ]
  },
  {
   "cell_type": "code",
   "execution_count": 162,
   "metadata": {},
   "outputs": [],
   "source": [
    "user15_exer=[]\n",
    "for i in range(len(user15)):\n",
    "    walk=user15_time[i]\n",
    "    a=[]\n",
    "    for j in range(len(walk)):\n",
    "        if walk['actionOption'][j]==6:\n",
    "            a.append(walk['ts'][j])\n",
    "    user15_exer.append(a)"
   ]
  },
  {
   "cell_type": "code",
   "execution_count": 163,
   "metadata": {},
   "outputs": [],
   "source": [
    "user16_exer=[]\n",
    "for i in range(len(user16)):\n",
    "    walk=user16_time[i]\n",
    "    a=[]\n",
    "    for j in range(len(walk)):\n",
    "        if walk['actionOption'][j]==6:\n",
    "            a.append(walk['ts'][j])\n",
    "    user16_exer.append(a)"
   ]
  },
  {
   "cell_type": "code",
   "execution_count": 164,
   "metadata": {},
   "outputs": [],
   "source": [
    "user17_exer=[]\n",
    "for i in range(len(user17)):\n",
    "    walk=user17_time[i]\n",
    "    a=[]\n",
    "    for j in range(len(walk)):\n",
    "        if walk['actionOption'][j]==6:\n",
    "            a.append(walk['ts'][j])\n",
    "    user17_exer.append(a)"
   ]
  },
  {
   "cell_type": "code",
   "execution_count": 165,
   "metadata": {},
   "outputs": [],
   "source": [
    "user18_exer=[]\n",
    "for i in range(len(user18)):\n",
    "    walk=user18_time[i]\n",
    "    a=[]\n",
    "    for j in range(len(walk)):\n",
    "        if walk['actionOption'][j]==6:\n",
    "            a.append(walk['ts'][j])\n",
    "    user18_exer.append(a)"
   ]
  },
  {
   "cell_type": "code",
   "execution_count": 166,
   "metadata": {},
   "outputs": [],
   "source": [
    "user19_exer=[]\n",
    "for i in range(len(user19)):\n",
    "    walk=user19_time[i]\n",
    "    a=[]\n",
    "    for j in range(len(walk)):\n",
    "        if walk['actionOption'][j]==6:\n",
    "            a.append(walk['ts'][j])\n",
    "    user19_exer.append(a)"
   ]
  },
  {
   "cell_type": "code",
   "execution_count": 167,
   "metadata": {},
   "outputs": [],
   "source": [
    "user20_exer=[]\n",
    "for i in range(len(user20)):\n",
    "    walk=user20_time[i]\n",
    "    a=[]\n",
    "    for j in range(len(walk)):\n",
    "        if walk['actionOption'][j]==6:\n",
    "            a.append(walk['ts'][j])\n",
    "    user20_exer.append(a)"
   ]
  },
  {
   "cell_type": "code",
   "execution_count": 168,
   "metadata": {},
   "outputs": [],
   "source": [
    "user01_exer1=[]\n",
    "for i in range(len(user01)):\n",
    "    walk=user01_exer[i]\n",
    "    user01_exer1.append(len(walk))"
   ]
  },
  {
   "cell_type": "code",
   "execution_count": 170,
   "metadata": {},
   "outputs": [],
   "source": [
    "user02_exer1=[]\n",
    "for i in range(len(user02)):\n",
    "    walk=user02_exer[i]\n",
    "    user02_exer1.append(len(walk))"
   ]
  },
  {
   "cell_type": "code",
   "execution_count": 171,
   "metadata": {},
   "outputs": [],
   "source": [
    "user03_exer1=[]\n",
    "for i in range(len(user03)):\n",
    "    walk=user03_exer[i]\n",
    "    user03_exer1.append(len(walk))"
   ]
  },
  {
   "cell_type": "code",
   "execution_count": 172,
   "metadata": {},
   "outputs": [],
   "source": [
    "user04_exer1=[]\n",
    "for i in range(len(user04)):\n",
    "    walk=user04_exer[i]\n",
    "    user04_exer1.append(len(walk))"
   ]
  },
  {
   "cell_type": "code",
   "execution_count": 173,
   "metadata": {},
   "outputs": [],
   "source": [
    "user05_exer1=[]\n",
    "for i in range(len(user05)):\n",
    "    walk=user05_exer[i]\n",
    "    user05_exer1.append(len(walk))"
   ]
  },
  {
   "cell_type": "code",
   "execution_count": 174,
   "metadata": {},
   "outputs": [],
   "source": [
    "user06_exer1=[]\n",
    "for i in range(len(user06)):\n",
    "    walk=user06_exer[i]\n",
    "    user06_exer1.append(len(walk))"
   ]
  },
  {
   "cell_type": "code",
   "execution_count": 175,
   "metadata": {},
   "outputs": [],
   "source": [
    "user07_exer1=[]\n",
    "for i in range(len(user07)):\n",
    "    walk=user07_exer[i]\n",
    "    user07_exer1.append(len(walk))"
   ]
  },
  {
   "cell_type": "code",
   "execution_count": 176,
   "metadata": {},
   "outputs": [],
   "source": [
    "user08_exer1=[]\n",
    "for i in range(len(user08)):\n",
    "    walk=user08_exer[i]\n",
    "    user08_exer1.append(len(walk))"
   ]
  },
  {
   "cell_type": "code",
   "execution_count": 177,
   "metadata": {},
   "outputs": [],
   "source": [
    "user09_exer1=[]\n",
    "for i in range(len(user09)):\n",
    "    walk=user09_exer[i]\n",
    "    user09_exer1.append(len(walk))"
   ]
  },
  {
   "cell_type": "code",
   "execution_count": 178,
   "metadata": {},
   "outputs": [],
   "source": [
    "user10_exer1=[]\n",
    "for i in range(len(user10)):\n",
    "    walk=user10_exer[i]\n",
    "    user10_exer1.append(len(walk))"
   ]
  },
  {
   "cell_type": "code",
   "execution_count": 179,
   "metadata": {},
   "outputs": [],
   "source": [
    "user11_exer1=[]\n",
    "for i in range(len(user11)):\n",
    "    walk=user11_exer[i]\n",
    "    user11_exer1.append(len(walk))"
   ]
  },
  {
   "cell_type": "code",
   "execution_count": 180,
   "metadata": {},
   "outputs": [],
   "source": [
    "user12_exer1=[]\n",
    "for i in range(len(user12)):\n",
    "    walk=user12_exer[i]\n",
    "    user12_exer1.append(len(walk))"
   ]
  },
  {
   "cell_type": "code",
   "execution_count": 181,
   "metadata": {},
   "outputs": [],
   "source": [
    "user13_exer1=[]\n",
    "for i in range(len(user13)):\n",
    "    walk=user13_exer[i]\n",
    "    user13_exer1.append(len(walk))"
   ]
  },
  {
   "cell_type": "code",
   "execution_count": 182,
   "metadata": {},
   "outputs": [],
   "source": [
    "user14_exer1=[]\n",
    "for i in range(len(user14)):\n",
    "    walk=user14_exer[i]\n",
    "    user14_exer1.append(len(walk))"
   ]
  },
  {
   "cell_type": "code",
   "execution_count": 183,
   "metadata": {},
   "outputs": [],
   "source": [
    "user15_exer1=[]\n",
    "for i in range(len(user15)):\n",
    "    walk=user15_exer[i]\n",
    "    user15_exer1.append(len(walk))"
   ]
  },
  {
   "cell_type": "code",
   "execution_count": 184,
   "metadata": {},
   "outputs": [],
   "source": [
    "user16_exer1=[]\n",
    "for i in range(len(user16)):\n",
    "    walk=user16_exer[i]\n",
    "    user16_exer1.append(len(walk))"
   ]
  },
  {
   "cell_type": "code",
   "execution_count": 185,
   "metadata": {},
   "outputs": [],
   "source": [
    "user17_exer1=[]\n",
    "for i in range(len(user17)):\n",
    "    walk=user17_exer[i]\n",
    "    user17_exer1.append(len(walk))"
   ]
  },
  {
   "cell_type": "code",
   "execution_count": 186,
   "metadata": {},
   "outputs": [],
   "source": [
    "user18_exer1=[]\n",
    "for i in range(len(user18)):\n",
    "    walk=user18_exer[i]\n",
    "    user18_exer1.append(len(walk))"
   ]
  },
  {
   "cell_type": "code",
   "execution_count": 187,
   "metadata": {},
   "outputs": [],
   "source": [
    "user19_exer1=[]\n",
    "for i in range(len(user19)):\n",
    "    walk=user19_exer[i]\n",
    "    user19_exer1.append(len(walk))"
   ]
  },
  {
   "cell_type": "code",
   "execution_count": 188,
   "metadata": {},
   "outputs": [],
   "source": [
    "user20_exer1=[]\n",
    "for i in range(len(user20)):\n",
    "    walk=user20_exer[i]\n",
    "    user20_exer1.append(len(walk))"
   ]
  },
  {
   "cell_type": "markdown",
   "metadata": {},
   "source": [
    "## 3-2. 2019년 라이프로그 데이터의 날짜, 걷기, 달리기 결합"
   ]
  },
  {
   "cell_type": "code",
   "execution_count": 190,
   "metadata": {},
   "outputs": [],
   "source": [
    "a=pd.Series(user01_date1)\n",
    "b=pd.Series(user01_walk1)\n",
    "c=pd.Series(user01_exer1)\n",
    "user01_1=pd.DataFrame(zip(a, b,c), columns=['date', 'walk', 'exer'])"
   ]
  },
  {
   "cell_type": "code",
   "execution_count": 191,
   "metadata": {},
   "outputs": [],
   "source": [
    "user01_1['userId']='user01'"
   ]
  },
  {
   "cell_type": "code",
   "execution_count": 192,
   "metadata": {},
   "outputs": [],
   "source": [
    "a=pd.Series(user02_date1)\n",
    "b=pd.Series(user02_walk1)\n",
    "c=pd.Series(user02_exer1)\n",
    "user02_1=pd.DataFrame(zip(a, b,c), columns=['date', 'walk', 'exer'])"
   ]
  },
  {
   "cell_type": "code",
   "execution_count": 193,
   "metadata": {},
   "outputs": [],
   "source": [
    "a=pd.Series(user03_date1)\n",
    "b=pd.Series(user03_walk1)\n",
    "c=pd.Series(user03_exer1)\n",
    "user03_1=pd.DataFrame(zip(a, b,c), columns=['date', 'walk', 'exer'])"
   ]
  },
  {
   "cell_type": "code",
   "execution_count": 194,
   "metadata": {},
   "outputs": [],
   "source": [
    "a=pd.Series(user04_date1)\n",
    "b=pd.Series(user04_walk1)\n",
    "c=pd.Series(user04_exer1)\n",
    "user04_1=pd.DataFrame(zip(a, b,c), columns=['date', 'walk', 'exer'])"
   ]
  },
  {
   "cell_type": "code",
   "execution_count": 195,
   "metadata": {},
   "outputs": [],
   "source": [
    "a=pd.Series(user05_date1)\n",
    "b=pd.Series(user05_walk1)\n",
    "c=pd.Series(user05_exer1)\n",
    "user05_1=pd.DataFrame(zip(a, b,c), columns=['date', 'walk', 'exer'])"
   ]
  },
  {
   "cell_type": "code",
   "execution_count": 196,
   "metadata": {},
   "outputs": [],
   "source": [
    "a=pd.Series(user06_date1)\n",
    "b=pd.Series(user06_walk1)\n",
    "c=pd.Series(user06_exer1)\n",
    "user06_1=pd.DataFrame(zip(a, b,c), columns=['date', 'walk', 'exer'])"
   ]
  },
  {
   "cell_type": "code",
   "execution_count": 197,
   "metadata": {},
   "outputs": [],
   "source": [
    "a=pd.Series(user07_date1)\n",
    "b=pd.Series(user07_walk1)\n",
    "c=pd.Series(user07_exer1)\n",
    "user07_1=pd.DataFrame(zip(a, b,c), columns=['date', 'walk', 'exer'])"
   ]
  },
  {
   "cell_type": "code",
   "execution_count": 198,
   "metadata": {},
   "outputs": [],
   "source": [
    "a=pd.Series(user08_date1)\n",
    "b=pd.Series(user08_walk1)\n",
    "c=pd.Series(user08_exer1)\n",
    "user08_1=pd.DataFrame(zip(a, b,c), columns=['date', 'walk', 'exer'])"
   ]
  },
  {
   "cell_type": "code",
   "execution_count": 199,
   "metadata": {},
   "outputs": [],
   "source": [
    "a=pd.Series(user09_date1)\n",
    "b=pd.Series(user09_walk1)\n",
    "c=pd.Series(user09_exer1)\n",
    "user09_1=pd.DataFrame(zip(a, b,c), columns=['date', 'walk', 'exer'])"
   ]
  },
  {
   "cell_type": "code",
   "execution_count": 200,
   "metadata": {},
   "outputs": [],
   "source": [
    "a=pd.Series(user10_date1)\n",
    "b=pd.Series(user10_walk1)\n",
    "c=pd.Series(user10_exer1)\n",
    "user10_1=pd.DataFrame(zip(a, b,c), columns=['date', 'walk', 'exer'])"
   ]
  },
  {
   "cell_type": "code",
   "execution_count": 201,
   "metadata": {},
   "outputs": [],
   "source": [
    "a=pd.Series(user11_date1)\n",
    "b=pd.Series(user11_walk1)\n",
    "c=pd.Series(user11_exer1)\n",
    "user11_1=pd.DataFrame(zip(a, b,c), columns=['date', 'walk', 'exer'])"
   ]
  },
  {
   "cell_type": "code",
   "execution_count": 202,
   "metadata": {},
   "outputs": [],
   "source": [
    "a=pd.Series(user12_date1)\n",
    "b=pd.Series(user12_walk1)\n",
    "c=pd.Series(user12_exer1)\n",
    "user12_1=pd.DataFrame(zip(a, b,c), columns=['date', 'walk', 'exer'])"
   ]
  },
  {
   "cell_type": "code",
   "execution_count": 203,
   "metadata": {},
   "outputs": [],
   "source": [
    "a=pd.Series(user13_date1)\n",
    "b=pd.Series(user13_walk1)\n",
    "c=pd.Series(user13_exer1)\n",
    "user13_1=pd.DataFrame(zip(a, b,c), columns=['date', 'walk', 'exer'])"
   ]
  },
  {
   "cell_type": "code",
   "execution_count": 204,
   "metadata": {},
   "outputs": [],
   "source": [
    "a=pd.Series(user14_date1)\n",
    "b=pd.Series(user14_walk1)\n",
    "c=pd.Series(user14_exer1)\n",
    "user14_1=pd.DataFrame(zip(a, b,c), columns=['date', 'walk', 'exer'])"
   ]
  },
  {
   "cell_type": "code",
   "execution_count": 205,
   "metadata": {},
   "outputs": [],
   "source": [
    "a=pd.Series(user15_date1)\n",
    "b=pd.Series(user15_walk1)\n",
    "c=pd.Series(user15_exer1)\n",
    "user15_1=pd.DataFrame(zip(a, b,c), columns=['date', 'walk', 'exer'])"
   ]
  },
  {
   "cell_type": "code",
   "execution_count": 206,
   "metadata": {},
   "outputs": [
    {
     "name": "stderr",
     "output_type": "stream",
     "text": [
      "/usr/local/lib/python3.6/dist-packages/ipykernel_launcher.py:1: DeprecationWarning: The default dtype for empty Series will be 'object' instead of 'float64' in a future version. Specify a dtype explicitly to silence this warning.\n",
      "  \"\"\"Entry point for launching an IPython kernel.\n"
     ]
    }
   ],
   "source": [
    "a=pd.Series(user16_date1)\n",
    "b=pd.Series(user16_walk1)\n",
    "c=pd.Series(user16_exer1)\n",
    "user16_1=pd.DataFrame(zip(a, b,c), columns=['date', 'walk', 'exer'])"
   ]
  },
  {
   "cell_type": "code",
   "execution_count": 207,
   "metadata": {},
   "outputs": [
    {
     "name": "stderr",
     "output_type": "stream",
     "text": [
      "/usr/local/lib/python3.6/dist-packages/ipykernel_launcher.py:1: DeprecationWarning: The default dtype for empty Series will be 'object' instead of 'float64' in a future version. Specify a dtype explicitly to silence this warning.\n",
      "  \"\"\"Entry point for launching an IPython kernel.\n"
     ]
    }
   ],
   "source": [
    "a=pd.Series(user17_date1)\n",
    "b=pd.Series(user17_walk1)\n",
    "c=pd.Series(user17_exer1)\n",
    "user17_1=pd.DataFrame(zip(a, b,c), columns=['date', 'walk', 'exer'])"
   ]
  },
  {
   "cell_type": "code",
   "execution_count": 208,
   "metadata": {},
   "outputs": [],
   "source": [
    "a=pd.Series(user18_date1)\n",
    "b=pd.Series(user18_walk1)\n",
    "c=pd.Series(user18_exer1)\n",
    "user18_1=pd.DataFrame(zip(a, b,c), columns=['date', 'walk', 'exer'])"
   ]
  },
  {
   "cell_type": "code",
   "execution_count": 209,
   "metadata": {},
   "outputs": [],
   "source": [
    "a=pd.Series(user19_date1)\n",
    "b=pd.Series(user19_walk1)\n",
    "c=pd.Series(user19_exer1)\n",
    "user19_1=pd.DataFrame(zip(a, b,c), columns=['date', 'walk', 'exer'])"
   ]
  },
  {
   "cell_type": "code",
   "execution_count": 210,
   "metadata": {},
   "outputs": [],
   "source": [
    "a=pd.Series(user20_date1)\n",
    "b=pd.Series(user20_walk1)\n",
    "c=pd.Series(user20_exer1)\n",
    "user20_1=pd.DataFrame(zip(a, b,c), columns=['date', 'walk', 'exer'])"
   ]
  },
  {
   "cell_type": "code",
   "execution_count": 213,
   "metadata": {},
   "outputs": [],
   "source": [
    "user01_1['userId']='user01'\n",
    "user02_1['userId']='user02'\n",
    "user03_1['userId']='user03'\n",
    "user04_1['userId']='user04'\n",
    "user05_1['userId']='user05'\n",
    "user06_1['userId']='user06'\n",
    "user07_1['userId']='user07'\n",
    "user08_1['userId']='user08'\n",
    "user09_1['userId']='user09'\n",
    "user10_1['userId']='user10'\n",
    "user11_1['userId']='user11'\n",
    "user12_1['userId']='user12'\n",
    "user13_1['userId']='user13'\n",
    "user14_1['userId']='user14'\n",
    "user15_1['userId']='user15'\n",
    "user16_1['userId']='user16'\n",
    "user17_1['userId']='user17'\n",
    "user18_1['userId']='user18'\n",
    "user19_1['userId']='user19'\n",
    "user20_1['userId']='user20'"
   ]
  },
  {
   "cell_type": "code",
   "execution_count": 214,
   "metadata": {},
   "outputs": [],
   "source": [
    "user_2=pd.concat([user01_1, user02_1, user03_1, user04_1, user05_1, user06_1, user07_1, user08_1, user09_1\\\n",
    "                 , user10_1, user11_1, user12_1, user13_1, user14_1, user15_1, user16_1, user17_1, user18_1\\\n",
    "                 , user19_1, user20_1])"
   ]
  },
  {
   "cell_type": "markdown",
   "metadata": {},
   "source": [
    ">2019년에 등록된 대상자의 수면 데이터를 불러옴"
   ]
  },
  {
   "cell_type": "code",
   "execution_count": 216,
   "metadata": {},
   "outputs": [],
   "source": [
    "user_sleep_2019_1=pd.read_csv('user_sleep_2019_1.csv')"
   ]
  },
  {
   "cell_type": "markdown",
   "metadata": {},
   "source": [
    ">2019년에 등록된 대상자의 수면 데이터와 운동관련 데이터 병합"
   ]
  },
  {
   "cell_type": "code",
   "execution_count": 218,
   "metadata": {},
   "outputs": [],
   "source": [
    "user_sleep_2019_1exer=pd.merge(user_sleep_2019_1, user_2, left_on=['userid1','date'], right_on=['userId','date'])"
   ]
  },
  {
   "cell_type": "code",
   "execution_count": 219,
   "metadata": {},
   "outputs": [],
   "source": [
    "user_sleep_2019_1exer=user_sleep_2019_1exer.drop(columns=['userId_y', 'userId_x'])"
   ]
  },
  {
   "cell_type": "code",
   "execution_count": 220,
   "metadata": {},
   "outputs": [],
   "source": [
    "user_sleep_2019_1exer=user_sleep_2019_1exer.rename(columns ={'userid1':'userId'})"
   ]
  },
  {
   "cell_type": "code",
   "execution_count": 221,
   "metadata": {},
   "outputs": [
    {
     "data": {
      "text/plain": [
       "0      318\n",
       "112      3\n",
       "37       3\n",
       "57       2\n",
       "32       2\n",
       "91       2\n",
       "7        2\n",
       "6        2\n",
       "1        2\n",
       "92       1\n",
       "77       1\n",
       "76       1\n",
       "Name: exer, dtype: int64"
      ]
     },
     "execution_count": 221,
     "metadata": {},
     "output_type": "execute_result"
    }
   ],
   "source": [
    "user_sleep_2019_1exer['exer'].value_counts()"
   ]
  },
  {
   "cell_type": "markdown",
   "metadata": {},
   "source": [
    ">머지 데이터 csv 로 저장"
   ]
  },
  {
   "cell_type": "code",
   "execution_count": 223,
   "metadata": {},
   "outputs": [],
   "source": [
    "user_sleep_2019_1exer.to_csv('user_sleep_2019_exer.csv')"
   ]
  },
  {
   "cell_type": "markdown",
   "metadata": {},
   "source": [
    "# 4. 라이프로그 데이터 중 운동(걷기, 달리기) 에 해당하는 gps 기록 추출"
   ]
  },
  {
   "cell_type": "markdown",
   "metadata": {},
   "source": [
    ">2018년에 등록된 대상자의 라이프로그 운동 데이터 중 각 사용자별 gps 리스트로 저장"
   ]
  },
  {
   "cell_type": "code",
   "execution_count": 224,
   "metadata": {},
   "outputs": [],
   "source": [
    "user01_gps=[]\n",
    "for i in range(len(user01_walk)):\n",
    "    for j in user01_walk[i]:\n",
    "        user01_gps.append(j)\n",
    "for i in range(len(user01_exer)):\n",
    "    for j in user01_exer[i]:\n",
    "        user01_gps.append(j) "
   ]
  },
  {
   "cell_type": "code",
   "execution_count": 225,
   "metadata": {},
   "outputs": [],
   "source": [
    "user02_gps=[]\n",
    "for i in range(len(user02_walk)):\n",
    "    for j in user02_walk[i]:\n",
    "        user02_gps.append(j)\n",
    "for i in range(len(user02_exer)):\n",
    "    for j in user02_exer[i]:\n",
    "        user02_gps.append(j) "
   ]
  },
  {
   "cell_type": "code",
   "execution_count": 226,
   "metadata": {},
   "outputs": [],
   "source": [
    "user03_gps=[]\n",
    "for i in range(len(user03_walk)):\n",
    "    for j in user03_walk[i]:\n",
    "        user03_gps.append(j)\n",
    "for i in range(len(user03_exer)):\n",
    "    for j in user03_exer[i]:\n",
    "        user03_gps.append(j) "
   ]
  },
  {
   "cell_type": "code",
   "execution_count": 227,
   "metadata": {},
   "outputs": [],
   "source": [
    "user04_gps=[]\n",
    "for i in range(len(user04_walk)):\n",
    "    for j in user04_walk[i]:\n",
    "        user04_gps.append(j)\n",
    "for i in range(len(user04_exer)):\n",
    "    for j in user04_exer[i]:\n",
    "        user04_gps.append(j) "
   ]
  },
  {
   "cell_type": "code",
   "execution_count": 228,
   "metadata": {},
   "outputs": [],
   "source": [
    "user05_gps=[]\n",
    "for i in range(len(user05_walk)):\n",
    "    for j in user05_walk[i]:\n",
    "        user05_gps.append(j)\n",
    "for i in range(len(user05_exer)):\n",
    "    for j in user05_exer[i]:\n",
    "        user05_gps.append(j) "
   ]
  },
  {
   "cell_type": "code",
   "execution_count": 229,
   "metadata": {},
   "outputs": [],
   "source": [
    "user06_gps=[]\n",
    "for i in range(len(user06_walk)):\n",
    "    for j in user06_walk[i]:\n",
    "        user06_gps.append(j)\n",
    "for i in range(len(user06_exer)):\n",
    "    for j in user06_exer[i]:\n",
    "        user06_gps.append(j) "
   ]
  },
  {
   "cell_type": "code",
   "execution_count": 230,
   "metadata": {},
   "outputs": [],
   "source": [
    "user07_gps=[]\n",
    "for i in range(len(user07_walk)):\n",
    "    for j in user07_walk[i]:\n",
    "        user07_gps.append(j)\n",
    "for i in range(len(user07_exer)):\n",
    "    for j in user07_exer[i]:\n",
    "        user07_gps.append(j) "
   ]
  },
  {
   "cell_type": "code",
   "execution_count": 231,
   "metadata": {},
   "outputs": [],
   "source": [
    "user08_gps=[]\n",
    "for i in range(len(user08_walk)):\n",
    "    for j in user08_walk[i]:\n",
    "        user08_gps.append(j)\n",
    "for i in range(len(user08_exer)):\n",
    "    for j in user08_exer[i]:\n",
    "        user08_gps.append(j) "
   ]
  },
  {
   "cell_type": "code",
   "execution_count": 232,
   "metadata": {},
   "outputs": [],
   "source": [
    "user09_gps=[]\n",
    "for i in range(len(user09_walk)):\n",
    "    for j in user09_walk[i]:\n",
    "        user09_gps.append(j)\n",
    "for i in range(len(user09_exer)):\n",
    "    for j in user09_exer[i]:\n",
    "        user09_gps.append(j) "
   ]
  },
  {
   "cell_type": "code",
   "execution_count": 233,
   "metadata": {},
   "outputs": [],
   "source": [
    "user10_gps=[]\n",
    "for i in range(len(user10_walk)):\n",
    "    for j in user10_walk[i]:\n",
    "        user10_gps.append(j)\n",
    "for i in range(len(user10_exer)):\n",
    "    for j in user10_exer[i]:\n",
    "        user10_gps.append(j) "
   ]
  },
  {
   "cell_type": "code",
   "execution_count": 234,
   "metadata": {},
   "outputs": [],
   "source": [
    "user11_gps=[]\n",
    "for i in range(len(user11_walk)):\n",
    "    for j in user11_walk[i]:\n",
    "        user11_gps.append(j)\n",
    "for i in range(len(user11_exer)):\n",
    "    for j in user11_exer[i]:\n",
    "        user11_gps.append(j) "
   ]
  },
  {
   "cell_type": "code",
   "execution_count": 235,
   "metadata": {},
   "outputs": [],
   "source": [
    "user12_gps=[]\n",
    "for i in range(len(user12_walk)):\n",
    "    for j in user12_walk[i]:\n",
    "        user12_gps.append(j)\n",
    "for i in range(len(user12_exer)):\n",
    "    for j in user12_exer[i]:\n",
    "        user12_gps.append(j) "
   ]
  },
  {
   "cell_type": "code",
   "execution_count": 236,
   "metadata": {},
   "outputs": [],
   "source": [
    "user13_gps=[]\n",
    "for i in range(len(user13_walk)):\n",
    "    for j in user13_walk[i]:\n",
    "        user13_gps.append(j)\n",
    "for i in range(len(user13_exer)):\n",
    "    for j in user13_exer[i]:\n",
    "        user13_gps.append(j) "
   ]
  },
  {
   "cell_type": "code",
   "execution_count": 237,
   "metadata": {},
   "outputs": [],
   "source": [
    "user14_gps=[]\n",
    "for i in range(len(user14_walk)):\n",
    "    for j in user14_walk[i]:\n",
    "        user14_gps.append(j)\n",
    "for i in range(len(user14_exer)):\n",
    "    for j in user14_exer[i]:\n",
    "        user14_gps.append(j) "
   ]
  },
  {
   "cell_type": "code",
   "execution_count": 238,
   "metadata": {},
   "outputs": [],
   "source": [
    "user15_gps=[]\n",
    "for i in range(len(user15_walk)):\n",
    "    for j in user15_walk[i]:\n",
    "        user15_gps.append(j)\n",
    "for i in range(len(user15_exer)):\n",
    "    for j in user15_exer[i]:\n",
    "        user15_gps.append(j) "
   ]
  },
  {
   "cell_type": "code",
   "execution_count": 239,
   "metadata": {},
   "outputs": [],
   "source": [
    "user16_gps=[]\n",
    "for i in range(len(user16_walk)):\n",
    "    for j in user16_walk[i]:\n",
    "        user16_gps.append(j)\n",
    "for i in range(len(user16_exer)):\n",
    "    for j in user16_exer[i]:\n",
    "        user16_gps.append(j) "
   ]
  },
  {
   "cell_type": "code",
   "execution_count": 240,
   "metadata": {},
   "outputs": [],
   "source": [
    "user17_gps=[]\n",
    "for i in range(len(user17_walk)):\n",
    "    for j in user17_walk[i]:\n",
    "        user17_gps.append(j)\n",
    "for i in range(len(user17_exer)):\n",
    "    for j in user17_exer[i]:\n",
    "        user17_gps.append(j) "
   ]
  },
  {
   "cell_type": "code",
   "execution_count": 241,
   "metadata": {},
   "outputs": [],
   "source": [
    "user18_gps=[]\n",
    "for i in range(len(user18_walk)):\n",
    "    for j in user18_walk[i]:\n",
    "        user18_gps.append(j)\n",
    "for i in range(len(user18_exer)):\n",
    "    for j in user18_exer[i]:\n",
    "        user18_gps.append(j) "
   ]
  },
  {
   "cell_type": "code",
   "execution_count": 242,
   "metadata": {},
   "outputs": [],
   "source": [
    "user19_gps=[]\n",
    "for i in range(len(user19_walk)):\n",
    "    for j in user19_walk[i]:\n",
    "        user19_gps.append(j)\n",
    "for i in range(len(user19_exer)):\n",
    "    for j in user19_exer[i]:\n",
    "        user19_gps.append(j) "
   ]
  },
  {
   "cell_type": "code",
   "execution_count": 243,
   "metadata": {},
   "outputs": [],
   "source": [
    "user20_gps=[]\n",
    "for i in range(len(user20_walk)):\n",
    "    for j in user20_walk[i]:\n",
    "        user20_gps.append(j)\n",
    "for i in range(len(user20_exer)):\n",
    "    for j in user20_exer[i]:\n",
    "        user20_gps.append(j) "
   ]
  },
  {
   "cell_type": "code",
   "execution_count": 244,
   "metadata": {},
   "outputs": [
    {
     "data": {
      "text/plain": [
       "'/mnt/data/tkeo12/exer2019'"
      ]
     },
     "execution_count": 244,
     "metadata": {},
     "output_type": "execute_result"
    }
   ],
   "source": [
    "PATH = '/mnt/data/tkeo12/exer2019'\n",
    "os.chdir(PATH)\n",
    "os.getcwd()"
   ]
  },
  {
   "cell_type": "markdown",
   "metadata": {},
   "source": [
    ">각 사용자별 gps 데이터를 csv로 추출"
   ]
  },
  {
   "cell_type": "code",
   "execution_count": 245,
   "metadata": {},
   "outputs": [],
   "source": [
    "user01_gps=pd.DataFrame(user01_gps, columns=['activity_time'])"
   ]
  },
  {
   "cell_type": "code",
   "execution_count": 246,
   "metadata": {},
   "outputs": [],
   "source": [
    "pd.DataFrame(user01_gps).to_csv('user01_gps.csv', index=False)"
   ]
  },
  {
   "cell_type": "code",
   "execution_count": 247,
   "metadata": {},
   "outputs": [],
   "source": [
    "user02_gps=pd.DataFrame(user02_gps, columns=['activity_time'])\n",
    "pd.DataFrame(user02_gps).to_csv('user02_gps.csv', index=False)"
   ]
  },
  {
   "cell_type": "code",
   "execution_count": 248,
   "metadata": {},
   "outputs": [],
   "source": [
    "user03_gps=pd.DataFrame(user03_gps, columns=['activity_time'])\n",
    "pd.DataFrame(user03_gps).to_csv('user03_gps.csv', index=False)"
   ]
  },
  {
   "cell_type": "code",
   "execution_count": 249,
   "metadata": {},
   "outputs": [],
   "source": [
    "user04_gps=pd.DataFrame(user04_gps, columns=['activity_time'])\n",
    "pd.DataFrame(user04_gps).to_csv('user04_gps.csv', index=False)"
   ]
  },
  {
   "cell_type": "code",
   "execution_count": 250,
   "metadata": {},
   "outputs": [],
   "source": [
    "user05_gps=pd.DataFrame(user05_gps, columns=['activity_time'])\n",
    "pd.DataFrame(user05_gps).to_csv('user05_gps.csv', index=False)"
   ]
  },
  {
   "cell_type": "code",
   "execution_count": 251,
   "metadata": {},
   "outputs": [],
   "source": [
    "user06_gps=pd.DataFrame(user06_gps, columns=['activity_time'])\n",
    "pd.DataFrame(user06_gps).to_csv('user06_gps.csv', index=False)"
   ]
  },
  {
   "cell_type": "code",
   "execution_count": 252,
   "metadata": {},
   "outputs": [],
   "source": [
    "user07_gps=pd.DataFrame(user07_gps, columns=['activity_time'])\n",
    "pd.DataFrame(user07_gps).to_csv('user07_gps.csv', index=False)"
   ]
  },
  {
   "cell_type": "code",
   "execution_count": 253,
   "metadata": {},
   "outputs": [],
   "source": [
    "user08_gps=pd.DataFrame(user08_gps, columns=['activity_time'])\n",
    "pd.DataFrame(user08_gps).to_csv('user08_gps.csv', index=False)"
   ]
  },
  {
   "cell_type": "code",
   "execution_count": 254,
   "metadata": {},
   "outputs": [],
   "source": [
    "user09_gps=pd.DataFrame(user09_gps, columns=['activity_time'])\n",
    "pd.DataFrame(user09_gps).to_csv('user09_gps.csv', index=False)"
   ]
  },
  {
   "cell_type": "code",
   "execution_count": 255,
   "metadata": {},
   "outputs": [],
   "source": [
    "user10_gps=pd.DataFrame(user10_gps, columns=['activity_time'])\n",
    "pd.DataFrame(user10_gps).to_csv('user10_gps.csv', index=False)"
   ]
  },
  {
   "cell_type": "code",
   "execution_count": 256,
   "metadata": {},
   "outputs": [],
   "source": [
    "user11_gps=pd.DataFrame(user11_gps, columns=['activity_time'])\n",
    "pd.DataFrame(user11_gps).to_csv('user11_gps.csv', index=False)"
   ]
  },
  {
   "cell_type": "code",
   "execution_count": 257,
   "metadata": {},
   "outputs": [],
   "source": [
    "user12_gps=pd.DataFrame(user12_gps, columns=['activity_time'])\n",
    "pd.DataFrame(user12_gps).to_csv('user12_gps.csv', index=False)"
   ]
  },
  {
   "cell_type": "code",
   "execution_count": 258,
   "metadata": {},
   "outputs": [],
   "source": [
    "user13_gps=pd.DataFrame(user12_gps, columns=['activity_time'])\n",
    "pd.DataFrame(user13_gps).to_csv('user13_gps.csv', index=False)"
   ]
  },
  {
   "cell_type": "code",
   "execution_count": 259,
   "metadata": {},
   "outputs": [],
   "source": [
    "user14_gps=pd.DataFrame(user12_gps, columns=['activity_time'])\n",
    "pd.DataFrame(user14_gps).to_csv('user14_gps.csv', index=False)"
   ]
  },
  {
   "cell_type": "code",
   "execution_count": 260,
   "metadata": {},
   "outputs": [],
   "source": [
    "user15_gps=pd.DataFrame(user12_gps, columns=['activity_time'])\n",
    "pd.DataFrame(user15_gps).to_csv('user15_gps.csv', index=False)"
   ]
  },
  {
   "cell_type": "code",
   "execution_count": 261,
   "metadata": {},
   "outputs": [],
   "source": [
    "user16_gps=pd.DataFrame(user12_gps, columns=['activity_time'])\n",
    "pd.DataFrame(user16_gps).to_csv('user16_gps.csv', index=False)"
   ]
  },
  {
   "cell_type": "code",
   "execution_count": 262,
   "metadata": {},
   "outputs": [],
   "source": [
    "user17_gps=pd.DataFrame(user12_gps, columns=['activity_time'])\n",
    "pd.DataFrame(user17_gps).to_csv('user17_gps.csv', index=False)"
   ]
  },
  {
   "cell_type": "code",
   "execution_count": 263,
   "metadata": {},
   "outputs": [],
   "source": [
    "user18_gps=pd.DataFrame(user12_gps, columns=['activity_time'])\n",
    "pd.DataFrame(user18_gps).to_csv('user18_gps.csv', index=False)"
   ]
  },
  {
   "cell_type": "code",
   "execution_count": 264,
   "metadata": {},
   "outputs": [],
   "source": [
    "user19_gps=pd.DataFrame(user19_gps, columns=['activity_time'])\n",
    "pd.DataFrame(user19_gps).to_csv('user19_gps.csv', index=False)"
   ]
  },
  {
   "cell_type": "code",
   "execution_count": 265,
   "metadata": {},
   "outputs": [],
   "source": [
    "user20_gps=pd.DataFrame(user20_gps, columns=['activity_time'])\n",
    "pd.DataFrame(user20_gps).to_csv('user20_gps.csv', index=False)"
   ]
  }
 ],
 "metadata": {
  "kernelspec": {
   "display_name": "Python 3",
   "language": "python",
   "name": "python3"
  },
  "language_info": {
   "codemirror_mode": {
    "name": "ipython",
    "version": 3
   },
   "file_extension": ".py",
   "mimetype": "text/x-python",
   "name": "python",
   "nbconvert_exporter": "python",
   "pygments_lexer": "ipython3",
   "version": "3.8.8"
  }
 },
 "nbformat": 4,
 "nbformat_minor": 4
}
