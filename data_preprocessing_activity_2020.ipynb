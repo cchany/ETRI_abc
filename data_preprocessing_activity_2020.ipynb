{
 "cells": [
  {
   "cell_type": "markdown",
   "metadata": {},
   "source": [
    "# 0. 원본(raw) 데이터는 ETRI aifactory 사이트를 통해 구할 수 있음."
   ]
  },
  {
   "cell_type": "markdown",
   "metadata": {},
   "source": [
    ">https://nanum.etri.re.kr/share/schung1/ETRILifelogDataset2020?lang=ko_KR"
   ]
  },
  {
   "cell_type": "markdown",
   "metadata": {},
   "source": [
    "# 1. 외부 Module import"
   ]
  },
  {
   "cell_type": "markdown",
   "metadata": {},
   "source": [
    ">데이터 전처리에 사용할 모듈을 설치 후 import"
   ]
  },
  {
   "cell_type": "code",
   "execution_count": 10,
   "metadata": {},
   "outputs": [],
   "source": [
    "from torch.utils.data import TensorDataset\n",
    "import numpy as np\n",
    "from numpy import concatenate\n",
    "from numpy import loadtxt\n",
    "from math import sqrt\n",
    "import torch\n",
    "import torch.nn as nn\n",
    "import torch.nn.functional as F\n",
    "from torch.utils.data import Dataset,random_split,DistributedSampler,DataLoader\n",
    "import random,os,copy\n",
    "import pickle\n",
    "from collections import Counter\n",
    "import matplotlib.pyplot as plt\n",
    "from matplotlib import pyplot\n",
    "from matplotlib import rc\n",
    "import seaborn as sns\n",
    "import pandas as pd\n",
    "from pandas import read_csv,DataFrame,concat\n",
    "from pandas.plotting import register_matplotlib_converters\n",
    "from sklearn.metrics import mean_absolute_error,mean_squared_error,mean_squared_log_error,r2_score,roc_auc_score,roc_curve\n",
    "from sklearn.model_selection import train_test_split\n",
    "from sklearn.preprocessing import StandardScaler,MinMaxScaler,LabelEncoder\n",
    "from datetime import datetime"
   ]
  },
  {
   "cell_type": "code",
   "execution_count": 5,
   "metadata": {},
   "outputs": [
    {
     "name": "stdout",
     "output_type": "stream",
     "text": [
      "3.6.9 (default, Mar 10 2023, 16:46:00) \n",
      "[GCC 8.4.0]\n"
     ]
    }
   ],
   "source": [
    "import sys\n",
    "\n",
    "print(sys.version)"
   ]
  },
  {
   "cell_type": "markdown",
   "metadata": {},
   "source": [
    "# 2. 라이프로그 데이터 불러오기"
   ]
  },
  {
   "cell_type": "markdown",
   "metadata": {},
   "source": [
    "> 각 대상자에 대하여 : raw 라이프로그 데이터 폴더에 접근 → 일단위로 분할되어있는 데이터 폴더에 접근 → 대상자의 해당 일자에 대한 라이프로그 파일 불러옴"
   ]
  },
  {
   "cell_type": "code",
   "execution_count": 14,
   "metadata": {},
   "outputs": [
    {
     "name": "stdout",
     "output_type": "stream",
     "text": [
      "np 1.19.1\n",
      "pd 1.1.5\n",
      "torch 1.10.2+cu102\n"
     ]
    }
   ],
   "source": [
    "print(\"np\",np.__version__)\n",
    "print(\"pd\",pd.__version__)\n",
    "print(\"torch\",torch.__version__)"
   ]
  },
  {
   "cell_type": "markdown",
   "metadata": {},
   "source": [
    "## 2-1. 2020년 라이프로그 데이터 불러오기"
   ]
  },
  {
   "cell_type": "markdown",
   "metadata": {},
   "source": [
    ">2020년에 등록된 대상자의 라이프로그 데이터를 불러오기 위해 각 사용자별 타임스탬프 추출"
   ]
  },
  {
   "cell_type": "code",
   "execution_count": 7,
   "metadata": {},
   "outputs": [
    {
     "data": {
      "text/plain": [
       "'/mnt/data/tkeo12'"
      ]
     },
     "execution_count": 7,
     "metadata": {},
     "output_type": "execute_result"
    }
   ],
   "source": [
    "os.getcwd()"
   ]
  },
  {
   "cell_type": "code",
   "execution_count": 17,
   "metadata": {},
   "outputs": [
    {
     "data": {
      "text/plain": [
       "'/mnt/data/tkeo12/user01-06/user01-06/user01'"
      ]
     },
     "execution_count": 17,
     "metadata": {},
     "output_type": "execute_result"
    }
   ],
   "source": [
    "PATH = '/mnt/data/tkeo12/user01-06/user01-06/user01'\n",
    "os.chdir(PATH)\n",
    "os.getcwd()"
   ]
  },
  {
   "cell_type": "code",
   "execution_count": 18,
   "metadata": {},
   "outputs": [],
   "source": [
    "user01=os.listdir(path = '.')"
   ]
  },
  {
   "cell_type": "code",
   "execution_count": 19,
   "metadata": {},
   "outputs": [],
   "source": [
    "user01.sort()"
   ]
  },
  {
   "cell_type": "code",
   "execution_count": 20,
   "metadata": {},
   "outputs": [],
   "source": [
    "user01_time=[]\n",
    "for i in range(len(user01)):\n",
    "    user01_time.append(f'user1_time{i}')"
   ]
  },
  {
   "cell_type": "code",
   "execution_count": 22,
   "metadata": {},
   "outputs": [],
   "source": [
    "for i in range(len(user01)):\n",
    "    ts=user01[i]\n",
    "    user01_time[i]=pd.read_csv(f'{ts}/{ts}_label.csv')"
   ]
  },
  {
   "cell_type": "code",
   "execution_count": 23,
   "metadata": {},
   "outputs": [
    {
     "data": {
      "text/plain": [
       "'/mnt/data/tkeo12/user01-06/user01-06/user02'"
      ]
     },
     "execution_count": 23,
     "metadata": {},
     "output_type": "execute_result"
    }
   ],
   "source": [
    "PATH = '/mnt/data/tkeo12/user01-06/user01-06/user02'\n",
    "os.chdir(PATH)\n",
    "os.getcwd()"
   ]
  },
  {
   "cell_type": "code",
   "execution_count": 24,
   "metadata": {},
   "outputs": [],
   "source": [
    "PATH = '/mnt/data/tkeo12/user01-06/user01-06/user02'\n",
    "os.chdir(PATH)\n",
    "os.getcwd()\n",
    "user02=os.listdir(path = '.')\n",
    "user02.sort()\n",
    "user02_time=[]\n",
    "for i in range(len(user02)):\n",
    "    user02_time.append(f'user02_time{i}')\n",
    "for i in range(len(user02)):\n",
    "    ts=user02[i]\n",
    "    user02_time[i]=pd.read_csv(f'{ts}/{ts}_label.csv')"
   ]
  },
  {
   "cell_type": "code",
   "execution_count": 25,
   "metadata": {},
   "outputs": [],
   "source": [
    "PATH = '/mnt/data/tkeo12/user01-06/user01-06/user03'\n",
    "os.chdir(PATH)\n",
    "os.getcwd()\n",
    "user03=os.listdir(path = '.')\n",
    "user03.sort()\n",
    "user03_time=[]\n",
    "for i in range(len(user03)):\n",
    "    user03_time.append(f'user03_time{i}')\n",
    "for i in range(len(user03)):\n",
    "    ts=user03[i]\n",
    "    user03_time[i]=pd.read_csv(f'{ts}/{ts}_label.csv')"
   ]
  },
  {
   "cell_type": "code",
   "execution_count": 26,
   "metadata": {},
   "outputs": [],
   "source": [
    "PATH = '/mnt/data/tkeo12/user01-06/user01-06/user04'\n",
    "os.chdir(PATH)\n",
    "os.getcwd()\n",
    "user04=os.listdir(path = '.')\n",
    "user04.sort()\n",
    "user04_time=[]\n",
    "for i in range(len(user04)):\n",
    "    user04_time.append(f'user04_time{i}')\n",
    "for i in range(len(user04)):\n",
    "    ts=user04[i]\n",
    "    user04_time[i]=pd.read_csv(f'{ts}/{ts}_label.csv')"
   ]
  },
  {
   "cell_type": "code",
   "execution_count": 27,
   "metadata": {},
   "outputs": [],
   "source": [
    "PATH = '/mnt/data/tkeo12/user01-06/user01-06/user05'\n",
    "os.chdir(PATH)\n",
    "os.getcwd()\n",
    "user05=os.listdir(path = '.')\n",
    "user05.sort()\n",
    "user05_time=[]\n",
    "for i in range(len(user05)):\n",
    "    user05_time.append(f'user05_time{i}')\n",
    "for i in range(len(user05)):\n",
    "    ts=user05[i]\n",
    "    user05_time[i]=pd.read_csv(f'{ts}/{ts}_label.csv')"
   ]
  },
  {
   "cell_type": "code",
   "execution_count": 28,
   "metadata": {},
   "outputs": [],
   "source": [
    "PATH = '/mnt/data/tkeo12/user01-06/user01-06/user06'\n",
    "os.chdir(PATH)\n",
    "os.getcwd()\n",
    "user06=os.listdir(path = '.')\n",
    "user06.sort()\n",
    "del user06[0]\n",
    "user06_time=[]\n",
    "for i in range(len(user06)):\n",
    "    user06_time.append(f'user06_time{i}')\n",
    "for i in range(len(user06)):\n",
    "    ts=user06[i]\n",
    "    user06_time[i]=pd.read_csv(f'{ts}/{ts}_label.csv')"
   ]
  },
  {
   "cell_type": "code",
   "execution_count": 29,
   "metadata": {},
   "outputs": [],
   "source": [
    "PATH = '/mnt/data/tkeo12/user07-10/user07-10/user07'\n",
    "os.chdir(PATH)\n",
    "os.getcwd()\n",
    "user07=os.listdir(path = '.')\n",
    "user07.sort()\n",
    "user07_time=[]\n",
    "for i in range(len(user07)):\n",
    "    user07_time.append(f'user07_time{i}')\n",
    "for i in range(len(user07)):\n",
    "    ts=user07[i]\n",
    "    user07_time[i]=pd.read_csv(f'{ts}/{ts}_label.csv')"
   ]
  },
  {
   "cell_type": "code",
   "execution_count": 30,
   "metadata": {},
   "outputs": [],
   "source": [
    "PATH = '/mnt/data/tkeo12/user07-10/user07-10/user08'\n",
    "os.chdir(PATH)\n",
    "os.getcwd()\n",
    "user08=os.listdir(path = '.')\n",
    "user08.sort()\n",
    "user08_time=[]\n",
    "for i in range(len(user08)):\n",
    "    user08_time.append(f'user08_time{i}')\n",
    "for i in range(len(user08)):\n",
    "    ts=user08[i]\n",
    "    user08_time[i]=pd.read_csv(f'{ts}/{ts}_label.csv')"
   ]
  },
  {
   "cell_type": "code",
   "execution_count": 31,
   "metadata": {},
   "outputs": [],
   "source": [
    "PATH = '/mnt/data/tkeo12/user07-10/user07-10/user09'\n",
    "os.chdir(PATH)\n",
    "os.getcwd()\n",
    "user09=os.listdir(path = '.')\n",
    "user09.sort()\n",
    "user09_time=[]\n",
    "for i in range(len(user09)):\n",
    "    user09_time.append(f'user09_time{i}')\n",
    "for i in range(len(user09)):\n",
    "    ts=user09[i]\n",
    "    user09_time[i]=pd.read_csv(f'{ts}/{ts}_label.csv')"
   ]
  },
  {
   "cell_type": "code",
   "execution_count": 32,
   "metadata": {},
   "outputs": [],
   "source": [
    "PATH = '/mnt/data/tkeo12/user07-10/user07-10/user10'\n",
    "os.chdir(PATH)\n",
    "os.getcwd()\n",
    "user10=os.listdir(path = '.')\n",
    "user10.sort()\n",
    "user10_time=[]\n",
    "for i in range(len(user10)):\n",
    "    user10_time.append(f'user10_time{i}')\n",
    "for i in range(len(user10)):\n",
    "    ts=user10[i]\n",
    "    user10_time[i]=pd.read_csv(f'{ts}/{ts}_label.csv')"
   ]
  },
  {
   "cell_type": "code",
   "execution_count": 33,
   "metadata": {},
   "outputs": [],
   "source": [
    "PATH = '/mnt/data/tkeo12/user11-12/user11-12/user11'\n",
    "os.chdir(PATH)\n",
    "os.getcwd()\n",
    "user11=os.listdir(path = '.')\n",
    "user11.sort()\n",
    "user11_time=[]\n",
    "for i in range(len(user11)):\n",
    "    user11_time.append(f'user11_time{i}')\n",
    "for i in range(len(user11)):\n",
    "    ts=user11[i]\n",
    "    user11_time[i]=pd.read_csv(f'{ts}/{ts}_label.csv')"
   ]
  },
  {
   "cell_type": "code",
   "execution_count": 34,
   "metadata": {},
   "outputs": [],
   "source": [
    "PATH = '/mnt/data/tkeo12/user11-12/user11-12/user12'\n",
    "os.chdir(PATH)\n",
    "os.getcwd()\n",
    "user12=os.listdir(path = '.')\n",
    "user12.sort()\n",
    "user12_time=[]\n",
    "for i in range(len(user12)):\n",
    "    user12_time.append(f'user12_time{i}')\n",
    "for i in range(len(user12)):\n",
    "    ts=user12[i]\n",
    "    user12_time[i]=pd.read_csv(f'{ts}/{ts}_label.csv')"
   ]
  },
  {
   "cell_type": "code",
   "execution_count": 35,
   "metadata": {},
   "outputs": [],
   "source": [
    "PATH = '/mnt/data/tkeo12/user21-25/user21-25/user21'\n",
    "os.chdir(PATH)\n",
    "os.getcwd()\n",
    "user21=os.listdir(path = '.')\n",
    "user21.sort()\n",
    "user21_time=[]\n",
    "for i in range(len(user21)):\n",
    "    user21_time.append(f'user21_time{i}')\n",
    "for i in range(len(user21)):\n",
    "    ts=user21[i]\n",
    "    user21_time[i]=pd.read_csv(f'{ts}/{ts}_label.csv')"
   ]
  },
  {
   "cell_type": "code",
   "execution_count": 36,
   "metadata": {},
   "outputs": [],
   "source": [
    "PATH = '/mnt/data/tkeo12/user21-25/user21-25/user22'\n",
    "os.chdir(PATH)\n",
    "os.getcwd()\n",
    "user22=os.listdir(path = '.')\n",
    "user22.sort()\n",
    "user22_time=[]\n",
    "for i in range(len(user22)):\n",
    "    user22_time.append(f'user22_time{i}')\n",
    "for i in range(len(user22)):\n",
    "    ts=user22[i]\n",
    "    user22_time[i]=pd.read_csv(f'{ts}/{ts}_label.csv')"
   ]
  },
  {
   "cell_type": "code",
   "execution_count": 37,
   "metadata": {},
   "outputs": [],
   "source": [
    "PATH = '/mnt/data/tkeo12/user21-25/user21-25/user23'\n",
    "os.chdir(PATH)\n",
    "os.getcwd()\n",
    "user23=os.listdir(path = '.')\n",
    "user23.sort()\n",
    "user23_time=[]\n",
    "for i in range(len(user23)):\n",
    "    user23_time.append(f'user23_time{i}')\n",
    "for i in range(len(user23)):\n",
    "    ts=user23[i]\n",
    "    user23_time[i]=pd.read_csv(f'{ts}/{ts}_label.csv')"
   ]
  },
  {
   "cell_type": "code",
   "execution_count": 38,
   "metadata": {},
   "outputs": [],
   "source": [
    "PATH = '/mnt/data/tkeo12/user21-25/user21-25/user24'\n",
    "os.chdir(PATH)\n",
    "os.getcwd()\n",
    "user24=os.listdir(path = '.')\n",
    "user24.sort()\n",
    "user24_time=[]\n",
    "for i in range(len(user24)):\n",
    "    user24_time.append(f'user24_time{i}')\n",
    "for i in range(len(user24)):\n",
    "    ts=user24[i]\n",
    "    user24_time[i]=pd.read_csv(f'{ts}/{ts}_label.csv')"
   ]
  },
  {
   "cell_type": "code",
   "execution_count": 39,
   "metadata": {},
   "outputs": [],
   "source": [
    "PATH = '/mnt/data/tkeo12/user21-25/user21-25/user25'\n",
    "os.chdir(PATH)\n",
    "os.getcwd()\n",
    "user25=os.listdir(path = '.')\n",
    "user25.sort()\n",
    "user25_time=[]\n",
    "for i in range(len(user25)):\n",
    "    user25_time.append(f'user25_time{i}')\n",
    "for i in range(len(user25)):\n",
    "    ts=user25[i]\n",
    "    user25_time[i]=pd.read_csv(f'{ts}/{ts}_label.csv')"
   ]
  },
  {
   "cell_type": "code",
   "execution_count": 40,
   "metadata": {},
   "outputs": [],
   "source": [
    "PATH = '/mnt/data/tkeo12/user26-30/user26-30/user26'\n",
    "os.chdir(PATH)\n",
    "os.getcwd()\n",
    "user26=os.listdir(path = '.')\n",
    "user26.sort()\n",
    "user26_time=[]\n",
    "for i in range(len(user26)):\n",
    "    user26_time.append(f'user26_time{i}')\n",
    "for i in range(len(user26)):\n",
    "    ts=user26[i]\n",
    "    user26_time[i]=pd.read_csv(f'{ts}/{ts}_label.csv')"
   ]
  },
  {
   "cell_type": "code",
   "execution_count": 41,
   "metadata": {},
   "outputs": [],
   "source": [
    "PATH = '/mnt/data/tkeo12/user26-30/user26-30/user27'\n",
    "os.chdir(PATH)\n",
    "os.getcwd()\n",
    "user27=os.listdir(path = '.')\n",
    "user27.sort()\n",
    "user27_time=[]\n",
    "for i in range(len(user27)):\n",
    "    user27_time.append(f'user27_time{i}')\n",
    "for i in range(len(user27)):\n",
    "    ts=user27[i]\n",
    "    user27_time[i]=pd.read_csv(f'{ts}/{ts}_label.csv')"
   ]
  },
  {
   "cell_type": "code",
   "execution_count": 42,
   "metadata": {},
   "outputs": [],
   "source": [
    "PATH = '/mnt/data/tkeo12/user26-30/user26-30/user28'\n",
    "os.chdir(PATH)\n",
    "os.getcwd()\n",
    "user28=os.listdir(path = '.')\n",
    "user28.sort()\n",
    "user28_time=[]\n",
    "for i in range(len(user28)):\n",
    "    user28_time.append(f'user28_time{i}')\n",
    "for i in range(len(user28)):\n",
    "    ts=user28[i]\n",
    "    user28_time[i]=pd.read_csv(f'{ts}/{ts}_label.csv')"
   ]
  },
  {
   "cell_type": "code",
   "execution_count": 45,
   "metadata": {},
   "outputs": [],
   "source": [
    "PATH = '/mnt/data/tkeo12/user26-30/user26-30/user29'\n",
    "os.chdir(PATH)\n",
    "os.getcwd()\n",
    "user29=os.listdir(path = '.')\n",
    "user29.sort()\n",
    "user29_time=[]\n",
    "for i in range(len(user29)):\n",
    "    user29_time.append(f'user29_time{i}')\n",
    "for i in range(len(user29)):\n",
    "    ts=user29[i]\n",
    "    user29_time[i]=pd.read_csv(f'{ts}/{ts}_label.csv')"
   ]
  },
  {
   "cell_type": "code",
   "execution_count": 49,
   "metadata": {},
   "outputs": [],
   "source": [
    "PATH = '/mnt/data/tkeo12/user26-30/user26-30/user30'\n",
    "os.chdir(PATH)\n",
    "os.getcwd()\n",
    "user30=os.listdir(path = '.')\n",
    "user30.sort()\n",
    "del user30[0]\n",
    "user30_time=[]\n",
    "for i in range(len(user30)):\n",
    "    user30_time.append(f'user30_time{i}')\n",
    "for i in range(len(user30)):\n",
    "    ts=user30[i]\n",
    "    user30_time[i]=pd.read_csv(f'{ts}/{ts}_label.csv')"
   ]
  },
  {
   "cell_type": "code",
   "execution_count": 55,
   "metadata": {},
   "outputs": [
    {
     "data": {
      "text/plain": [
       "'/mnt/data/tkeo12/daily_label'"
      ]
     },
     "execution_count": 55,
     "metadata": {},
     "output_type": "execute_result"
    }
   ],
   "source": [
    "PATH = '/mnt/data/tkeo12/daily_label'\n",
    "os.chdir(PATH)\n",
    "os.getcwd()"
   ]
  },
  {
   "cell_type": "markdown",
   "metadata": {},
   "source": [
    "# 3. 라이프로그 데이터 파일 저장"
   ]
  },
  {
   "cell_type": "markdown",
   "metadata": {},
   "source": [
    "> 대상자별로 불러온 일단위 라이프로그 데이터를 별도의 폴더에 대상자번호를 붙여 시간순으로 파일을 저장"
   ]
  },
  {
   "cell_type": "markdown",
   "metadata": {},
   "source": [
    "## 3-1. 2020년 라이프로그 데이터 파일 저장"
   ]
  },
  {
   "cell_type": "markdown",
   "metadata": {},
   "source": [
    ">2020년에 등록된 대상자의 라이프로그 데이터를 불러옴"
   ]
  },
  {
   "cell_type": "code",
   "execution_count": 56,
   "metadata": {},
   "outputs": [],
   "source": [
    "for i in range(len(user01)):\n",
    "    user01_time[i].to_csv(f'user01_time{i}.csv')"
   ]
  },
  {
   "cell_type": "code",
   "execution_count": 57,
   "metadata": {},
   "outputs": [],
   "source": [
    "for i in range(len(user02)):\n",
    "    user02_time[i].to_csv(f'user02_time{i}.csv')"
   ]
  },
  {
   "cell_type": "code",
   "execution_count": 58,
   "metadata": {},
   "outputs": [],
   "source": [
    "for i in range(len(user03)):\n",
    "    user03_time[i].to_csv(f'user03_time{i}.csv')"
   ]
  },
  {
   "cell_type": "code",
   "execution_count": 59,
   "metadata": {},
   "outputs": [],
   "source": [
    "for i in range(len(user04)):\n",
    "    user04_time[i].to_csv(f'user04_time{i}.csv')"
   ]
  },
  {
   "cell_type": "code",
   "execution_count": 60,
   "metadata": {},
   "outputs": [],
   "source": [
    "for i in range(len(user05)):\n",
    "    user05_time[i].to_csv(f'user05_time{i}.csv')"
   ]
  },
  {
   "cell_type": "code",
   "execution_count": 61,
   "metadata": {},
   "outputs": [],
   "source": [
    "for i in range(len(user06)):\n",
    "    user06_time[i].to_csv(f'user06_time{i}.csv')"
   ]
  },
  {
   "cell_type": "code",
   "execution_count": 62,
   "metadata": {},
   "outputs": [],
   "source": [
    "for i in range(len(user07)):\n",
    "    user07_time[i].to_csv(f'user07_time{i}.csv')"
   ]
  },
  {
   "cell_type": "code",
   "execution_count": 63,
   "metadata": {},
   "outputs": [],
   "source": [
    "for i in range(len(user08)):\n",
    "    user08_time[i].to_csv(f'user08_time{i}.csv')"
   ]
  },
  {
   "cell_type": "code",
   "execution_count": 64,
   "metadata": {},
   "outputs": [],
   "source": [
    "for i in range(len(user09)):\n",
    "    user09_time[i].to_csv(f'user09_time{i}.csv')"
   ]
  },
  {
   "cell_type": "code",
   "execution_count": 65,
   "metadata": {},
   "outputs": [],
   "source": [
    "for i in range(len(user10)):\n",
    "    user10_time[i].to_csv(f'user10_time{i}.csv')"
   ]
  },
  {
   "cell_type": "code",
   "execution_count": 66,
   "metadata": {},
   "outputs": [],
   "source": [
    "for i in range(len(user11)):\n",
    "    user11_time[i].to_csv(f'user11_time{i}.csv')"
   ]
  },
  {
   "cell_type": "code",
   "execution_count": 67,
   "metadata": {},
   "outputs": [],
   "source": [
    "for i in range(len(user12)):\n",
    "    user12_time[i].to_csv(f'user12_time{i}.csv')"
   ]
  },
  {
   "cell_type": "code",
   "execution_count": 68,
   "metadata": {},
   "outputs": [],
   "source": [
    "for i in range(len(user21)):\n",
    "    user21_time[i].to_csv(f'user21_time{i}.csv')"
   ]
  },
  {
   "cell_type": "code",
   "execution_count": 69,
   "metadata": {},
   "outputs": [],
   "source": [
    "for i in range(len(user22)):\n",
    "    user22_time[i].to_csv(f'user22_time{i}.csv')"
   ]
  },
  {
   "cell_type": "code",
   "execution_count": 70,
   "metadata": {},
   "outputs": [],
   "source": [
    "for i in range(len(user23)):\n",
    "    user23_time[i].to_csv(f'user23_time{i}.csv')"
   ]
  },
  {
   "cell_type": "code",
   "execution_count": 71,
   "metadata": {},
   "outputs": [],
   "source": [
    "for i in range(len(user24)):\n",
    "    user24_time[i].to_csv(f'user24_time{i}.csv')"
   ]
  },
  {
   "cell_type": "code",
   "execution_count": 72,
   "metadata": {},
   "outputs": [],
   "source": [
    "for i in range(len(user25)):\n",
    "    user25_time[i].to_csv(f'user25_time{i}.csv')"
   ]
  },
  {
   "cell_type": "code",
   "execution_count": 73,
   "metadata": {},
   "outputs": [],
   "source": [
    "for i in range(len(user26)):\n",
    "    user26_time[i].to_csv(f'user26_time{i}.csv')"
   ]
  },
  {
   "cell_type": "code",
   "execution_count": 74,
   "metadata": {},
   "outputs": [],
   "source": [
    "for i in range(len(user27)):\n",
    "    user27_time[i].to_csv(f'user27_time{i}.csv')"
   ]
  },
  {
   "cell_type": "code",
   "execution_count": 75,
   "metadata": {},
   "outputs": [],
   "source": [
    "for i in range(len(user28)):\n",
    "    user28_time[i].to_csv(f'user28_time{i}.csv')"
   ]
  },
  {
   "cell_type": "code",
   "execution_count": 76,
   "metadata": {},
   "outputs": [],
   "source": [
    "for i in range(len(user29)):\n",
    "    user29_time[i].to_csv(f'user29_time{i}.csv')"
   ]
  },
  {
   "cell_type": "code",
   "execution_count": 77,
   "metadata": {},
   "outputs": [],
   "source": [
    "for i in range(len(user30)):\n",
    "    user30_time[i].to_csv(f'user30_time{i}.csv')"
   ]
  },
  {
   "cell_type": "markdown",
   "metadata": {},
   "source": [
    ">activity 중 walk 추출 (Google's Awareness API 사용)"
   ]
  },
  {
   "cell_type": "markdown",
   "metadata": {},
   "source": [
    ">actionOption = 751 (walking) "
   ]
  },
  {
   "cell_type": "code",
   "execution_count": 893,
   "metadata": {},
   "outputs": [],
   "source": [
    "user01_walk=[]\n",
    "for i in range(len(user01)):\n",
    "    walk=user01_time[i]\n",
    "    a=[]\n",
    "    for j in range(len(walk)):\n",
    "        if  walk['actionOption'][j]==751:\n",
    "            a.append(walk['ts'][j])\n",
    "    user01_walk.append(a)"
   ]
  },
  {
   "cell_type": "code",
   "execution_count": 894,
   "metadata": {},
   "outputs": [],
   "source": [
    "user02_walk=[]\n",
    "for i in range(len(user02)):\n",
    "    walk=user02_time[i]\n",
    "    a=[]\n",
    "    for j in range(len(walk)):\n",
    "        if walk['actionOption'][j]==751:\n",
    "            a.append(walk['ts'][j])\n",
    "    user02_walk.append(a)"
   ]
  },
  {
   "cell_type": "code",
   "execution_count": 895,
   "metadata": {},
   "outputs": [],
   "source": [
    "user03_walk=[]\n",
    "for i in range(len(user03)):\n",
    "    walk=user03_time[i]\n",
    "    a=[]\n",
    "    for j in range(len(walk)):\n",
    "        if walk['actionOption'][j]==751:\n",
    "            a.append(walk['ts'][j])\n",
    "    user03_walk.append(a)"
   ]
  },
  {
   "cell_type": "code",
   "execution_count": 896,
   "metadata": {},
   "outputs": [],
   "source": [
    "user04_walk=[]\n",
    "for i in range(len(user04)):\n",
    "    walk=user04_time[i]\n",
    "    a=[]\n",
    "    for j in range(len(walk)):\n",
    "        if  walk['actionOption'][j]==751:\n",
    "            a.append(walk['ts'][j])\n",
    "    user04_walk.append(a)"
   ]
  },
  {
   "cell_type": "code",
   "execution_count": 897,
   "metadata": {},
   "outputs": [],
   "source": [
    "user05_walk=[]\n",
    "for i in range(len(user05)):\n",
    "    walk=user05_time[i]\n",
    "    a=[]\n",
    "    for j in range(len(walk)):\n",
    "        if walk['actionOption'][j]==751:\n",
    "            a.append(walk['ts'][j])\n",
    "    user05_walk.append(a)"
   ]
  },
  {
   "cell_type": "code",
   "execution_count": 898,
   "metadata": {},
   "outputs": [],
   "source": [
    "user06_walk=[]\n",
    "for i in range(len(user06)):\n",
    "    walk=user06_time[i]\n",
    "    a=[]\n",
    "    for j in range(len(walk)):\n",
    "        if walk['actionOption'][j]==751:\n",
    "            a.append(walk['ts'][j])\n",
    "    user06_walk.append(a)"
   ]
  },
  {
   "cell_type": "code",
   "execution_count": 899,
   "metadata": {},
   "outputs": [],
   "source": [
    "user07_walk=[]\n",
    "for i in range(len(user07)):\n",
    "    walk=user07_time[i]\n",
    "    a=[]\n",
    "    for j in range(len(walk)):\n",
    "        if walk['actionOption'][j]==751:\n",
    "            a.append(walk['ts'][j])\n",
    "    user07_walk.append(a)"
   ]
  },
  {
   "cell_type": "code",
   "execution_count": 900,
   "metadata": {},
   "outputs": [],
   "source": [
    "user08_walk=[]\n",
    "for i in range(len(user08)):\n",
    "    walk=user08_time[i]\n",
    "    a=[]\n",
    "    for j in range(len(walk)):\n",
    "        if walk['actionOption'][j]==751:\n",
    "            a.append(walk['ts'][j])\n",
    "    user08_walk.append(a)"
   ]
  },
  {
   "cell_type": "code",
   "execution_count": 901,
   "metadata": {},
   "outputs": [],
   "source": [
    "user09_walk=[]\n",
    "for i in range(len(user09)):\n",
    "    walk=user09_time[i]\n",
    "    a=[]\n",
    "    for j in range(len(walk)):\n",
    "        if  walk['actionOption'][j]==751:\n",
    "            a.append(walk['ts'][j])\n",
    "    user09_walk.append(a)"
   ]
  },
  {
   "cell_type": "code",
   "execution_count": 902,
   "metadata": {},
   "outputs": [],
   "source": [
    "user10_walk=[]\n",
    "for i in range(len(user10)):\n",
    "    walk=user10_time[i]\n",
    "    a=[]\n",
    "    for j in range(len(walk)):\n",
    "        if  walk['actionOption'][j]==751:\n",
    "            a.append(walk['ts'][j])\n",
    "    user10_walk.append(a)"
   ]
  },
  {
   "cell_type": "code",
   "execution_count": 903,
   "metadata": {},
   "outputs": [],
   "source": [
    "user11_walk=[]\n",
    "for i in range(len(user11)):\n",
    "    walk=user11_time[i]\n",
    "    a=[]\n",
    "    for j in range(len(walk)):\n",
    "        if  walk['actionOption'][j]==751:\n",
    "            a.append(walk['ts'][j])\n",
    "    user11_walk.append(a)"
   ]
  },
  {
   "cell_type": "code",
   "execution_count": 904,
   "metadata": {},
   "outputs": [],
   "source": [
    "user12_walk=[]\n",
    "for i in range(len(user12)):\n",
    "    walk=user12_time[i]\n",
    "    a=[]\n",
    "    for j in range(len(walk)):\n",
    "        if walk['actionOption'][j]==751:\n",
    "            a.append(walk['ts'][j])\n",
    "    user12_walk.append(a)"
   ]
  },
  {
   "cell_type": "code",
   "execution_count": 905,
   "metadata": {},
   "outputs": [],
   "source": [
    "user21_walk=[]\n",
    "for i in range(len(user21)):\n",
    "    walk=user21_time[i]\n",
    "    a=[]\n",
    "    for j in range(len(walk)):\n",
    "        if  walk['actionOption'][j]==751:\n",
    "            a.append(walk['ts'][j])\n",
    "    user21_walk.append(a)"
   ]
  },
  {
   "cell_type": "code",
   "execution_count": 906,
   "metadata": {},
   "outputs": [],
   "source": [
    "user22_walk=[]\n",
    "for i in range(len(user22)):\n",
    "    walk=user22_time[i]\n",
    "    a=[]\n",
    "    for j in range(len(walk)):\n",
    "        if walk['actionOption'][j]==751:\n",
    "            a.append(walk['ts'][j])\n",
    "    user22_walk.append(a)"
   ]
  },
  {
   "cell_type": "code",
   "execution_count": 907,
   "metadata": {},
   "outputs": [],
   "source": [
    "user23_walk=[]\n",
    "for i in range(len(user23)):\n",
    "    walk=user23_time[i]\n",
    "    a=[]\n",
    "    for j in range(len(walk)):\n",
    "        if  walk['actionOption'][j]==751:\n",
    "            a.append(walk['ts'][j])\n",
    "    user23_walk.append(a)"
   ]
  },
  {
   "cell_type": "code",
   "execution_count": 908,
   "metadata": {},
   "outputs": [],
   "source": [
    "user24_walk=[]\n",
    "for i in range(len(user24)):\n",
    "    walk=user24_time[i]\n",
    "    a=[]\n",
    "    for j in range(len(walk)):\n",
    "        if  walk['actionOption'][j]==751:\n",
    "            a.append(walk['ts'][j])\n",
    "    user24_walk.append(a)"
   ]
  },
  {
   "cell_type": "code",
   "execution_count": 909,
   "metadata": {},
   "outputs": [],
   "source": [
    "user25_walk=[]\n",
    "for i in range(len(user25)):\n",
    "    walk=user25_time[i]\n",
    "    a=[]\n",
    "    for j in range(len(walk)):\n",
    "        if walk['actionOption'][j]==751:\n",
    "            a.append(walk['ts'][j])\n",
    "    user25_walk.append(a)"
   ]
  },
  {
   "cell_type": "code",
   "execution_count": 910,
   "metadata": {},
   "outputs": [],
   "source": [
    "user26_walk=[]\n",
    "for i in range(len(user26)):\n",
    "    walk=user26_time[i]\n",
    "    a=[]\n",
    "    for j in range(len(walk)):\n",
    "        if  walk['actionOption'][j]==751:\n",
    "            a.append(walk['ts'][j])\n",
    "    user26_walk.append(a)"
   ]
  },
  {
   "cell_type": "code",
   "execution_count": 911,
   "metadata": {},
   "outputs": [],
   "source": [
    "user27_walk=[]\n",
    "for i in range(len(user27)):\n",
    "    walk=user27_time[i]\n",
    "    a=[]\n",
    "    for j in range(len(walk)):\n",
    "        if  walk['actionOption'][j]==751:\n",
    "            a.append(walk['ts'][j])\n",
    "    user27_walk.append(a)"
   ]
  },
  {
   "cell_type": "code",
   "execution_count": 912,
   "metadata": {},
   "outputs": [],
   "source": [
    "user28_walk=[]\n",
    "for i in range(len(user28)):\n",
    "    walk=user28_time[i]\n",
    "    a=[]\n",
    "    for j in range(len(walk)):\n",
    "        if walk['actionOption'][j]==751:\n",
    "            a.append(walk['ts'][j])\n",
    "    user28_walk.append(a)"
   ]
  },
  {
   "cell_type": "code",
   "execution_count": 913,
   "metadata": {},
   "outputs": [],
   "source": [
    "user29_walk=[]\n",
    "for i in range(len(user29)):\n",
    "    walk=user29_time[i]\n",
    "    a=[]\n",
    "    for j in range(len(walk)):\n",
    "        if walk['actionOption'][j]==751:\n",
    "            a.append(walk['ts'][j])\n",
    "    user29_walk.append(a)"
   ]
  },
  {
   "cell_type": "code",
   "execution_count": 914,
   "metadata": {},
   "outputs": [],
   "source": [
    "user30_walk=[]\n",
    "for i in range(len(user30)):\n",
    "    walk=user30_time[i]\n",
    "    a=[]\n",
    "    for j in range(len(walk)):\n",
    "        if walk['actionOption'][j]==751:\n",
    "            a.append(walk['ts'][j])\n",
    "    user30_walk.append(a)"
   ]
  },
  {
   "cell_type": "code",
   "execution_count": 100,
   "metadata": {},
   "outputs": [
    {
     "data": {
      "text/plain": [
       "'/mnt/data/tkeo12'"
      ]
     },
     "execution_count": 100,
     "metadata": {},
     "output_type": "execute_result"
    }
   ],
   "source": [
    "PATH = '/mnt/data/tkeo12'\n",
    "os.chdir(PATH)\n",
    "os.getcwd()"
   ]
  },
  {
   "cell_type": "markdown",
   "metadata": {},
   "source": [
    ">activity 중 walk의 시간 추출 및 데이터 타입, 시간 등 분석에 맞게 전처리"
   ]
  },
  {
   "cell_type": "code",
   "execution_count": 915,
   "metadata": {},
   "outputs": [],
   "source": [
    "user01_walk1=[]\n",
    "for i in range(len(user01)):\n",
    "    walk=user01_walk[i]\n",
    "    user01_walk1.append(len(walk))"
   ]
  },
  {
   "cell_type": "code",
   "execution_count": 916,
   "metadata": {},
   "outputs": [],
   "source": [
    "user02_walk1=[]\n",
    "for i in range(len(user02)):\n",
    "    walk=user02_walk[i]\n",
    "    user02_walk1.append(len(walk))"
   ]
  },
  {
   "cell_type": "code",
   "execution_count": 917,
   "metadata": {},
   "outputs": [],
   "source": [
    "user03_walk1=[]\n",
    "for i in range(len(user03)):\n",
    "    walk=user03_walk[i]\n",
    "    user03_walk1.append(len(walk))"
   ]
  },
  {
   "cell_type": "code",
   "execution_count": 918,
   "metadata": {},
   "outputs": [],
   "source": [
    "user04_walk1=[]\n",
    "for i in range(len(user04)):\n",
    "    walk=user04_walk[i]\n",
    "    user04_walk1.append(len(walk))"
   ]
  },
  {
   "cell_type": "code",
   "execution_count": 919,
   "metadata": {},
   "outputs": [],
   "source": [
    "user05_walk1=[]\n",
    "for i in range(len(user05)):\n",
    "    walk=user05_walk[i]\n",
    "    user05_walk1.append(len(walk))"
   ]
  },
  {
   "cell_type": "code",
   "execution_count": 920,
   "metadata": {},
   "outputs": [],
   "source": [
    "user06_walk1=[]\n",
    "for i in range(len(user06)):\n",
    "    walk=user06_walk[i]\n",
    "    user06_walk1.append(len(walk))"
   ]
  },
  {
   "cell_type": "code",
   "execution_count": 921,
   "metadata": {},
   "outputs": [],
   "source": [
    "user07_walk1=[]\n",
    "for i in range(len(user07)):\n",
    "    walk=user07_walk[i]\n",
    "    user07_walk1.append(len(walk))"
   ]
  },
  {
   "cell_type": "code",
   "execution_count": 922,
   "metadata": {},
   "outputs": [],
   "source": [
    "user08_walk1=[]\n",
    "for i in range(len(user08)):\n",
    "    walk=user08_walk[i]\n",
    "    user08_walk1.append(len(walk))"
   ]
  },
  {
   "cell_type": "code",
   "execution_count": 923,
   "metadata": {},
   "outputs": [],
   "source": [
    "user09_walk1=[]\n",
    "for i in range(len(user09)):\n",
    "    walk=user09_walk[i]\n",
    "    user09_walk1.append(len(walk))"
   ]
  },
  {
   "cell_type": "code",
   "execution_count": 924,
   "metadata": {},
   "outputs": [],
   "source": [
    "user10_walk1=[]\n",
    "for i in range(len(user10)):\n",
    "    walk=user10_walk[i]\n",
    "    user10_walk1.append(len(walk))"
   ]
  },
  {
   "cell_type": "code",
   "execution_count": 925,
   "metadata": {},
   "outputs": [],
   "source": [
    "user11_walk1=[]\n",
    "for i in range(len(user11)):\n",
    "    walk=user11_walk[i]\n",
    "    user11_walk1.append(len(walk))"
   ]
  },
  {
   "cell_type": "code",
   "execution_count": 926,
   "metadata": {},
   "outputs": [],
   "source": [
    "user12_walk1=[]\n",
    "for i in range(len(user12)):\n",
    "    walk=user12_walk[i]\n",
    "    user12_walk1.append(len(walk))"
   ]
  },
  {
   "cell_type": "code",
   "execution_count": 927,
   "metadata": {},
   "outputs": [],
   "source": [
    "user21_walk1=[]\n",
    "for i in range(len(user21)):\n",
    "    walk=user21_walk[i]\n",
    "    user21_walk1.append(len(walk))"
   ]
  },
  {
   "cell_type": "code",
   "execution_count": 928,
   "metadata": {},
   "outputs": [],
   "source": [
    "user22_walk1=[]\n",
    "for i in range(len(user22)):\n",
    "    walk=user22_walk[i]\n",
    "    user22_walk1.append(len(walk))"
   ]
  },
  {
   "cell_type": "code",
   "execution_count": 929,
   "metadata": {},
   "outputs": [],
   "source": [
    "user23_walk1=[]\n",
    "for i in range(len(user23)):\n",
    "    walk=user23_walk[i]\n",
    "    user23_walk1.append(len(walk))"
   ]
  },
  {
   "cell_type": "code",
   "execution_count": 930,
   "metadata": {},
   "outputs": [],
   "source": [
    "user24_walk1=[]\n",
    "for i in range(len(user24)):\n",
    "    walk=user24_walk[i]\n",
    "    user24_walk1.append(len(walk))"
   ]
  },
  {
   "cell_type": "code",
   "execution_count": 931,
   "metadata": {},
   "outputs": [],
   "source": [
    "user25_walk1=[]\n",
    "for i in range(len(user25)):\n",
    "    walk=user25_walk[i]\n",
    "    user25_walk1.append(len(walk))"
   ]
  },
  {
   "cell_type": "code",
   "execution_count": 932,
   "metadata": {},
   "outputs": [],
   "source": [
    "user26_walk1=[]\n",
    "for i in range(len(user26)):\n",
    "    walk=user26_walk[i]\n",
    "    user26_walk1.append(len(walk))"
   ]
  },
  {
   "cell_type": "code",
   "execution_count": 933,
   "metadata": {},
   "outputs": [],
   "source": [
    "user27_walk1=[]\n",
    "for i in range(len(user27)):\n",
    "    walk=user27_walk[i]\n",
    "    user27_walk1.append(len(walk))"
   ]
  },
  {
   "cell_type": "code",
   "execution_count": 934,
   "metadata": {},
   "outputs": [],
   "source": [
    "user28_walk1=[]\n",
    "for i in range(len(user28)):\n",
    "    walk=user28_walk[i]\n",
    "    user28_walk1.append(len(walk))"
   ]
  },
  {
   "cell_type": "code",
   "execution_count": 935,
   "metadata": {},
   "outputs": [],
   "source": [
    "user29_walk1=[]\n",
    "for i in range(len(user29)):\n",
    "    walk=user29_walk[i]\n",
    "    user29_walk1.append(len(walk))"
   ]
  },
  {
   "cell_type": "code",
   "execution_count": 936,
   "metadata": {},
   "outputs": [],
   "source": [
    "user30_walk1=[]\n",
    "for i in range(len(user30)):\n",
    "    walk=user30_walk[i]\n",
    "    user30_walk1.append(len(walk))"
   ]
  },
  {
   "cell_type": "code",
   "execution_count": 937,
   "metadata": {},
   "outputs": [],
   "source": [
    "user01=list(map(int,user01))"
   ]
  },
  {
   "cell_type": "code",
   "execution_count": 126,
   "metadata": {},
   "outputs": [],
   "source": [
    "user02=list(map(int,user02))"
   ]
  },
  {
   "cell_type": "code",
   "execution_count": 127,
   "metadata": {},
   "outputs": [],
   "source": [
    "user03=list(map(int,user03))"
   ]
  },
  {
   "cell_type": "code",
   "execution_count": 128,
   "metadata": {},
   "outputs": [],
   "source": [
    "user04=list(map(int,user04))"
   ]
  },
  {
   "cell_type": "code",
   "execution_count": 129,
   "metadata": {},
   "outputs": [],
   "source": [
    "user05=list(map(int,user05))"
   ]
  },
  {
   "cell_type": "code",
   "execution_count": 130,
   "metadata": {},
   "outputs": [],
   "source": [
    "user06=list(map(int,user06))"
   ]
  },
  {
   "cell_type": "code",
   "execution_count": 131,
   "metadata": {},
   "outputs": [],
   "source": [
    "user07=list(map(int,user07))"
   ]
  },
  {
   "cell_type": "code",
   "execution_count": 132,
   "metadata": {},
   "outputs": [],
   "source": [
    "user08=list(map(int,user08))"
   ]
  },
  {
   "cell_type": "code",
   "execution_count": 133,
   "metadata": {},
   "outputs": [],
   "source": [
    "user09=list(map(int,user09))"
   ]
  },
  {
   "cell_type": "code",
   "execution_count": 134,
   "metadata": {},
   "outputs": [],
   "source": [
    "user10=list(map(int,user10))"
   ]
  },
  {
   "cell_type": "code",
   "execution_count": 135,
   "metadata": {},
   "outputs": [],
   "source": [
    "user11=list(map(int,user11))"
   ]
  },
  {
   "cell_type": "code",
   "execution_count": 202,
   "metadata": {},
   "outputs": [],
   "source": [
    "user12=list(map(int,user12))"
   ]
  },
  {
   "cell_type": "code",
   "execution_count": 136,
   "metadata": {},
   "outputs": [],
   "source": [
    "user21=list(map(int,user21))"
   ]
  },
  {
   "cell_type": "code",
   "execution_count": 137,
   "metadata": {},
   "outputs": [],
   "source": [
    "user22=list(map(int,user22))"
   ]
  },
  {
   "cell_type": "code",
   "execution_count": 138,
   "metadata": {},
   "outputs": [],
   "source": [
    "user23=list(map(int,user23))"
   ]
  },
  {
   "cell_type": "code",
   "execution_count": 139,
   "metadata": {},
   "outputs": [],
   "source": [
    "user24=list(map(int,user24))"
   ]
  },
  {
   "cell_type": "code",
   "execution_count": 140,
   "metadata": {},
   "outputs": [],
   "source": [
    "user25=list(map(int,user25))"
   ]
  },
  {
   "cell_type": "code",
   "execution_count": 141,
   "metadata": {},
   "outputs": [],
   "source": [
    "user26=list(map(int,user26))"
   ]
  },
  {
   "cell_type": "code",
   "execution_count": 142,
   "metadata": {},
   "outputs": [],
   "source": [
    "user27=list(map(int,user27))"
   ]
  },
  {
   "cell_type": "code",
   "execution_count": 143,
   "metadata": {},
   "outputs": [],
   "source": [
    "user28=list(map(int,user28))"
   ]
  },
  {
   "cell_type": "code",
   "execution_count": 144,
   "metadata": {},
   "outputs": [],
   "source": [
    "user29=list(map(int,user29))"
   ]
  },
  {
   "cell_type": "code",
   "execution_count": 145,
   "metadata": {},
   "outputs": [],
   "source": [
    "user30=list(map(int,user30))"
   ]
  },
  {
   "cell_type": "code",
   "execution_count": 176,
   "metadata": {},
   "outputs": [],
   "source": [
    "user01_date=list(map(datetime.fromtimestamp,user01))"
   ]
  },
  {
   "cell_type": "code",
   "execution_count": 179,
   "metadata": {},
   "outputs": [],
   "source": [
    "user01_date1=[]\n",
    "for i in range(len(user01)):\n",
    "    user01_date1.append(user01_date[i].strftime(\"%Y-%m-%d\"))"
   ]
  },
  {
   "cell_type": "code",
   "execution_count": 181,
   "metadata": {},
   "outputs": [],
   "source": [
    "user02_date=list(map(datetime.fromtimestamp,user02))\n",
    "user02_date1=[]\n",
    "for i in range(len(user02)):\n",
    "    user02_date1.append(user02_date[i].strftime(\"%Y-%m-%d\"))"
   ]
  },
  {
   "cell_type": "code",
   "execution_count": 182,
   "metadata": {},
   "outputs": [],
   "source": [
    "user03_date=list(map(datetime.fromtimestamp,user03))\n",
    "user03_date1=[]\n",
    "for i in range(len(user03)):\n",
    "    user03_date1.append(user03_date[i].strftime(\"%Y-%m-%d\"))"
   ]
  },
  {
   "cell_type": "code",
   "execution_count": 183,
   "metadata": {},
   "outputs": [],
   "source": [
    "user04_date=list(map(datetime.fromtimestamp,user04))\n",
    "user04_date1=[]\n",
    "for i in range(len(user04)):\n",
    "    user04_date1.append(user04_date[i].strftime(\"%Y-%m-%d\"))"
   ]
  },
  {
   "cell_type": "code",
   "execution_count": 184,
   "metadata": {},
   "outputs": [],
   "source": [
    "user05_date=list(map(datetime.fromtimestamp,user05))\n",
    "user05_date1=[]\n",
    "for i in range(len(user05)):\n",
    "    user05_date1.append(user05_date[i].strftime(\"%Y-%m-%d\"))"
   ]
  },
  {
   "cell_type": "code",
   "execution_count": 185,
   "metadata": {},
   "outputs": [],
   "source": [
    "user06_date=list(map(datetime.fromtimestamp,user06))\n",
    "user06_date1=[]\n",
    "for i in range(len(user06)):\n",
    "    user06_date1.append(user06_date[i].strftime(\"%Y-%m-%d\"))"
   ]
  },
  {
   "cell_type": "code",
   "execution_count": 186,
   "metadata": {},
   "outputs": [],
   "source": [
    "user07_date=list(map(datetime.fromtimestamp,user07))\n",
    "user07_date1=[]\n",
    "for i in range(len(user07)):\n",
    "    user07_date1.append(user07_date[i].strftime(\"%Y-%m-%d\"))"
   ]
  },
  {
   "cell_type": "code",
   "execution_count": 187,
   "metadata": {},
   "outputs": [],
   "source": [
    "user08_date=list(map(datetime.fromtimestamp,user08))\n",
    "user08_date1=[]\n",
    "for i in range(len(user08)):\n",
    "    user08_date1.append(user08_date[i].strftime(\"%Y-%m-%d\"))"
   ]
  },
  {
   "cell_type": "code",
   "execution_count": 188,
   "metadata": {},
   "outputs": [],
   "source": [
    "user09_date=list(map(datetime.fromtimestamp,user09))\n",
    "user09_date1=[]\n",
    "for i in range(len(user09)):\n",
    "    user09_date1.append(user09_date[i].strftime(\"%Y-%m-%d\"))"
   ]
  },
  {
   "cell_type": "code",
   "execution_count": 189,
   "metadata": {},
   "outputs": [],
   "source": [
    "user10_date=list(map(datetime.fromtimestamp,user10))\n",
    "user10_date1=[]\n",
    "for i in range(len(user10)):\n",
    "    user10_date1.append(user10_date[i].strftime(\"%Y-%m-%d\"))"
   ]
  },
  {
   "cell_type": "code",
   "execution_count": 190,
   "metadata": {},
   "outputs": [],
   "source": [
    "user11_date=list(map(datetime.fromtimestamp,user11))\n",
    "user11_date1=[]\n",
    "for i in range(len(user11)):\n",
    "    user11_date1.append(user11_date[i].strftime(\"%Y-%m-%d\"))"
   ]
  },
  {
   "cell_type": "code",
   "execution_count": 203,
   "metadata": {},
   "outputs": [],
   "source": [
    "user12_date=list(map(datetime.fromtimestamp,user12))\n",
    "user12_date1=[]\n",
    "for i in range(len(user12)):\n",
    "    user12_date1.append(user12_date[i].strftime(\"%Y-%m-%d\"))"
   ]
  },
  {
   "cell_type": "code",
   "execution_count": 204,
   "metadata": {},
   "outputs": [],
   "source": [
    "user21_date=list(map(datetime.fromtimestamp,user21))\n",
    "user21_date1=[]\n",
    "for i in range(len(user21)):\n",
    "    user21_date1.append(user21_date[i].strftime(\"%Y-%m-%d\"))"
   ]
  },
  {
   "cell_type": "code",
   "execution_count": 205,
   "metadata": {},
   "outputs": [],
   "source": [
    "user22_date=list(map(datetime.fromtimestamp,user22))\n",
    "user22_date1=[]\n",
    "for i in range(len(user22)):\n",
    "    user22_date1.append(user22_date[i].strftime(\"%Y-%m-%d\"))"
   ]
  },
  {
   "cell_type": "code",
   "execution_count": 206,
   "metadata": {},
   "outputs": [],
   "source": [
    "user23_date=list(map(datetime.fromtimestamp,user23))\n",
    "user23_date1=[]\n",
    "for i in range(len(user23)):\n",
    "    user23_date1.append(user23_date[i].strftime(\"%Y-%m-%d\"))"
   ]
  },
  {
   "cell_type": "code",
   "execution_count": 207,
   "metadata": {},
   "outputs": [],
   "source": [
    "user24_date=list(map(datetime.fromtimestamp,user24))\n",
    "user24_date1=[]\n",
    "for i in range(len(user24)):\n",
    "    user24_date1.append(user24_date[i].strftime(\"%Y-%m-%d\"))"
   ]
  },
  {
   "cell_type": "code",
   "execution_count": 208,
   "metadata": {},
   "outputs": [],
   "source": [
    "user25_date=list(map(datetime.fromtimestamp,user25))\n",
    "user25_date1=[]\n",
    "for i in range(len(user25)):\n",
    "    user25_date1.append(user25_date[i].strftime(\"%Y-%m-%d\"))"
   ]
  },
  {
   "cell_type": "code",
   "execution_count": 209,
   "metadata": {},
   "outputs": [],
   "source": [
    "user26_date=list(map(datetime.fromtimestamp,user26))\n",
    "user26_date1=[]\n",
    "for i in range(len(user26)):\n",
    "    user26_date1.append(user26_date[i].strftime(\"%Y-%m-%d\"))"
   ]
  },
  {
   "cell_type": "code",
   "execution_count": 210,
   "metadata": {},
   "outputs": [],
   "source": [
    "user27_date=list(map(datetime.fromtimestamp,user27))\n",
    "user27_date1=[]\n",
    "for i in range(len(user27)):\n",
    "    user27_date1.append(user27_date[i].strftime(\"%Y-%m-%d\"))"
   ]
  },
  {
   "cell_type": "code",
   "execution_count": 211,
   "metadata": {},
   "outputs": [],
   "source": [
    "user28_date=list(map(datetime.fromtimestamp,user28))\n",
    "user28_date1=[]\n",
    "for i in range(len(user28)):\n",
    "    user28_date1.append(user28_date[i].strftime(\"%Y-%m-%d\"))"
   ]
  },
  {
   "cell_type": "code",
   "execution_count": 212,
   "metadata": {},
   "outputs": [],
   "source": [
    "user29_date=list(map(datetime.fromtimestamp,user29))\n",
    "user29_date1=[]\n",
    "for i in range(len(user29)):\n",
    "    user29_date1.append(user29_date[i].strftime(\"%Y-%m-%d\"))"
   ]
  },
  {
   "cell_type": "code",
   "execution_count": 213,
   "metadata": {},
   "outputs": [],
   "source": [
    "user30_date=list(map(datetime.fromtimestamp,user30))\n",
    "user30_date1=[]\n",
    "for i in range(len(user30)):\n",
    "    user30_date1.append(user30_date[i].strftime(\"%Y-%m-%d\"))"
   ]
  },
  {
   "cell_type": "markdown",
   "metadata": {},
   "source": [
    ">activity 중 run 추출 (Google's Awareness API 사용)"
   ]
  },
  {
   "cell_type": "markdown",
   "metadata": {},
   "source": [
    ">actionOption = 752 (running)"
   ]
  },
  {
   "cell_type": "markdown",
   "metadata": {},
   "source": [
    ">activity 중 run의 시간 추출 및 데이터 타입, 시간 등 분석에 맞게 전처리"
   ]
  },
  {
   "cell_type": "code",
   "execution_count": 939,
   "metadata": {},
   "outputs": [],
   "source": [
    "user01_exer=[]\n",
    "for i in range(len(user01)):\n",
    "    walk=user01_time[i]\n",
    "    a=[]\n",
    "    for j in range(len(walk)):\n",
    "        if walk['actionOption'][j]==752:\n",
    "            a.append(walk['ts'][j])\n",
    "    user01_exer.append(a)"
   ]
  },
  {
   "cell_type": "code",
   "execution_count": 940,
   "metadata": {},
   "outputs": [],
   "source": [
    "user02_exer=[]\n",
    "for i in range(len(user02)):\n",
    "    walk=user02_time[i]\n",
    "    a=[]\n",
    "    for j in range(len(walk)):\n",
    "        if walk['actionOption'][j]==752:\n",
    "            a.append(walk['ts'][j])\n",
    "    user02_exer.append(a)"
   ]
  },
  {
   "cell_type": "code",
   "execution_count": 941,
   "metadata": {},
   "outputs": [],
   "source": [
    "user03_exer=[]\n",
    "for i in range(len(user03)):\n",
    "    walk=user03_time[i]\n",
    "    a=[]\n",
    "    for j in range(len(walk)):\n",
    "        if walk['actionOption'][j]==752:\n",
    "            a.append(walk['ts'][j])\n",
    "    user03_exer.append(a)"
   ]
  },
  {
   "cell_type": "code",
   "execution_count": 942,
   "metadata": {},
   "outputs": [],
   "source": [
    "user04_exer=[]\n",
    "for i in range(len(user04)):\n",
    "    walk=user04_time[i]\n",
    "    a=[]\n",
    "    for j in range(len(walk)):\n",
    "        if walk['actionOption'][j]==752:\n",
    "            a.append(walk['ts'][j])\n",
    "    user04_exer.append(a)"
   ]
  },
  {
   "cell_type": "code",
   "execution_count": 943,
   "metadata": {},
   "outputs": [],
   "source": [
    "user05_exer=[]\n",
    "for i in range(len(user05)):\n",
    "    walk=user05_time[i]\n",
    "    a=[]\n",
    "    for j in range(len(walk)):\n",
    "        if walk['actionOption'][j]==752:\n",
    "            a.append(walk['ts'][j])\n",
    "    user05_exer.append(a)"
   ]
  },
  {
   "cell_type": "code",
   "execution_count": 944,
   "metadata": {},
   "outputs": [],
   "source": [
    "user06_exer=[]\n",
    "for i in range(len(user06)):\n",
    "    walk=user06_time[i]\n",
    "    a=[]\n",
    "    for j in range(len(walk)):\n",
    "        if walk['actionOption'][j]==752:\n",
    "            a.append(walk['ts'][j])\n",
    "    user06_exer.append(a)"
   ]
  },
  {
   "cell_type": "code",
   "execution_count": 945,
   "metadata": {},
   "outputs": [],
   "source": [
    "user07_exer=[]\n",
    "for i in range(len(user07)):\n",
    "    walk=user07_time[i]\n",
    "    a=[]\n",
    "    for j in range(len(walk)):\n",
    "        if walk['actionOption'][j]==752:\n",
    "            a.append(walk['ts'][j])\n",
    "    user07_exer.append(a)"
   ]
  },
  {
   "cell_type": "code",
   "execution_count": 946,
   "metadata": {},
   "outputs": [],
   "source": [
    "user08_exer=[]\n",
    "for i in range(len(user08)):\n",
    "    walk=user08_time[i]\n",
    "    a=[]\n",
    "    for j in range(len(walk)):\n",
    "        if walk['actionOption'][j]==752:\n",
    "            a.append(walk['ts'][j])\n",
    "    user08_exer.append(a)"
   ]
  },
  {
   "cell_type": "code",
   "execution_count": 947,
   "metadata": {},
   "outputs": [],
   "source": [
    "user09_exer=[]\n",
    "for i in range(len(user09)):\n",
    "    walk=user09_time[i]\n",
    "    a=[]\n",
    "    for j in range(len(walk)):\n",
    "        if walk['actionOption'][j]==752:\n",
    "            a.append(walk['ts'][j])\n",
    "    user09_exer.append(a)"
   ]
  },
  {
   "cell_type": "code",
   "execution_count": 948,
   "metadata": {},
   "outputs": [],
   "source": [
    "user10_exer=[]\n",
    "for i in range(len(user10)):\n",
    "    walk=user10_time[i]\n",
    "    a=[]\n",
    "    for j in range(len(walk)):\n",
    "        if walk['actionOption'][j]==752:\n",
    "            a.append(walk['ts'][j])\n",
    "    user10_exer.append(a)"
   ]
  },
  {
   "cell_type": "code",
   "execution_count": 949,
   "metadata": {},
   "outputs": [],
   "source": [
    "user11_exer=[]\n",
    "for i in range(len(user11)):\n",
    "    walk=user11_time[i]\n",
    "    a=[]\n",
    "    for j in range(len(walk)):\n",
    "        if walk['actionOption'][j]==752:\n",
    "            a.append(walk['ts'][j])\n",
    "    user11_exer.append(a)"
   ]
  },
  {
   "cell_type": "code",
   "execution_count": 950,
   "metadata": {},
   "outputs": [],
   "source": [
    "user12_exer=[]\n",
    "for i in range(len(user12)):\n",
    "    walk=user12_time[i]\n",
    "    a=[]\n",
    "    for j in range(len(walk)):\n",
    "        if walk['actionOption'][j]==752:\n",
    "            a.append(walk['ts'][j])\n",
    "    user12_exer.append(a)"
   ]
  },
  {
   "cell_type": "code",
   "execution_count": 951,
   "metadata": {},
   "outputs": [],
   "source": [
    "user21_exer=[]\n",
    "for i in range(len(user21)):\n",
    "    walk=user21_time[i]\n",
    "    a=[]\n",
    "    for j in range(len(walk)):\n",
    "        if walk['actionOption'][j]==752:\n",
    "            a.append(walk['ts'][j])\n",
    "    user21_exer.append(a)"
   ]
  },
  {
   "cell_type": "code",
   "execution_count": 952,
   "metadata": {},
   "outputs": [],
   "source": [
    "user22_exer=[]\n",
    "for i in range(len(user22)):\n",
    "    walk=user22_time[i]\n",
    "    a=[]\n",
    "    for j in range(len(walk)):\n",
    "        if walk['actionOption'][j]==752:\n",
    "            a.append(walk['ts'][j])\n",
    "    user22_exer.append(a)"
   ]
  },
  {
   "cell_type": "code",
   "execution_count": 953,
   "metadata": {},
   "outputs": [],
   "source": [
    "user23_exer=[]\n",
    "for i in range(len(user23)):\n",
    "    walk=user23_time[i]\n",
    "    a=[]\n",
    "    for j in range(len(walk)):\n",
    "        if walk['actionOption'][j]==752:\n",
    "            a.append(walk['ts'][j])\n",
    "    user23_exer.append(a)"
   ]
  },
  {
   "cell_type": "code",
   "execution_count": 954,
   "metadata": {},
   "outputs": [],
   "source": [
    "user24_exer=[]\n",
    "for i in range(len(user24)):\n",
    "    walk=user24_time[i]\n",
    "    a=[]\n",
    "    for j in range(len(walk)):\n",
    "        if walk['actionOption'][j]==752:\n",
    "            a.append(walk['ts'][j])\n",
    "    user24_exer.append(a)"
   ]
  },
  {
   "cell_type": "code",
   "execution_count": 955,
   "metadata": {},
   "outputs": [],
   "source": [
    "user25_exer=[]\n",
    "for i in range(len(user25)):\n",
    "    walk=user25_time[i]\n",
    "    a=[]\n",
    "    for j in range(len(walk)):\n",
    "        if walk['actionOption'][j]==752:\n",
    "            a.append(walk['ts'][j])\n",
    "    user25_exer.append(a)"
   ]
  },
  {
   "cell_type": "code",
   "execution_count": 956,
   "metadata": {},
   "outputs": [],
   "source": [
    "user26_exer=[]\n",
    "for i in range(len(user26)):\n",
    "    walk=user26_time[i]\n",
    "    a=[]\n",
    "    for j in range(len(walk)):\n",
    "        if walk['actionOption'][j]==752:\n",
    "            a.append(walk['ts'][j])\n",
    "    user26_exer.append(a)"
   ]
  },
  {
   "cell_type": "code",
   "execution_count": 957,
   "metadata": {},
   "outputs": [],
   "source": [
    "user27_exer=[]\n",
    "for i in range(len(user27)):\n",
    "    walk=user27_time[i]\n",
    "    a=[]\n",
    "    for j in range(len(walk)):\n",
    "        if walk['actionOption'][j]==752:\n",
    "            a.append(walk['ts'][j])\n",
    "    user27_exer.append(a)"
   ]
  },
  {
   "cell_type": "code",
   "execution_count": 958,
   "metadata": {},
   "outputs": [],
   "source": [
    "user28_exer=[]\n",
    "for i in range(len(user28)):\n",
    "    walk=user28_time[i]\n",
    "    a=[]\n",
    "    for j in range(len(walk)):\n",
    "        if walk['actionOption'][j]==752:\n",
    "            a.append(walk['ts'][j])\n",
    "    user28_exer.append(a)"
   ]
  },
  {
   "cell_type": "code",
   "execution_count": 959,
   "metadata": {},
   "outputs": [],
   "source": [
    "user29_exer=[]\n",
    "for i in range(len(user29)):\n",
    "    walk=user29_time[i]\n",
    "    a=[]\n",
    "    for j in range(len(walk)):\n",
    "        if walk['actionOption'][j]==752:\n",
    "            a.append(walk['ts'][j])\n",
    "    user29_exer.append(a)"
   ]
  },
  {
   "cell_type": "code",
   "execution_count": 960,
   "metadata": {},
   "outputs": [],
   "source": [
    "user30_exer=[]\n",
    "for i in range(len(user30)):\n",
    "    walk=user30_time[i]\n",
    "    a=[]\n",
    "    for j in range(len(walk)):\n",
    "        if walk['actionOption'][j]==752:\n",
    "            a.append(walk['ts'][j])\n",
    "    user30_exer.append(a)"
   ]
  },
  {
   "cell_type": "code",
   "execution_count": 791,
   "metadata": {},
   "outputs": [],
   "source": [
    "user01_exer1=[]\n",
    "for i in range(len(user01)):\n",
    "    walk=user01_exer[i]\n",
    "    user01_exer1.append(len(walk))"
   ]
  },
  {
   "cell_type": "code",
   "execution_count": 961,
   "metadata": {},
   "outputs": [],
   "source": [
    "user02_exer1=[]\n",
    "for i in range(len(user02)):\n",
    "    walk=user02_exer[i]\n",
    "    user02_exer1.append(len(walk))"
   ]
  },
  {
   "cell_type": "code",
   "execution_count": 962,
   "metadata": {},
   "outputs": [],
   "source": [
    "user03_exer1=[]\n",
    "for i in range(len(user03)):\n",
    "    walk=user03_exer[i]\n",
    "    user03_exer1.append(len(walk))"
   ]
  },
  {
   "cell_type": "code",
   "execution_count": 963,
   "metadata": {},
   "outputs": [],
   "source": [
    "user04_exer1=[]\n",
    "for i in range(len(user04)):\n",
    "    walk=user04_exer[i]\n",
    "    user04_exer1.append(len(walk))"
   ]
  },
  {
   "cell_type": "code",
   "execution_count": 964,
   "metadata": {},
   "outputs": [],
   "source": [
    "user05_exer1=[]\n",
    "for i in range(len(user05)):\n",
    "    walk=user05_exer[i]\n",
    "    user05_exer1.append(len(walk))"
   ]
  },
  {
   "cell_type": "code",
   "execution_count": 965,
   "metadata": {},
   "outputs": [],
   "source": [
    "user06_exer1=[]\n",
    "for i in range(len(user06)):\n",
    "    walk=user06_exer[i]\n",
    "    user06_exer1.append(len(walk))"
   ]
  },
  {
   "cell_type": "code",
   "execution_count": 966,
   "metadata": {},
   "outputs": [],
   "source": [
    "user07_exer1=[]\n",
    "for i in range(len(user07)):\n",
    "    walk=user07_exer[i]\n",
    "    user07_exer1.append(len(walk))"
   ]
  },
  {
   "cell_type": "code",
   "execution_count": 967,
   "metadata": {},
   "outputs": [],
   "source": [
    "user08_exer1=[]\n",
    "for i in range(len(user08)):\n",
    "    walk=user08_exer[i]\n",
    "    user08_exer1.append(len(walk))"
   ]
  },
  {
   "cell_type": "code",
   "execution_count": 968,
   "metadata": {},
   "outputs": [],
   "source": [
    "user09_exer1=[]\n",
    "for i in range(len(user09)):\n",
    "    walk=user09_exer[i]\n",
    "    user09_exer1.append(len(walk))"
   ]
  },
  {
   "cell_type": "code",
   "execution_count": 969,
   "metadata": {},
   "outputs": [],
   "source": [
    "user10_exer1=[]\n",
    "for i in range(len(user10)):\n",
    "    walk=user10_exer[i]\n",
    "    user10_exer1.append(len(walk))"
   ]
  },
  {
   "cell_type": "code",
   "execution_count": 970,
   "metadata": {},
   "outputs": [],
   "source": [
    "user11_exer1=[]\n",
    "for i in range(len(user11)):\n",
    "    walk=user11_exer[i]\n",
    "    user11_exer1.append(len(walk))"
   ]
  },
  {
   "cell_type": "code",
   "execution_count": 971,
   "metadata": {},
   "outputs": [],
   "source": [
    "user12_exer1=[]\n",
    "for i in range(len(user12)):\n",
    "    walk=user12_exer[i]\n",
    "    user12_exer1.append(len(walk))"
   ]
  },
  {
   "cell_type": "code",
   "execution_count": 972,
   "metadata": {},
   "outputs": [],
   "source": [
    "user21_exer1=[]\n",
    "for i in range(len(user21)):\n",
    "    walk=user21_exer[i]\n",
    "    user21_exer1.append(len(walk))"
   ]
  },
  {
   "cell_type": "code",
   "execution_count": 973,
   "metadata": {},
   "outputs": [],
   "source": [
    "user22_exer1=[]\n",
    "for i in range(len(user22)):\n",
    "    walk=user22_exer[i]\n",
    "    user22_exer1.append(len(walk))"
   ]
  },
  {
   "cell_type": "code",
   "execution_count": 974,
   "metadata": {},
   "outputs": [],
   "source": [
    "user23_exer1=[]\n",
    "for i in range(len(user23)):\n",
    "    walk=user23_exer[i]\n",
    "    user23_exer1.append(len(walk))"
   ]
  },
  {
   "cell_type": "code",
   "execution_count": 975,
   "metadata": {},
   "outputs": [],
   "source": [
    "user24_exer1=[]\n",
    "for i in range(len(user24)):\n",
    "    walk=user24_exer[i]\n",
    "    user24_exer1.append(len(walk))"
   ]
  },
  {
   "cell_type": "code",
   "execution_count": 976,
   "metadata": {},
   "outputs": [],
   "source": [
    "user25_exer1=[]\n",
    "for i in range(len(user25)):\n",
    "    walk=user25_exer[i]\n",
    "    user25_exer1.append(len(walk))"
   ]
  },
  {
   "cell_type": "code",
   "execution_count": 977,
   "metadata": {},
   "outputs": [],
   "source": [
    "user26_exer1=[]\n",
    "for i in range(len(user26)):\n",
    "    walk=user26_exer[i]\n",
    "    user26_exer1.append(len(walk))"
   ]
  },
  {
   "cell_type": "code",
   "execution_count": 978,
   "metadata": {},
   "outputs": [],
   "source": [
    "user27_exer1=[]\n",
    "for i in range(len(user27)):\n",
    "    walk=user27_exer[i]\n",
    "    user27_exer1.append(len(walk))"
   ]
  },
  {
   "cell_type": "code",
   "execution_count": 979,
   "metadata": {},
   "outputs": [],
   "source": [
    "user28_exer1=[]\n",
    "for i in range(len(user28)):\n",
    "    walk=user28_exer[i]\n",
    "    user28_exer1.append(len(walk))"
   ]
  },
  {
   "cell_type": "code",
   "execution_count": 980,
   "metadata": {},
   "outputs": [],
   "source": [
    "user29_exer1=[]\n",
    "for i in range(len(user29)):\n",
    "    walk=user29_exer[i]\n",
    "    user29_exer1.append(len(walk))"
   ]
  },
  {
   "cell_type": "code",
   "execution_count": 981,
   "metadata": {},
   "outputs": [],
   "source": [
    "user30_exer1=[]\n",
    "for i in range(len(user30)):\n",
    "    walk=user30_exer[i]\n",
    "    user30_exer1.append(len(walk))"
   ]
  },
  {
   "cell_type": "markdown",
   "metadata": {},
   "source": [
    "## 3-2. 2018년 라이프로그 데이터의 날짜, 걷기, 달리기 결합"
   ]
  },
  {
   "cell_type": "code",
   "execution_count": 982,
   "metadata": {},
   "outputs": [],
   "source": [
    "a=pd.Series(user01_date1)\n",
    "b=pd.Series(user01_walk1)\n",
    "c=pd.Series(user01_exer1)\n",
    "user01_1=pd.DataFrame(zip(a, b,c), columns=['date', 'walk', 'exer'])"
   ]
  },
  {
   "cell_type": "code",
   "execution_count": 984,
   "metadata": {},
   "outputs": [],
   "source": [
    "a=pd.Series(user02_date1)\n",
    "b=pd.Series(user02_walk1)\n",
    "c=pd.Series(user02_exer1)\n",
    "user02_1=pd.DataFrame(zip(a, b,c), columns=['date', 'walk', 'exer'])"
   ]
  },
  {
   "cell_type": "code",
   "execution_count": 985,
   "metadata": {},
   "outputs": [],
   "source": [
    "a=pd.Series(user03_date1)\n",
    "b=pd.Series(user03_walk1)\n",
    "c=pd.Series(user03_exer1)\n",
    "user03_1=pd.DataFrame(zip(a, b,c), columns=['date', 'walk', 'exer'])"
   ]
  },
  {
   "cell_type": "code",
   "execution_count": 986,
   "metadata": {},
   "outputs": [],
   "source": [
    "a=pd.Series(user04_date1)\n",
    "b=pd.Series(user04_walk1)\n",
    "c=pd.Series(user04_exer1)\n",
    "user04_1=pd.DataFrame(zip(a, b,c), columns=['date', 'walk', 'exer'])"
   ]
  },
  {
   "cell_type": "code",
   "execution_count": 987,
   "metadata": {},
   "outputs": [],
   "source": [
    "a=pd.Series(user05_date1)\n",
    "b=pd.Series(user05_walk1)\n",
    "c=pd.Series(user05_exer1)\n",
    "user05_1=pd.DataFrame(zip(a, b,c), columns=['date', 'walk', 'exer'])"
   ]
  },
  {
   "cell_type": "code",
   "execution_count": 988,
   "metadata": {},
   "outputs": [],
   "source": [
    "a=pd.Series(user06_date1)\n",
    "b=pd.Series(user06_walk1)\n",
    "c=pd.Series(user06_exer1)\n",
    "user06_1=pd.DataFrame(zip(a, b,c), columns=['date', 'walk', 'exer'])"
   ]
  },
  {
   "cell_type": "code",
   "execution_count": 989,
   "metadata": {},
   "outputs": [],
   "source": [
    "a=pd.Series(user07_date1)\n",
    "b=pd.Series(user07_walk1)\n",
    "c=pd.Series(user07_exer1)\n",
    "user07_1=pd.DataFrame(zip(a, b,c), columns=['date', 'walk', 'exer'])"
   ]
  },
  {
   "cell_type": "code",
   "execution_count": 990,
   "metadata": {},
   "outputs": [],
   "source": [
    "a=pd.Series(user08_date1)\n",
    "b=pd.Series(user08_walk1)\n",
    "c=pd.Series(user08_exer1)\n",
    "user08_1=pd.DataFrame(zip(a, b,c), columns=['date', 'walk', 'exer'])"
   ]
  },
  {
   "cell_type": "code",
   "execution_count": 991,
   "metadata": {},
   "outputs": [],
   "source": [
    "a=pd.Series(user09_date1)\n",
    "b=pd.Series(user09_walk1)\n",
    "c=pd.Series(user09_exer1)\n",
    "user09_1=pd.DataFrame(zip(a, b,c), columns=['date', 'walk', 'exer'])"
   ]
  },
  {
   "cell_type": "code",
   "execution_count": 992,
   "metadata": {},
   "outputs": [],
   "source": [
    "a=pd.Series(user10_date1)\n",
    "b=pd.Series(user10_walk1)\n",
    "c=pd.Series(user10_exer1)\n",
    "user10_1=pd.DataFrame(zip(a, b,c), columns=['date', 'walk', 'exer'])"
   ]
  },
  {
   "cell_type": "code",
   "execution_count": 993,
   "metadata": {},
   "outputs": [],
   "source": [
    "a=pd.Series(user11_date1)\n",
    "b=pd.Series(user11_walk1)\n",
    "c=pd.Series(user11_exer1)\n",
    "user11_1=pd.DataFrame(zip(a, b,c), columns=['date', 'walk', 'exer'])"
   ]
  },
  {
   "cell_type": "code",
   "execution_count": 994,
   "metadata": {},
   "outputs": [],
   "source": [
    "a=pd.Series(user12_date1)\n",
    "b=pd.Series(user12_walk1)\n",
    "c=pd.Series(user12_exer1)\n",
    "user12_1=pd.DataFrame(zip(a, b,c), columns=['date', 'walk', 'exer'])"
   ]
  },
  {
   "cell_type": "code",
   "execution_count": 995,
   "metadata": {},
   "outputs": [],
   "source": [
    "a=pd.Series(user21_date1)\n",
    "b=pd.Series(user21_walk1)\n",
    "c=pd.Series(user21_exer1)\n",
    "user21_1=pd.DataFrame(zip(a, b,c), columns=['date', 'walk', 'exer'])"
   ]
  },
  {
   "cell_type": "code",
   "execution_count": 996,
   "metadata": {},
   "outputs": [],
   "source": [
    "a=pd.Series(user22_date1)\n",
    "b=pd.Series(user22_walk1)\n",
    "c=pd.Series(user22_exer1)\n",
    "user22_1=pd.DataFrame(zip(a, b,c), columns=['date', 'walk', 'exer'])"
   ]
  },
  {
   "cell_type": "code",
   "execution_count": 997,
   "metadata": {},
   "outputs": [],
   "source": [
    "a=pd.Series(user23_date1)\n",
    "b=pd.Series(user23_walk1)\n",
    "c=pd.Series(user23_exer1)\n",
    "user23_1=pd.DataFrame(zip(a, b,c), columns=['date', 'walk', 'exer'])"
   ]
  },
  {
   "cell_type": "code",
   "execution_count": 998,
   "metadata": {},
   "outputs": [],
   "source": [
    "a=pd.Series(user24_date1)\n",
    "b=pd.Series(user24_walk1)\n",
    "c=pd.Series(user24_exer1)\n",
    "user24_1=pd.DataFrame(zip(a, b,c), columns=['date', 'walk', 'exer'])"
   ]
  },
  {
   "cell_type": "code",
   "execution_count": 999,
   "metadata": {},
   "outputs": [],
   "source": [
    "a=pd.Series(user25_date1)\n",
    "b=pd.Series(user25_walk1)\n",
    "c=pd.Series(user25_exer1)\n",
    "user25_1=pd.DataFrame(zip(a, b,c), columns=['date', 'walk', 'exer'])"
   ]
  },
  {
   "cell_type": "code",
   "execution_count": 1000,
   "metadata": {},
   "outputs": [],
   "source": [
    "a=pd.Series(user26_date1)\n",
    "b=pd.Series(user26_walk1)\n",
    "c=pd.Series(user26_exer1)\n",
    "user26_1=pd.DataFrame(zip(a, b,c), columns=['date', 'walk', 'exer'])"
   ]
  },
  {
   "cell_type": "code",
   "execution_count": 1001,
   "metadata": {},
   "outputs": [],
   "source": [
    "a=pd.Series(user27_date1)\n",
    "b=pd.Series(user27_walk1)\n",
    "c=pd.Series(user27_exer1)\n",
    "user27_1=pd.DataFrame(zip(a, b,c), columns=['date', 'walk', 'exer'])"
   ]
  },
  {
   "cell_type": "code",
   "execution_count": 1002,
   "metadata": {},
   "outputs": [],
   "source": [
    "a=pd.Series(user28_date1)\n",
    "b=pd.Series(user28_walk1)\n",
    "c=pd.Series(user28_exer1)\n",
    "user28_1=pd.DataFrame(zip(a, b,c), columns=['date', 'walk', 'exer'])"
   ]
  },
  {
   "cell_type": "code",
   "execution_count": 1003,
   "metadata": {},
   "outputs": [],
   "source": [
    "a=pd.Series(user29_date1)\n",
    "b=pd.Series(user29_walk1)\n",
    "c=pd.Series(user29_exer1)\n",
    "user29_1=pd.DataFrame(zip(a, b,c), columns=['date', 'walk', 'exer'])"
   ]
  },
  {
   "cell_type": "code",
   "execution_count": 1004,
   "metadata": {},
   "outputs": [],
   "source": [
    "a=pd.Series(user30_date1)\n",
    "b=pd.Series(user30_walk1)\n",
    "c=pd.Series(user30_exer1)\n",
    "user30_1=pd.DataFrame(zip(a, b,c), columns=['date', 'walk', 'exer'])"
   ]
  },
  {
   "cell_type": "code",
   "execution_count": 1005,
   "metadata": {},
   "outputs": [],
   "source": [
    "user01_1['userId']='user01'\n",
    "user02_1['userId']='user02'\n",
    "user03_1['userId']='user03'\n",
    "user04_1['userId']='user04'\n",
    "user05_1['userId']='user05'\n",
    "user06_1['userId']='user06'\n",
    "user07_1['userId']='user07'\n",
    "user08_1['userId']='user08'\n",
    "user09_1['userId']='user09'\n",
    "user10_1['userId']='user10'\n",
    "user11_1['userId']='user11'\n",
    "user12_1['userId']='user12'\n",
    "user21_1['userId']='user21'\n",
    "user22_1['userId']='user22'\n",
    "user23_1['userId']='user23'\n",
    "user24_1['userId']='user24'\n",
    "user25_1['userId']='user25'\n",
    "user26_1['userId']='user26'\n",
    "user27_1['userId']='user27'\n",
    "user28_1['userId']='user28'\n",
    "user29_1['userId']='user29'\n",
    "user30_1['userId']='user30'"
   ]
  },
  {
   "cell_type": "code",
   "execution_count": 1006,
   "metadata": {},
   "outputs": [],
   "source": [
    "user_2=pd.concat([user01_1, user02_1, user03_1, user04_1, user05_1, user06_1, user07_1, user08_1, user09_1\\\n",
    "                 , user10_1, user11_1, user12_1, user21_1, user22_1, user23_1, user24_1, user25_1, user26_1\\\n",
    "                 , user27_1, user28_1, user29_1, user30_1])"
   ]
  },
  {
   "cell_type": "markdown",
   "metadata": {},
   "source": [
    ">2020년에 등록된 대상자의 수면 데이터를 불러옴"
   ]
  },
  {
   "cell_type": "code",
   "execution_count": null,
   "metadata": {},
   "outputs": [],
   "source": [
    "user_sleep_2020=pd.read_csv('./user_sleep_2020_1.csv')"
   ]
  },
  {
   "cell_type": "markdown",
   "metadata": {},
   "source": [
    ">2020년에 등록된 대상자의 수면 데이터와 운동관련 데이터 병합"
   ]
  },
  {
   "cell_type": "code",
   "execution_count": 1007,
   "metadata": {},
   "outputs": [],
   "source": [
    "user_sleep_2020_exer=pd.merge(user_sleep_2020, user_2, left_on=['userId','count'], right_on=['userId','date'])"
   ]
  },
  {
   "cell_type": "markdown",
   "metadata": {},
   "source": [
    ">머지 데이터 csv 로 저장"
   ]
  },
  {
   "cell_type": "code",
   "execution_count": 1009,
   "metadata": {},
   "outputs": [],
   "source": [
    "user_sleep_2020_exer=user_sleep_2020_exer.drop(columns=['date_y'])\n",
    "user_sleep_2020_exer.to_csv('user_sleep_2020_exer.csv')"
   ]
  },
  {
   "cell_type": "markdown",
   "metadata": {},
   "source": [
    "# 4. 라이프로그 데이터 중 운동(걷기, 달리기) 에 해당하는 gps 기록 추출"
   ]
  },
  {
   "cell_type": "markdown",
   "metadata": {},
   "source": [
    ">2020년에 등록된 대상자의 라이프로그 운동 데이터 중 각 사용자별 gps 리스트로 저장"
   ]
  },
  {
   "cell_type": "code",
   "execution_count": 1010,
   "metadata": {},
   "outputs": [],
   "source": [
    "user01_gps=[]\n",
    "for i in range(len(user01_walk)):\n",
    "    for j in user01_walk[i]:\n",
    "        user01_gps.append(j)\n",
    "for i in range(len(user01_exer)):\n",
    "    for j in user01_exer[i]:\n",
    "        user01_gps.append(j) "
   ]
  },
  {
   "cell_type": "code",
   "execution_count": 1011,
   "metadata": {},
   "outputs": [],
   "source": [
    "user02_gps=[]\n",
    "for i in range(len(user02_walk)):\n",
    "    for j in user02_walk[i]:\n",
    "        user02_gps.append(j)\n",
    "for i in range(len(user02_exer)):\n",
    "    for j in user02_exer[i]:\n",
    "        user02_gps.append(j) "
   ]
  },
  {
   "cell_type": "code",
   "execution_count": 1012,
   "metadata": {},
   "outputs": [],
   "source": [
    "user03_gps=[]\n",
    "for i in range(len(user03_walk)):\n",
    "    for j in user03_walk[i]:\n",
    "        user03_gps.append(j)\n",
    "for i in range(len(user03_exer)):\n",
    "    for j in user03_exer[i]:\n",
    "        user03_gps.append(j) "
   ]
  },
  {
   "cell_type": "code",
   "execution_count": 1013,
   "metadata": {},
   "outputs": [],
   "source": [
    "user04_gps=[]\n",
    "for i in range(len(user04_walk)):\n",
    "    for j in user04_walk[i]:\n",
    "        user04_gps.append(j)\n",
    "for i in range(len(user04_exer)):\n",
    "    for j in user04_exer[i]:\n",
    "        user04_gps.append(j) "
   ]
  },
  {
   "cell_type": "code",
   "execution_count": 1014,
   "metadata": {},
   "outputs": [],
   "source": [
    "user05_gps=[]\n",
    "for i in range(len(user05_walk)):\n",
    "    for j in user05_walk[i]:\n",
    "        user05_gps.append(j)\n",
    "for i in range(len(user05_exer)):\n",
    "    for j in user05_exer[i]:\n",
    "        user05_gps.append(j) "
   ]
  },
  {
   "cell_type": "code",
   "execution_count": 1015,
   "metadata": {},
   "outputs": [],
   "source": [
    "user06_gps=[]\n",
    "for i in range(len(user06_walk)):\n",
    "    for j in user06_walk[i]:\n",
    "        user06_gps.append(j)\n",
    "for i in range(len(user06_exer)):\n",
    "    for j in user06_exer[i]:\n",
    "        user06_gps.append(j) "
   ]
  },
  {
   "cell_type": "code",
   "execution_count": 1016,
   "metadata": {},
   "outputs": [],
   "source": [
    "user07_gps=[]\n",
    "for i in range(len(user07_walk)):\n",
    "    for j in user07_walk[i]:\n",
    "        user07_gps.append(j)\n",
    "for i in range(len(user07_exer)):\n",
    "    for j in user07_exer[i]:\n",
    "        user07_gps.append(j) "
   ]
  },
  {
   "cell_type": "code",
   "execution_count": 1017,
   "metadata": {},
   "outputs": [],
   "source": [
    "user08_gps=[]\n",
    "for i in range(len(user08_walk)):\n",
    "    for j in user08_walk[i]:\n",
    "        user08_gps.append(j)\n",
    "for i in range(len(user08_exer)):\n",
    "    for j in user08_exer[i]:\n",
    "        user08_gps.append(j) "
   ]
  },
  {
   "cell_type": "code",
   "execution_count": 1018,
   "metadata": {},
   "outputs": [],
   "source": [
    "user09_gps=[]\n",
    "for i in range(len(user09_walk)):\n",
    "    for j in user09_walk[i]:\n",
    "        user09_gps.append(j)\n",
    "for i in range(len(user09_exer)):\n",
    "    for j in user09_exer[i]:\n",
    "        user09_gps.append(j) "
   ]
  },
  {
   "cell_type": "code",
   "execution_count": 1019,
   "metadata": {},
   "outputs": [],
   "source": [
    "user10_gps=[]\n",
    "for i in range(len(user10_walk)):\n",
    "    for j in user10_walk[i]:\n",
    "        user10_gps.append(j)\n",
    "for i in range(len(user10_exer)):\n",
    "    for j in user10_exer[i]:\n",
    "        user10_gps.append(j) "
   ]
  },
  {
   "cell_type": "code",
   "execution_count": 1020,
   "metadata": {},
   "outputs": [],
   "source": [
    "user11_gps=[]\n",
    "for i in range(len(user11_walk)):\n",
    "    for j in user11_walk[i]:\n",
    "        user11_gps.append(j)\n",
    "for i in range(len(user11_exer)):\n",
    "    for j in user11_exer[i]:\n",
    "        user11_gps.append(j) "
   ]
  },
  {
   "cell_type": "code",
   "execution_count": 1021,
   "metadata": {},
   "outputs": [],
   "source": [
    "user12_gps=[]\n",
    "for i in range(len(user12_walk)):\n",
    "    for j in user12_walk[i]:\n",
    "        user12_gps.append(j)\n",
    "for i in range(len(user12_exer)):\n",
    "    for j in user12_exer[i]:\n",
    "        user12_gps.append(j) "
   ]
  },
  {
   "cell_type": "code",
   "execution_count": 1022,
   "metadata": {},
   "outputs": [],
   "source": [
    "user21_gps=[]\n",
    "for i in range(len(user21_walk)):\n",
    "    for j in user21_walk[i]:\n",
    "        user21_gps.append(j)\n",
    "for i in range(len(user21_exer)):\n",
    "    for j in user21_exer[i]:\n",
    "        user21_gps.append(j) "
   ]
  },
  {
   "cell_type": "code",
   "execution_count": 1023,
   "metadata": {},
   "outputs": [],
   "source": [
    "user22_gps=[]\n",
    "for i in range(len(user22_walk)):\n",
    "    for j in user22_walk[i]:\n",
    "        user22_gps.append(j)\n",
    "for i in range(len(user22_exer)):\n",
    "    for j in user22_exer[i]:\n",
    "        user22_gps.append(j) "
   ]
  },
  {
   "cell_type": "code",
   "execution_count": 1024,
   "metadata": {},
   "outputs": [],
   "source": [
    "user23_gps=[]\n",
    "for i in range(len(user23_walk)):\n",
    "    for j in user23_walk[i]:\n",
    "        user23_gps.append(j)\n",
    "for i in range(len(user23_exer)):\n",
    "    for j in user23_exer[i]:\n",
    "        user23_gps.append(j) "
   ]
  },
  {
   "cell_type": "code",
   "execution_count": 1025,
   "metadata": {},
   "outputs": [],
   "source": [
    "user24_gps=[]\n",
    "for i in range(len(user24_walk)):\n",
    "    for j in user24_walk[i]:\n",
    "        user24_gps.append(j)\n",
    "for i in range(len(user24_exer)):\n",
    "    for j in user24_exer[i]:\n",
    "        user24_gps.append(j) "
   ]
  },
  {
   "cell_type": "code",
   "execution_count": 1026,
   "metadata": {},
   "outputs": [],
   "source": [
    "user25_gps=[]\n",
    "for i in range(len(user25_walk)):\n",
    "    for j in user25_walk[i]:\n",
    "        user25_gps.append(j)\n",
    "for i in range(len(user25_exer)):\n",
    "    for j in user25_exer[i]:\n",
    "        user25_gps.append(j) "
   ]
  },
  {
   "cell_type": "code",
   "execution_count": 1027,
   "metadata": {},
   "outputs": [],
   "source": [
    "user26_gps=[]\n",
    "for i in range(len(user26_walk)):\n",
    "    for j in user26_walk[i]:\n",
    "        user26_gps.append(j)\n",
    "for i in range(len(user26_exer)):\n",
    "    for j in user26_exer[i]:\n",
    "        user26_gps.append(j) "
   ]
  },
  {
   "cell_type": "code",
   "execution_count": 1028,
   "metadata": {},
   "outputs": [],
   "source": [
    "user27_gps=[]\n",
    "for i in range(len(user27_walk)):\n",
    "    for j in user27_walk[i]:\n",
    "        user27_gps.append(j)\n",
    "for i in range(len(user27_exer)):\n",
    "    for j in user27_exer[i]:\n",
    "        user27_gps.append(j) "
   ]
  },
  {
   "cell_type": "code",
   "execution_count": 1029,
   "metadata": {},
   "outputs": [],
   "source": [
    "user28_gps=[]\n",
    "for i in range(len(user28_walk)):\n",
    "    for j in user28_walk[i]:\n",
    "        user28_gps.append(j)\n",
    "for i in range(len(user28_exer)):\n",
    "    for j in user28_exer[i]:\n",
    "        user28_gps.append(j) "
   ]
  },
  {
   "cell_type": "code",
   "execution_count": 1030,
   "metadata": {},
   "outputs": [],
   "source": [
    "user29_gps=[]\n",
    "for i in range(len(user29_walk)):\n",
    "    for j in user29_walk[i]:\n",
    "        user29_gps.append(j)\n",
    "for i in range(len(user29_exer)):\n",
    "    for j in user29_exer[i]:\n",
    "        user29_gps.append(j) "
   ]
  },
  {
   "cell_type": "code",
   "execution_count": 1031,
   "metadata": {},
   "outputs": [],
   "source": [
    "user30_gps=[]\n",
    "for i in range(len(user30_walk)):\n",
    "    for j in user30_walk[i]:\n",
    "        user30_gps.append(j)\n",
    "for i in range(len(user30_exer)):\n",
    "    for j in user30_exer[i]:\n",
    "        user30_gps.append(j) "
   ]
  },
  {
   "cell_type": "markdown",
   "metadata": {},
   "source": [
    ">각 사용자별 gps 데이터를 csv로 추출"
   ]
  },
  {
   "cell_type": "code",
   "execution_count": 1032,
   "metadata": {},
   "outputs": [],
   "source": [
    "user01_gps=pd.DataFrame(user01_gps, columns=['activity_time'])"
   ]
  },
  {
   "cell_type": "code",
   "execution_count": 1033,
   "metadata": {},
   "outputs": [],
   "source": [
    "pd.DataFrame(user01_gps).to_csv('user01_gps.csv', index=False)"
   ]
  },
  {
   "cell_type": "code",
   "execution_count": 1034,
   "metadata": {},
   "outputs": [],
   "source": [
    "user02_gps=pd.DataFrame(user02_gps, columns=['activity_time'])\n",
    "pd.DataFrame(user02_gps).to_csv('user02_gps.csv', index=False)"
   ]
  },
  {
   "cell_type": "code",
   "execution_count": 1035,
   "metadata": {},
   "outputs": [],
   "source": [
    "user03_gps=pd.DataFrame(user03_gps, columns=['activity_time'])\n",
    "pd.DataFrame(user03_gps).to_csv('user03_gps.csv', index=False)"
   ]
  },
  {
   "cell_type": "code",
   "execution_count": 1036,
   "metadata": {},
   "outputs": [],
   "source": [
    "user04_gps=pd.DataFrame(user04_gps, columns=['activity_time'])\n",
    "pd.DataFrame(user04_gps).to_csv('user04_gps.csv', index=False)"
   ]
  },
  {
   "cell_type": "code",
   "execution_count": 1037,
   "metadata": {},
   "outputs": [],
   "source": [
    "user05_gps=pd.DataFrame(user05_gps, columns=['activity_time'])\n",
    "pd.DataFrame(user05_gps).to_csv('user05_gps.csv', index=False)"
   ]
  },
  {
   "cell_type": "code",
   "execution_count": 1038,
   "metadata": {},
   "outputs": [],
   "source": [
    "user06_gps=pd.DataFrame(user06_gps, columns=['activity_time'])\n",
    "pd.DataFrame(user06_gps).to_csv('user06_gps.csv', index=False)"
   ]
  },
  {
   "cell_type": "code",
   "execution_count": 1039,
   "metadata": {},
   "outputs": [],
   "source": [
    "user07_gps=pd.DataFrame(user07_gps, columns=['activity_time'])\n",
    "pd.DataFrame(user07_gps).to_csv('user07_gps.csv', index=False)"
   ]
  },
  {
   "cell_type": "code",
   "execution_count": 1040,
   "metadata": {},
   "outputs": [],
   "source": [
    "user08_gps=pd.DataFrame(user08_gps, columns=['activity_time'])\n",
    "pd.DataFrame(user08_gps).to_csv('user08_gps.csv', index=False)"
   ]
  },
  {
   "cell_type": "code",
   "execution_count": 1041,
   "metadata": {},
   "outputs": [],
   "source": [
    "user09_gps=pd.DataFrame(user09_gps, columns=['activity_time'])\n",
    "pd.DataFrame(user09_gps).to_csv('user09_gps.csv', index=False)"
   ]
  },
  {
   "cell_type": "code",
   "execution_count": 1042,
   "metadata": {},
   "outputs": [],
   "source": [
    "user10_gps=pd.DataFrame(user10_gps, columns=['activity_time'])\n",
    "pd.DataFrame(user10_gps).to_csv('user10_gps.csv', index=False)"
   ]
  },
  {
   "cell_type": "code",
   "execution_count": 1043,
   "metadata": {},
   "outputs": [],
   "source": [
    "user11_gps=pd.DataFrame(user11_gps, columns=['activity_time'])\n",
    "pd.DataFrame(user11_gps).to_csv('user11_gps.csv', index=False)"
   ]
  },
  {
   "cell_type": "code",
   "execution_count": 1044,
   "metadata": {},
   "outputs": [],
   "source": [
    "user12_gps=pd.DataFrame(user12_gps, columns=['activity_time'])\n",
    "pd.DataFrame(user12_gps).to_csv('user12_gps.csv', index=False)"
   ]
  },
  {
   "cell_type": "code",
   "execution_count": 1045,
   "metadata": {},
   "outputs": [],
   "source": [
    "user21_gps=pd.DataFrame(user21_gps, columns=['activity_time'])\n",
    "pd.DataFrame(user21_gps).to_csv('user21_gps.csv', index=False)"
   ]
  },
  {
   "cell_type": "code",
   "execution_count": 1046,
   "metadata": {},
   "outputs": [],
   "source": [
    "user22_gps=pd.DataFrame(user22_gps, columns=['activity_time'])\n",
    "pd.DataFrame(user22_gps).to_csv('user22_gps.csv', index=False)"
   ]
  },
  {
   "cell_type": "code",
   "execution_count": 1047,
   "metadata": {},
   "outputs": [],
   "source": [
    "user23_gps=pd.DataFrame(user23_gps, columns=['activity_time'])\n",
    "pd.DataFrame(user23_gps).to_csv('user23_gps.csv', index=False)"
   ]
  },
  {
   "cell_type": "code",
   "execution_count": 1048,
   "metadata": {},
   "outputs": [],
   "source": [
    "user24_gps=pd.DataFrame(user24_gps, columns=['activity_time'])\n",
    "pd.DataFrame(user24_gps).to_csv('user24_gps.csv', index=False)"
   ]
  },
  {
   "cell_type": "code",
   "execution_count": 1049,
   "metadata": {},
   "outputs": [],
   "source": [
    "user25_gps=pd.DataFrame(user25_gps, columns=['activity_time'])\n",
    "pd.DataFrame(user25_gps).to_csv('user25_gps.csv', index=False)"
   ]
  },
  {
   "cell_type": "code",
   "execution_count": 1050,
   "metadata": {},
   "outputs": [],
   "source": [
    "user26_gps=pd.DataFrame(user26_gps, columns=['activity_time'])\n",
    "pd.DataFrame(user26_gps).to_csv('user26_gps.csv', index=False)"
   ]
  },
  {
   "cell_type": "code",
   "execution_count": 1051,
   "metadata": {},
   "outputs": [],
   "source": [
    "user27_gps=pd.DataFrame(user27_gps, columns=['activity_time'])\n",
    "pd.DataFrame(user27_gps).to_csv('user27_gps.csv', index=False)"
   ]
  },
  {
   "cell_type": "code",
   "execution_count": 1052,
   "metadata": {},
   "outputs": [],
   "source": [
    "user28_gps=pd.DataFrame(user28_gps, columns=['activity_time'])\n",
    "pd.DataFrame(user28_gps).to_csv('user28_gps.csv', index=False)"
   ]
  },
  {
   "cell_type": "code",
   "execution_count": 1053,
   "metadata": {},
   "outputs": [],
   "source": [
    "user29_gps=pd.DataFrame(user29_gps, columns=['activity_time'])\n",
    "pd.DataFrame(user29_gps).to_csv('user29_gps.csv', index=False)"
   ]
  },
  {
   "cell_type": "code",
   "execution_count": 1054,
   "metadata": {},
   "outputs": [],
   "source": [
    "user30_gps=pd.DataFrame(user30_gps, columns=['activity_time'])\n",
    "pd.DataFrame(user30_gps).to_csv('user30_gps.csv', index=False)"
   ]
  }
 ],
 "metadata": {
  "kernelspec": {
   "display_name": "Python 3",
   "language": "python",
   "name": "python3"
  },
  "language_info": {
   "codemirror_mode": {
    "name": "ipython",
    "version": 3
   },
   "file_extension": ".py",
   "mimetype": "text/x-python",
   "name": "python",
   "nbconvert_exporter": "python",
   "pygments_lexer": "ipython3",
   "version": "3.8.8"
  }
 },
 "nbformat": 4,
 "nbformat_minor": 4
}
